{
  "cells": [
    {
      "cell_type": "markdown",
      "metadata": {
        "id": "view-in-github",
        "colab_type": "text"
      },
      "source": [
        "<a href=\"https://colab.research.google.com/github/anastasiarenata1/deeplearning/blob/main/LNN_with_Numpy_and_Softmax_Classifier.ipynb\" target=\"_parent\"><img src=\"https://colab.research.google.com/assets/colab-badge.svg\" alt=\"Open In Colab\"/></a>"
      ]
    },
    {
      "cell_type": "markdown",
      "metadata": {
        "id": "PRQriJO6Rw4D"
      },
      "source": [
        "# Problem 4 - Regression\n",
        "\n",
        "Classification data from 2011 Million Song Challenge dataset to predict music year\n",
        "\n",
        "* Explore three shallow (linear) neural network models with different activation functions for this task.\n",
        "* Evaluate the model by rounding the output of your linear neural network and compute the mean squared error\n",
        "\n",
        "\n",
        "###1. Load and explore the data"
      ]
    },
    {
      "cell_type": "code",
      "execution_count": null,
      "metadata": {
        "colab": {
          "base_uri": "https://localhost:8080/"
        },
        "id": "BEErmxZU2EDU",
        "outputId": "623d29e1-8b75-46a1-ca87-ba545595b227"
      },
      "outputs": [
        {
          "output_type": "stream",
          "name": "stdout",
          "text": [
            "--2023-03-04 20:58:05--  https://archive.ics.uci.edu/ml/machine-learning-databases/00203/YearPredictionMSD.txt.zip\n",
            "Resolving archive.ics.uci.edu (archive.ics.uci.edu)... 128.195.10.252\n",
            "Connecting to archive.ics.uci.edu (archive.ics.uci.edu)|128.195.10.252|:443... connected.\n",
            "HTTP request sent, awaiting response... 200 OK\n",
            "Length: 211011981 (201M) [application/x-httpd-php]\n",
            "Saving to: ‘YearPredictionMSD.txt.zip’\n",
            "\n",
            "YearPredictionMSD.t 100%[===================>] 201.24M  19.2MB/s    in 12s     \n",
            "\n",
            "2023-03-04 20:58:17 (17.0 MB/s) - ‘YearPredictionMSD.txt.zip’ saved [211011981/211011981]\n",
            "\n",
            "Archive:  YearPredictionMSD.txt.zip\n",
            "  inflating: YearPredictionMSD.txt   \n"
          ]
        }
      ],
      "source": [
        "!wget https://archive.ics.uci.edu/ml/machine-learning-databases/00203/YearPredictionMSD.txt.zip\n",
        "!unzip YearPredictionMSD.txt.zip"
      ]
    },
    {
      "cell_type": "code",
      "execution_count": null,
      "metadata": {
        "id": "jYGlyolcU0ai"
      },
      "outputs": [],
      "source": [
        "import numpy as np\n",
        "import pandas as pd"
      ]
    },
    {
      "cell_type": "code",
      "execution_count": null,
      "metadata": {
        "colab": {
          "base_uri": "https://localhost:8080/",
          "height": 299
        },
        "id": "BbPalayaR_Kz",
        "outputId": "89c2069b-8622-4ec8-c4c2-be1cb02d5b72"
      },
      "outputs": [
        {
          "output_type": "execute_result",
          "data": {
            "text/plain": [
              "   target  timbre_avg_1  timbre_avg_2  timbre_avg_3  timbre_avg_4  \\\n",
              "0    2001      49.94357      21.47114      73.07750       8.74861   \n",
              "1    2001      48.73215      18.42930      70.32679      12.94636   \n",
              "2    2001      50.95714      31.85602      55.81851      13.41693   \n",
              "3    2001      48.24750      -1.89837      36.29772       2.58776   \n",
              "4    2001      50.97020      42.20998      67.09964       8.46791   \n",
              "\n",
              "   timbre_avg_5  timbre_avg_6  timbre_avg_7  timbre_avg_8  timbre_avg_9  ...  \\\n",
              "0     -17.40628     -13.09905     -25.01202     -12.23257       7.83089  ...   \n",
              "1     -10.32437     -24.83777       8.76630      -0.92019      18.76548  ...   \n",
              "2      -6.57898     -18.54940      -3.27872      -2.35035      16.07017  ...   \n",
              "3       0.97170     -26.21683       5.05097     -10.34124       3.55005  ...   \n",
              "4     -15.85279     -16.81409     -12.48207      -9.37636      12.63699  ...   \n",
              "\n",
              "   timbre_covar_69  timbre_covar_70  timbre_covar_71  timbre_covar_72  \\\n",
              "0         13.01620        -54.40548         58.99367         15.37344   \n",
              "1          5.66812        -19.68073         33.04964         42.87836   \n",
              "2          3.03800         26.05866        -50.92779         10.93792   \n",
              "3         34.57337       -171.70734        -16.96705        -46.67617   \n",
              "4          9.92661        -55.95724         64.92712        -17.72522   \n",
              "\n",
              "   timbre_covar_73  timbre_covar_74  timbre_covar_75  timbre_covar_76  \\\n",
              "0          1.11144        -23.08793         68.40795         -1.82223   \n",
              "1         -9.90378        -32.22788         70.49388         12.04941   \n",
              "2         -0.07568         43.20130       -115.00698         -0.05859   \n",
              "3        -12.51516         82.58061        -72.08993          9.90558   \n",
              "4         -1.49237         -7.50035         51.76631          7.88713   \n",
              "\n",
              "   timbre_covar_77  timbre_covar_78  \n",
              "0        -27.46348          2.26327  \n",
              "1         58.43453         26.92061  \n",
              "2         39.67068         -0.66345  \n",
              "3        199.62971         18.85382  \n",
              "4         55.66926         28.74903  \n",
              "\n",
              "[5 rows x 91 columns]"
            ],
            "text/html": [
              "\n",
              "  <div id=\"df-f26783a8-9071-416f-a4aa-2deffbefba36\">\n",
              "    <div class=\"colab-df-container\">\n",
              "      <div>\n",
              "<style scoped>\n",
              "    .dataframe tbody tr th:only-of-type {\n",
              "        vertical-align: middle;\n",
              "    }\n",
              "\n",
              "    .dataframe tbody tr th {\n",
              "        vertical-align: top;\n",
              "    }\n",
              "\n",
              "    .dataframe thead th {\n",
              "        text-align: right;\n",
              "    }\n",
              "</style>\n",
              "<table border=\"1\" class=\"dataframe\">\n",
              "  <thead>\n",
              "    <tr style=\"text-align: right;\">\n",
              "      <th></th>\n",
              "      <th>target</th>\n",
              "      <th>timbre_avg_1</th>\n",
              "      <th>timbre_avg_2</th>\n",
              "      <th>timbre_avg_3</th>\n",
              "      <th>timbre_avg_4</th>\n",
              "      <th>timbre_avg_5</th>\n",
              "      <th>timbre_avg_6</th>\n",
              "      <th>timbre_avg_7</th>\n",
              "      <th>timbre_avg_8</th>\n",
              "      <th>timbre_avg_9</th>\n",
              "      <th>...</th>\n",
              "      <th>timbre_covar_69</th>\n",
              "      <th>timbre_covar_70</th>\n",
              "      <th>timbre_covar_71</th>\n",
              "      <th>timbre_covar_72</th>\n",
              "      <th>timbre_covar_73</th>\n",
              "      <th>timbre_covar_74</th>\n",
              "      <th>timbre_covar_75</th>\n",
              "      <th>timbre_covar_76</th>\n",
              "      <th>timbre_covar_77</th>\n",
              "      <th>timbre_covar_78</th>\n",
              "    </tr>\n",
              "  </thead>\n",
              "  <tbody>\n",
              "    <tr>\n",
              "      <th>0</th>\n",
              "      <td>2001</td>\n",
              "      <td>49.94357</td>\n",
              "      <td>21.47114</td>\n",
              "      <td>73.07750</td>\n",
              "      <td>8.74861</td>\n",
              "      <td>-17.40628</td>\n",
              "      <td>-13.09905</td>\n",
              "      <td>-25.01202</td>\n",
              "      <td>-12.23257</td>\n",
              "      <td>7.83089</td>\n",
              "      <td>...</td>\n",
              "      <td>13.01620</td>\n",
              "      <td>-54.40548</td>\n",
              "      <td>58.99367</td>\n",
              "      <td>15.37344</td>\n",
              "      <td>1.11144</td>\n",
              "      <td>-23.08793</td>\n",
              "      <td>68.40795</td>\n",
              "      <td>-1.82223</td>\n",
              "      <td>-27.46348</td>\n",
              "      <td>2.26327</td>\n",
              "    </tr>\n",
              "    <tr>\n",
              "      <th>1</th>\n",
              "      <td>2001</td>\n",
              "      <td>48.73215</td>\n",
              "      <td>18.42930</td>\n",
              "      <td>70.32679</td>\n",
              "      <td>12.94636</td>\n",
              "      <td>-10.32437</td>\n",
              "      <td>-24.83777</td>\n",
              "      <td>8.76630</td>\n",
              "      <td>-0.92019</td>\n",
              "      <td>18.76548</td>\n",
              "      <td>...</td>\n",
              "      <td>5.66812</td>\n",
              "      <td>-19.68073</td>\n",
              "      <td>33.04964</td>\n",
              "      <td>42.87836</td>\n",
              "      <td>-9.90378</td>\n",
              "      <td>-32.22788</td>\n",
              "      <td>70.49388</td>\n",
              "      <td>12.04941</td>\n",
              "      <td>58.43453</td>\n",
              "      <td>26.92061</td>\n",
              "    </tr>\n",
              "    <tr>\n",
              "      <th>2</th>\n",
              "      <td>2001</td>\n",
              "      <td>50.95714</td>\n",
              "      <td>31.85602</td>\n",
              "      <td>55.81851</td>\n",
              "      <td>13.41693</td>\n",
              "      <td>-6.57898</td>\n",
              "      <td>-18.54940</td>\n",
              "      <td>-3.27872</td>\n",
              "      <td>-2.35035</td>\n",
              "      <td>16.07017</td>\n",
              "      <td>...</td>\n",
              "      <td>3.03800</td>\n",
              "      <td>26.05866</td>\n",
              "      <td>-50.92779</td>\n",
              "      <td>10.93792</td>\n",
              "      <td>-0.07568</td>\n",
              "      <td>43.20130</td>\n",
              "      <td>-115.00698</td>\n",
              "      <td>-0.05859</td>\n",
              "      <td>39.67068</td>\n",
              "      <td>-0.66345</td>\n",
              "    </tr>\n",
              "    <tr>\n",
              "      <th>3</th>\n",
              "      <td>2001</td>\n",
              "      <td>48.24750</td>\n",
              "      <td>-1.89837</td>\n",
              "      <td>36.29772</td>\n",
              "      <td>2.58776</td>\n",
              "      <td>0.97170</td>\n",
              "      <td>-26.21683</td>\n",
              "      <td>5.05097</td>\n",
              "      <td>-10.34124</td>\n",
              "      <td>3.55005</td>\n",
              "      <td>...</td>\n",
              "      <td>34.57337</td>\n",
              "      <td>-171.70734</td>\n",
              "      <td>-16.96705</td>\n",
              "      <td>-46.67617</td>\n",
              "      <td>-12.51516</td>\n",
              "      <td>82.58061</td>\n",
              "      <td>-72.08993</td>\n",
              "      <td>9.90558</td>\n",
              "      <td>199.62971</td>\n",
              "      <td>18.85382</td>\n",
              "    </tr>\n",
              "    <tr>\n",
              "      <th>4</th>\n",
              "      <td>2001</td>\n",
              "      <td>50.97020</td>\n",
              "      <td>42.20998</td>\n",
              "      <td>67.09964</td>\n",
              "      <td>8.46791</td>\n",
              "      <td>-15.85279</td>\n",
              "      <td>-16.81409</td>\n",
              "      <td>-12.48207</td>\n",
              "      <td>-9.37636</td>\n",
              "      <td>12.63699</td>\n",
              "      <td>...</td>\n",
              "      <td>9.92661</td>\n",
              "      <td>-55.95724</td>\n",
              "      <td>64.92712</td>\n",
              "      <td>-17.72522</td>\n",
              "      <td>-1.49237</td>\n",
              "      <td>-7.50035</td>\n",
              "      <td>51.76631</td>\n",
              "      <td>7.88713</td>\n",
              "      <td>55.66926</td>\n",
              "      <td>28.74903</td>\n",
              "    </tr>\n",
              "  </tbody>\n",
              "</table>\n",
              "<p>5 rows × 91 columns</p>\n",
              "</div>\n",
              "      <button class=\"colab-df-convert\" onclick=\"convertToInteractive('df-f26783a8-9071-416f-a4aa-2deffbefba36')\"\n",
              "              title=\"Convert this dataframe to an interactive table.\"\n",
              "              style=\"display:none;\">\n",
              "        \n",
              "  <svg xmlns=\"http://www.w3.org/2000/svg\" height=\"24px\"viewBox=\"0 0 24 24\"\n",
              "       width=\"24px\">\n",
              "    <path d=\"M0 0h24v24H0V0z\" fill=\"none\"/>\n",
              "    <path d=\"M18.56 5.44l.94 2.06.94-2.06 2.06-.94-2.06-.94-.94-2.06-.94 2.06-2.06.94zm-11 1L8.5 8.5l.94-2.06 2.06-.94-2.06-.94L8.5 2.5l-.94 2.06-2.06.94zm10 10l.94 2.06.94-2.06 2.06-.94-2.06-.94-.94-2.06-.94 2.06-2.06.94z\"/><path d=\"M17.41 7.96l-1.37-1.37c-.4-.4-.92-.59-1.43-.59-.52 0-1.04.2-1.43.59L10.3 9.45l-7.72 7.72c-.78.78-.78 2.05 0 2.83L4 21.41c.39.39.9.59 1.41.59.51 0 1.02-.2 1.41-.59l7.78-7.78 2.81-2.81c.8-.78.8-2.07 0-2.86zM5.41 20L4 18.59l7.72-7.72 1.47 1.35L5.41 20z\"/>\n",
              "  </svg>\n",
              "      </button>\n",
              "      \n",
              "  <style>\n",
              "    .colab-df-container {\n",
              "      display:flex;\n",
              "      flex-wrap:wrap;\n",
              "      gap: 12px;\n",
              "    }\n",
              "\n",
              "    .colab-df-convert {\n",
              "      background-color: #E8F0FE;\n",
              "      border: none;\n",
              "      border-radius: 50%;\n",
              "      cursor: pointer;\n",
              "      display: none;\n",
              "      fill: #1967D2;\n",
              "      height: 32px;\n",
              "      padding: 0 0 0 0;\n",
              "      width: 32px;\n",
              "    }\n",
              "\n",
              "    .colab-df-convert:hover {\n",
              "      background-color: #E2EBFA;\n",
              "      box-shadow: 0px 1px 2px rgba(60, 64, 67, 0.3), 0px 1px 3px 1px rgba(60, 64, 67, 0.15);\n",
              "      fill: #174EA6;\n",
              "    }\n",
              "\n",
              "    [theme=dark] .colab-df-convert {\n",
              "      background-color: #3B4455;\n",
              "      fill: #D2E3FC;\n",
              "    }\n",
              "\n",
              "    [theme=dark] .colab-df-convert:hover {\n",
              "      background-color: #434B5C;\n",
              "      box-shadow: 0px 1px 3px 1px rgba(0, 0, 0, 0.15);\n",
              "      filter: drop-shadow(0px 1px 2px rgba(0, 0, 0, 0.3));\n",
              "      fill: #FFFFFF;\n",
              "    }\n",
              "  </style>\n",
              "\n",
              "      <script>\n",
              "        const buttonEl =\n",
              "          document.querySelector('#df-f26783a8-9071-416f-a4aa-2deffbefba36 button.colab-df-convert');\n",
              "        buttonEl.style.display =\n",
              "          google.colab.kernel.accessAllowed ? 'block' : 'none';\n",
              "\n",
              "        async function convertToInteractive(key) {\n",
              "          const element = document.querySelector('#df-f26783a8-9071-416f-a4aa-2deffbefba36');\n",
              "          const dataTable =\n",
              "            await google.colab.kernel.invokeFunction('convertToInteractive',\n",
              "                                                     [key], {});\n",
              "          if (!dataTable) return;\n",
              "\n",
              "          const docLinkHtml = 'Like what you see? Visit the ' +\n",
              "            '<a target=\"_blank\" href=https://colab.research.google.com/notebooks/data_table.ipynb>data table notebook</a>'\n",
              "            + ' to learn more about interactive tables.';\n",
              "          element.innerHTML = '';\n",
              "          dataTable['output_type'] = 'display_data';\n",
              "          await google.colab.output.renderOutput(dataTable, element);\n",
              "          const docLink = document.createElement('div');\n",
              "          docLink.innerHTML = docLinkHtml;\n",
              "          element.appendChild(docLink);\n",
              "        }\n",
              "      </script>\n",
              "    </div>\n",
              "  </div>\n",
              "  "
            ]
          },
          "metadata": {},
          "execution_count": 4
        }
      ],
      "source": [
        "colnames = ['target'] + ['timbre_avg_' + str(i) for i in range(1, 13)] + ['timbre_covar_' + str(i) for i in range(1, 79)]\n",
        "df = pd.read_csv('YearPredictionMSD.txt', header=None, names=colnames)\n",
        "df.head(5)"
      ]
    },
    {
      "cell_type": "markdown",
      "metadata": {
        "id": "gqj7q70Ql5lb"
      },
      "source": [
        "Write a function to load the dataset, e.g.,\n",
        "`trainYears, trainFeat, testYears, testFeat = loadMusicData(fname, addBias)`"
      ]
    },
    {
      "cell_type": "code",
      "execution_count": null,
      "metadata": {
        "id": "HO0rnbz9STFd"
      },
      "outputs": [],
      "source": [
        "def loadMusicData(data, addBias=True):\n",
        "  train_df = data[:463714]\n",
        "  test_df = data[463714:]\n",
        "  train_y = train_df['target'].values\n",
        "  train_x = train_df.iloc[:,1:].values\n",
        "  test_y = test_df['target'].values\n",
        "  test_x = test_df.iloc[:,1:].values\n",
        "  if addBias:\n",
        "    train_x = np.hstack((train_x, np.ones((train_x.shape[0],1))))\n",
        "    test_x = np.hstack((test_x, np.ones((test_x.shape[0],1))))\n",
        "  return train_y, train_x, test_y, test_x"
      ]
    },
    {
      "cell_type": "markdown",
      "metadata": {
        "id": "iz0sr2dbmDpu"
      },
      "source": [
        "Write a function `mse = musicMSE(pred, gt)` where the inputs are the predicted year and the “ground truth” year from the dataset. The function computes the mean squared error(MSE) by rounding pred before computing the MSE."
      ]
    },
    {
      "cell_type": "code",
      "execution_count": null,
      "metadata": {
        "id": "eBi_cfQ4nGmY"
      },
      "outputs": [],
      "source": [
        "from sklearn.metrics import mean_squared_error\n",
        "def musicMSE(pred, gt):\n",
        "  pred = np.round(pred)\n",
        "  mse= mean_squared_error(pred, gt)\n",
        "  return mse"
      ]
    },
    {
      "cell_type": "markdown",
      "metadata": {
        "id": "VNpBvB08ojLl"
      },
      "source": [
        "Load the dataset and discuss its properties. \n",
        "1. What is the range of the variables? From 90 attributes, range of variables for timbre average is tighter than range of variables for timbre covariance. However, within each category itself, some attributes have wider range compared to others, in which we don't have further documentation to explain this event.\n",
        "2. How might you normalize them? Normalization can help to ensure that each variables contribute equally to the model. Since range of variables varies significantly accross 90 attributes, I will normalize the data using standardization technique (0 mean and unit std deviation for each attribute) where we can help to preserve importance of variables.\n",
        "3. What years are represented in the dataset? The dataset covers song released from 1922 to 2011 (90 years) with most common year of 2007.\n",
        "4. What will the test mean squared error (MSE) be if your classifier always outputs the most common year in the dataset? 190.08"
      ]
    },
    {
      "cell_type": "code",
      "execution_count": null,
      "metadata": {
        "colab": {
          "base_uri": "https://localhost:8080/"
        },
        "id": "mwHVPkNVoTmn",
        "outputId": "01b4ef4d-4bb8-47e1-a953-1d226b679710"
      },
      "outputs": [
        {
          "output_type": "stream",
          "name": "stdout",
          "text": [
            "Variable 1: range = 60\n",
            "Variable 2: range = 721\n",
            "Variable 3: range = 624\n",
            "Variable 4: range = 490\n",
            "Variable 5: range = 444\n",
            "Variable 6: range = 248\n",
            "Variable 7: range = 361\n",
            "Variable 8: range = 199\n",
            "Variable 9: range = 273\n",
            "Variable 10: range = 102\n",
            "Variable 11: range = 158\n",
            "Variable 12: range = 182\n",
            "Variable 13: range = 550\n",
            "Variable 14: range = 65727\n",
            "Variable 15: range = 36796\n",
            "Variable 16: range = 31832\n",
            "Variable 17: range = 19854\n",
            "Variable 18: range = 16826\n",
            "Variable 19: range = 11882\n",
            "Variable 20: range = 9564\n",
            "Variable 21: range = 9610\n",
            "Variable 22: range = 3707\n",
            "Variable 23: range = 6731\n",
            "Variable 24: range = 9808\n",
            "Variable 25: range = 4871\n",
            "Variable 26: range = 37870\n",
            "Variable 27: range = 26522\n",
            "Variable 28: range = 7735\n",
            "Variable 29: range = 6635\n",
            "Variable 30: range = 6669\n",
            "Variable 31: range = 6153\n",
            "Variable 32: range = 3471\n",
            "Variable 33: range = 4567\n",
            "Variable 34: range = 3921\n",
            "Variable 35: range = 2803\n",
            "Variable 36: range = 4208\n",
            "Variable 37: range = 22597\n",
            "Variable 38: range = 18155\n",
            "Variable 39: range = 15869\n",
            "Variable 40: range = 16243\n",
            "Variable 41: range = 8211\n",
            "Variable 42: range = 8068\n",
            "Variable 43: range = 6178\n",
            "Variable 44: range = 2904\n",
            "Variable 45: range = 1768\n",
            "Variable 46: range = 2529\n",
            "Variable 47: range = 23921\n",
            "Variable 48: range = 10960\n",
            "Variable 49: range = 12815\n",
            "Variable 50: range = 4412\n",
            "Variable 51: range = 3698\n",
            "Variable 52: range = 4207\n",
            "Variable 53: range = 5583\n",
            "Variable 54: range = 5100\n",
            "Variable 55: range = 2263\n",
            "Variable 56: range = 12109\n",
            "Variable 57: range = 17812\n",
            "Variable 58: range = 17732\n",
            "Variable 59: range = 9176\n",
            "Variable 60: range = 8190\n",
            "Variable 61: range = 3711\n",
            "Variable 62: range = 2370\n",
            "Variable 63: range = 1413\n",
            "Variable 64: range = 21394\n",
            "Variable 65: range = 10254\n",
            "Variable 66: range = 7344\n",
            "Variable 67: range = 3254\n",
            "Variable 68: range = 7345\n",
            "Variable 69: range = 7192\n",
            "Variable 70: range = 1720\n",
            "Variable 71: range = 11016\n",
            "Variable 72: range = 11695\n",
            "Variable 73: range = 10525\n",
            "Variable 74: range = 3453\n",
            "Variable 75: range = 2666\n",
            "Variable 76: range = 1459\n",
            "Variable 77: range = 19852\n",
            "Variable 78: range = 5449\n",
            "Variable 79: range = 13578\n",
            "Variable 80: range = 8490\n",
            "Variable 81: range = 1279\n",
            "Variable 82: range = 8872\n",
            "Variable 83: range = 5021\n",
            "Variable 84: range = 4832\n",
            "Variable 85: range = 602\n",
            "Variable 86: range = 6831\n",
            "Variable 87: range = 7154\n",
            "Variable 88: range = 699\n",
            "Variable 89: range = 14852\n",
            "Variable 90: range = 1059\n"
          ]
        }
      ],
      "source": [
        "# Range of variables\n",
        "var_ranges = np.ptp(df.iloc[:, 1:].values, axis=0)\n",
        "for i, var_range in enumerate(var_ranges):\n",
        "    print(\"Variable {}: range = {:.0f}\".format(i+1, var_range))"
      ]
    },
    {
      "cell_type": "code",
      "execution_count": null,
      "metadata": {
        "id": "6xcZrqpiyO0F"
      },
      "outputs": [],
      "source": [
        "#Normalize data using standardization\n",
        "from sklearn.preprocessing import StandardScaler\n",
        "scaler = StandardScaler()\n",
        "\n",
        "def loadMusicData2(data, addBias=True):\n",
        "  train_df = data[:463714]\n",
        "  test_df = data[463714:]\n",
        "  train_y = train_df['target'].values\n",
        "  train_x = train_df.iloc[:,1:].values\n",
        "  test_y = test_df['target'].values\n",
        "  test_x = test_df.iloc[:,1:].values\n",
        "  train_x= scaler.fit_transform(train_x)\n",
        "  test_x= scaler.fit_transform(test_x)\n",
        "\n",
        "  if addBias:\n",
        "    train_x = np.hstack((train_x, np.ones((train_x.shape[0],1))))\n",
        "    test_x = np.hstack((test_x, np.ones((test_x.shape[0],1))))\n",
        "  \n",
        "\n",
        "  return train_y, train_x, test_y, test_x"
      ]
    },
    {
      "cell_type": "code",
      "execution_count": null,
      "metadata": {
        "colab": {
          "base_uri": "https://localhost:8080/"
        },
        "id": "J88tbEW8y56c",
        "outputId": "c5d4cf5b-33da-4275-b85d-ecc5e343ea98"
      },
      "outputs": [
        {
          "output_type": "stream",
          "name": "stdout",
          "text": [
            "Min years presented:  1922\n",
            "Max years presented:  2011\n",
            "Median years presented:  2002.0\n",
            "Most common year: 2007\n"
          ]
        }
      ],
      "source": [
        "#Years represented\n",
        "print('Min years presented: ', np.min(df['target']))\n",
        "print('Max years presented: ', np.max(df['target']))\n",
        "print('Median years presented: ', np.median(df['target']))\n",
        "\n",
        "from statistics import mode\n",
        "print('Most common year:', mode(df['target']))"
      ]
    },
    {
      "cell_type": "code",
      "execution_count": null,
      "metadata": {
        "id": "XsuMY-B-6Rq8"
      },
      "outputs": [],
      "source": [
        "train_y, train_x, test_y, test_x = loadMusicData2(df, addBias=True)"
      ]
    },
    {
      "cell_type": "code",
      "execution_count": null,
      "metadata": {
        "colab": {
          "base_uri": "https://localhost:8080/"
        },
        "id": "QgxWh8BG6E15",
        "outputId": "964a775c-ed44-4336-a4a5-fc9dc99a1edd"
      },
      "outputs": [
        {
          "output_type": "execute_result",
          "data": {
            "text/plain": [
              "190.08239236117836"
            ]
          },
          "metadata": {},
          "execution_count": 11
        }
      ],
      "source": [
        "#test MSE\n",
        "musicMSE(np.full((test_y.shape[0],), 2007), test_y)"
      ]
    },
    {
      "cell_type": "markdown",
      "metadata": {
        "id": "yzi847OP89JV"
      },
      "source": [
        "##2. Classification\n",
        "This problem could have been posed as a classification problem by treating each year as a category. What would be the problems with this approach? Support your argument by analyzing a bar chart with the year as the x-axis and the number of examples for that year as the y-axis.\n",
        "\n",
        "As we can see from the chart, the distribution of train dataset is skewed to the left where majority of the data coming from the later years. If we treat this problem as a classification problem, the model will be biased and will be more likely to predict later years. Furthermore, classification means that the predicted data will be categorical values instead of continuous which can result in loss of information as repercussion. "
      ]
    },
    {
      "cell_type": "code",
      "execution_count": null,
      "metadata": {
        "colab": {
          "base_uri": "https://localhost:8080/",
          "height": 279
        },
        "id": "QByIY0eo3_uO",
        "outputId": "93d57c44-5f40-4062-9b04-62488eb19528"
      },
      "outputs": [
        {
          "output_type": "display_data",
          "data": {
            "text/plain": [
              "<Figure size 432x288 with 1 Axes>"
            ],
            "image/png": "[encoded data removed]"
          },
          "metadata": {
            "needs_background": "light"
          }
        }
      ],
      "source": [
        "#plot year frequency from train dataset\n",
        "import matplotlib.pyplot as plt\n",
        "train_df = df[:463714]\n",
        "year_counts = train_df.iloc[:, 0].value_counts()\n",
        "plt.bar(year_counts.index, year_counts.values)\n",
        "plt.xlabel(\"Year\")\n",
        "plt.ylabel(\"Frequency\")\n",
        "plt.show()"
      ]
    },
    {
      "cell_type": "markdown",
      "metadata": {
        "id": "wiR5yP7wBxka"
      },
      "source": [
        "##3. Ridge regression\n",
        "\n",
        "* Implement stochastic gradient descent with mini-batches to minimize the loss and evaluate the train and test MSE.\n",
        "* Tune the learning rate and weight decay factor. \n",
        "* Show the train and test loss as a function of epochs, where the number of epochs should be chosen to ensure the train loss is minimized."
      ]
    },
    {
      "cell_type": "code",
      "source": [
        "def mini_batch_gradient_descent(X_train, y_train, X_test, y_test, batch_size=32,\n",
        "                                num_epochs=100, learning_rate=0.01, \n",
        "                                weight_decay_factor=0, loss_type='L2', \n",
        "                                weight_decay_form='none', momentum=False, \n",
        "                                momentum_factor=0.9):\n",
        "    num_features = X_train.shape[1]\n",
        "    num_batches = int(np.ceil(len(X_train) / batch_size))\n",
        "    weight = np.random.normal(size=num_features)\n",
        "    m = np.zeros_like(weight)\n",
        "    train_losses = []\n",
        "    test_losses = []\n",
        "\n",
        "    def forward(X, w):\n",
        "        return np.dot(X, w)\n",
        "\n",
        "    def backward(X, error):\n",
        "        return np.dot(X.T, error)\n",
        "\n",
        "    def compute_gradient(X, y, y_pred, loss_type, w):\n",
        "          error = None\n",
        "          if loss_type == \"L2\":\n",
        "              error = 2*(y_pred - y)\n",
        "          elif loss_type == \"count\":\n",
        "              error = np.round(y_pred) - np.round(y) #approximation\n",
        "          elif loss_type == \"cross-entropy\":\n",
        "              error = y_pred - y\n",
        "          elif loss_type == 'L1':\n",
        "              error = np.sign(y_pred - y)\n",
        "\n",
        "          gradient = backward(X, error)\n",
        "\n",
        "          if weight_decay_form == 'L2':\n",
        "              gradient += weight_decay_factor * w\n",
        "          elif weight_decay_form == 'L1':\n",
        "              gradient += weight_decay_factor * np.sign(w)\n",
        "          return gradient, error\n",
        "\n",
        "    def compute_loss(y, y_pred, loss_type):\n",
        "        if loss_type == \"L2\":\n",
        "            return np.mean(np.square(y - y_pred))\n",
        "        elif loss_type == \"count\":\n",
        "            return np.mean(np.abs(np.round(y) - np.round(y_pred)))\n",
        "        elif loss_type == \"cross-entropy\":\n",
        "            y_pred = np.clip(y_pred, 1e-15, 1 - 1e-15)  # clip predictions\n",
        "            return -np.mean(y * np.log(y_pred) + (1 - y) * np.log(1 - y_pred))\n",
        "        elif loss_type == 'L1':\n",
        "            return np.mean(np.abs(y - y_pred))\n",
        "\n",
        "    for epoch in range(num_epochs):\n",
        "        # Shuffle the data\n",
        "        perm = np.random.permutation(len(X_train))\n",
        "        X_train = X_train[perm]\n",
        "        y_train = y_train[perm]\n",
        "\n",
        "        # Mini-batch gradient descent\n",
        "        for i in range(num_batches):\n",
        "            start_idx = i * batch_size\n",
        "            end_idx = (i + 1) * batch_size\n",
        "            X_batch = X_train[start_idx:end_idx]\n",
        "            y_batch = y_train[start_idx:end_idx]\n",
        "\n",
        "            y_pred = forward(X_batch, weight)\n",
        "            gradient, error = compute_gradient(X_batch, y_batch, y_pred, \n",
        "                                               loss_type, weight)\n",
        "\n",
        "            if momentum:\n",
        "              m = momentum_factor * m + (1 - momentum_factor) * gradient\n",
        "              weight -= learning_rate * m\n",
        "            else:\n",
        "                weight -= learning_rate * gradient.reshape(weight.shape)\n",
        "\n",
        "        # Compute train and test losses\n",
        "        y_train_pred = forward(X_train, weight)\n",
        "        train_loss = compute_loss(y_train, y_train_pred, loss_type)\n",
        "        train_losses.append(train_loss)\n",
        "\n",
        "        y_test_pred = forward(X_test, weight)\n",
        "        test_loss = compute_loss(y_test, y_test_pred, loss_type)\n",
        "        test_losses.append(test_loss)\n",
        "\n",
        "        # print(\"Epoch:\", epoch+1, \"/100, Train loss:\", train_loss, \n",
        "        # \"Test loss:\", test_loss)\n",
        "\n",
        "    return weight, train_losses, test_losses\n"
      ],
      "metadata": {
        "id": "f7u12GIuw_jz"
      },
      "execution_count": null,
      "outputs": []
    },
    {
      "cell_type": "markdown",
      "source": [
        "Hyperparameter tuning\n",
        "* Learning rate= 0.0001\n",
        "* Weight decay factor= 0.000001\n",
        "* Batch size=16\n",
        "* Number epochs=100\n",
        "* Loss type= L2\n",
        "* Weight decay form= None\n",
        "* No momentum\n",
        "\n"
      ],
      "metadata": {
        "id": "r27YeMIDlVMX"
      }
    },
    {
      "cell_type": "code",
      "execution_count": null,
      "metadata": {
        "id": "lHLX_tNcbLWr"
      },
      "outputs": [],
      "source": [
        "w_ridge, train_loss_ridge, test_loss_ridge = mini_batch_gradient_descent(train_x, train_y, test_x, test_y, batch_size=16, num_epochs=100, learning_rate=0.000001, weight_decay_factor=0.000001, loss_type='L2', weight_decay_form=None, momentum=False, momentum_factor=None)"
      ]
    },
    {
      "cell_type": "code",
      "execution_count": null,
      "metadata": {
        "id": "a7olCs7GbNW5",
        "colab": {
          "base_uri": "https://localhost:8080/",
          "height": 295
        },
        "outputId": "5ddda794-9ef0-4c35-d42d-3f7f80c338f5"
      },
      "outputs": [
        {
          "output_type": "display_data",
          "data": {
            "text/plain": [
              "<Figure size 432x288 with 1 Axes>"
            ],
            "image/png": "[encoded data removed]"
          },
          "metadata": {
            "needs_background": "light"
          }
        }
      ],
      "source": [
        "num_epochs=100\n",
        "plt.plot(range(num_epochs), train_loss_ridge,'r', label=\"Train loss\")\n",
        "plt.plot(range(num_epochs), test_loss_ridge, 'bo',label=\"Test loss\")\n",
        "plt.xlabel(\"Epochs\")\n",
        "plt.ylabel(\"Loss\")\n",
        "plt.title('Loss for L2 Regression')\n",
        "plt.legend()\n",
        "plt.show()"
      ]
    },
    {
      "cell_type": "code",
      "source": [
        "#Evaluate L2\n",
        "y_train_pred_l2 = np.dot(train_x, w_ridge)\n",
        "train_mse_l2 = musicMSE(train_y,y_train_pred_l2)\n",
        "y_test_pred_l2 = np.dot(test_x, w_ridge)\n",
        "test_mse_l2 = musicMSE(test_y, y_test_pred_l2)\n",
        "print(\"Train MSE L2:\", train_mse_l2)\n",
        "print(\"Test MSE L2:\", test_mse_l2)"
      ],
      "metadata": {
        "colab": {
          "base_uri": "https://localhost:8080/"
        },
        "id": "bnQeIj8KePF7",
        "outputId": "7c114c9d-9351-40ae-86ba-20a49741e791"
      },
      "execution_count": null,
      "outputs": [
        {
          "output_type": "stream",
          "name": "stdout",
          "text": [
            "Train MSE L2: 91.25954878776945\n",
            "Test MSE L2: 90.49457737280116\n"
          ]
        }
      ]
    },
    {
      "cell_type": "markdown",
      "metadata": {
        "id": "l9ap9a_o1OGE"
      },
      "source": [
        "Pseudoinverse"
      ]
    },
    {
      "cell_type": "code",
      "source": [
        "def compute_loss(X, y, weight, loss_type):\n",
        "    if loss_type == 'L2':\n",
        "        loss = np.mean((np.dot(X, weight) - y) ** 2)\n",
        "    elif loss_type == 'count':\n",
        "        loss = np.mean(np.abs(np.dot(X, weight) - y))\n",
        "    elif loss_type == 'cross-entropy':\n",
        "        exp_term = np.exp(np.dot(X, weight))\n",
        "        loss = np.mean(np.log(1 + exp_term) - y * np.dot(X, weight))\n",
        "    return loss\n",
        "\n",
        "def pseudoinverse(train_x, train_y, test_x, test_y, alpha=0, loss_type='L2'):\n",
        "    pseudoinv= np.dot(np.linalg.inv(train_x.T.dot(train_x) +\n",
        "                                    alpha*np.eye(train_x.shape[1])), train_x.T)\n",
        "    weight= np.dot(pseudoinv, train_y)\n",
        "    train_y_predict= np.dot(train_x, weight)\n",
        "    test_y_predict= np.dot(test_x, weight)\n",
        "\n",
        "    train_loss= compute_loss(train_x, train_y, weight, loss_type=loss_type)\n",
        "    test_loss= compute_loss(test_x, test_y,weight, loss_type=loss_type)\n",
        "  \n",
        "    print(f'Train loss: {train_loss:.4f}, Test loss: {test_loss:.4f}')\n",
        "    \n",
        "    return weight, train_loss, test_loss"
      ],
      "metadata": {
        "id": "ohY45Ph3pYrd"
      },
      "execution_count": null,
      "outputs": []
    },
    {
      "cell_type": "code",
      "source": [
        "weight_inverse, train_loss_inverse, test_loss_inverse = pseudoinverse(train_x, train_y, test_x, test_y, alpha=0, loss_type='L2')"
      ],
      "metadata": {
        "colab": {
          "base_uri": "https://localhost:8080/"
        },
        "id": "XUVECvJdDX7I",
        "outputId": "3b477c21-f774-483f-9c81-4752b3b574a6"
      },
      "execution_count": null,
      "outputs": [
        {
          "output_type": "stream",
          "name": "stdout",
          "text": [
            "Train loss: 91.2564, Test loss: 90.4911\n"
          ]
        }
      ]
    },
    {
      "cell_type": "markdown",
      "source": [
        "##4. Implement L1 weight decay"
      ],
      "metadata": {
        "id": "jL8oRaDeDY-b"
      }
    },
    {
      "cell_type": "code",
      "source": [
        "w_lasso, train_loss_lasso, test_loss_lasso = mini_batch_gradient_descent(train_x, train_y, test_x, test_y, batch_size=32, num_epochs=100, learning_rate=0.001, weight_decay_factor=0.01, loss_type='L1', weight_decay_form='L1', momentum=False, momentum_factor=None)\n",
        "num_epochs=100\n",
        "plt.plot(range(num_epochs), train_loss_lasso,'r', label=\"Train loss\")\n",
        "plt.plot(range(num_epochs), test_loss_lasso, 'bo',label=\"Test loss\")\n",
        "plt.xlabel(\"Epochs\")\n",
        "plt.ylabel(\"Loss\")\n",
        "plt.title('Loss for L1')\n",
        "plt.legend()\n",
        "plt.show()"
      ],
      "metadata": {
        "colab": {
          "base_uri": "https://localhost:8080/",
          "height": 295
        },
        "id": "erfbyKAdDhYL",
        "outputId": "a66d7151-4d2e-4fcf-9db1-8a18a576d77d"
      },
      "execution_count": null,
      "outputs": [
        {
          "output_type": "display_data",
          "data": {
            "text/plain": [
              "<Figure size 432x288 with 1 Axes>"
            ],
            "image/png": "[encoded data removed]"
          },
          "metadata": {
            "needs_background": "light"
          }
        }
      ]
    },
    {
      "cell_type": "code",
      "source": [
        "#Evaluate L1\n",
        "y_train_pred_l1 = np.dot(train_x, w_lasso)\n",
        "train_mse_l1 = musicMSE(train_y,y_train_pred_l1)\n",
        "y_test_pred_l1 = np.dot(test_x, w_lasso)\n",
        "test_mse_l1 = musicMSE(test_y, y_test_pred_l1)\n",
        "print(\"Train MSE L1:\", train_mse_l1)\n",
        "print(\"Test MSE L1:\", test_mse_l1)"
      ],
      "metadata": {
        "colab": {
          "base_uri": "https://localhost:8080/"
        },
        "id": "1d1O5RL1d20-",
        "outputId": "0fd9da80-2778-46f0-ef98-4b361ad43bb9"
      },
      "execution_count": null,
      "outputs": [
        {
          "output_type": "stream",
          "name": "stdout",
          "text": [
            "Train MSE L1: 97.95550511806826\n",
            "Test MSE L1: 96.02618269479086\n"
          ]
        }
      ]
    },
    {
      "cell_type": "markdown",
      "source": [
        "##5. Count Regression\n",
        "\\begin{align*}\n",
        "y_{pred} &= e^{w^T X}\\\\\n",
        "L(y, y_{pred}) &= e^{-y_{pred}} y_{pred}^y / y!\\\\\n",
        "&= -\\sum_{i=1}^{n}(y_i log(y_{pred,i}) - y_{pred,i})\\\\\n",
        "\\end{align*}"
      ],
      "metadata": {
        "id": "nCdeXttIDv23"
      }
    },
    {
      "cell_type": "code",
      "source": [
        "w_count, train_loss_count, test_loss_count= w_ridge, train_loss_ridge, test_loss_ridge = mini_batch_gradient_descent(train_x, train_y, test_x, test_y, batch_size=16, num_epochs=100, learning_rate=0.000001, weight_decay_factor=0.000001, loss_type='count', weight_decay_form=None, momentum=False, momentum_factor=None)"
      ],
      "metadata": {
        "id": "QxuLKLGkG1m3"
      },
      "execution_count": null,
      "outputs": []
    },
    {
      "cell_type": "code",
      "source": [
        "num_epochs=100\n",
        "plt.plot(range(num_epochs), train_loss_count,'r', label=\"Train loss\")\n",
        "plt.plot(range(num_epochs), test_loss_count, 'bo',label=\"Test loss\")\n",
        "plt.xlabel(\"Epochs\")\n",
        "plt.ylabel(\"Loss\")\n",
        "plt.title('Loss for Count Regression')\n",
        "plt.legend()\n",
        "plt.show()"
      ],
      "metadata": {
        "id": "2UeXXrm3Ohkr",
        "colab": {
          "base_uri": "https://localhost:8080/",
          "height": 295
        },
        "outputId": "91905574-bea5-4ee1-a230-ea4c83cc1c9f"
      },
      "execution_count": null,
      "outputs": [
        {
          "output_type": "display_data",
          "data": {
            "text/plain": [
              "<Figure size 432x288 with 1 Axes>"
            ],
            "image/png": "[encoded data removed]"
          },
          "metadata": {
            "needs_background": "light"
          }
        }
      ]
    },
    {
      "cell_type": "markdown",
      "source": [
        "From the plot, it looks like Epoch=20 is sufficient enough to minimize loss with low computational cost"
      ],
      "metadata": {
        "id": "4cbRGNJ4doOR"
      }
    },
    {
      "cell_type": "code",
      "source": [
        "#Evaluate Count\n",
        "y_train_pred_count = np.dot(train_x, w_count)\n",
        "train_mse_count = musicMSE(train_y,y_train_pred_count)\n",
        "y_test_pred_count = np.dot(test_x, w_count)\n",
        "test_mse_count = musicMSE(test_y,y_test_pred_count)\n",
        "print(\"Train MSE:\", train_mse_count)\n",
        "print(\"Test MSE:\", test_mse_count)"
      ],
      "metadata": {
        "colab": {
          "base_uri": "https://localhost:8080/"
        },
        "id": "lgWEQ3P3dheJ",
        "outputId": "f2ea9282-e313-4258-af4d-3bb74ccca104"
      },
      "execution_count": null,
      "outputs": [
        {
          "output_type": "stream",
          "name": "stdout",
          "text": [
            "Train MSE: 91.25954878776945\n",
            "Test MSE: 90.49457737280116\n"
          ]
        }
      ]
    },
    {
      "cell_type": "markdown",
      "source": [
        "##6. Model comparison\n"
      ],
      "metadata": {
        "id": "m0zHKAuX2wv8"
      }
    },
    {
      "cell_type": "code",
      "source": [
        "import matplotlib.pyplot as plt\n",
        "\n",
        "fig, axs = plt.subplots(1, 3, figsize=(12, 4))\n",
        "\n",
        "axs[0].hist(w_ridge, alpha=0.5, label='Ridge')\n",
        "axs[0].set_xlabel('Weight Value')\n",
        "axs[0].set_ylabel('Frequency')\n",
        "axs[0].set_title('Histogram of Weights - Ridge')\n",
        "\n",
        "axs[1].hist(w_lasso, alpha=0.5, label='Lasso')\n",
        "axs[1].set_xlabel('Weight Value')\n",
        "axs[1].set_ylabel('Frequency')\n",
        "axs[1].set_title('Histogram of Weights - Lasso')\n",
        "\n",
        "axs[2].hist(w_count, alpha=0.5, label='Count')\n",
        "axs[2].set_xlabel('Weight Value')\n",
        "axs[2].set_ylabel('Frequency')\n",
        "axs[2].set_title('Histogram of Weights - Count')\n",
        "\n",
        "fig.tight_layout()\n",
        "plt.show()\n"
      ],
      "metadata": {
        "colab": {
          "base_uri": "https://localhost:8080/",
          "height": 297
        },
        "id": "dXitwE0lISPO",
        "outputId": "cca93e9b-a168-4a3c-fc26-4a3a00a4834e"
      },
      "execution_count": null,
      "outputs": [
        {
          "output_type": "display_data",
          "data": {
            "text/plain": [
              "<Figure size 864x288 with 3 Axes>"
            ],
            "image/png": "[encoded data removed]"
          },
          "metadata": {
            "needs_background": "light"
          }
        }
      ]
    },
    {
      "cell_type": "markdown",
      "source": [
        "**Plot a histogram of the weights for the ridge, lasso, and count regression models. Discuss\n",
        "how the weights differ**\n",
        "\n",
        "For all 3 regression models, the weight is quite similar. It means that the penalty term applied is not really significant to the model.\n",
        "\n",
        "Lasso regression gives significantly lower loss. It's important to note that Lasso is better at handling multicollinearity by performing feature selection and shrinking the cofficient towards zero and more effective in handling outliers. This might indicates our data has high sparsity or multicollinearity which resulting in Lasso performs better than Ridge. Count regression also uses L1 regularization term to compute loss $|y_{pred}-y|$. However, since the weights are similar, it means that all models are able to capture relationships between the attributes and target varible."
      ],
      "metadata": {
        "id": "h8iRKY2fo7gS"
      }
    },
    {
      "cell_type": "markdown",
      "source": [
        "**Discuss and compare the behaviors of the models. Are there certain periods (ranges of\n",
        "years) in which models perform better than others? Where are the largest errors across\n",
        "models. Did regularization help for some models but not others?**\n"
      ],
      "metadata": {
        "id": "AGiCpk5-u0Tx"
      }
    },
    {
      "cell_type": "code",
      "source": [
        "#Evaluate model L2\n",
        "periods = [(1920, 1940), (1940, 1960), (1960, 1980), (1980, 2000), (2000, 2020)]\n",
        "\n",
        "for period in periods:\n",
        "    train_mask = (train_y >= period[0]) & (train_y <= period[1])\n",
        "    test_mask = (test_y >= period[0]) & (test_y <= period[1])\n",
        "    train_x_period, train_y_period = train_x[train_mask], train_y[train_mask]\n",
        "    test_x_period, test_y_period = test_x[test_mask], test_y[test_mask]\n",
        "\n",
        "    # Train the model using mini-batch gradient descent\n",
        "    weight, train_losses, test_losses = mini_batch_gradient_descent(train_x_period, train_y_period, test_x_period, test_y_period, batch_size=16, num_epochs=100, learning_rate=0.01, weight_decay_factor=0.000001, loss_type='L1', weight_decay_form=None, momentum=False, momentum_factor=None)\n",
        "    \n",
        "    # Evaluate the performance of the model on the test set for the period\n",
        "    y_pred = np.dot(test_x_period, weight)\n",
        "    mse = musicMSE(test_y_period, y_pred)\n",
        "    print(\"Period:\", period, \"MSE:\", mse)"
      ],
      "metadata": {
        "colab": {
          "base_uri": "https://localhost:8080/"
        },
        "id": "7qZdHQWqvktT",
        "outputId": "6a9f26c0-de53-4afb-d58b-dccb1ff983d7"
      },
      "execution_count": null,
      "outputs": [
        {
          "output_type": "stream",
          "name": "stdout",
          "text": [
            "Period: (1920, 1940) MSE: 166629.6559988117\n",
            "Period: (1940, 1960) MSE: 93967.48540219196\n",
            "Period: (1960, 1980) MSE: 23.714897564955834\n",
            "Period: (1980, 2000) MSE: 27.5995692984008\n",
            "Period: (2000, 2020) MSE: 9.966769105528742\n"
          ]
        }
      ]
    },
    {
      "cell_type": "markdown",
      "source": [
        "From above, we could see that the model performs better starting from 1980 and works best in year 2000-2020. This is aligned with the histogram that we created above where the majority of the data coming from the later years."
      ],
      "metadata": {
        "id": "Ll3alfvs-9VN"
      }
    },
    {
      "cell_type": "code",
      "source": [
        "print(\"Train MSE L2:\", train_mse_l2)\n",
        "print(\"Test MSE L2:\", test_mse_l2)\n",
        "\n",
        "print(\"Train MSE L1:\", train_mse_l1)\n",
        "print(\"Test MSE L1:\", test_mse_l1)\n",
        "\n",
        "print(\"Train MSE Count:\", train_mse_count)\n",
        "print(\"Test MSE Count:\", test_mse_count)"
      ],
      "metadata": {
        "colab": {
          "base_uri": "https://localhost:8080/"
        },
        "id": "NSWXN3PMvFAP",
        "outputId": "fb2241e9-ab68-40d1-807f-1f42770f20bc"
      },
      "execution_count": null,
      "outputs": [
        {
          "output_type": "stream",
          "name": "stdout",
          "text": [
            "Train MSE L2: 91.25954878776945\n",
            "Test MSE L2: 90.49457737280116\n",
            "Train MSE L1: 97.95550511806826\n",
            "Test MSE L1: 96.02618269479086\n",
            "Train MSE Count: 91.25954878776945\n",
            "Test MSE Count: 90.49457737280116\n"
          ]
        }
      ]
    },
    {
      "cell_type": "markdown",
      "source": [
        "From MSE above, L2 Ridge Regression and Count Regression give larger error compared to Ridge."
      ],
      "metadata": {
        "id": "lMsyKIIZwOXL"
      }
    },
    {
      "cell_type": "markdown",
      "source": [
        "# Problem 5 - Softmax Properties\n",
        "\n",
        "\n",
        "###1. Show that the softmax function is invariant to constant offsets to its input\n",
        "\n",
        "\\begin{align*}\n",
        "softmax(a+c1) &= \\frac{exp(a+c1)}{\\sum_{j=1}^{n}exp(a_j+c)} \\\\\n",
        "&= \\frac{exp(a)exp(c1)}{\\sum_{j=1}^{n}exp(a_j)exp(c)}\\\\\n",
        "&= \\frac{exp(a)}{\\sum_{j=1}^{n}exp(a_j)} \\times \\frac{exp(c1)}{\\sum_{j=1}^{n}exp(c)}{}\\\\\n",
        "&= softmax(a) \\times \\frac{exp(c1)}{n \\times exp(c)}{}\\\\\n",
        "&= softmax(a) \\times \\frac{exp(c1-c)}{n}\n",
        "\\end{align*}\n",
        "\n",
        "Since $\\frac{exp(c1-c)}{n}$ is a constant, it doesn't depend on $a$ and it's proven that softmax function is invariant to constant offset to its input.\n"
      ],
      "metadata": {
        "id": "Ri2DQfSOEA6H"
      }
    },
    {
      "cell_type": "markdown",
      "source": [
        "###2.  Why is the observation that the softmax function is invariant to constant offsets to its input important when implementing it in a neural network?\n",
        "\n",
        "It's important that softmax function is invariant to constant offset to its input because it allows the model to be more robust to changes in input data. Adding or substracting a constant value from input data doesn't change the output of sofmax function and making the network to generalize better to new data that can improve reliability and accuracy."
      ],
      "metadata": {
        "id": "Pl2YQkyDNU7m"
      }
    },
    {
      "cell_type": "markdown",
      "source": [
        "# Problem 6 - Implementing Softmax Classifier\n",
        "\n",
        "Write a function to load the data and the labels, which are returned as NumPy arrays."
      ],
      "metadata": {
        "id": "d7XFmHfPP_t3"
      }
    },
    {
      "cell_type": "code",
      "source": [
        "# Mount Google Drive\n",
        "from google.colab import drive\n",
        "drive.mount('/content/drive')"
      ],
      "metadata": {
        "colab": {
          "base_uri": "https://localhost:8080/"
        },
        "id": "pXxYofx33qwQ",
        "outputId": "12fecc4b-dc50-4eb6-cd1d-dd740ea0037b"
      },
      "execution_count": 1,
      "outputs": [
        {
          "output_type": "stream",
          "name": "stdout",
          "text": [
            "Mounted at /content/drive\n"
          ]
        }
      ]
    },
    {
      "cell_type": "code",
      "source": [
        "from sklearn.model_selection import train_test_split\n",
        "import numpy as np\n",
        "import pandas as pd\n",
        "\n",
        "def load_iris_data(train_file, test_file):\n",
        "    train_data = np.loadtxt(train_file)\n",
        "    test_data = np.loadtxt(test_file)\n",
        "    train_labels = train_data[:, 0].astype(int) -1\n",
        "    train_features = train_data[:, 1:]\n",
        "    test_labels = test_data[:, 0].astype(int) -1\n",
        "    test_features = test_data[:, 1:]\n",
        "\n",
        "    # Normalize the features to be between -1 and 1\n",
        "    mean_train = np.mean(train_features, axis=0)\n",
        "    std_train = np.std(train_features, axis=0)\n",
        "    train_features = (train_features - mean_train) / std_train\n",
        "    test_features = (test_features - mean_train) / std_train\n",
        "    return train_features, train_labels, test_features, test_labels\n",
        "\n",
        "iris_train = '/content/drive/MyDrive/Deep Learning/HW2/iris-train.txt'\n",
        "iris_test = '/content/drive/MyDrive/Deep Learning/HW2/iris-test.txt'\n",
        "\n",
        "X_train, y_train, X_test, y_test = load_iris_data(iris_train, iris_test)\n",
        "\n",
        "print(X_train.shape)\n",
        "print(X_test.shape)\n",
        "print(y_train.shape)\n",
        "print(y_test.shape)"
      ],
      "metadata": {
        "colab": {
          "base_uri": "https://localhost:8080/"
        },
        "id": "XxrvhNu63P7s",
        "outputId": "ef609526-30ae-4913-9e0a-32302618cde0"
      },
      "execution_count": 3,
      "outputs": [
        {
          "output_type": "stream",
          "name": "stdout",
          "text": [
            "(90, 2)\n",
            "(51, 2)\n",
            "(90,)\n",
            "(51,)\n"
          ]
        }
      ]
    },
    {
      "cell_type": "markdown",
      "source": [
        "##1. Implementation & Evaluation\n",
        "\n",
        "* Use softmax loss with L2 weight decay regularization  \n",
        "*  Use stochastic gradient descent with mini batches and momentum to minimize softmax loss of single LNN (use environment's BLAS)\n",
        "* Loop over epochs and mini batches (not individual vector/ matrices)\n",
        "* 1000 epochs\n",
        "* Normalize feature between -1 and 1\n",
        "* Initial weight from Gaussian distribution\n",
        "\n",
        "*Cross entropy loss*\n",
        "\n",
        "$y_{i,j}$: true label for the $i$-th sample and $j$-th class\n",
        "\n",
        "$p_{i,j}$: predicted probability for the $i$-th sample and $j$-th class. \n",
        "$$ L = - \\frac{1}{N} \\sum_{i=1}^N \\sum_{j=1}^C y_{i,j} \\log(p_{i,j}) $$\n"
      ],
      "metadata": {
        "id": "TG4ZLs-d3nDz"
      }
    },
    {
      "cell_type": "code",
      "source": [
        "# Define softmax function\n",
        "def softmax(z):\n",
        "    e_z = np.exp(z - np.max(z, axis=1, keepdims=True))\n",
        "    return e_z / np.sum(e_z, axis=1, keepdims=True)\n",
        "\n",
        "# Define L2 regularization\n",
        "def L2_regularization(W, beta):\n",
        "    return 0.5 * beta * np.sum(W**2)\n",
        "\n",
        "#Define forward \n",
        "def forward(X, w):\n",
        "    return np.dot(X, w)\n",
        "\n",
        "# Define cross-entropy loss\n",
        "def compute_loss(y_pred, y_true):\n",
        "    num_samples = y_pred.shape[0]\n",
        "    y_pred = np.clip(y_pred, 1e-8, 1 - 1e-8)\n",
        "    correct_logprobs = -np.log(y_pred[range(num_samples), y_true])\n",
        "    data_loss = np.sum(correct_logprobs) / num_samples\n",
        "    return data_loss\n",
        "\n",
        "# Define gradient function\n",
        "def gradient(X, y, y_pred, W, b, beta):\n",
        "    num_samples = X.shape[0]\n",
        "    dL_dy = y_pred\n",
        "    dL_dy[range(num_samples), y] -= 1\n",
        "    dL_dy /= num_samples\n",
        "    grad_weight = X.T.dot(dL_dy) + beta * W\n",
        "    grad_bias = np.sum(dL_dy, axis=0, keepdims=True)\n",
        "    return grad_weight, grad_bias\n",
        "\n",
        "def softmax_classifier(X_train, y_train, X_test, y_test, num_epochs, \n",
        "                       batch_size, learning_rate = 0.01, momentum = 0.9, \n",
        "                       weight_decay = 0.01):\n",
        "  train_loss_list = []\n",
        "  test_loss_list = []\n",
        "  train_accuracy_list = []\n",
        "  test_accuracy_list = []\n",
        "\n",
        "  # Initialize weights\n",
        "  num_features = X_train.shape[1]\n",
        "  num_classes = len(np.unique(y_train))\n",
        "  print(num_classes)\n",
        "  W = np.random.normal(loc=0.0, scale=0.1, size=(num_features, num_classes))\n",
        "  b = np.zeros(num_classes)\n",
        "\n",
        "  # Initialize momentum\n",
        "  V_dW = np.zeros_like(W)\n",
        "  V_db = np.zeros_like(b)\n",
        "\n",
        "  # Train the model\n",
        "  for epoch in range(num_epochs):\n",
        "      # Shuffle training data\n",
        "      indices = np.random.permutation(X_train.shape[0])\n",
        "      X_train = X_train[indices]\n",
        "      y_train = y_train[indices]\n",
        "\n",
        "      # Mini-batch training\n",
        "      for i in range(0, X_train.shape[0], batch_size):\n",
        "          X_batch = X_train[i:i+batch_size]\n",
        "          y_batch = y_train[i:i+batch_size]\n",
        "\n",
        "          # Forward pass\n",
        "          z = forward(X_batch,W) + b\n",
        "          y_pred = softmax(z)\n",
        "\n",
        "          # Compute loss and regularization\n",
        "          loss = compute_loss(y_pred, y_batch)\n",
        "          reg_loss = loss + L2_regularization(W, weight_decay)\n",
        "\n",
        "          # Compute gradients\n",
        "          dW, db = gradient(X_batch, y_batch, y_pred, W, b, weight_decay)\n",
        "\n",
        "          # Update weights and bias using momentum\n",
        "          V_dW = momentum * V_dW - learning_rate * dW\n",
        "          V_db = momentum * V_db - learning_rate * db\n",
        "          W += V_dW\n",
        "          b = b.reshape(-1, 1) + V_db.reshape(-1, 1)\n",
        "          b = b.reshape(1, -1)\n",
        "          \n",
        "      #Compute and store training loss\n",
        "      z_train = forward(X_train, W) + b\n",
        "      y_pred_train = softmax(z_train)\n",
        "      train_loss = compute_loss(y_pred_train, y_train)\n",
        "      train_loss_list.append(train_loss)\n",
        "\n",
        "      # Compute and store testing loss\n",
        "      z_test = forward(X_test, W) + b\n",
        "      y_pred_test = softmax(z_test)\n",
        "      test_loss = compute_loss(y_pred_test, y_test)\n",
        "      test_loss_list.append(test_loss)\n",
        "\n",
        "      # Compute and store training accuracy\n",
        "      y_pred_train_class = np.argmax(y_pred_train, axis=1)\n",
        "      train_accuracy = np.mean(y_pred_train_class == y_train)\n",
        "      train_accuracy_list.append(train_accuracy)\n",
        "\n",
        "      # Compute and store testing accuracy\n",
        "      y_pred_test_class = np.argmax(y_pred_test, axis=1)\n",
        "      test_accuracy = np.mean(y_pred_test_class == y_test)\n",
        "      test_accuracy_list.append(test_accuracy)\n",
        "    \n",
        "  y_pred_test = np.argmax(y_pred_test, axis=1)\n",
        "  return train_loss_list, test_loss_list, train_accuracy_list, test_accuracy_list, y_pred_test, W, b"
      ],
      "metadata": {
        "id": "yfI5SFw0_cEV"
      },
      "execution_count": 8,
      "outputs": []
    },
    {
      "cell_type": "code",
      "source": [
        "train_loss_list, test_loss_list, train_accuracy_list, test_accuracy_list, y_pred_test, W, b= softmax_classifier(X_train, y_train, X_test, y_test,  num_epochs = 1000, batch_size = 128,learning_rate = 0.01,momentum = 0.9, weight_decay = 0.1)"
      ],
      "metadata": {
        "id": "9BKAmRRRcLNq",
        "colab": {
          "base_uri": "https://localhost:8080/"
        },
        "outputId": "129e814e-2b84-4acb-94fe-008c9af174e6"
      },
      "execution_count": 17,
      "outputs": [
        {
          "output_type": "stream",
          "name": "stdout",
          "text": [
            "3\n"
          ]
        }
      ]
    },
    {
      "cell_type": "markdown",
      "source": [
        "Generate plot:\n",
        "1. Cross-entropy loss during training as a function of number of epochs\n",
        "2. Mean per class accuracy as a function of training epoch"
      ],
      "metadata": {
        "id": "PG_iftItvTK5"
      }
    },
    {
      "cell_type": "code",
      "source": [
        "import matplotlib.pyplot as plt\n",
        "\n",
        "# Plot training and testing loss\n",
        "plt.figure(figsize=(12, 5))\n",
        "plt.subplot(1, 2, 1)\n",
        "plt.plot(train_loss_list, label=\"Training Loss\")\n",
        "plt.plot(test_loss_list, label=\"Testing Loss\")\n",
        "plt.xlabel(\"Number of Training Epochs\")\n",
        "plt.ylabel(\"Cross-Entropy Loss\")\n",
        "plt.title(\"Training and Testing Loss\")\n",
        "plt.legend()\n",
        "\n",
        "# Plot training and testing accuracy\n",
        "plt.subplot(1, 2, 2)\n",
        "plt.plot(train_accuracy_list, label=\"Training Accuracy\")\n",
        "plt.plot(test_accuracy_list, label=\"Testing Accuracy\")\n",
        "plt.xlabel(\"Number of Training Epochs\")\n",
        "plt.ylabel(\"Mean Per-Class Accuracy\")\n",
        "plt.title(\"Training and Testing Accuracy\")\n",
        "plt.legend()\n",
        "\n",
        "plt.show()"
      ],
      "metadata": {
        "colab": {
          "base_uri": "https://localhost:8080/",
          "height": 350
        },
        "id": "upmwOn0TunMm",
        "outputId": "f846863d-6003-4a39-b093-e5b3cae7720e"
      },
      "execution_count": 18,
      "outputs": [
        {
          "output_type": "display_data",
          "data": {
            "text/plain": [
              "<Figure size 864x360 with 2 Axes>"
            ],
            "image/png": "[encoded data removed]"
          },
          "metadata": {
            "needs_background": "light"
          }
        }
      ]
    },
    {
      "cell_type": "code",
      "source": [
        "print('Best test accuracy', np.max(test_accuracy_list))\n",
        "print('Best train accuracy', np.max(train_accuracy_list))\n",
        "print('Final test accuracy', test_accuracy_list[-1])\n",
        "print('Final train accuracy', train_accuracy_list[-1])"
      ],
      "metadata": {
        "colab": {
          "base_uri": "https://localhost:8080/"
        },
        "id": "rr3xg0SYurn9",
        "outputId": "2f3ca3e6-1592-4977-fe85-75f7171be7f1"
      },
      "execution_count": 19,
      "outputs": [
        {
          "output_type": "stream",
          "name": "stdout",
          "text": [
            "Best test accuracy 0.9019607843137255\n",
            "Best train accuracy 0.8555555555555555\n",
            "Final test accuracy 0.8823529411764706\n",
            "Final train accuracy 0.8444444444444444\n"
          ]
        }
      ]
    },
    {
      "cell_type": "markdown",
      "source": [
        "**What is the best test accuracy your model achieved?**\n",
        "Best test accuracy that the model has achieved is 90%\n",
        "\n",
        "**What hyperparameters did you use?**\n",
        "* learning_rate = 0.01\n",
        "* num_epochs = 1000\n",
        "* batch_size = 128 --> increasing number of batch size make the loss curve smoother as it reduce the noise in gradient estimates\n",
        "* momentum = 0.9\n",
        "* weight_decay = 0.001\n",
        "\n",
        "**Would early stopping have helped improve accuracy on the test data?** Early stopping could potentially help if the model is overfitting the training data and early stopping will allow the model to stop trainining once performance on test data stops improving. However, from the plot we can see that the model is not overfit the training data, therefore early stopping will not improve accuracy.\n"
      ],
      "metadata": {
        "id": "ScQO9mf1v2c8"
      }
    },
    {
      "cell_type": "markdown",
      "source": [
        "##2. Displaying Decision Boundaries\n",
        "* Decision boundaries\n",
        "* Scatter plot of training data"
      ],
      "metadata": {
        "id": "wn8FdaKBF1ns"
      }
    },
    {
      "cell_type": "code",
      "source": [
        "import matplotlib.pyplot as plt\n",
        "# Display decision boundaries\n",
        "x_min, x_max = X_train[:, 0].min() - 0.5, X_train[:, 0].max() + 0.5\n",
        "y_min, y_max = X_train[:, 1].min() - 0.5, X_train[:, 1].max() + 0.5\n",
        "xx, yy = np.meshgrid(np.arange(x_min, x_max, 0.1), np.arange(y_min, y_max, 0.1))\n",
        "Z = np.argmax(softmax(np.dot(np.c_[xx.ravel(), yy.ravel()], W) + b), axis=1)\n",
        "Z = Z.reshape(xx.shape)\n",
        "\n",
        "plt.figure(figsize=(10, 5))\n",
        "plt.subplot(1, 2, 1)\n",
        "plt.contourf(xx, yy, Z, alpha=0.4)\n",
        "for i, iris_class in enumerate(np.unique(y_train)):\n",
        "    plt.scatter(X_train[y_train == i, 0], X_train[y_train == i, 1], s=20,\n",
        "                edgecolor='k', label=iris_class)\n",
        "plt.title(\"Decision Boundaries\")\n",
        "plt.xlabel(\"Sepal length\")\n",
        "plt.ylabel(\"Sepal width\")\n",
        "plt.colorbar()\n",
        "plt.legend(loc='best')\n",
        "plt.show()"
      ],
      "metadata": {
        "id": "Omaj8tVJvIHb",
        "outputId": "345d2bcd-68b8-4a18-c026-47610ce66dc6",
        "colab": {
          "base_uri": "https://localhost:8080/",
          "height": 350
        }
      },
      "execution_count": 20,
      "outputs": [
        {
          "output_type": "display_data",
          "data": {
            "text/plain": [
              "<Figure size 720x360 with 2 Axes>"
            ],
            "image/png": "[encoded data removed]"
          },
          "metadata": {
            "needs_background": "light"
          }
        }
      ]
    },
    {
      "cell_type": "markdown",
      "source": [
        "##Problem 7- Classifying Images"
      ],
      "metadata": {
        "id": "crWd_lPPajom"
      }
    },
    {
      "cell_type": "code",
      "source": [
        "import numpy as np\n",
        "import pandas as pd"
      ],
      "metadata": {
        "id": "qynHcd9WgzHw"
      },
      "execution_count": 21,
      "outputs": []
    },
    {
      "cell_type": "code",
      "source": [
        "# Load dataset\n",
        "from keras.datasets import cifar10\n",
        "(X_train, y_train), (X_test, y_test)= cifar10.load_data()\n",
        "\n",
        "# Convert pixel values to float and scale to [0,1]\n",
        "X_train = X_train.astype('float32') / 255.0\n",
        "X_test = X_test.astype('float32') / 255.0\n",
        "    \n",
        "# Flatten the images\n",
        "X_train = X_train.reshape(X_train.shape[0], -1)\n",
        "X_test = X_test.reshape(X_test.shape[0], -1)\n",
        "y_train = y_train.flatten()\n",
        "y_test = y_test.flatten()"
      ],
      "metadata": {
        "id": "1HgYs4NLdTvx",
        "outputId": "77ed7ae1-e5e1-4cf9-d9eb-eb84bece8f6f",
        "colab": {
          "base_uri": "https://localhost:8080/"
        }
      },
      "execution_count": 22,
      "outputs": [
        {
          "output_type": "stream",
          "name": "stdout",
          "text": [
            "Downloading data from https://www.cs.toronto.edu/~kriz/cifar-10-python.tar.gz\n",
            "170498071/170498071 [==============================] - 12s 0us/step\n"
          ]
        }
      ]
    },
    {
      "cell_type": "code",
      "source": [
        "train_loss_list_cifar, test_loss_list_cifar, train_accuracy_list_cifar, test_accuracy_list_cifar, y_pred_test,W,b=  softmax_classifier(X_train, y_train, X_test, y_test, num_epochs=100, batch_size=168, learning_rate=0.001, momentum=0.9, weight_decay=0.01)"
      ],
      "metadata": {
        "colab": {
          "base_uri": "https://localhost:8080/"
        },
        "id": "Wjdyl0tLJBgC",
        "outputId": "6802e292-6e82-4e76-b1bf-fb579f18ae36"
      },
      "execution_count": 23,
      "outputs": [
        {
          "output_type": "stream",
          "name": "stdout",
          "text": [
            "10\n"
          ]
        }
      ]
    },
    {
      "cell_type": "markdown",
      "source": [
        "a. Plot the training loss as a function of training epochs"
      ],
      "metadata": {
        "id": "ZNfz-BUct2Gy"
      }
    },
    {
      "cell_type": "code",
      "source": [
        "from matplotlib import pyplot as plt\n",
        "# Plot training and testing loss\n",
        "plt.figure(figsize=(12, 5))\n",
        "plt.subplot(1, 2, 1)\n",
        "plt.plot(train_loss_list_cifar, label=\"Training Loss\")\n",
        "plt.xlabel(\"Number of Training Epochs\")\n",
        "plt.ylabel(\"Cross-Entropy Loss\")\n",
        "plt.title(\"Training Loss\")\n",
        "plt.legend()\n",
        "\n",
        "# Plot training and testing accuracy\n",
        "plt.subplot(1, 2, 2)\n",
        "plt.plot(train_accuracy_list_cifar, label=\"Training Accuracy\")\n",
        "plt.plot(test_accuracy_list_cifar, label=\"Testing Accuracy\")\n",
        "plt.xlabel(\"Number of Training Epochs\")\n",
        "plt.ylabel(\"Mean Per-Class Accuracy\")\n",
        "plt.title(\"Training and Testing Accuracy\")\n",
        "plt.legend()\n",
        "\n",
        "plt.show()"
      ],
      "metadata": {
        "colab": {
          "base_uri": "https://localhost:8080/",
          "height": 350
        },
        "id": "o6p-TQK7pVDw",
        "outputId": "c9fcddb1-bac8-44cb-dadf-68ccee242802"
      },
      "execution_count": 24,
      "outputs": [
        {
          "output_type": "display_data",
          "data": {
            "text/plain": [
              "<Figure size 864x360 with 2 Axes>"
            ],
            "image/png": "[encoded data removed]"
          },
          "metadata": {
            "needs_background": "light"
          }
        }
      ]
    },
    {
      "cell_type": "markdown",
      "source": [
        "b. Output the final test accuracy and a\n",
        "normalized 10 ×10 confusion matrix computed on the test partition. Make sure to label\n",
        "the columns and rows of the confusion matrix."
      ],
      "metadata": {
        "id": "wvY-bWh_tycQ"
      }
    },
    {
      "cell_type": "code",
      "source": [
        "print('Final test accuracy', test_accuracy_list_cifar[-1])\n",
        "print('Final train accuracy', train_accuracy_list_cifar[-1])"
      ],
      "metadata": {
        "colab": {
          "base_uri": "https://localhost:8080/"
        },
        "id": "gvgOauqzpVmM",
        "outputId": "9f2a4a69-3844-47a6-c72c-2da7c9594fd3"
      },
      "execution_count": 25,
      "outputs": [
        {
          "output_type": "stream",
          "name": "stdout",
          "text": [
            "Final test accuracy 0.4059\n",
            "Final train accuracy 0.42136\n"
          ]
        }
      ]
    },
    {
      "cell_type": "code",
      "source": [
        "import seaborn as seaborn\n",
        "from sklearn.metrics import confusion_matrix\n",
        "cf_matrix = confusion_matrix(y_test, y_pred_test, normalize = 'true')\n",
        "categories= ['airplane', 'automobile', 'bird', 'cat', 'deer', 'dog', 'frog', \n",
        "             'horse', 'ship', 'truck']\n",
        "df_cm = pd.DataFrame(cf_matrix ,index = categories,\n",
        "                  columns = categories)\n",
        "plt.figure(figsize = (12,5))\n",
        "ax = plt.axes()\n",
        "seaborn.heatmap(df_cm, ax = ax, annot=True, cmap=\"YlGnBu\")\n",
        "ax.set_xlabel(\"Predicted label\")\n",
        "ax.set_ylabel(\"True label\")\n",
        "ax.set_title('Confusion Matrix on test dataset')\n",
        "plt.show()"
      ],
      "metadata": {
        "colab": {
          "base_uri": "https://localhost:8080/",
          "height": 350
        },
        "id": "BM1t3rPc4B4W",
        "outputId": "28d998a2-891f-4bee-ab06-9bfbf57f0411"
      },
      "execution_count": 26,
      "outputs": [
        {
          "output_type": "display_data",
          "data": {
            "text/plain": [
              "<Figure size 864x360 with 2 Axes>"
            ],
            "image/png": "[encoded data removed]"
          },
          "metadata": {
            "needs_background": "light"
          }
        }
      ]
    },
    {
      "cell_type": "markdown",
      "source": [
        "Best hyperparameter:\n",
        "* num_epochs=100 \n",
        "* batch_size=168 -> large batch size for faster convergence due to large dataset\n",
        "* learning_rate=0.001\n",
        "* momentum=0.9 \n",
        "* weight_decay=0.01"
      ],
      "metadata": {
        "id": "FiYV1A80KgXQ"
      }
    }
  ],
  "metadata": {
    "accelerator": "GPU",
    "colab": {
      "provenance": [],
      "machine_shape": "hm",
      "include_colab_link": true
    },
    "gpuClass": "standard",
    "kernelspec": {
      "display_name": "Python 3",
      "name": "python3"
    },
    "language_info": {
      "name": "python"
    }
  },
  "nbformat": 4,
  "nbformat_minor": 0
}