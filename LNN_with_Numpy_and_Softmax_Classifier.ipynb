{
  "cells": [
    {
      "cell_type": "markdown",
      "metadata": {
        "id": "view-in-github",
        "colab_type": "text"
      },
      "source": [
        "<a href=\"https://colab.research.google.com/github/anastasiarenata1/deeplearning/blob/main/LNN_with_Numpy_and_Softmax_Classifier.ipynb\" target=\"_parent\"><img src=\"https://colab.research.google.com/assets/colab-badge.svg\" alt=\"Open In Colab\"/></a>"
      ]
    },
    {
      "cell_type": "markdown",
      "metadata": {
        "id": "PRQriJO6Rw4D"
      },
      "source": [
        "# Problem 4 - Regression\n",
        "\n",
        "Classification data from 2011 Million Song Challenge dataset to predict music year\n",
        "\n",
        "* Explore three shallow (linear) neural network models with different activation functions for this task.\n",
        "* Evaluate the model by rounding the output of your linear neural network and compute the mean squared error\n",
        "\n",
        "\n",
        "###1. Load and explore the data"
      ]
    },
    {
      "cell_type": "code",
      "execution_count": 1,
      "metadata": {
        "colab": {
          "base_uri": "https://localhost:8080/"
        },
        "id": "BEErmxZU2EDU",
        "outputId": "9a3eabc5-fce8-465a-9554-c56490741703"
      },
      "outputs": [
        {
          "output_type": "stream",
          "name": "stdout",
          "text": [
            "--2023-03-03 02:38:46--  https://archive.ics.uci.edu/ml/machine-learning-databases/00203/YearPredictionMSD.txt.zip\n",
            "Resolving archive.ics.uci.edu (archive.ics.uci.edu)... 128.195.10.252\n",
            "Connecting to archive.ics.uci.edu (archive.ics.uci.edu)|128.195.10.252|:443... connected.\n",
            "HTTP request sent, awaiting response... 200 OK\n",
            "Length: 211011981 (201M) [application/x-httpd-php]\n",
            "Saving to: ‘YearPredictionMSD.txt.zip’\n",
            "\n",
            "YearPredictionMSD.t 100%[===================>] 201.24M  30.2MB/s    in 7.1s    \n",
            "\n",
            "2023-03-03 02:38:54 (28.3 MB/s) - ‘YearPredictionMSD.txt.zip’ saved [211011981/211011981]\n",
            "\n",
            "Archive:  YearPredictionMSD.txt.zip\n",
            "  inflating: YearPredictionMSD.txt   \n"
          ]
        }
      ],
      "source": [
        "!wget https://archive.ics.uci.edu/ml/machine-learning-databases/00203/YearPredictionMSD.txt.zip\n",
        "!unzip YearPredictionMSD.txt.zip"
      ]
    },
    {
      "cell_type": "code",
      "execution_count": 4,
      "metadata": {
        "id": "jYGlyolcU0ai"
      },
      "outputs": [],
      "source": [
        "import numpy as np\n",
        "import pandas as pd"
      ]
    },
    {
      "cell_type": "code",
      "execution_count": 3,
      "metadata": {
        "colab": {
          "base_uri": "https://localhost:8080/",
          "height": 299
        },
        "id": "BbPalayaR_Kz",
        "outputId": "e1caa3c7-1422-4245-89db-79c50ede5495"
      },
      "outputs": [
        {
          "output_type": "execute_result",
          "data": {
            "text/plain": [
              "   target  timbre_avg_1  timbre_avg_2  timbre_avg_3  timbre_avg_4  \\\n",
              "0    2001      49.94357      21.47114      73.07750       8.74861   \n",
              "1    2001      48.73215      18.42930      70.32679      12.94636   \n",
              "2    2001      50.95714      31.85602      55.81851      13.41693   \n",
              "3    2001      48.24750      -1.89837      36.29772       2.58776   \n",
              "4    2001      50.97020      42.20998      67.09964       8.46791   \n",
              "\n",
              "   timbre_avg_5  timbre_avg_6  timbre_avg_7  timbre_avg_8  timbre_avg_9  ...  \\\n",
              "0     -17.40628     -13.09905     -25.01202     -12.23257       7.83089  ...   \n",
              "1     -10.32437     -24.83777       8.76630      -0.92019      18.76548  ...   \n",
              "2      -6.57898     -18.54940      -3.27872      -2.35035      16.07017  ...   \n",
              "3       0.97170     -26.21683       5.05097     -10.34124       3.55005  ...   \n",
              "4     -15.85279     -16.81409     -12.48207      -9.37636      12.63699  ...   \n",
              "\n",
              "   timbre_covar_69  timbre_covar_70  timbre_covar_71  timbre_covar_72  \\\n",
              "0         13.01620        -54.40548         58.99367         15.37344   \n",
              "1          5.66812        -19.68073         33.04964         42.87836   \n",
              "2          3.03800         26.05866        -50.92779         10.93792   \n",
              "3         34.57337       -171.70734        -16.96705        -46.67617   \n",
              "4          9.92661        -55.95724         64.92712        -17.72522   \n",
              "\n",
              "   timbre_covar_73  timbre_covar_74  timbre_covar_75  timbre_covar_76  \\\n",
              "0          1.11144        -23.08793         68.40795         -1.82223   \n",
              "1         -9.90378        -32.22788         70.49388         12.04941   \n",
              "2         -0.07568         43.20130       -115.00698         -0.05859   \n",
              "3        -12.51516         82.58061        -72.08993          9.90558   \n",
              "4         -1.49237         -7.50035         51.76631          7.88713   \n",
              "\n",
              "   timbre_covar_77  timbre_covar_78  \n",
              "0        -27.46348          2.26327  \n",
              "1         58.43453         26.92061  \n",
              "2         39.67068         -0.66345  \n",
              "3        199.62971         18.85382  \n",
              "4         55.66926         28.74903  \n",
              "\n",
              "[5 rows x 91 columns]"
            ],
            "text/html": [
              "\n",
              "  <div id=\"df-fe188790-270b-44cc-b639-2ce1bcb62384\">\n",
              "    <div class=\"colab-df-container\">\n",
              "      <div>\n",
              "<style scoped>\n",
              "    .dataframe tbody tr th:only-of-type {\n",
              "        vertical-align: middle;\n",
              "    }\n",
              "\n",
              "    .dataframe tbody tr th {\n",
              "        vertical-align: top;\n",
              "    }\n",
              "\n",
              "    .dataframe thead th {\n",
              "        text-align: right;\n",
              "    }\n",
              "</style>\n",
              "<table border=\"1\" class=\"dataframe\">\n",
              "  <thead>\n",
              "    <tr style=\"text-align: right;\">\n",
              "      <th></th>\n",
              "      <th>target</th>\n",
              "      <th>timbre_avg_1</th>\n",
              "      <th>timbre_avg_2</th>\n",
              "      <th>timbre_avg_3</th>\n",
              "      <th>timbre_avg_4</th>\n",
              "      <th>timbre_avg_5</th>\n",
              "      <th>timbre_avg_6</th>\n",
              "      <th>timbre_avg_7</th>\n",
              "      <th>timbre_avg_8</th>\n",
              "      <th>timbre_avg_9</th>\n",
              "      <th>...</th>\n",
              "      <th>timbre_covar_69</th>\n",
              "      <th>timbre_covar_70</th>\n",
              "      <th>timbre_covar_71</th>\n",
              "      <th>timbre_covar_72</th>\n",
              "      <th>timbre_covar_73</th>\n",
              "      <th>timbre_covar_74</th>\n",
              "      <th>timbre_covar_75</th>\n",
              "      <th>timbre_covar_76</th>\n",
              "      <th>timbre_covar_77</th>\n",
              "      <th>timbre_covar_78</th>\n",
              "    </tr>\n",
              "  </thead>\n",
              "  <tbody>\n",
              "    <tr>\n",
              "      <th>0</th>\n",
              "      <td>2001</td>\n",
              "      <td>49.94357</td>\n",
              "      <td>21.47114</td>\n",
              "      <td>73.07750</td>\n",
              "      <td>8.74861</td>\n",
              "      <td>-17.40628</td>\n",
              "      <td>-13.09905</td>\n",
              "      <td>-25.01202</td>\n",
              "      <td>-12.23257</td>\n",
              "      <td>7.83089</td>\n",
              "      <td>...</td>\n",
              "      <td>13.01620</td>\n",
              "      <td>-54.40548</td>\n",
              "      <td>58.99367</td>\n",
              "      <td>15.37344</td>\n",
              "      <td>1.11144</td>\n",
              "      <td>-23.08793</td>\n",
              "      <td>68.40795</td>\n",
              "      <td>-1.82223</td>\n",
              "      <td>-27.46348</td>\n",
              "      <td>2.26327</td>\n",
              "    </tr>\n",
              "    <tr>\n",
              "      <th>1</th>\n",
              "      <td>2001</td>\n",
              "      <td>48.73215</td>\n",
              "      <td>18.42930</td>\n",
              "      <td>70.32679</td>\n",
              "      <td>12.94636</td>\n",
              "      <td>-10.32437</td>\n",
              "      <td>-24.83777</td>\n",
              "      <td>8.76630</td>\n",
              "      <td>-0.92019</td>\n",
              "      <td>18.76548</td>\n",
              "      <td>...</td>\n",
              "      <td>5.66812</td>\n",
              "      <td>-19.68073</td>\n",
              "      <td>33.04964</td>\n",
              "      <td>42.87836</td>\n",
              "      <td>-9.90378</td>\n",
              "      <td>-32.22788</td>\n",
              "      <td>70.49388</td>\n",
              "      <td>12.04941</td>\n",
              "      <td>58.43453</td>\n",
              "      <td>26.92061</td>\n",
              "    </tr>\n",
              "    <tr>\n",
              "      <th>2</th>\n",
              "      <td>2001</td>\n",
              "      <td>50.95714</td>\n",
              "      <td>31.85602</td>\n",
              "      <td>55.81851</td>\n",
              "      <td>13.41693</td>\n",
              "      <td>-6.57898</td>\n",
              "      <td>-18.54940</td>\n",
              "      <td>-3.27872</td>\n",
              "      <td>-2.35035</td>\n",
              "      <td>16.07017</td>\n",
              "      <td>...</td>\n",
              "      <td>3.03800</td>\n",
              "      <td>26.05866</td>\n",
              "      <td>-50.92779</td>\n",
              "      <td>10.93792</td>\n",
              "      <td>-0.07568</td>\n",
              "      <td>43.20130</td>\n",
              "      <td>-115.00698</td>\n",
              "      <td>-0.05859</td>\n",
              "      <td>39.67068</td>\n",
              "      <td>-0.66345</td>\n",
              "    </tr>\n",
              "    <tr>\n",
              "      <th>3</th>\n",
              "      <td>2001</td>\n",
              "      <td>48.24750</td>\n",
              "      <td>-1.89837</td>\n",
              "      <td>36.29772</td>\n",
              "      <td>2.58776</td>\n",
              "      <td>0.97170</td>\n",
              "      <td>-26.21683</td>\n",
              "      <td>5.05097</td>\n",
              "      <td>-10.34124</td>\n",
              "      <td>3.55005</td>\n",
              "      <td>...</td>\n",
              "      <td>34.57337</td>\n",
              "      <td>-171.70734</td>\n",
              "      <td>-16.96705</td>\n",
              "      <td>-46.67617</td>\n",
              "      <td>-12.51516</td>\n",
              "      <td>82.58061</td>\n",
              "      <td>-72.08993</td>\n",
              "      <td>9.90558</td>\n",
              "      <td>199.62971</td>\n",
              "      <td>18.85382</td>\n",
              "    </tr>\n",
              "    <tr>\n",
              "      <th>4</th>\n",
              "      <td>2001</td>\n",
              "      <td>50.97020</td>\n",
              "      <td>42.20998</td>\n",
              "      <td>67.09964</td>\n",
              "      <td>8.46791</td>\n",
              "      <td>-15.85279</td>\n",
              "      <td>-16.81409</td>\n",
              "      <td>-12.48207</td>\n",
              "      <td>-9.37636</td>\n",
              "      <td>12.63699</td>\n",
              "      <td>...</td>\n",
              "      <td>9.92661</td>\n",
              "      <td>-55.95724</td>\n",
              "      <td>64.92712</td>\n",
              "      <td>-17.72522</td>\n",
              "      <td>-1.49237</td>\n",
              "      <td>-7.50035</td>\n",
              "      <td>51.76631</td>\n",
              "      <td>7.88713</td>\n",
              "      <td>55.66926</td>\n",
              "      <td>28.74903</td>\n",
              "    </tr>\n",
              "  </tbody>\n",
              "</table>\n",
              "<p>5 rows × 91 columns</p>\n",
              "</div>\n",
              "      <button class=\"colab-df-convert\" onclick=\"convertToInteractive('df-fe188790-270b-44cc-b639-2ce1bcb62384')\"\n",
              "              title=\"Convert this dataframe to an interactive table.\"\n",
              "              style=\"display:none;\">\n",
              "        \n",
              "  <svg xmlns=\"http://www.w3.org/2000/svg\" height=\"24px\"viewBox=\"0 0 24 24\"\n",
              "       width=\"24px\">\n",
              "    <path d=\"M0 0h24v24H0V0z\" fill=\"none\"/>\n",
              "    <path d=\"M18.56 5.44l.94 2.06.94-2.06 2.06-.94-2.06-.94-.94-2.06-.94 2.06-2.06.94zm-11 1L8.5 8.5l.94-2.06 2.06-.94-2.06-.94L8.5 2.5l-.94 2.06-2.06.94zm10 10l.94 2.06.94-2.06 2.06-.94-2.06-.94-.94-2.06-.94 2.06-2.06.94z\"/><path d=\"M17.41 7.96l-1.37-1.37c-.4-.4-.92-.59-1.43-.59-.52 0-1.04.2-1.43.59L10.3 9.45l-7.72 7.72c-.78.78-.78 2.05 0 2.83L4 21.41c.39.39.9.59 1.41.59.51 0 1.02-.2 1.41-.59l7.78-7.78 2.81-2.81c.8-.78.8-2.07 0-2.86zM5.41 20L4 18.59l7.72-7.72 1.47 1.35L5.41 20z\"/>\n",
              "  </svg>\n",
              "      </button>\n",
              "      \n",
              "  <style>\n",
              "    .colab-df-container {\n",
              "      display:flex;\n",
              "      flex-wrap:wrap;\n",
              "      gap: 12px;\n",
              "    }\n",
              "\n",
              "    .colab-df-convert {\n",
              "      background-color: #E8F0FE;\n",
              "      border: none;\n",
              "      border-radius: 50%;\n",
              "      cursor: pointer;\n",
              "      display: none;\n",
              "      fill: #1967D2;\n",
              "      height: 32px;\n",
              "      padding: 0 0 0 0;\n",
              "      width: 32px;\n",
              "    }\n",
              "\n",
              "    .colab-df-convert:hover {\n",
              "      background-color: #E2EBFA;\n",
              "      box-shadow: 0px 1px 2px rgba(60, 64, 67, 0.3), 0px 1px 3px 1px rgba(60, 64, 67, 0.15);\n",
              "      fill: #174EA6;\n",
              "    }\n",
              "\n",
              "    [theme=dark] .colab-df-convert {\n",
              "      background-color: #3B4455;\n",
              "      fill: #D2E3FC;\n",
              "    }\n",
              "\n",
              "    [theme=dark] .colab-df-convert:hover {\n",
              "      background-color: #434B5C;\n",
              "      box-shadow: 0px 1px 3px 1px rgba(0, 0, 0, 0.15);\n",
              "      filter: drop-shadow(0px 1px 2px rgba(0, 0, 0, 0.3));\n",
              "      fill: #FFFFFF;\n",
              "    }\n",
              "  </style>\n",
              "\n",
              "      <script>\n",
              "        const buttonEl =\n",
              "          document.querySelector('#df-fe188790-270b-44cc-b639-2ce1bcb62384 button.colab-df-convert');\n",
              "        buttonEl.style.display =\n",
              "          google.colab.kernel.accessAllowed ? 'block' : 'none';\n",
              "\n",
              "        async function convertToInteractive(key) {\n",
              "          const element = document.querySelector('#df-fe188790-270b-44cc-b639-2ce1bcb62384');\n",
              "          const dataTable =\n",
              "            await google.colab.kernel.invokeFunction('convertToInteractive',\n",
              "                                                     [key], {});\n",
              "          if (!dataTable) return;\n",
              "\n",
              "          const docLinkHtml = 'Like what you see? Visit the ' +\n",
              "            '<a target=\"_blank\" href=https://colab.research.google.com/notebooks/data_table.ipynb>data table notebook</a>'\n",
              "            + ' to learn more about interactive tables.';\n",
              "          element.innerHTML = '';\n",
              "          dataTable['output_type'] = 'display_data';\n",
              "          await google.colab.output.renderOutput(dataTable, element);\n",
              "          const docLink = document.createElement('div');\n",
              "          docLink.innerHTML = docLinkHtml;\n",
              "          element.appendChild(docLink);\n",
              "        }\n",
              "      </script>\n",
              "    </div>\n",
              "  </div>\n",
              "  "
            ]
          },
          "metadata": {},
          "execution_count": 3
        }
      ],
      "source": [
        "colnames = ['target'] + ['timbre_avg_' + str(i) for i in range(1, 13)] + ['timbre_covar_' + str(i) for i in range(1, 79)]\n",
        "df = pd.read_csv('YearPredictionMSD.txt', header=None, names=colnames)\n",
        "df.head(5)"
      ]
    },
    {
      "cell_type": "markdown",
      "metadata": {
        "id": "gqj7q70Ql5lb"
      },
      "source": [
        "Write a function to load the dataset, e.g.,\n",
        "`trainYears, trainFeat, testYears, testFeat = loadMusicData(fname, addBias)`"
      ]
    },
    {
      "cell_type": "code",
      "execution_count": 4,
      "metadata": {
        "id": "HO0rnbz9STFd"
      },
      "outputs": [],
      "source": [
        "def loadMusicData(data, addBias=True):\n",
        "  train_df = data[:463714]\n",
        "  test_df = data[463714:]\n",
        "  train_y = train_df['target'].values\n",
        "  train_x = train_df.iloc[:,1:].values\n",
        "  test_y = test_df['target'].values\n",
        "  test_x = test_df.iloc[:,1:].values\n",
        "  if addBias:\n",
        "    train_x = np.hstack((train_x, np.ones((train_x.shape[0],1))))\n",
        "    test_x = np.hstack((test_x, np.ones((test_x.shape[0],1))))\n",
        "  return train_y, train_x, test_y, test_x"
      ]
    },
    {
      "cell_type": "markdown",
      "metadata": {
        "id": "iz0sr2dbmDpu"
      },
      "source": [
        "Write a function `mse = musicMSE(pred, gt)` where the inputs are the predicted year and the “ground truth” year from the dataset. The function computes the mean squared error(MSE) by rounding pred before computing the MSE."
      ]
    },
    {
      "cell_type": "code",
      "execution_count": 5,
      "metadata": {
        "id": "eBi_cfQ4nGmY"
      },
      "outputs": [],
      "source": [
        "from sklearn.metrics import mean_squared_error\n",
        "def musicMSE(pred, gt):\n",
        "  pred = np.round(pred)\n",
        "  mse= mean_squared_error(pred, gt)\n",
        "  return mse"
      ]
    },
    {
      "cell_type": "markdown",
      "metadata": {
        "id": "VNpBvB08ojLl"
      },
      "source": [
        "Load the dataset and discuss its properties. \n",
        "1. What is the range of the variables? From 90 attributes, range of variables for timbre average is tighter than range of variables for timbre covariance. However, within each category itself, some attributes have wider range compared to others, in which we don't have further documentation to explain this event.\n",
        "2. How might you normalize them? Normalization can help to ensure that each variables contribute equally to the model. Since range of variables varies significantly accross 90 attributes, I will normalize the data using standardization technique (0 mean and unit std deviation for each attribute) where we can help to preserve importance of variables.\n",
        "3. What years are represented in the dataset? The dataset covers song released from 1922 to 2011 (90 years) with most common year of 2007.\n",
        "4. What will the test mean squared error (MSE) be if your classifier always outputs the most common year in the dataset? 190.08"
      ]
    },
    {
      "cell_type": "code",
      "execution_count": 6,
      "metadata": {
        "colab": {
          "base_uri": "https://localhost:8080/"
        },
        "id": "mwHVPkNVoTmn",
        "outputId": "e50e6b6f-505d-4b11-ad08-55cc1db8400a"
      },
      "outputs": [
        {
          "output_type": "stream",
          "name": "stdout",
          "text": [
            "Variable 1: range = 60\n",
            "Variable 2: range = 721\n",
            "Variable 3: range = 624\n",
            "Variable 4: range = 490\n",
            "Variable 5: range = 444\n",
            "Variable 6: range = 248\n",
            "Variable 7: range = 361\n",
            "Variable 8: range = 199\n",
            "Variable 9: range = 273\n",
            "Variable 10: range = 102\n",
            "Variable 11: range = 158\n",
            "Variable 12: range = 182\n",
            "Variable 13: range = 550\n",
            "Variable 14: range = 65727\n",
            "Variable 15: range = 36796\n",
            "Variable 16: range = 31832\n",
            "Variable 17: range = 19854\n",
            "Variable 18: range = 16826\n",
            "Variable 19: range = 11882\n",
            "Variable 20: range = 9564\n",
            "Variable 21: range = 9610\n",
            "Variable 22: range = 3707\n",
            "Variable 23: range = 6731\n",
            "Variable 24: range = 9808\n",
            "Variable 25: range = 4871\n",
            "Variable 26: range = 37870\n",
            "Variable 27: range = 26522\n",
            "Variable 28: range = 7735\n",
            "Variable 29: range = 6635\n",
            "Variable 30: range = 6669\n",
            "Variable 31: range = 6153\n",
            "Variable 32: range = 3471\n",
            "Variable 33: range = 4567\n",
            "Variable 34: range = 3921\n",
            "Variable 35: range = 2803\n",
            "Variable 36: range = 4208\n",
            "Variable 37: range = 22597\n",
            "Variable 38: range = 18155\n",
            "Variable 39: range = 15869\n",
            "Variable 40: range = 16243\n",
            "Variable 41: range = 8211\n",
            "Variable 42: range = 8068\n",
            "Variable 43: range = 6178\n",
            "Variable 44: range = 2904\n",
            "Variable 45: range = 1768\n",
            "Variable 46: range = 2529\n",
            "Variable 47: range = 23921\n",
            "Variable 48: range = 10960\n",
            "Variable 49: range = 12815\n",
            "Variable 50: range = 4412\n",
            "Variable 51: range = 3698\n",
            "Variable 52: range = 4207\n",
            "Variable 53: range = 5583\n",
            "Variable 54: range = 5100\n",
            "Variable 55: range = 2263\n",
            "Variable 56: range = 12109\n",
            "Variable 57: range = 17812\n",
            "Variable 58: range = 17732\n",
            "Variable 59: range = 9176\n",
            "Variable 60: range = 8190\n",
            "Variable 61: range = 3711\n",
            "Variable 62: range = 2370\n",
            "Variable 63: range = 1413\n",
            "Variable 64: range = 21394\n",
            "Variable 65: range = 10254\n",
            "Variable 66: range = 7344\n",
            "Variable 67: range = 3254\n",
            "Variable 68: range = 7345\n",
            "Variable 69: range = 7192\n",
            "Variable 70: range = 1720\n",
            "Variable 71: range = 11016\n",
            "Variable 72: range = 11695\n",
            "Variable 73: range = 10525\n",
            "Variable 74: range = 3453\n",
            "Variable 75: range = 2666\n",
            "Variable 76: range = 1459\n",
            "Variable 77: range = 19852\n",
            "Variable 78: range = 5449\n",
            "Variable 79: range = 13578\n",
            "Variable 80: range = 8490\n",
            "Variable 81: range = 1279\n",
            "Variable 82: range = 8872\n",
            "Variable 83: range = 5021\n",
            "Variable 84: range = 4832\n",
            "Variable 85: range = 602\n",
            "Variable 86: range = 6831\n",
            "Variable 87: range = 7154\n",
            "Variable 88: range = 699\n",
            "Variable 89: range = 14852\n",
            "Variable 90: range = 1059\n"
          ]
        }
      ],
      "source": [
        "# Range of variables\n",
        "var_ranges = np.ptp(df.iloc[:, 1:].values, axis=0)\n",
        "for i, var_range in enumerate(var_ranges):\n",
        "    print(\"Variable {}: range = {:.0f}\".format(i+1, var_range))"
      ]
    },
    {
      "cell_type": "code",
      "execution_count": 7,
      "metadata": {
        "id": "6xcZrqpiyO0F"
      },
      "outputs": [],
      "source": [
        "#Normalize data using standardization\n",
        "from sklearn.preprocessing import StandardScaler\n",
        "scaler = StandardScaler()\n",
        "\n",
        "def loadMusicData2(data, addBias=True):\n",
        "  train_df = data[:463714]\n",
        "  test_df = data[463714:]\n",
        "  train_y = train_df['target'].values\n",
        "  train_x = train_df.iloc[:,1:].values\n",
        "  test_y = test_df['target'].values\n",
        "  test_x = test_df.iloc[:,1:].values\n",
        "  train_x= scaler.fit_transform(train_x)\n",
        "  test_x= scaler.fit_transform(test_x)\n",
        "\n",
        "  if addBias:\n",
        "    train_x = np.hstack((train_x, np.ones((train_x.shape[0],1))))\n",
        "    test_x = np.hstack((test_x, np.ones((test_x.shape[0],1))))\n",
        "  \n",
        "\n",
        "  return train_y, train_x, test_y, test_x"
      ]
    },
    {
      "cell_type": "code",
      "execution_count": 8,
      "metadata": {
        "colab": {
          "base_uri": "https://localhost:8080/"
        },
        "id": "J88tbEW8y56c",
        "outputId": "2f3470ef-0c8f-4fd7-ad5e-66f296c602ce"
      },
      "outputs": [
        {
          "output_type": "stream",
          "name": "stdout",
          "text": [
            "Min years presented:  1922\n",
            "Max years presented:  2011\n",
            "Median years presented:  2002.0\n",
            "Most common year: 2007\n"
          ]
        }
      ],
      "source": [
        "#Years represented\n",
        "print('Min years presented: ', np.min(df['target']))\n",
        "print('Max years presented: ', np.max(df['target']))\n",
        "print('Median years presented: ', np.median(df['target']))\n",
        "\n",
        "from statistics import mode\n",
        "print('Most common year:', mode(df['target']))"
      ]
    },
    {
      "cell_type": "code",
      "execution_count": 9,
      "metadata": {
        "id": "XsuMY-B-6Rq8"
      },
      "outputs": [],
      "source": [
        "train_y, train_x, test_y, test_x = loadMusicData2(df, addBias=True)"
      ]
    },
    {
      "cell_type": "code",
      "execution_count": 10,
      "metadata": {
        "colab": {
          "base_uri": "https://localhost:8080/"
        },
        "id": "QgxWh8BG6E15",
        "outputId": "d2511b4d-3fcc-4f61-f7d3-f3541b9bbec7"
      },
      "outputs": [
        {
          "output_type": "execute_result",
          "data": {
            "text/plain": [
              "190.08239236117836"
            ]
          },
          "metadata": {},
          "execution_count": 10
        }
      ],
      "source": [
        "#test MSE\n",
        "musicMSE(torch.full((test_y.shape[0],), 2007), test_y)"
      ]
    },
    {
      "cell_type": "markdown",
      "metadata": {
        "id": "yzi847OP89JV"
      },
      "source": [
        "##2. Classification\n",
        "This problem could have been posed as a classification problem by treating each year as a category. What would be the problems with this approach? Support your argument by analyzing a bar chart with the year as the x-axis and the number of examples for that year as the y-axis.\n",
        "\n",
        "As we can see from the chart, the distribution of train dataset is skewed to the left where majority of the data coming from the later years. If we treat this problem as a classification problem, the model will be biased and will be more likely to predict later years. Furthermore, classification means that the predicted data will be categorical values instead of continuous which can result in loss of information as repercussion. "
      ]
    },
    {
      "cell_type": "code",
      "execution_count": 11,
      "metadata": {
        "colab": {
          "base_uri": "https://localhost:8080/",
          "height": 279
        },
        "id": "QByIY0eo3_uO",
        "outputId": "1ef5f94f-56dd-4fed-d83b-f11dc034fd12"
      },
      "outputs": [
        {
          "output_type": "display_data",
          "data": {
            "text/plain": [
              "<Figure size 432x288 with 1 Axes>"
            ],
            "image/png": "[encoded data removed]"
          },
          "metadata": {
            "needs_background": "light"
          }
        }
      ],
      "source": [
        "#plot year frequency from train dataset\n",
        "import matplotlib.pyplot as plt\n",
        "train_df = df[:463714]\n",
        "year_counts = train_df.iloc[:, 0].value_counts()\n",
        "plt.bar(year_counts.index, year_counts.values)\n",
        "plt.xlabel(\"Year\")\n",
        "plt.ylabel(\"Frequency\")\n",
        "plt.show()"
      ]
    },
    {
      "cell_type": "markdown",
      "metadata": {
        "id": "wiR5yP7wBxka"
      },
      "source": [
        "##3. Ridge regression\n",
        "\n",
        "* Implement stochastic gradient descent with mini-batches to minimize the loss and evaluate the train and test MSE.\n",
        "* Tune the learning rate and weight decay factor. \n",
        "* Show the train and test loss as a function of epochs, where the number of epochs should be chosen to ensure the train loss is minimized."
      ]
    },
    {
      "cell_type": "code",
      "source": [
        "def mini_batch_gradient_descent(X_train, y_train, X_test, y_test, batch_size=32, num_epochs=100, learning_rate=0.01, weight_decay_factor=0, loss_type='L2', weight_decay_form='none', momentum=False, momentum_factor=0.9):\n",
        "    num_features = X_train.shape[1]\n",
        "    num_batches = int(np.ceil(len(X_train) / batch_size))\n",
        "    weight = np.random.normal(size=num_features)\n",
        "    m = np.zeros_like(weight)\n",
        "    train_losses = []\n",
        "    test_losses = []\n",
        "\n",
        "    def forward(X, w):\n",
        "        return np.dot(X, w)\n",
        "\n",
        "    def backward(X, error):\n",
        "        return np.dot(X.T, error)\n",
        "\n",
        "    def compute_gradient(X, y, y_pred, loss_type, w):\n",
        "      error = None\n",
        "      if loss_type == \"L2\":\n",
        "          error = 2*(y_pred - y)\n",
        "      elif loss_type == \"count\":\n",
        "          error = np.round(y_pred) - np.round(y)\n",
        "      elif loss_type == \"cross-entropy\":\n",
        "          error = y_pred - y\n",
        "      elif loss_type == 'L1':\n",
        "          error = np.sign(y_pred - y)\n",
        "      gradient = backward(X, error)\n",
        "      if weight_decay_form == 'L2':\n",
        "          gradient += weight_decay_factor * w\n",
        "      elif weight_decay_form == 'L1':\n",
        "          gradient += weight_decay_factor * np.sign(w)\n",
        "      return gradient, error\n",
        "\n",
        "    def compute_loss(y, y_pred, loss_type):\n",
        "        if loss_type == \"L2\":\n",
        "            return np.mean(np.square(y - y_pred))\n",
        "        elif loss_type == \"count\":\n",
        "            return np.mean(np.abs(np.round(y) - np.round(y_pred)))\n",
        "        elif loss_type == \"cross-entropy\":\n",
        "            y_pred = np.clip(y_pred, 1e-15, 1 - 1e-15)  # clip predictions\n",
        "            return -np.mean(y * np.log(y_pred) + (1 - y) * np.log(1 - y_pred))\n",
        "        elif loss_type == 'L1':\n",
        "            return np.mean(np.abs(y - y_pred))\n",
        "\n",
        "    for epoch in range(num_epochs):\n",
        "        # Shuffle the data\n",
        "        perm = np.random.permutation(len(X_train))\n",
        "        X_train = X_train[perm]\n",
        "        y_train = y_train[perm]\n",
        "\n",
        "        # Mini-batch gradient descent\n",
        "        for i in range(num_batches):\n",
        "            start_idx = i * batch_size\n",
        "            end_idx = (i + 1) * batch_size\n",
        "            X_batch = X_train[start_idx:end_idx]\n",
        "            y_batch = y_train[start_idx:end_idx]\n",
        "\n",
        "            y_pred = forward(X_batch, weight)\n",
        "            gradient, error = compute_gradient(X_batch, y_batch, y_pred, loss_type, weight)\n",
        "\n",
        "            if momentum:\n",
        "              m = momentum_factor * m + (1 - momentum_factor) * gradient\n",
        "              weight -= learning_rate * m\n",
        "            else:\n",
        "                weight -= learning_rate * gradient.reshape(weight.shape)\n",
        "\n",
        "        # Compute train and test losses\n",
        "        y_train_pred = forward(X_train, weight)\n",
        "        train_loss = compute_loss(y_train, y_train_pred, loss_type)\n",
        "        train_losses.append(train_loss)\n",
        "\n",
        "        y_test_pred = forward(X_test, weight)\n",
        "        test_loss = compute_loss(y_test, y_test_pred, loss_type)\n",
        "        test_losses.append(test_loss)\n",
        "\n",
        "        print(\"Epoch:\", epoch+1, \"/100, Train loss:\", train_loss, \"Test loss:\", test_loss)\n",
        "\n",
        "    return weight, train_losses, test_losses\n"
      ],
      "metadata": {
        "id": "f7u12GIuw_jz"
      },
      "execution_count": 12,
      "outputs": []
    },
    {
      "cell_type": "markdown",
      "source": [
        "Hyperparameter tuning\n",
        "* Learning rate= 0.0001\n",
        "* Weight decay factor= 0.000001\n",
        "* Batch size=16\n",
        "* Number epochs=100\n",
        "* Loss type= L2\n",
        "* Weight decay form= None\n",
        "* No momentum\n",
        "\n"
      ],
      "metadata": {
        "id": "r27YeMIDlVMX"
      }
    },
    {
      "cell_type": "code",
      "execution_count": 13,
      "metadata": {
        "id": "lHLX_tNcbLWr",
        "colab": {
          "base_uri": "https://localhost:8080/"
        },
        "outputId": "74aef5ba-9537-4e5f-9d4b-01d2dcf4c258"
      },
      "outputs": [
        {
          "output_type": "stream",
          "name": "stdout",
          "text": [
            "Epoch: 1 /100, Train loss: 625430.8533090975 Test loss: 625604.9557591722\n",
            "Epoch: 2 /100, Train loss: 97931.34929725972 Test loss: 98000.50914077212\n",
            "Epoch: 3 /100, Train loss: 15403.513533251424 Test loss: 15430.959171444607\n",
            "Epoch: 4 /100, Train loss: 2488.9968400023317 Test loss: 2499.4241394992537\n",
            "Epoch: 5 /100, Train loss: 467.8459655434799 Test loss: 471.62931146917646\n",
            "Epoch: 6 /100, Train loss: 151.11942993861166 Test loss: 152.29260171769147\n",
            "Epoch: 7 /100, Train loss: 101.25729928526852 Test loss: 101.37616943145912\n",
            "Epoch: 8 /100, Train loss: 93.26023796641485 Test loss: 92.91398223271224\n",
            "Epoch: 9 /100, Train loss: 91.87849062214063 Test loss: 91.35913995674811\n",
            "Epoch: 10 /100, Train loss: 91.5740231539344 Test loss: 90.97125651696442\n",
            "Epoch: 11 /100, Train loss: 91.47022185695901 Test loss: 90.79156008078887\n",
            "Epoch: 12 /100, Train loss: 91.41522407752872 Test loss: 90.6906012864887\n",
            "Epoch: 13 /100, Train loss: 91.37009656429386 Test loss: 90.68659816498291\n",
            "Epoch: 14 /100, Train loss: 91.34270168484908 Test loss: 90.6512628704386\n",
            "Epoch: 15 /100, Train loss: 91.32451206317906 Test loss: 90.63445589724118\n",
            "Epoch: 16 /100, Train loss: 91.31088993943064 Test loss: 90.59612799025527\n",
            "Epoch: 17 /100, Train loss: 91.30102163430448 Test loss: 90.60412007929689\n",
            "Epoch: 18 /100, Train loss: 91.29307565986272 Test loss: 90.55516925994246\n",
            "Epoch: 19 /100, Train loss: 91.28598899105135 Test loss: 90.53117045167684\n",
            "Epoch: 20 /100, Train loss: 91.27999792483863 Test loss: 90.52485450046831\n",
            "Epoch: 21 /100, Train loss: 91.2765569353642 Test loss: 90.50992914737432\n",
            "Epoch: 22 /100, Train loss: 91.27371838031107 Test loss: 90.49600832117906\n",
            "Epoch: 23 /100, Train loss: 91.27409496160519 Test loss: 90.5567302573674\n",
            "Epoch: 24 /100, Train loss: 91.26865745127591 Test loss: 90.52406822944303\n",
            "Epoch: 25 /100, Train loss: 91.26769786429412 Test loss: 90.50832734564264\n",
            "Epoch: 26 /100, Train loss: 91.26554712503719 Test loss: 90.51099798107255\n",
            "Epoch: 27 /100, Train loss: 91.268072297243 Test loss: 90.49267478751486\n",
            "Epoch: 28 /100, Train loss: 91.27079226966575 Test loss: 90.49557788487368\n",
            "Epoch: 29 /100, Train loss: 91.26189160172197 Test loss: 90.5014207380199\n",
            "Epoch: 30 /100, Train loss: 91.26335757859124 Test loss: 90.48233554448794\n",
            "Epoch: 31 /100, Train loss: 91.26940504099949 Test loss: 90.56508516980323\n",
            "Epoch: 32 /100, Train loss: 91.26283283355953 Test loss: 90.49692317077219\n",
            "Epoch: 33 /100, Train loss: 91.26525575242009 Test loss: 90.49383071073724\n",
            "Epoch: 34 /100, Train loss: 91.27215272406744 Test loss: 90.4471385026224\n",
            "Epoch: 35 /100, Train loss: 91.26145108542697 Test loss: 90.49007255679089\n",
            "Epoch: 36 /100, Train loss: 91.26399576209158 Test loss: 90.52169334893857\n",
            "Epoch: 37 /100, Train loss: 91.26167740141335 Test loss: 90.48167095021421\n",
            "Epoch: 38 /100, Train loss: 91.26026432854395 Test loss: 90.5268733136485\n",
            "Epoch: 39 /100, Train loss: 91.26295500836387 Test loss: 90.49350118895498\n",
            "Epoch: 40 /100, Train loss: 91.26059898807645 Test loss: 90.49886443911562\n",
            "Epoch: 41 /100, Train loss: 91.26046816573034 Test loss: 90.48282872271862\n",
            "Epoch: 42 /100, Train loss: 91.25811333134685 Test loss: 90.49490761935755\n",
            "Epoch: 43 /100, Train loss: 91.2617743537578 Test loss: 90.50540218578324\n",
            "Epoch: 44 /100, Train loss: 91.2604183882006 Test loss: 90.48023196412052\n",
            "Epoch: 45 /100, Train loss: 91.2582316593749 Test loss: 90.49060254819824\n",
            "Epoch: 46 /100, Train loss: 91.2594400351294 Test loss: 90.48381727072076\n",
            "Epoch: 47 /100, Train loss: 91.26002799695452 Test loss: 90.53345965436712\n",
            "Epoch: 48 /100, Train loss: 91.26137865831369 Test loss: 90.48339156286603\n",
            "Epoch: 49 /100, Train loss: 91.25911708436416 Test loss: 90.50369330789184\n",
            "Epoch: 50 /100, Train loss: 91.25959362320614 Test loss: 90.49159786592837\n",
            "Epoch: 51 /100, Train loss: 91.25942470811215 Test loss: 90.51837224527277\n",
            "Epoch: 52 /100, Train loss: 91.25969848779167 Test loss: 90.5116207292384\n",
            "Epoch: 53 /100, Train loss: 91.25830369654493 Test loss: 90.51636810377829\n",
            "Epoch: 54 /100, Train loss: 91.25948288416845 Test loss: 90.4953972611109\n",
            "Epoch: 55 /100, Train loss: 91.2608976179571 Test loss: 90.5235022064199\n",
            "Epoch: 56 /100, Train loss: 91.25834350113439 Test loss: 90.50855546461581\n",
            "Epoch: 57 /100, Train loss: 91.26177651255448 Test loss: 90.47502071731077\n",
            "Epoch: 58 /100, Train loss: 91.25927210750518 Test loss: 90.4883090097444\n",
            "Epoch: 59 /100, Train loss: 91.25791647330459 Test loss: 90.49717327902134\n",
            "Epoch: 60 /100, Train loss: 91.25858897241993 Test loss: 90.48065425777438\n",
            "Epoch: 61 /100, Train loss: 91.25933210048275 Test loss: 90.49081843835273\n",
            "Epoch: 62 /100, Train loss: 91.25847649237699 Test loss: 90.48053310437317\n",
            "Epoch: 63 /100, Train loss: 91.25905909904994 Test loss: 90.47258470973858\n",
            "Epoch: 64 /100, Train loss: 91.25795810527447 Test loss: 90.48046704148285\n",
            "Epoch: 65 /100, Train loss: 91.25864293377954 Test loss: 90.47811290743175\n",
            "Epoch: 66 /100, Train loss: 91.26010757175771 Test loss: 90.50952240212672\n",
            "Epoch: 67 /100, Train loss: 91.25809979857279 Test loss: 90.48886552583461\n",
            "Epoch: 68 /100, Train loss: 91.26067876938374 Test loss: 90.48337642373943\n",
            "Epoch: 69 /100, Train loss: 91.25986857123412 Test loss: 90.4961854378441\n",
            "Epoch: 70 /100, Train loss: 91.26138007353447 Test loss: 90.46332875235547\n",
            "Epoch: 71 /100, Train loss: 91.25975529209805 Test loss: 90.49555629093202\n",
            "Epoch: 72 /100, Train loss: 91.2604929606178 Test loss: 90.53312638474002\n",
            "Epoch: 73 /100, Train loss: 91.25811676705541 Test loss: 90.47783475201251\n",
            "Epoch: 74 /100, Train loss: 91.26121655602871 Test loss: 90.49307834246123\n",
            "Epoch: 75 /100, Train loss: 91.25951676420604 Test loss: 90.49627669346368\n",
            "Epoch: 76 /100, Train loss: 91.25912234183976 Test loss: 90.5043091319791\n",
            "Epoch: 77 /100, Train loss: 91.25858029554769 Test loss: 90.49156478131769\n",
            "Epoch: 78 /100, Train loss: 91.2592628205237 Test loss: 90.49047051069154\n",
            "Epoch: 79 /100, Train loss: 91.25842553293246 Test loss: 90.47722256252551\n",
            "Epoch: 80 /100, Train loss: 91.25803848852473 Test loss: 90.47853765466485\n",
            "Epoch: 81 /100, Train loss: 91.26082181378332 Test loss: 90.45940935991231\n",
            "Epoch: 82 /100, Train loss: 91.25819770719912 Test loss: 90.47864748018094\n",
            "Epoch: 83 /100, Train loss: 91.26009728559458 Test loss: 90.52798121268609\n",
            "Epoch: 84 /100, Train loss: 91.25767762683753 Test loss: 90.48022044936454\n",
            "Epoch: 85 /100, Train loss: 91.25880922854134 Test loss: 90.51591165586156\n",
            "Epoch: 86 /100, Train loss: 91.25927241715037 Test loss: 90.50421021309833\n",
            "Epoch: 87 /100, Train loss: 91.25773426790983 Test loss: 90.48908669940722\n",
            "Epoch: 88 /100, Train loss: 91.25755311055396 Test loss: 90.50197358625819\n",
            "Epoch: 89 /100, Train loss: 91.25877406370516 Test loss: 90.51953696397955\n",
            "Epoch: 90 /100, Train loss: 91.25989200341532 Test loss: 90.49119909170702\n",
            "Epoch: 91 /100, Train loss: 91.25956678094552 Test loss: 90.52943981053158\n",
            "Epoch: 92 /100, Train loss: 91.2642238382298 Test loss: 90.46203929292517\n",
            "Epoch: 93 /100, Train loss: 91.25948426864962 Test loss: 90.49168974917887\n",
            "Epoch: 94 /100, Train loss: 91.25916604183071 Test loss: 90.49626654528407\n",
            "Epoch: 95 /100, Train loss: 91.25807691153858 Test loss: 90.49532111847266\n",
            "Epoch: 96 /100, Train loss: 91.25770194548144 Test loss: 90.50737520706775\n",
            "Epoch: 97 /100, Train loss: 91.25909619833479 Test loss: 90.4984609095635\n",
            "Epoch: 98 /100, Train loss: 91.25820676316773 Test loss: 90.48753665197427\n",
            "Epoch: 99 /100, Train loss: 91.2579593320787 Test loss: 90.482318419334\n",
            "Epoch: 100 /100, Train loss: 91.26013678534287 Test loss: 90.5351719720236\n"
          ]
        }
      ],
      "source": [
        "w_ridge, train_loss_ridge, test_loss_ridge = mini_batch_gradient_descent(train_x, train_y, test_x, test_y, batch_size=16, num_epochs=100, learning_rate=0.000001, weight_decay_factor=0.000001, loss_type='L2', weight_decay_form=None, momentum=False, momentum_factor=None)"
      ]
    },
    {
      "cell_type": "code",
      "execution_count": 14,
      "metadata": {
        "id": "a7olCs7GbNW5",
        "colab": {
          "base_uri": "https://localhost:8080/",
          "height": 279
        },
        "outputId": "b9308abe-f6b6-4243-a103-66ec2f473870"
      },
      "outputs": [
        {
          "output_type": "display_data",
          "data": {
            "text/plain": [
              "<Figure size 432x288 with 1 Axes>"
            ],
            "image/png": "[encoded data removed]"
          },
          "metadata": {
            "needs_background": "light"
          }
        }
      ],
      "source": [
        "num_epochs=100\n",
        "plt.plot(range(num_epochs), train_loss_ridge,'r', label=\"Train loss\")\n",
        "plt.plot(range(num_epochs), test_loss_ridge, 'bo',label=\"Test loss\")\n",
        "plt.xlabel(\"Epochs\")\n",
        "plt.ylabel(\"Loss\")\n",
        "plt.legend()\n",
        "plt.show()"
      ]
    },
    {
      "cell_type": "markdown",
      "metadata": {
        "id": "l9ap9a_o1OGE"
      },
      "source": [
        "Pseudoinverse"
      ]
    },
    {
      "cell_type": "code",
      "source": [
        "def compute_loss(X, y, weight, loss_type):\n",
        "    if loss_type == 'L2':\n",
        "        loss = np.mean((np.dot(X, weight) - y) ** 2)\n",
        "    elif loss_type == 'count':\n",
        "        loss = np.mean(np.abs(np.dot(X, weight) - y))\n",
        "    elif loss_type == 'cross-entropy':\n",
        "        exp_term = np.exp(np.dot(X, weight))\n",
        "        loss = np.mean(np.log(1 + exp_term) - y * np.dot(X, weight))\n",
        "    return loss\n",
        "\n",
        "def pseudoinverse(train_x, train_y, test_x, test_y, alpha=0, loss_type='L2'):\n",
        "    pseudoinv= np.dot(np.linalg.inv(train_x.T.dot(train_x) + alpha*np.eye(train_x.shape[1])), train_x.T)\n",
        "    weight= np.dot(pseudoinv, train_y)\n",
        "    train_y_predict= np.dot(train_x, weight)\n",
        "    test_y_predict= np.dot(test_x, weight)\n",
        "\n",
        "    train_loss= compute_loss(train_x, train_y, weight, loss_type=loss_type)\n",
        "    test_loss= compute_loss(test_x, test_y,weight, loss_type=loss_type)\n",
        "  \n",
        "    print(f'Train loss: {train_loss:.4f}, Test loss: {test_loss:.4f}')\n",
        "    \n",
        "    return weight, train_loss, test_loss"
      ],
      "metadata": {
        "id": "ohY45Ph3pYrd"
      },
      "execution_count": 15,
      "outputs": []
    },
    {
      "cell_type": "code",
      "source": [
        "weight_inverse, train_loss_inverse, test_loss_inverse = pseudoinverse(train_x, train_y, test_x, test_y, alpha=0, loss_type='L2')"
      ],
      "metadata": {
        "colab": {
          "base_uri": "https://localhost:8080/"
        },
        "id": "XUVECvJdDX7I",
        "outputId": "77b10a1f-c44b-49bb-be42-cd667305150a"
      },
      "execution_count": 16,
      "outputs": [
        {
          "output_type": "stream",
          "name": "stdout",
          "text": [
            "Train loss: 91.2564, Test loss: 90.4911\n"
          ]
        }
      ]
    },
    {
      "cell_type": "markdown",
      "source": [
        "##4. Implement L1 weight decay"
      ],
      "metadata": {
        "id": "jL8oRaDeDY-b"
      }
    },
    {
      "cell_type": "code",
      "source": [
        "w_lasso, train_loss_lasso, test_loss_lasso = mini_batch_gradient_descent(train_x, train_y, test_x, test_y, batch_size=32, num_epochs=100, learning_rate=0.001, weight_decay_factor=0.01, loss_type='L1', weight_decay_form='L1', momentum=False, momentum_factor=None)\n",
        "num_epochs=100\n",
        "plt.plot(range(num_epochs), train_loss_lasso,'r', label=\"Train loss\")\n",
        "plt.plot(range(num_epochs), test_loss_lasso, 'bo',label=\"Test loss\")\n",
        "plt.xlabel(\"Epochs\")\n",
        "plt.ylabel(\"Loss\")\n",
        "plt.legend()\n",
        "plt.show()"
      ],
      "metadata": {
        "colab": {
          "base_uri": "https://localhost:8080/",
          "height": 1000
        },
        "id": "erfbyKAdDhYL",
        "outputId": "9599c385-b779-44e5-ddd2-a6f2e15ad5fb"
      },
      "execution_count": 17,
      "outputs": [
        {
          "output_type": "stream",
          "name": "stdout",
          "text": [
            "Epoch: 1 /100, Train loss: 1535.4938904593005 Test loss: 1535.6037371197694\n",
            "Epoch: 2 /100, Train loss: 1071.924810459928 Test loss: 1072.0346571203972\n",
            "Epoch: 3 /100, Train loss: 608.355730460643 Test loss: 608.4655771211119\n",
            "Epoch: 4 /100, Train loss: 144.78665046135774 Test loss: 144.89649712182677\n",
            "Epoch: 5 /100, Train loss: 6.531066288384362 Test loss: 6.547102740837962\n",
            "Epoch: 6 /100, Train loss: 6.54796413854946 Test loss: 6.570755269210197\n",
            "Epoch: 7 /100, Train loss: 6.530344351478589 Test loss: 6.536431804311891\n",
            "Epoch: 8 /100, Train loss: 6.528997115643644 Test loss: 6.540137654288562\n",
            "Epoch: 9 /100, Train loss: 6.54717236173817 Test loss: 6.5692153396939705\n",
            "Epoch: 10 /100, Train loss: 6.538271499486146 Test loss: 6.567246276119818\n",
            "Epoch: 11 /100, Train loss: 6.54246670073021 Test loss: 6.563851732024057\n",
            "Epoch: 12 /100, Train loss: 6.533758762225988 Test loss: 6.554083050110265\n",
            "Epoch: 13 /100, Train loss: 6.530083221833927 Test loss: 6.539327763124367\n",
            "Epoch: 14 /100, Train loss: 6.525609697121223 Test loss: 6.5392092039197545\n",
            "Epoch: 15 /100, Train loss: 6.522878593076079 Test loss: 6.5374428285203265\n",
            "Epoch: 16 /100, Train loss: 6.521094569106473 Test loss: 6.5351511339083475\n",
            "Epoch: 17 /100, Train loss: 6.529487865061532 Test loss: 6.55245451139589\n",
            "Epoch: 18 /100, Train loss: 6.529092898053131 Test loss: 6.536658149489303\n",
            "Epoch: 19 /100, Train loss: 6.52663822168348 Test loss: 6.544494360939697\n",
            "Epoch: 20 /100, Train loss: 6.54054573599419 Test loss: 6.5756210785570754\n",
            "Epoch: 21 /100, Train loss: 6.5331002227765 Test loss: 6.545983449365759\n",
            "Epoch: 22 /100, Train loss: 6.526044535458757 Test loss: 6.5450815072291775\n",
            "Epoch: 23 /100, Train loss: 6.52949716175892 Test loss: 6.548632584611432\n",
            "Epoch: 24 /100, Train loss: 6.52801664824103 Test loss: 6.551782981700715\n",
            "Epoch: 25 /100, Train loss: 6.523338921920724 Test loss: 6.538002174400785\n",
            "Epoch: 26 /100, Train loss: 6.5310790357803095 Test loss: 6.543855369155873\n",
            "Epoch: 27 /100, Train loss: 6.5318495407240365 Test loss: 6.537529507266699\n",
            "Epoch: 28 /100, Train loss: 6.53349146811069 Test loss: 6.557613483036575\n",
            "Epoch: 29 /100, Train loss: 6.522261784500118 Test loss: 6.538477990223327\n",
            "Epoch: 30 /100, Train loss: 6.5419904189743185 Test loss: 6.538028993816927\n",
            "Epoch: 31 /100, Train loss: 6.523979587617489 Test loss: 6.531174920690968\n",
            "Epoch: 32 /100, Train loss: 6.5279873377904565 Test loss: 6.532572451439167\n",
            "Epoch: 33 /100, Train loss: 6.5232941249293885 Test loss: 6.541332221202156\n",
            "Epoch: 34 /100, Train loss: 6.527620675449511 Test loss: 6.545856254270105\n",
            "Epoch: 35 /100, Train loss: 6.532540370123761 Test loss: 6.531860594742462\n",
            "Epoch: 36 /100, Train loss: 6.519828836597165 Test loss: 6.532103976322647\n",
            "Epoch: 37 /100, Train loss: 6.527011600608587 Test loss: 6.54125160573069\n",
            "Epoch: 38 /100, Train loss: 6.533822552734081 Test loss: 6.55128679300096\n",
            "Epoch: 39 /100, Train loss: 6.534132504847227 Test loss: 6.536730603364137\n",
            "Epoch: 40 /100, Train loss: 6.548063839264419 Test loss: 6.576298962026917\n",
            "Epoch: 41 /100, Train loss: 6.527626250207506 Test loss: 6.540235669258642\n",
            "Epoch: 42 /100, Train loss: 6.537590018883909 Test loss: 6.5556478473540825\n",
            "Epoch: 43 /100, Train loss: 6.540882281979414 Test loss: 6.570452723457364\n",
            "Epoch: 44 /100, Train loss: 6.527595905464852 Test loss: 6.544077519848997\n",
            "Epoch: 45 /100, Train loss: 6.537914483428523 Test loss: 6.560791940979847\n",
            "Epoch: 46 /100, Train loss: 6.524251993417334 Test loss: 6.5300958167369405\n",
            "Epoch: 47 /100, Train loss: 6.522288594692025 Test loss: 6.53865184991297\n",
            "Epoch: 48 /100, Train loss: 6.536899072811943 Test loss: 6.547919584616517\n",
            "Epoch: 49 /100, Train loss: 6.522947864135826 Test loss: 6.533373432335928\n",
            "Epoch: 50 /100, Train loss: 6.528512839086603 Test loss: 6.551755998517472\n",
            "Epoch: 51 /100, Train loss: 6.525786037789702 Test loss: 6.542691561961418\n",
            "Epoch: 52 /100, Train loss: 6.524787967154049 Test loss: 6.538893867924259\n",
            "Epoch: 53 /100, Train loss: 6.526341514397844 Test loss: 6.543759624331058\n",
            "Epoch: 54 /100, Train loss: 6.530575383925989 Test loss: 6.544867609954123\n",
            "Epoch: 55 /100, Train loss: 6.540633337397627 Test loss: 6.544529107423928\n",
            "Epoch: 56 /100, Train loss: 6.531877498767693 Test loss: 6.543297113808759\n",
            "Epoch: 57 /100, Train loss: 6.530976501492415 Test loss: 6.555701627711305\n",
            "Epoch: 58 /100, Train loss: 6.528047112332147 Test loss: 6.542797343086254\n",
            "Epoch: 59 /100, Train loss: 6.527402010864879 Test loss: 6.546775193164206\n",
            "Epoch: 60 /100, Train loss: 6.53029755259781 Test loss: 6.54183665730366\n",
            "Epoch: 61 /100, Train loss: 6.5273677080538 Test loss: 6.545805558685995\n",
            "Epoch: 62 /100, Train loss: 6.524598708403312 Test loss: 6.542301108120025\n",
            "Epoch: 63 /100, Train loss: 6.5388817596135045 Test loss: 6.570833457288614\n",
            "Epoch: 64 /100, Train loss: 6.542322047499502 Test loss: 6.553194014629963\n",
            "Epoch: 65 /100, Train loss: 6.53224385107469 Test loss: 6.547212487767245\n",
            "Epoch: 66 /100, Train loss: 6.53049627014937 Test loss: 6.544664955721368\n",
            "Epoch: 67 /100, Train loss: 6.528732579672613 Test loss: 6.5502662177360484\n",
            "Epoch: 68 /100, Train loss: 6.523203095445288 Test loss: 6.5394143099677065\n",
            "Epoch: 69 /100, Train loss: 6.533827016374098 Test loss: 6.559977864090232\n",
            "Epoch: 70 /100, Train loss: 6.523124517915377 Test loss: 6.541417604128188\n",
            "Epoch: 71 /100, Train loss: 6.5301168227713795 Test loss: 6.533688690436645\n",
            "Epoch: 72 /100, Train loss: 6.529094333913427 Test loss: 6.54677716831825\n",
            "Epoch: 73 /100, Train loss: 6.52565639244589 Test loss: 6.540700059221692\n",
            "Epoch: 74 /100, Train loss: 6.527934719417596 Test loss: 6.550533227073105\n",
            "Epoch: 75 /100, Train loss: 6.524485691342298 Test loss: 6.5386569931915695\n",
            "Epoch: 76 /100, Train loss: 6.528806070083058 Test loss: 6.540847515833671\n",
            "Epoch: 77 /100, Train loss: 6.5346719815281515 Test loss: 6.534831841597553\n",
            "Epoch: 78 /100, Train loss: 6.525861392347787 Test loss: 6.532838420174951\n",
            "Epoch: 79 /100, Train loss: 6.542003507492897 Test loss: 6.55935780079293\n",
            "Epoch: 80 /100, Train loss: 6.525247470257944 Test loss: 6.536464688523253\n",
            "Epoch: 81 /100, Train loss: 6.52983540939655 Test loss: 6.537141810931896\n",
            "Epoch: 82 /100, Train loss: 6.526631299145213 Test loss: 6.540055971590954\n",
            "Epoch: 83 /100, Train loss: 6.524606919477016 Test loss: 6.542726425276445\n",
            "Epoch: 84 /100, Train loss: 6.522081539875456 Test loss: 6.541642424831846\n",
            "Epoch: 85 /100, Train loss: 6.528699874202038 Test loss: 6.546551102311724\n",
            "Epoch: 86 /100, Train loss: 6.521460597602705 Test loss: 6.530023073417972\n",
            "Epoch: 87 /100, Train loss: 6.527421061892401 Test loss: 6.537851979769648\n",
            "Epoch: 88 /100, Train loss: 6.532529766119615 Test loss: 6.560793849091918\n",
            "Epoch: 89 /100, Train loss: 6.539455000985751 Test loss: 6.555836209723046\n",
            "Epoch: 90 /100, Train loss: 6.5399855507960885 Test loss: 6.556736148828517\n",
            "Epoch: 91 /100, Train loss: 6.528435301219859 Test loss: 6.5312704611471615\n",
            "Epoch: 92 /100, Train loss: 6.533392439053343 Test loss: 6.549533588633734\n",
            "Epoch: 93 /100, Train loss: 6.521280556342584 Test loss: 6.5302748469381875\n",
            "Epoch: 94 /100, Train loss: 6.530996408224951 Test loss: 6.553403801186369\n",
            "Epoch: 95 /100, Train loss: 6.529134994757685 Test loss: 6.545376119315526\n",
            "Epoch: 96 /100, Train loss: 6.529706773144486 Test loss: 6.541270312248875\n",
            "Epoch: 97 /100, Train loss: 6.528154859352554 Test loss: 6.537795051962671\n",
            "Epoch: 98 /100, Train loss: 6.524947439806594 Test loss: 6.542571005304407\n",
            "Epoch: 99 /100, Train loss: 6.543892339949635 Test loss: 6.54331822138646\n",
            "Epoch: 100 /100, Train loss: 6.537022912493241 Test loss: 6.546089203958292\n"
          ]
        },
        {
          "output_type": "display_data",
          "data": {
            "text/plain": [
              "<Figure size 432x288 with 1 Axes>"
            ],
            "image/png": "[encoded data removed]"
          },
          "metadata": {
            "needs_background": "light"
          }
        }
      ]
    },
    {
      "cell_type": "markdown",
      "source": [
        "##5. Count Regression\n",
        "\\begin{align*}\n",
        "y_{pred} &= e^{w^T X}\\\\\n",
        "L(y, y_{pred}) &= e^{-y_{pred}} y_{pred}^y / y!\\\\\n",
        "&= -\\sum_{i=1}^{n}(y_i log(y_{pred,i}) - y_{pred,i})\\\\\n",
        "\\end{align*}"
      ],
      "metadata": {
        "id": "nCdeXttIDv23"
      }
    },
    {
      "cell_type": "code",
      "source": [
        "def count_regression(X_train, y_train, X_test, y_test, batch_size=16, num_epochs=100, learning_rate=0.01, weight_decay_factor=0, loss_type='count', weight_decay_form='none', momentum=False, momentum_factor=0.9):\n",
        "    num_features = X_train.shape[1]\n",
        "    num_batches = int(np.ceil(len(X_train) / batch_size))\n",
        "    weight = np.random.normal(size=num_features)\n",
        "    m = 0\n",
        "    train_losses = []\n",
        "    test_losses = []\n",
        "\n",
        "    def forward(X, w):\n",
        "      # Clip X * w to avoid overflow in the exponential function\n",
        "      Xw = np.clip(np.dot(X, w), -1000, 500)\n",
        "      # Apply the exponential function and replace any resulting inf or nan values\n",
        "      y_pred = np.where(np.isinf(np.exp(Xw)), 1e10, np.exp(np.clip(Xw, -500, 500)))\n",
        "      return y_pred\n",
        "\n",
        "    def backward(X, error):\n",
        "        return np.dot(X.T, error)\n",
        "\n",
        "    def compute_gradient(X, y, y_pred, loss_type, w):\n",
        "      error = None\n",
        "      if loss_type == \"L2\":\n",
        "          error = 2*(y_pred - y)\n",
        "      elif loss_type == \"count\":\n",
        "          # Clip y_pred to avoid overflow\n",
        "          y_pred_clipped = np.clip(y_pred, -100, None)\n",
        "          error = np.exp(-y_pred_clipped) * (y_pred - y)\n",
        "      elif loss_type == \"cross-entropy\":\n",
        "          error = y_pred - y\n",
        "\n",
        "      gradient = backward(X, error)\n",
        "      if weight_decay_form == 'L2':\n",
        "          gradient += weight_decay_factor * w\n",
        "      elif weight_decay_form == 'L1':\n",
        "          gradient += weight_decay_factor * np.sign(w)\n",
        "\n",
        "      return gradient, error\n",
        "\n",
        "\n",
        "    def compute_loss(y, y_pred, loss_type):\n",
        "      if loss_type == \"L2\":\n",
        "          return np.mean(np.square(y - y_pred))\n",
        "      elif loss_type == \"count\":\n",
        "          # Clip y_pred to avoid overflow\n",
        "          y_pred_clipped = np.clip(y_pred, -100, None)\n",
        "          return np.mean(np.exp(-y_pred_clipped) * np.square(y - y_pred))\n",
        "      elif loss_type == \"cross-entropy\":\n",
        "          y_pred = np.clip(y_pred, 1e-15, 1 - 1e-15)  # clip predictions\n",
        "          return -np.mean(y * np.log(y_pred) + (1 - y) * np.log(1 - y_pred))\n",
        "      elif loss_type == 'L1':\n",
        "          return np.mean(np.abs(y - y_pred))\n",
        "      else:\n",
        "          raise ValueError(\"Invalid loss type: {}\".format(loss_type))\n",
        "\n",
        "    for epoch in range(num_epochs):\n",
        "        # Shuffle the data\n",
        "        perm = np.random.permutation(len(X_train))\n",
        "        X_train = X_train[perm]\n",
        "        y_train = y_train[perm]\n",
        "\n",
        "        # Mini-batch gradient descent\n",
        "        for i in range(num_batches):\n",
        "            start_idx = i * batch_size\n",
        "            end_idx = (i + 1) * batch_size\n",
        "            X_batch = X_train[start_idx:end_idx]\n",
        "            y_batch = y_train[start_idx:end_idx]\n",
        "\n",
        "            y_pred = forward(X_batch, weight)\n",
        "            gradient, error = compute_gradient(X_batch, y_batch, y_pred, loss_type, weight)\n",
        "\n",
        "            if momentum:\n",
        "                m = momentum_factor * m + (1 - momentum_factor) * gradient\n",
        "                weight -= learning_rate * m\n",
        "            else:\n",
        "                weight -= learning_rate * gradient\n",
        "\n",
        "        # Compute train and test losses\n",
        "        y_train_pred = forward(X_train, weight)\n",
        "        train_loss = compute_loss(y_train, y_train_pred, loss_type)\n",
        "        train_losses.append(train_loss)\n",
        "\n",
        "        y_test_pred = forward(X_test, weight)\n",
        "        test_loss = compute_loss(y_test, y_test_pred, loss_type)\n",
        "        test_losses.append(test_loss)\n",
        "\n",
        "        print(\"Epoch:\", epoch+1, \"/100, Train loss:\", train_loss, \"Test loss:\", test_loss)\n",
        "\n",
        "        # Check if the test loss has stopped decreasing\n",
        "        # if len(test_losses) >= 2 and test_losses[-1] >= test_losses[-2]:\n",
        "        #     print(\"Test loss has stopped decreasing. Stopping training.\")\n",
        "        #     break\n",
        "\n",
        "    return weight, train_losses, test_losses"
      ],
      "metadata": {
        "id": "cNIIYX9ZDrWg"
      },
      "execution_count": 18,
      "outputs": []
    },
    {
      "cell_type": "code",
      "source": [
        "w, train_loss, test_loss= count_regression(train_x, train_y, test_x, test_y, batch_size=100, num_epochs=100, learning_rate=0.001, weight_decay_factor=0.00001, loss_type='L2', weight_decay_form='L2', momentum=False, momentum_factor=0.9)"
      ],
      "metadata": {
        "colab": {
          "base_uri": "https://localhost:8080/"
        },
        "id": "QxuLKLGkG1m3",
        "outputId": "16fda192-2d9e-4961-e074-4f42f69e8dfb"
      },
      "execution_count": 34,
      "outputs": [
        {
          "output_type": "stream",
          "name": "stderr",
          "text": [
            "<ipython-input-18-7241cbdda681>:41: RuntimeWarning: overflow encountered in square\n",
            "  return np.mean(np.square(y - y_pred))\n"
          ]
        },
        {
          "output_type": "stream",
          "name": "stdout",
          "text": [
            "Epoch: 1 /100, Train loss: inf Test loss: 3994103.717282253\n",
            "Epoch: 2 /100, Train loss: inf Test loss: 3994103.717282253\n",
            "Epoch: 3 /100, Train loss: 3993666.588416567 Test loss: 3994103.717282253\n",
            "Epoch: 4 /100, Train loss: 3993666.588416567 Test loss: 3994103.717282253\n",
            "Epoch: 5 /100, Train loss: 3993666.588416567 Test loss: 3994103.717282253\n",
            "Epoch: 6 /100, Train loss: 3993666.588416567 Test loss: 3994103.717282253\n",
            "Epoch: 7 /100, Train loss: 3993666.588416567 Test loss: 3994103.717282253\n",
            "Epoch: 8 /100, Train loss: 3993666.588416567 Test loss: 3994103.717282253\n",
            "Epoch: 9 /100, Train loss: 3993666.588416567 Test loss: 3994103.717282253\n",
            "Epoch: 10 /100, Train loss: 3993666.588416567 Test loss: 3994103.717282253\n",
            "Epoch: 11 /100, Train loss: 3993666.588416567 Test loss: 3994103.717282253\n",
            "Epoch: 12 /100, Train loss: 3993666.588416567 Test loss: 3994103.717282253\n",
            "Epoch: 13 /100, Train loss: 3993666.588416567 Test loss: 3994103.717282253\n",
            "Epoch: 14 /100, Train loss: 3993666.588416567 Test loss: 3994103.717282253\n",
            "Epoch: 15 /100, Train loss: 3993666.588416567 Test loss: 3994103.717282253\n",
            "Epoch: 16 /100, Train loss: 3993666.588416567 Test loss: 3994103.717282253\n",
            "Epoch: 17 /100, Train loss: 3993666.588416567 Test loss: 3994103.717282253\n",
            "Epoch: 18 /100, Train loss: 3993666.588416567 Test loss: 3994103.717282253\n",
            "Epoch: 19 /100, Train loss: 3993666.588416567 Test loss: 3994103.717282253\n",
            "Epoch: 20 /100, Train loss: 3993666.588416567 Test loss: 3994103.717282253\n",
            "Epoch: 21 /100, Train loss: 3993666.588416567 Test loss: 3994103.717282253\n",
            "Epoch: 22 /100, Train loss: 3993666.588416567 Test loss: 3994103.717282253\n",
            "Epoch: 23 /100, Train loss: 3993666.588416567 Test loss: 3994103.717282253\n",
            "Epoch: 24 /100, Train loss: 3993666.588416567 Test loss: 3994103.717282253\n",
            "Epoch: 25 /100, Train loss: 3993666.588416567 Test loss: 3994103.717282253\n",
            "Epoch: 26 /100, Train loss: 3993666.588416567 Test loss: 3994103.717282253\n",
            "Epoch: 27 /100, Train loss: 3993666.588416567 Test loss: 3994103.717282253\n",
            "Epoch: 28 /100, Train loss: 3993666.588416567 Test loss: 3994103.717282253\n",
            "Epoch: 29 /100, Train loss: 3993666.588416567 Test loss: 3994103.717282253\n",
            "Epoch: 30 /100, Train loss: 3993666.588416567 Test loss: 3994103.717282253\n",
            "Epoch: 31 /100, Train loss: 3993666.588416567 Test loss: 3994103.717282253\n",
            "Epoch: 32 /100, Train loss: 3993666.588416567 Test loss: 3994103.717282253\n",
            "Epoch: 33 /100, Train loss: 3993666.588416567 Test loss: 3994103.717282253\n",
            "Epoch: 34 /100, Train loss: 3993666.588416567 Test loss: 3994103.717282253\n",
            "Epoch: 35 /100, Train loss: 3993666.588416567 Test loss: 3994103.717282253\n",
            "Epoch: 36 /100, Train loss: 3993666.588416567 Test loss: 3994103.717282253\n",
            "Epoch: 37 /100, Train loss: 3993666.588416567 Test loss: 3994103.717282253\n",
            "Epoch: 38 /100, Train loss: 3993666.588416567 Test loss: 3994103.717282253\n",
            "Epoch: 39 /100, Train loss: 3993666.588416567 Test loss: 3994103.717282253\n",
            "Epoch: 40 /100, Train loss: 3993666.588416567 Test loss: 3994103.717282253\n",
            "Epoch: 41 /100, Train loss: 3993666.588416567 Test loss: 3994103.717282253\n",
            "Epoch: 42 /100, Train loss: 3993666.588416567 Test loss: 3994103.717282253\n",
            "Epoch: 43 /100, Train loss: 3993666.588416567 Test loss: 3994103.717282253\n",
            "Epoch: 44 /100, Train loss: 3993666.588416567 Test loss: 3994103.717282253\n",
            "Epoch: 45 /100, Train loss: 3993666.588416567 Test loss: 3994103.717282253\n",
            "Epoch: 46 /100, Train loss: 3993666.588416567 Test loss: 3994103.717282253\n",
            "Epoch: 47 /100, Train loss: 3993666.588416567 Test loss: 3994103.717282253\n",
            "Epoch: 48 /100, Train loss: 3993666.588416567 Test loss: 3994103.717282253\n",
            "Epoch: 49 /100, Train loss: 3993666.588416567 Test loss: 3994103.717282253\n",
            "Epoch: 50 /100, Train loss: 3993666.588416567 Test loss: 3994103.717282253\n",
            "Epoch: 51 /100, Train loss: 3993666.588416567 Test loss: 3994103.717282253\n",
            "Epoch: 52 /100, Train loss: 3993666.588416567 Test loss: 3994103.717282253\n",
            "Epoch: 53 /100, Train loss: 3993666.588416567 Test loss: 3994103.717282253\n",
            "Epoch: 54 /100, Train loss: 3993666.588416567 Test loss: 3994103.717282253\n",
            "Epoch: 55 /100, Train loss: 3993666.588416567 Test loss: 3994103.717282253\n",
            "Epoch: 56 /100, Train loss: 3993666.588416567 Test loss: 3994103.717282253\n",
            "Epoch: 57 /100, Train loss: 3993666.588416567 Test loss: 3994103.717282253\n",
            "Epoch: 58 /100, Train loss: 3993666.588416567 Test loss: 3994103.717282253\n",
            "Epoch: 59 /100, Train loss: 3993666.588416567 Test loss: 3994103.717282253\n",
            "Epoch: 60 /100, Train loss: 3993666.588416567 Test loss: 3994103.717282253\n",
            "Epoch: 61 /100, Train loss: 3993666.588416567 Test loss: 3994103.717282253\n",
            "Epoch: 62 /100, Train loss: 3993666.588416567 Test loss: 3994103.717282253\n",
            "Epoch: 63 /100, Train loss: 3993666.588416567 Test loss: 3994103.717282253\n",
            "Epoch: 64 /100, Train loss: 3993666.588416567 Test loss: 3994103.717282253\n",
            "Epoch: 65 /100, Train loss: 3993666.588416567 Test loss: 3994103.717282253\n",
            "Epoch: 66 /100, Train loss: 3993666.588416567 Test loss: 3994103.717282253\n",
            "Epoch: 67 /100, Train loss: 3993666.588416567 Test loss: 3994103.717282253\n",
            "Epoch: 68 /100, Train loss: 3993666.588416567 Test loss: 3994103.717282253\n",
            "Epoch: 69 /100, Train loss: 3993666.588416567 Test loss: 3994103.717282253\n",
            "Epoch: 70 /100, Train loss: 3993666.588416567 Test loss: 3994103.717282253\n",
            "Epoch: 71 /100, Train loss: 3993666.588416567 Test loss: 3994103.717282253\n",
            "Epoch: 72 /100, Train loss: 3993666.588416567 Test loss: 3994103.717282253\n",
            "Epoch: 73 /100, Train loss: 3993666.588416567 Test loss: 3994103.717282253\n",
            "Epoch: 74 /100, Train loss: 3993666.588416567 Test loss: 3994103.717282253\n",
            "Epoch: 75 /100, Train loss: 3993666.588416567 Test loss: 3994103.717282253\n",
            "Epoch: 76 /100, Train loss: 3993666.588416567 Test loss: 3994103.717282253\n",
            "Epoch: 77 /100, Train loss: 3993666.588416567 Test loss: 3994103.717282253\n",
            "Epoch: 78 /100, Train loss: 3993666.588416567 Test loss: 3994103.717282253\n",
            "Epoch: 79 /100, Train loss: 3993666.588416567 Test loss: 3994103.717282253\n",
            "Epoch: 80 /100, Train loss: 3993666.588416567 Test loss: 3994103.717282253\n",
            "Epoch: 81 /100, Train loss: 3993666.588416567 Test loss: 3994103.717282253\n",
            "Epoch: 82 /100, Train loss: 3993666.588416567 Test loss: 3994103.717282253\n",
            "Epoch: 83 /100, Train loss: 3993666.588416567 Test loss: 3994103.717282253\n",
            "Epoch: 84 /100, Train loss: 3993666.588416567 Test loss: 3994103.717282253\n",
            "Epoch: 85 /100, Train loss: 3993666.588416567 Test loss: 3994103.717282253\n",
            "Epoch: 86 /100, Train loss: 3993666.588416567 Test loss: 3994103.717282253\n",
            "Epoch: 87 /100, Train loss: 3993666.588416567 Test loss: 3994103.717282253\n",
            "Epoch: 88 /100, Train loss: 3993666.588416567 Test loss: 3994103.717282253\n",
            "Epoch: 89 /100, Train loss: 3993666.588416567 Test loss: 3994103.717282253\n",
            "Epoch: 90 /100, Train loss: 3993666.588416567 Test loss: 3994103.717282253\n",
            "Epoch: 91 /100, Train loss: 3993666.588416567 Test loss: 3994103.717282253\n",
            "Epoch: 92 /100, Train loss: 3993666.588416567 Test loss: 3994103.717282253\n",
            "Epoch: 93 /100, Train loss: 3993666.588416567 Test loss: 3994103.717282253\n",
            "Epoch: 94 /100, Train loss: 3993666.588416567 Test loss: 3994103.717282253\n",
            "Epoch: 95 /100, Train loss: 3993666.588416567 Test loss: 3994103.717282253\n",
            "Epoch: 96 /100, Train loss: 3993666.588416567 Test loss: 3994103.717282253\n",
            "Epoch: 97 /100, Train loss: 3993666.588416567 Test loss: 3994103.717282253\n",
            "Epoch: 98 /100, Train loss: 3993666.588416567 Test loss: 3994103.717282253\n",
            "Epoch: 99 /100, Train loss: 3993666.588416567 Test loss: 3994103.717282253\n",
            "Epoch: 100 /100, Train loss: 3993666.588416567 Test loss: 3994103.717282253\n"
          ]
        }
      ]
    },
    {
      "cell_type": "markdown",
      "source": [
        "##6. Model comparison\n"
      ],
      "metadata": {
        "id": "m0zHKAuX2wv8"
      }
    },
    {
      "cell_type": "code",
      "source": [
        "# fig, ax = plt.subplots(figsize=(8, 6))\n",
        "plt.hist(w_ridge, alpha=0.5, label='Ridge')\n",
        "plt.xlabel('Weight Value')\n",
        "plt.ylabel('Frequency')\n",
        "plt.title('Histogram of Weights - Ridge')\n",
        "plt.show()"
      ],
      "metadata": {
        "colab": {
          "base_uri": "https://localhost:8080/",
          "height": 295
        },
        "id": "iYbX4Db7jqkq",
        "outputId": "0f04946f-3c5d-469f-bbef-b936c62422c5"
      },
      "execution_count": 20,
      "outputs": [
        {
          "output_type": "display_data",
          "data": {
            "text/plain": [
              "<Figure size 432x288 with 1 Axes>"
            ],
            "image/png": "[encoded data removed]"
          },
          "metadata": {
            "needs_background": "light"
          }
        }
      ]
    },
    {
      "cell_type": "code",
      "source": [
        "plt.hist(w_lasso, alpha=0.5, label='Lasso')\n",
        "plt.xlabel('Weight Value')\n",
        "plt.ylabel('Frequency')\n",
        "plt.title('Histogram of Weights - Lasso')\n",
        "plt.show()"
      ],
      "metadata": {
        "colab": {
          "base_uri": "https://localhost:8080/",
          "height": 295
        },
        "id": "kyqJJoVMEXKx",
        "outputId": "6366ecca-48e4-4aa1-a66c-215a67875214"
      },
      "execution_count": 21,
      "outputs": [
        {
          "output_type": "display_data",
          "data": {
            "text/plain": [
              "<Figure size 432x288 with 1 Axes>"
            ],
            "image/png": "[encoded data removed]"
          },
          "metadata": {
            "needs_background": "light"
          }
        }
      ]
    },
    {
      "cell_type": "markdown",
      "source": [
        "**Plot a histogram of the weights for the ridge, lasso, and count regression models. Discuss\n",
        "how the weights differ**\n",
        "\n",
        "For Ridge and Lasso regression, the weight is quite similar. It means that the penalty term applied is not really significant to the model.\n",
        "\n",
        "Lasso regression gives significantly lower loss. It's important to note that Lasso is better at handling multicollinearity by performing feature selection and shrinking the cofficient towards zero and more effective in handling outliers. This might indicates our data has high sparsity or multicollinearity which resulting in Lasso performs better than Ridge.  However, since the weights are similar, it means that both Ridge and Lasso are able to capture relationships between the attributes and target varible."
      ],
      "metadata": {
        "id": "h8iRKY2fo7gS"
      }
    },
    {
      "cell_type": "markdown",
      "source": [
        "**Discuss and compare the behaviors of the models. Are there certain periods (ranges of\n",
        "years) in which models perform better than others? Where are the largest errors across\n",
        "models. Did regularization help for some models but not others?**\n"
      ],
      "metadata": {
        "id": "AGiCpk5-u0Tx"
      }
    },
    {
      "cell_type": "code",
      "source": [
        "#Evaluate model L2\n",
        "periods = [(1920, 1940), (1940, 1960), (1960, 1980), (1980, 2000), (2000, 2020)]\n",
        "\n",
        "for period in periods:\n",
        "    train_mask = (train_y >= period[0]) & (train_y < period[1])\n",
        "    test_mask = (test_y >= period[1]) & (test_y < period[1]+20)\n",
        "    train_x_period, train_y_period = train_x[train_mask], train_y[train_mask]\n",
        "    test_x_period, test_y_period = test_x[test_mask], test_y[test_mask]\n",
        "\n",
        "    # Train the model using mini-batch gradient descent\n",
        "    weight, train_losses, test_losses = mini_batch_gradient_descent(train_x_period, train_y_period, test_x_period, test_y_period, num_epochs=100, learning_rate=0.01, weight_decay_factor=0.001, loss_type='L2', weight_decay_form='L2')\n",
        "    \n",
        "    # Evaluate the performance of the model on the test set for the period\n",
        "    y_pred = np.dot(test_x_period, weight)\n",
        "    mse = np.mean(np.square(test_y_period - y_pred))\n",
        "    print(\"Period:\", period, \"MSE:\", mse)"
      ],
      "metadata": {
        "colab": {
          "base_uri": "https://localhost:8080/"
        },
        "id": "7qZdHQWqvktT",
        "outputId": "1cddfe2b-d925-4f19-f055-f4ff62b2ce6f"
      },
      "execution_count": 22,
      "outputs": [
        {
          "output_type": "stream",
          "name": "stdout",
          "text": [
            "Epoch: 1 /100, Train loss: 1.0806880635945908e+53 Test loss: 3.3620973560903164e+52\n",
            "Epoch: 2 /100, Train loss: 5.572774082104964e+99 Test loss: 2.023442086267047e+99\n",
            "Epoch: 3 /100, Train loss: 3.842015251773834e+146 Test loss: 1.1776061027864826e+146\n",
            "Epoch: 4 /100, Train loss: 1.4669672352683083e+193 Test loss: 4.3995164550220685e+192\n",
            "Epoch: 5 /100, Train loss: 8.772725589367055e+239 Test loss: 5.095432392338026e+239\n",
            "Epoch: 6 /100, Train loss: 2.6135419726751668e+286 Test loss: 7.623370953195097e+285\n",
            "Epoch: 7 /100, Train loss: inf Test loss: inf\n",
            "Epoch: 8 /100, Train loss: inf Test loss: inf\n",
            "Epoch: 9 /100, Train loss: inf Test loss: inf\n",
            "Epoch: 10 /100, Train loss: inf Test loss: inf\n",
            "Epoch: 11 /100, Train loss: inf Test loss: inf\n",
            "Epoch: 12 /100, Train loss: inf Test loss: inf\n",
            "Epoch: 13 /100, Train loss: inf Test loss: inf\n",
            "Epoch: 14 /100, Train loss: nan Test loss: nan\n",
            "Epoch: 15 /100, Train loss: nan Test loss: nan\n",
            "Epoch: 16 /100, Train loss: nan Test loss: nan\n",
            "Epoch: 17 /100, Train loss: nan Test loss: nan\n",
            "Epoch: 18 /100, Train loss: nan Test loss: nan\n",
            "Epoch: 19 /100, Train loss: nan Test loss: nan\n",
            "Epoch: 20 /100, Train loss: nan Test loss: nan\n",
            "Epoch: 21 /100, Train loss: nan Test loss: nan\n",
            "Epoch: 22 /100, Train loss: nan Test loss: nan\n",
            "Epoch: 23 /100, Train loss: nan Test loss: nan\n",
            "Epoch: 24 /100, Train loss: nan Test loss: nan\n",
            "Epoch: 25 /100, Train loss: nan Test loss: nan\n",
            "Epoch: 26 /100, Train loss: nan Test loss: nan\n",
            "Epoch: 27 /100, Train loss: nan Test loss: nan\n",
            "Epoch: 28 /100, Train loss: nan Test loss: nan\n",
            "Epoch: 29 /100, Train loss: nan Test loss: nan\n",
            "Epoch: 30 /100, Train loss: nan Test loss: nan\n",
            "Epoch: 31 /100, Train loss: nan Test loss: nan\n",
            "Epoch: 32 /100, Train loss: nan Test loss: nan\n",
            "Epoch: 33 /100, Train loss: nan Test loss: nan\n",
            "Epoch: 34 /100, Train loss: nan Test loss: nan\n",
            "Epoch: 35 /100, Train loss: nan Test loss: nan\n",
            "Epoch: 36 /100, Train loss: nan Test loss: nan\n",
            "Epoch: 37 /100, Train loss: nan Test loss: nan\n",
            "Epoch: 38 /100, Train loss: nan Test loss: nan\n",
            "Epoch: 39 /100, Train loss: nan Test loss: nan\n",
            "Epoch: 40 /100, Train loss: nan Test loss: nan\n",
            "Epoch: 41 /100, Train loss: nan Test loss: nan\n",
            "Epoch: 42 /100, Train loss: nan Test loss: nan\n",
            "Epoch: 43 /100, Train loss: nan Test loss: nan\n",
            "Epoch: 44 /100, Train loss: nan Test loss: nan\n",
            "Epoch: 45 /100, Train loss: nan Test loss: nan\n",
            "Epoch: 46 /100, Train loss: nan Test loss: nan\n",
            "Epoch: 47 /100, Train loss: nan Test loss: nan\n",
            "Epoch: 48 /100, Train loss: nan Test loss: nan\n",
            "Epoch: 49 /100, Train loss: nan Test loss: nan\n",
            "Epoch: 50 /100, Train loss: nan Test loss: nan\n",
            "Epoch: 51 /100, Train loss: nan Test loss: nan\n",
            "Epoch: 52 /100, Train loss: nan Test loss: nan\n",
            "Epoch: 53 /100, Train loss: nan Test loss: nan\n",
            "Epoch: 54 /100, Train loss: nan Test loss: nan\n",
            "Epoch: 55 /100, Train loss: nan Test loss: nan\n",
            "Epoch: 56 /100, Train loss: nan Test loss: nan\n",
            "Epoch: 57 /100, Train loss: nan Test loss: nan\n",
            "Epoch: 58 /100, Train loss: nan Test loss: nan\n",
            "Epoch: 59 /100, Train loss: nan Test loss: nan\n",
            "Epoch: 60 /100, Train loss: nan Test loss: nan\n",
            "Epoch: 61 /100, Train loss: nan Test loss: nan\n",
            "Epoch: 62 /100, Train loss: nan Test loss: nan\n",
            "Epoch: 63 /100, Train loss: nan Test loss: nan\n",
            "Epoch: 64 /100, Train loss: nan Test loss: nan\n",
            "Epoch: 65 /100, Train loss: nan Test loss: nan\n",
            "Epoch: 66 /100, Train loss: nan Test loss: nan\n",
            "Epoch: 67 /100, Train loss: nan Test loss: nan\n",
            "Epoch: 68 /100, Train loss: nan Test loss: nan\n",
            "Epoch: 69 /100, Train loss: nan Test loss: nan\n",
            "Epoch: 70 /100, Train loss: nan Test loss: nan\n",
            "Epoch: 71 /100, Train loss: nan Test loss: nan\n",
            "Epoch: 72 /100, Train loss: nan Test loss: nan\n",
            "Epoch: 73 /100, Train loss: nan Test loss: nan\n",
            "Epoch: 74 /100, Train loss: nan Test loss: nan\n",
            "Epoch: 75 /100, Train loss: nan Test loss: nan\n",
            "Epoch: 76 /100, Train loss: nan Test loss: nan\n",
            "Epoch: 77 /100, Train loss: nan Test loss: nan\n",
            "Epoch: 78 /100, Train loss: nan Test loss: nan\n",
            "Epoch: 79 /100, Train loss: nan Test loss: nan\n",
            "Epoch: 80 /100, Train loss: nan Test loss: nan\n",
            "Epoch: 81 /100, Train loss: nan Test loss: nan\n",
            "Epoch: 82 /100, Train loss: nan Test loss: nan\n",
            "Epoch: 83 /100, Train loss: nan Test loss: nan\n",
            "Epoch: 84 /100, Train loss: nan Test loss: nan\n",
            "Epoch: 85 /100, Train loss: nan Test loss: nan\n",
            "Epoch: 86 /100, Train loss: nan Test loss: nan\n",
            "Epoch: 87 /100, Train loss: nan Test loss: nan\n",
            "Epoch: 88 /100, Train loss: nan Test loss: nan\n",
            "Epoch: 89 /100, Train loss: nan Test loss: nan\n",
            "Epoch: 90 /100, Train loss: nan Test loss: nan\n",
            "Epoch: 91 /100, Train loss: nan Test loss: nan\n",
            "Epoch: 92 /100, Train loss: nan Test loss: nan\n",
            "Epoch: 93 /100, Train loss: nan Test loss: nan\n",
            "Epoch: 94 /100, Train loss: nan Test loss: nan\n",
            "Epoch: 95 /100, Train loss: nan Test loss: nan\n",
            "Epoch: 96 /100, Train loss: nan Test loss: nan\n",
            "Epoch: 97 /100, Train loss: nan Test loss: nan\n",
            "Epoch: 98 /100, Train loss: nan Test loss: nan\n",
            "Epoch: 99 /100, Train loss: nan Test loss: nan\n",
            "Epoch: 100 /100, Train loss: nan Test loss: nan\n",
            "Period: (1920, 1940) MSE: nan\n"
          ]
        },
        {
          "output_type": "stream",
          "name": "stderr",
          "text": [
            "<ipython-input-12-c850454e92f8>:34: RuntimeWarning: overflow encountered in square\n",
            "  return np.mean(np.square(y - y_pred))\n"
          ]
        },
        {
          "output_type": "stream",
          "name": "stdout",
          "text": [
            "Epoch: 1 /100, Train loss: 4.286514221900692e+239 Test loss: 1.253730482765611e+239\n",
            "Epoch: 2 /100, Train loss: inf Test loss: inf\n",
            "Epoch: 3 /100, Train loss: nan Test loss: nan\n",
            "Epoch: 4 /100, Train loss: nan Test loss: nan\n",
            "Epoch: 5 /100, Train loss: nan Test loss: nan\n",
            "Epoch: 6 /100, Train loss: nan Test loss: nan\n",
            "Epoch: 7 /100, Train loss: nan Test loss: nan\n",
            "Epoch: 8 /100, Train loss: nan Test loss: nan\n",
            "Epoch: 9 /100, Train loss: nan Test loss: nan\n",
            "Epoch: 10 /100, Train loss: nan Test loss: nan\n",
            "Epoch: 11 /100, Train loss: nan Test loss: nan\n",
            "Epoch: 12 /100, Train loss: nan Test loss: nan\n",
            "Epoch: 13 /100, Train loss: nan Test loss: nan\n",
            "Epoch: 14 /100, Train loss: nan Test loss: nan\n",
            "Epoch: 15 /100, Train loss: nan Test loss: nan\n",
            "Epoch: 16 /100, Train loss: nan Test loss: nan\n",
            "Epoch: 17 /100, Train loss: nan Test loss: nan\n",
            "Epoch: 18 /100, Train loss: nan Test loss: nan\n",
            "Epoch: 19 /100, Train loss: nan Test loss: nan\n",
            "Epoch: 20 /100, Train loss: nan Test loss: nan\n",
            "Epoch: 21 /100, Train loss: nan Test loss: nan\n",
            "Epoch: 22 /100, Train loss: nan Test loss: nan\n",
            "Epoch: 23 /100, Train loss: nan Test loss: nan\n",
            "Epoch: 24 /100, Train loss: nan Test loss: nan\n",
            "Epoch: 25 /100, Train loss: nan Test loss: nan\n",
            "Epoch: 26 /100, Train loss: nan Test loss: nan\n",
            "Epoch: 27 /100, Train loss: nan Test loss: nan\n",
            "Epoch: 28 /100, Train loss: nan Test loss: nan\n",
            "Epoch: 29 /100, Train loss: nan Test loss: nan\n",
            "Epoch: 30 /100, Train loss: nan Test loss: nan\n",
            "Epoch: 31 /100, Train loss: nan Test loss: nan\n",
            "Epoch: 32 /100, Train loss: nan Test loss: nan\n",
            "Epoch: 33 /100, Train loss: nan Test loss: nan\n",
            "Epoch: 34 /100, Train loss: nan Test loss: nan\n",
            "Epoch: 35 /100, Train loss: nan Test loss: nan\n",
            "Epoch: 36 /100, Train loss: nan Test loss: nan\n",
            "Epoch: 37 /100, Train loss: nan Test loss: nan\n",
            "Epoch: 38 /100, Train loss: nan Test loss: nan\n",
            "Epoch: 39 /100, Train loss: nan Test loss: nan\n",
            "Epoch: 40 /100, Train loss: nan Test loss: nan\n",
            "Epoch: 41 /100, Train loss: nan Test loss: nan\n",
            "Epoch: 42 /100, Train loss: nan Test loss: nan\n",
            "Epoch: 43 /100, Train loss: nan Test loss: nan\n",
            "Epoch: 44 /100, Train loss: nan Test loss: nan\n",
            "Epoch: 45 /100, Train loss: nan Test loss: nan\n",
            "Epoch: 46 /100, Train loss: nan Test loss: nan\n",
            "Epoch: 47 /100, Train loss: nan Test loss: nan\n",
            "Epoch: 48 /100, Train loss: nan Test loss: nan\n",
            "Epoch: 49 /100, Train loss: nan Test loss: nan\n",
            "Epoch: 50 /100, Train loss: nan Test loss: nan\n",
            "Epoch: 51 /100, Train loss: nan Test loss: nan\n",
            "Epoch: 52 /100, Train loss: nan Test loss: nan\n",
            "Epoch: 53 /100, Train loss: nan Test loss: nan\n",
            "Epoch: 54 /100, Train loss: nan Test loss: nan\n",
            "Epoch: 55 /100, Train loss: nan Test loss: nan\n",
            "Epoch: 56 /100, Train loss: nan Test loss: nan\n",
            "Epoch: 57 /100, Train loss: nan Test loss: nan\n",
            "Epoch: 58 /100, Train loss: nan Test loss: nan\n",
            "Epoch: 59 /100, Train loss: nan Test loss: nan\n",
            "Epoch: 60 /100, Train loss: nan Test loss: nan\n",
            "Epoch: 61 /100, Train loss: nan Test loss: nan\n",
            "Epoch: 62 /100, Train loss: nan Test loss: nan\n",
            "Epoch: 63 /100, Train loss: nan Test loss: nan\n",
            "Epoch: 64 /100, Train loss: nan Test loss: nan\n",
            "Epoch: 65 /100, Train loss: nan Test loss: nan\n",
            "Epoch: 66 /100, Train loss: nan Test loss: nan\n",
            "Epoch: 67 /100, Train loss: nan Test loss: nan\n",
            "Epoch: 68 /100, Train loss: nan Test loss: nan\n",
            "Epoch: 69 /100, Train loss: nan Test loss: nan\n",
            "Epoch: 70 /100, Train loss: nan Test loss: nan\n",
            "Epoch: 71 /100, Train loss: nan Test loss: nan\n",
            "Epoch: 72 /100, Train loss: nan Test loss: nan\n",
            "Epoch: 73 /100, Train loss: nan Test loss: nan\n",
            "Epoch: 74 /100, Train loss: nan Test loss: nan\n",
            "Epoch: 75 /100, Train loss: nan Test loss: nan\n",
            "Epoch: 76 /100, Train loss: nan Test loss: nan\n",
            "Epoch: 77 /100, Train loss: nan Test loss: nan\n",
            "Epoch: 78 /100, Train loss: nan Test loss: nan\n",
            "Epoch: 79 /100, Train loss: nan Test loss: nan\n",
            "Epoch: 80 /100, Train loss: nan Test loss: nan\n",
            "Epoch: 81 /100, Train loss: nan Test loss: nan\n",
            "Epoch: 82 /100, Train loss: nan Test loss: nan\n",
            "Epoch: 83 /100, Train loss: nan Test loss: nan\n",
            "Epoch: 84 /100, Train loss: nan Test loss: nan\n",
            "Epoch: 85 /100, Train loss: nan Test loss: nan\n",
            "Epoch: 86 /100, Train loss: nan Test loss: nan\n",
            "Epoch: 87 /100, Train loss: nan Test loss: nan\n",
            "Epoch: 88 /100, Train loss: nan Test loss: nan\n",
            "Epoch: 89 /100, Train loss: nan Test loss: nan\n",
            "Epoch: 90 /100, Train loss: nan Test loss: nan\n",
            "Epoch: 91 /100, Train loss: nan Test loss: nan\n",
            "Epoch: 92 /100, Train loss: nan Test loss: nan\n",
            "Epoch: 93 /100, Train loss: nan Test loss: nan\n",
            "Epoch: 94 /100, Train loss: nan Test loss: nan\n",
            "Epoch: 95 /100, Train loss: nan Test loss: nan\n",
            "Epoch: 96 /100, Train loss: nan Test loss: nan\n",
            "Epoch: 97 /100, Train loss: nan Test loss: nan\n",
            "Epoch: 98 /100, Train loss: nan Test loss: nan\n",
            "Epoch: 99 /100, Train loss: nan Test loss: nan\n",
            "Epoch: 100 /100, Train loss: nan Test loss: nan\n",
            "Period: (1940, 1960) MSE: nan\n",
            "Epoch: 1 /100, Train loss: nan Test loss: nan\n",
            "Epoch: 2 /100, Train loss: nan Test loss: nan\n",
            "Epoch: 3 /100, Train loss: nan Test loss: nan\n",
            "Epoch: 4 /100, Train loss: nan Test loss: nan\n",
            "Epoch: 5 /100, Train loss: nan Test loss: nan\n",
            "Epoch: 6 /100, Train loss: nan Test loss: nan\n",
            "Epoch: 7 /100, Train loss: nan Test loss: nan\n",
            "Epoch: 8 /100, Train loss: nan Test loss: nan\n",
            "Epoch: 9 /100, Train loss: nan Test loss: nan\n",
            "Epoch: 10 /100, Train loss: nan Test loss: nan\n",
            "Epoch: 11 /100, Train loss: nan Test loss: nan\n",
            "Epoch: 12 /100, Train loss: nan Test loss: nan\n",
            "Epoch: 13 /100, Train loss: nan Test loss: nan\n",
            "Epoch: 14 /100, Train loss: nan Test loss: nan\n",
            "Epoch: 15 /100, Train loss: nan Test loss: nan\n",
            "Epoch: 16 /100, Train loss: nan Test loss: nan\n",
            "Epoch: 17 /100, Train loss: nan Test loss: nan\n",
            "Epoch: 18 /100, Train loss: nan Test loss: nan\n",
            "Epoch: 19 /100, Train loss: nan Test loss: nan\n",
            "Epoch: 20 /100, Train loss: nan Test loss: nan\n",
            "Epoch: 21 /100, Train loss: nan Test loss: nan\n",
            "Epoch: 22 /100, Train loss: nan Test loss: nan\n",
            "Epoch: 23 /100, Train loss: nan Test loss: nan\n",
            "Epoch: 24 /100, Train loss: nan Test loss: nan\n",
            "Epoch: 25 /100, Train loss: nan Test loss: nan\n",
            "Epoch: 26 /100, Train loss: nan Test loss: nan\n",
            "Epoch: 27 /100, Train loss: nan Test loss: nan\n",
            "Epoch: 28 /100, Train loss: nan Test loss: nan\n",
            "Epoch: 29 /100, Train loss: nan Test loss: nan\n",
            "Epoch: 30 /100, Train loss: nan Test loss: nan\n",
            "Epoch: 31 /100, Train loss: nan Test loss: nan\n",
            "Epoch: 32 /100, Train loss: nan Test loss: nan\n",
            "Epoch: 33 /100, Train loss: nan Test loss: nan\n",
            "Epoch: 34 /100, Train loss: nan Test loss: nan\n",
            "Epoch: 35 /100, Train loss: nan Test loss: nan\n",
            "Epoch: 36 /100, Train loss: nan Test loss: nan\n",
            "Epoch: 37 /100, Train loss: nan Test loss: nan\n",
            "Epoch: 38 /100, Train loss: nan Test loss: nan\n",
            "Epoch: 39 /100, Train loss: nan Test loss: nan\n",
            "Epoch: 40 /100, Train loss: nan Test loss: nan\n",
            "Epoch: 41 /100, Train loss: nan Test loss: nan\n",
            "Epoch: 42 /100, Train loss: nan Test loss: nan\n",
            "Epoch: 43 /100, Train loss: nan Test loss: nan\n",
            "Epoch: 44 /100, Train loss: nan Test loss: nan\n",
            "Epoch: 45 /100, Train loss: nan Test loss: nan\n",
            "Epoch: 46 /100, Train loss: nan Test loss: nan\n",
            "Epoch: 47 /100, Train loss: nan Test loss: nan\n",
            "Epoch: 48 /100, Train loss: nan Test loss: nan\n",
            "Epoch: 49 /100, Train loss: nan Test loss: nan\n",
            "Epoch: 50 /100, Train loss: nan Test loss: nan\n",
            "Epoch: 51 /100, Train loss: nan Test loss: nan\n",
            "Epoch: 52 /100, Train loss: nan Test loss: nan\n",
            "Epoch: 53 /100, Train loss: nan Test loss: nan\n",
            "Epoch: 54 /100, Train loss: nan Test loss: nan\n",
            "Epoch: 55 /100, Train loss: nan Test loss: nan\n",
            "Epoch: 56 /100, Train loss: nan Test loss: nan\n",
            "Epoch: 57 /100, Train loss: nan Test loss: nan\n",
            "Epoch: 58 /100, Train loss: nan Test loss: nan\n",
            "Epoch: 59 /100, Train loss: nan Test loss: nan\n",
            "Epoch: 60 /100, Train loss: nan Test loss: nan\n",
            "Epoch: 61 /100, Train loss: nan Test loss: nan\n",
            "Epoch: 62 /100, Train loss: nan Test loss: nan\n",
            "Epoch: 63 /100, Train loss: nan Test loss: nan\n",
            "Epoch: 64 /100, Train loss: nan Test loss: nan\n",
            "Epoch: 65 /100, Train loss: nan Test loss: nan\n",
            "Epoch: 66 /100, Train loss: nan Test loss: nan\n",
            "Epoch: 67 /100, Train loss: nan Test loss: nan\n",
            "Epoch: 68 /100, Train loss: nan Test loss: nan\n",
            "Epoch: 69 /100, Train loss: nan Test loss: nan\n",
            "Epoch: 70 /100, Train loss: nan Test loss: nan\n",
            "Epoch: 71 /100, Train loss: nan Test loss: nan\n",
            "Epoch: 72 /100, Train loss: nan Test loss: nan\n",
            "Epoch: 73 /100, Train loss: nan Test loss: nan\n",
            "Epoch: 74 /100, Train loss: nan Test loss: nan\n",
            "Epoch: 75 /100, Train loss: nan Test loss: nan\n",
            "Epoch: 76 /100, Train loss: nan Test loss: nan\n",
            "Epoch: 77 /100, Train loss: nan Test loss: nan\n",
            "Epoch: 78 /100, Train loss: nan Test loss: nan\n",
            "Epoch: 79 /100, Train loss: nan Test loss: nan\n",
            "Epoch: 80 /100, Train loss: nan Test loss: nan\n",
            "Epoch: 81 /100, Train loss: nan Test loss: nan\n",
            "Epoch: 82 /100, Train loss: nan Test loss: nan\n",
            "Epoch: 83 /100, Train loss: nan Test loss: nan\n",
            "Epoch: 84 /100, Train loss: nan Test loss: nan\n",
            "Epoch: 85 /100, Train loss: nan Test loss: nan\n",
            "Epoch: 86 /100, Train loss: nan Test loss: nan\n",
            "Epoch: 87 /100, Train loss: nan Test loss: nan\n",
            "Epoch: 88 /100, Train loss: nan Test loss: nan\n",
            "Epoch: 89 /100, Train loss: nan Test loss: nan\n",
            "Epoch: 90 /100, Train loss: nan Test loss: nan\n",
            "Epoch: 91 /100, Train loss: nan Test loss: nan\n",
            "Epoch: 92 /100, Train loss: nan Test loss: nan\n",
            "Epoch: 93 /100, Train loss: nan Test loss: nan\n",
            "Epoch: 94 /100, Train loss: nan Test loss: nan\n",
            "Epoch: 95 /100, Train loss: nan Test loss: nan\n",
            "Epoch: 96 /100, Train loss: nan Test loss: nan\n",
            "Epoch: 97 /100, Train loss: nan Test loss: nan\n",
            "Epoch: 98 /100, Train loss: nan Test loss: nan\n",
            "Epoch: 99 /100, Train loss: nan Test loss: nan\n",
            "Epoch: 100 /100, Train loss: nan Test loss: nan\n",
            "Period: (1960, 1980) MSE: nan\n",
            "Epoch: 1 /100, Train loss: nan Test loss: nan\n",
            "Epoch: 2 /100, Train loss: nan Test loss: nan\n",
            "Epoch: 3 /100, Train loss: nan Test loss: nan\n",
            "Epoch: 4 /100, Train loss: nan Test loss: nan\n",
            "Epoch: 5 /100, Train loss: nan Test loss: nan\n",
            "Epoch: 6 /100, Train loss: nan Test loss: nan\n",
            "Epoch: 7 /100, Train loss: nan Test loss: nan\n",
            "Epoch: 8 /100, Train loss: nan Test loss: nan\n",
            "Epoch: 9 /100, Train loss: nan Test loss: nan\n",
            "Epoch: 10 /100, Train loss: nan Test loss: nan\n",
            "Epoch: 11 /100, Train loss: nan Test loss: nan\n",
            "Epoch: 12 /100, Train loss: nan Test loss: nan\n",
            "Epoch: 13 /100, Train loss: nan Test loss: nan\n",
            "Epoch: 14 /100, Train loss: nan Test loss: nan\n",
            "Epoch: 15 /100, Train loss: nan Test loss: nan\n",
            "Epoch: 16 /100, Train loss: nan Test loss: nan\n",
            "Epoch: 17 /100, Train loss: nan Test loss: nan\n",
            "Epoch: 18 /100, Train loss: nan Test loss: nan\n",
            "Epoch: 19 /100, Train loss: nan Test loss: nan\n",
            "Epoch: 20 /100, Train loss: nan Test loss: nan\n",
            "Epoch: 21 /100, Train loss: nan Test loss: nan\n",
            "Epoch: 22 /100, Train loss: nan Test loss: nan\n",
            "Epoch: 23 /100, Train loss: nan Test loss: nan\n",
            "Epoch: 24 /100, Train loss: nan Test loss: nan\n",
            "Epoch: 25 /100, Train loss: nan Test loss: nan\n",
            "Epoch: 26 /100, Train loss: nan Test loss: nan\n",
            "Epoch: 27 /100, Train loss: nan Test loss: nan\n",
            "Epoch: 28 /100, Train loss: nan Test loss: nan\n",
            "Epoch: 29 /100, Train loss: nan Test loss: nan\n",
            "Epoch: 30 /100, Train loss: nan Test loss: nan\n",
            "Epoch: 31 /100, Train loss: nan Test loss: nan\n",
            "Epoch: 32 /100, Train loss: nan Test loss: nan\n",
            "Epoch: 33 /100, Train loss: nan Test loss: nan\n",
            "Epoch: 34 /100, Train loss: nan Test loss: nan\n",
            "Epoch: 35 /100, Train loss: nan Test loss: nan\n",
            "Epoch: 36 /100, Train loss: nan Test loss: nan\n",
            "Epoch: 37 /100, Train loss: nan Test loss: nan\n",
            "Epoch: 38 /100, Train loss: nan Test loss: nan\n",
            "Epoch: 39 /100, Train loss: nan Test loss: nan\n",
            "Epoch: 40 /100, Train loss: nan Test loss: nan\n",
            "Epoch: 41 /100, Train loss: nan Test loss: nan\n",
            "Epoch: 42 /100, Train loss: nan Test loss: nan\n",
            "Epoch: 43 /100, Train loss: nan Test loss: nan\n",
            "Epoch: 44 /100, Train loss: nan Test loss: nan\n",
            "Epoch: 45 /100, Train loss: nan Test loss: nan\n",
            "Epoch: 46 /100, Train loss: nan Test loss: nan\n",
            "Epoch: 47 /100, Train loss: nan Test loss: nan\n",
            "Epoch: 48 /100, Train loss: nan Test loss: nan\n",
            "Epoch: 49 /100, Train loss: nan Test loss: nan\n",
            "Epoch: 50 /100, Train loss: nan Test loss: nan\n",
            "Epoch: 51 /100, Train loss: nan Test loss: nan\n",
            "Epoch: 52 /100, Train loss: nan Test loss: nan\n",
            "Epoch: 53 /100, Train loss: nan Test loss: nan\n",
            "Epoch: 54 /100, Train loss: nan Test loss: nan\n",
            "Epoch: 55 /100, Train loss: nan Test loss: nan\n",
            "Epoch: 56 /100, Train loss: nan Test loss: nan\n",
            "Epoch: 57 /100, Train loss: nan Test loss: nan\n",
            "Epoch: 58 /100, Train loss: nan Test loss: nan\n",
            "Epoch: 59 /100, Train loss: nan Test loss: nan\n",
            "Epoch: 60 /100, Train loss: nan Test loss: nan\n",
            "Epoch: 61 /100, Train loss: nan Test loss: nan\n",
            "Epoch: 62 /100, Train loss: nan Test loss: nan\n",
            "Epoch: 63 /100, Train loss: nan Test loss: nan\n",
            "Epoch: 64 /100, Train loss: nan Test loss: nan\n",
            "Epoch: 65 /100, Train loss: nan Test loss: nan\n",
            "Epoch: 66 /100, Train loss: nan Test loss: nan\n",
            "Epoch: 67 /100, Train loss: nan Test loss: nan\n",
            "Epoch: 68 /100, Train loss: nan Test loss: nan\n",
            "Epoch: 69 /100, Train loss: nan Test loss: nan\n",
            "Epoch: 70 /100, Train loss: nan Test loss: nan\n",
            "Epoch: 71 /100, Train loss: nan Test loss: nan\n",
            "Epoch: 72 /100, Train loss: nan Test loss: nan\n",
            "Epoch: 73 /100, Train loss: nan Test loss: nan\n",
            "Epoch: 74 /100, Train loss: nan Test loss: nan\n",
            "Epoch: 75 /100, Train loss: nan Test loss: nan\n",
            "Epoch: 76 /100, Train loss: nan Test loss: nan\n",
            "Epoch: 77 /100, Train loss: nan Test loss: nan\n",
            "Epoch: 78 /100, Train loss: nan Test loss: nan\n",
            "Epoch: 79 /100, Train loss: nan Test loss: nan\n",
            "Epoch: 80 /100, Train loss: nan Test loss: nan\n",
            "Epoch: 81 /100, Train loss: nan Test loss: nan\n",
            "Epoch: 82 /100, Train loss: nan Test loss: nan\n",
            "Epoch: 83 /100, Train loss: nan Test loss: nan\n",
            "Epoch: 84 /100, Train loss: nan Test loss: nan\n",
            "Epoch: 85 /100, Train loss: nan Test loss: nan\n",
            "Epoch: 86 /100, Train loss: nan Test loss: nan\n",
            "Epoch: 87 /100, Train loss: nan Test loss: nan\n",
            "Epoch: 88 /100, Train loss: nan Test loss: nan\n",
            "Epoch: 89 /100, Train loss: nan Test loss: nan\n",
            "Epoch: 90 /100, Train loss: nan Test loss: nan\n",
            "Epoch: 91 /100, Train loss: nan Test loss: nan\n",
            "Epoch: 92 /100, Train loss: nan Test loss: nan\n",
            "Epoch: 93 /100, Train loss: nan Test loss: nan\n",
            "Epoch: 94 /100, Train loss: nan Test loss: nan\n",
            "Epoch: 95 /100, Train loss: nan Test loss: nan\n",
            "Epoch: 96 /100, Train loss: nan Test loss: nan\n",
            "Epoch: 97 /100, Train loss: nan Test loss: nan\n",
            "Epoch: 98 /100, Train loss: nan Test loss: nan\n",
            "Epoch: 99 /100, Train loss: nan Test loss: nan\n",
            "Epoch: 100 /100, Train loss: nan Test loss: nan\n",
            "Period: (1980, 2000) MSE: nan\n"
          ]
        },
        {
          "output_type": "stream",
          "name": "stderr",
          "text": [
            "/usr/local/lib/python3.8/dist-packages/numpy/core/fromnumeric.py:3474: RuntimeWarning: Mean of empty slice.\n",
            "  return _methods._mean(a, axis=axis, dtype=dtype,\n",
            "/usr/local/lib/python3.8/dist-packages/numpy/core/_methods.py:189: RuntimeWarning: invalid value encountered in double_scalars\n",
            "  ret = ret.dtype.type(ret / rcount)\n"
          ]
        },
        {
          "output_type": "stream",
          "name": "stdout",
          "text": [
            "Epoch: 1 /100, Train loss: nan Test loss: nan\n",
            "Epoch: 2 /100, Train loss: nan Test loss: nan\n",
            "Epoch: 3 /100, Train loss: nan Test loss: nan\n",
            "Epoch: 4 /100, Train loss: nan Test loss: nan\n",
            "Epoch: 5 /100, Train loss: nan Test loss: nan\n",
            "Epoch: 6 /100, Train loss: nan Test loss: nan\n",
            "Epoch: 7 /100, Train loss: nan Test loss: nan\n",
            "Epoch: 8 /100, Train loss: nan Test loss: nan\n",
            "Epoch: 9 /100, Train loss: nan Test loss: nan\n",
            "Epoch: 10 /100, Train loss: nan Test loss: nan\n",
            "Epoch: 11 /100, Train loss: nan Test loss: nan\n",
            "Epoch: 12 /100, Train loss: nan Test loss: nan\n",
            "Epoch: 13 /100, Train loss: nan Test loss: nan\n",
            "Epoch: 14 /100, Train loss: nan Test loss: nan\n",
            "Epoch: 15 /100, Train loss: nan Test loss: nan\n",
            "Epoch: 16 /100, Train loss: nan Test loss: nan\n",
            "Epoch: 17 /100, Train loss: nan Test loss: nan\n",
            "Epoch: 18 /100, Train loss: nan Test loss: nan\n",
            "Epoch: 19 /100, Train loss: nan Test loss: nan\n",
            "Epoch: 20 /100, Train loss: nan Test loss: nan\n",
            "Epoch: 21 /100, Train loss: nan Test loss: nan\n",
            "Epoch: 22 /100, Train loss: nan Test loss: nan\n",
            "Epoch: 23 /100, Train loss: nan Test loss: nan\n",
            "Epoch: 24 /100, Train loss: nan Test loss: nan\n",
            "Epoch: 25 /100, Train loss: nan Test loss: nan\n",
            "Epoch: 26 /100, Train loss: nan Test loss: nan\n",
            "Epoch: 27 /100, Train loss: nan Test loss: nan\n",
            "Epoch: 28 /100, Train loss: nan Test loss: nan\n",
            "Epoch: 29 /100, Train loss: nan Test loss: nan\n",
            "Epoch: 30 /100, Train loss: nan Test loss: nan\n",
            "Epoch: 31 /100, Train loss: nan Test loss: nan\n",
            "Epoch: 32 /100, Train loss: nan Test loss: nan\n",
            "Epoch: 33 /100, Train loss: nan Test loss: nan\n",
            "Epoch: 34 /100, Train loss: nan Test loss: nan\n",
            "Epoch: 35 /100, Train loss: nan Test loss: nan\n",
            "Epoch: 36 /100, Train loss: nan Test loss: nan\n",
            "Epoch: 37 /100, Train loss: nan Test loss: nan\n",
            "Epoch: 38 /100, Train loss: nan Test loss: nan\n",
            "Epoch: 39 /100, Train loss: nan Test loss: nan\n",
            "Epoch: 40 /100, Train loss: nan Test loss: nan\n",
            "Epoch: 41 /100, Train loss: nan Test loss: nan\n",
            "Epoch: 42 /100, Train loss: nan Test loss: nan\n",
            "Epoch: 43 /100, Train loss: nan Test loss: nan\n",
            "Epoch: 44 /100, Train loss: nan Test loss: nan\n",
            "Epoch: 45 /100, Train loss: nan Test loss: nan\n",
            "Epoch: 46 /100, Train loss: nan Test loss: nan\n",
            "Epoch: 47 /100, Train loss: nan Test loss: nan\n",
            "Epoch: 48 /100, Train loss: nan Test loss: nan\n",
            "Epoch: 49 /100, Train loss: nan Test loss: nan\n",
            "Epoch: 50 /100, Train loss: nan Test loss: nan\n",
            "Epoch: 51 /100, Train loss: nan Test loss: nan\n",
            "Epoch: 52 /100, Train loss: nan Test loss: nan\n",
            "Epoch: 53 /100, Train loss: nan Test loss: nan\n",
            "Epoch: 54 /100, Train loss: nan Test loss: nan\n",
            "Epoch: 55 /100, Train loss: nan Test loss: nan\n",
            "Epoch: 56 /100, Train loss: nan Test loss: nan\n",
            "Epoch: 57 /100, Train loss: nan Test loss: nan\n",
            "Epoch: 58 /100, Train loss: nan Test loss: nan\n",
            "Epoch: 59 /100, Train loss: nan Test loss: nan\n",
            "Epoch: 60 /100, Train loss: nan Test loss: nan\n",
            "Epoch: 61 /100, Train loss: nan Test loss: nan\n",
            "Epoch: 62 /100, Train loss: nan Test loss: nan\n",
            "Epoch: 63 /100, Train loss: nan Test loss: nan\n",
            "Epoch: 64 /100, Train loss: nan Test loss: nan\n",
            "Epoch: 65 /100, Train loss: nan Test loss: nan\n",
            "Epoch: 66 /100, Train loss: nan Test loss: nan\n",
            "Epoch: 67 /100, Train loss: nan Test loss: nan\n",
            "Epoch: 68 /100, Train loss: nan Test loss: nan\n",
            "Epoch: 69 /100, Train loss: nan Test loss: nan\n",
            "Epoch: 70 /100, Train loss: nan Test loss: nan\n",
            "Epoch: 71 /100, Train loss: nan Test loss: nan\n",
            "Epoch: 72 /100, Train loss: nan Test loss: nan\n",
            "Epoch: 73 /100, Train loss: nan Test loss: nan\n",
            "Epoch: 74 /100, Train loss: nan Test loss: nan\n",
            "Epoch: 75 /100, Train loss: nan Test loss: nan\n",
            "Epoch: 76 /100, Train loss: nan Test loss: nan\n",
            "Epoch: 77 /100, Train loss: nan Test loss: nan\n",
            "Epoch: 78 /100, Train loss: nan Test loss: nan\n",
            "Epoch: 79 /100, Train loss: nan Test loss: nan\n",
            "Epoch: 80 /100, Train loss: nan Test loss: nan\n",
            "Epoch: 81 /100, Train loss: nan Test loss: nan\n",
            "Epoch: 82 /100, Train loss: nan Test loss: nan\n",
            "Epoch: 83 /100, Train loss: nan Test loss: nan\n",
            "Epoch: 84 /100, Train loss: nan Test loss: nan\n",
            "Epoch: 85 /100, Train loss: nan Test loss: nan\n",
            "Epoch: 86 /100, Train loss: nan Test loss: nan\n",
            "Epoch: 87 /100, Train loss: nan Test loss: nan\n",
            "Epoch: 88 /100, Train loss: nan Test loss: nan\n",
            "Epoch: 89 /100, Train loss: nan Test loss: nan\n",
            "Epoch: 90 /100, Train loss: nan Test loss: nan\n",
            "Epoch: 91 /100, Train loss: nan Test loss: nan\n",
            "Epoch: 92 /100, Train loss: nan Test loss: nan\n",
            "Epoch: 93 /100, Train loss: nan Test loss: nan\n",
            "Epoch: 94 /100, Train loss: nan Test loss: nan\n",
            "Epoch: 95 /100, Train loss: nan Test loss: nan\n",
            "Epoch: 96 /100, Train loss: nan Test loss: nan\n",
            "Epoch: 97 /100, Train loss: nan Test loss: nan\n",
            "Epoch: 98 /100, Train loss: nan Test loss: nan\n",
            "Epoch: 99 /100, Train loss: nan Test loss: nan\n",
            "Epoch: 100 /100, Train loss: nan Test loss: nan\n",
            "Period: (2000, 2020) MSE: nan\n"
          ]
        }
      ]
    },
    {
      "cell_type": "code",
      "source": [
        "df.iloc[:, 0]"
      ],
      "metadata": {
        "colab": {
          "base_uri": "https://localhost:8080/"
        },
        "id": "zo5wVyN-zdBe",
        "outputId": "d8803bf4-faee-43d7-d6da-a6980ee7b1dc"
      },
      "execution_count": 23,
      "outputs": [
        {
          "output_type": "execute_result",
          "data": {
            "text/plain": [
              "0         2001\n",
              "1         2001\n",
              "2         2001\n",
              "3         2001\n",
              "4         2001\n",
              "          ... \n",
              "515340    2006\n",
              "515341    2006\n",
              "515342    2006\n",
              "515343    2006\n",
              "515344    2005\n",
              "Name: target, Length: 515345, dtype: int64"
            ]
          },
          "metadata": {},
          "execution_count": 23
        }
      ]
    },
    {
      "cell_type": "code",
      "source": [
        "#Evaluate L2\n",
        "y_train_pred = np.dot(train_x, w_ridge)\n",
        "train_rmse = np.sqrt(np.mean(np.square(train_y - y_train_pred)))\n",
        "y_test_pred = np.dot(test_x, w_ridge)\n",
        "test_rmse = np.sqrt(np.mean(np.square(test_y - y_test_pred)))\n",
        "print(\"Train RMSE:\", train_rmse)\n",
        "print(\"Test RMSE:\", test_rmse)"
      ],
      "metadata": {
        "colab": {
          "base_uri": "https://localhost:8080/"
        },
        "id": "NSWXN3PMvFAP",
        "outputId": "b4bde0f6-65eb-462b-f816-732cac2dd275"
      },
      "execution_count": 24,
      "outputs": [
        {
          "output_type": "stream",
          "name": "stdout",
          "text": [
            "Train RMSE: 9.553017156131503\n",
            "Test RMSE: 9.514997213453276\n"
          ]
        }
      ]
    },
    {
      "cell_type": "code",
      "source": [
        "#Evaluate L1\n",
        "y_train_pred = np.dot(train_x, w_lasso)\n",
        "train_rmse = np.sqrt(np.mean(np.square(train_y - y_train_pred)))\n",
        "y_test_pred = np.dot(test_x, w_lasso)\n",
        "test_rmse = np.sqrt(np.mean(np.square(test_y - y_test_pred)))\n",
        "print(\"Train RMSE:\", train_rmse)\n",
        "print(\"Test RMSE:\", test_rmse)"
      ],
      "metadata": {
        "colab": {
          "base_uri": "https://localhost:8080/"
        },
        "id": "HUi6LwWvqyY5",
        "outputId": "4e8f62c4-00f9-456b-f09c-102bdfe3f174"
      },
      "execution_count": 25,
      "outputs": [
        {
          "output_type": "stream",
          "name": "stdout",
          "text": [
            "Train RMSE: 9.905130300986148\n",
            "Test RMSE: 9.817432819056688\n"
          ]
        }
      ]
    },
    {
      "cell_type": "markdown",
      "source": [
        "From RMSE above, L1 Lasso Regression gives larger error compared to Ridge."
      ],
      "metadata": {
        "id": "lMsyKIIZwOXL"
      }
    },
    {
      "cell_type": "markdown",
      "source": [
        "# Problem 5 - Softmax Properties\n",
        "\n",
        "\n",
        "###1. Show that the softmax function is invariant to constant offsets to its input\n",
        "\n",
        "\\begin{align*}\n",
        "softmax(a+c1) &= \\frac{exp(a+c1)}{\\sum_{j=1}^{n}exp(a_j+c)} \\\\\n",
        "&= \\frac{exp(a)exp(c1)}{\\sum_{j=1}^{n}exp(a_j)exp(c)}\\\\\n",
        "&= \\frac{exp(a)}{\\sum_{j=1}^{n}exp(a_j)} \\times \\frac{exp(c1)}{\\sum_{j=1}^{n}exp(c)}{}\\\\\n",
        "&= softmax(a) \\times \\frac{exp(c1)}{n \\times exp(c)}{}\\\\\n",
        "&= softmax(a) \\times \\frac{exp(c1-c)}{n}\n",
        "\\end{align*}\n",
        "\n",
        "Since $\\frac{exp(c1-c)}{n}$ is a constant, it doesn't depend on $a$ and it's proven that softmax function is invariant to constant offset to its input.\n"
      ],
      "metadata": {
        "id": "Ri2DQfSOEA6H"
      }
    },
    {
      "cell_type": "markdown",
      "source": [
        "###2.  Why is the observation that the softmax function is invariant to constant offsets to its input important when implementing it in a neural network?\n",
        "\n",
        "It's important that softmax function is invariant to constant offset to its input because it allows the model to be more robust to changes in input data. Adding or substracting a constant value from input data doesn't change the output of sofmax function and making the network to generalize better to new data that can improve reliability and accuracy."
      ],
      "metadata": {
        "id": "Pl2YQkyDNU7m"
      }
    },
    {
      "cell_type": "markdown",
      "source": [
        "# Problem 6 - Implementing Softmax Classifier\n",
        "\n",
        "Write a function to load the data and the labels, which are returned as NumPy arrays."
      ],
      "metadata": {
        "id": "d7XFmHfPP_t3"
      }
    },
    {
      "cell_type": "code",
      "source": [
        "# Mount Google Drive\n",
        "from google.colab import drive\n",
        "drive.mount('/content/drive')"
      ],
      "metadata": {
        "colab": {
          "base_uri": "https://localhost:8080/"
        },
        "id": "pXxYofx33qwQ",
        "outputId": "815fb0a2-c417-49a7-d01c-8a5a49a46e92"
      },
      "execution_count": 6,
      "outputs": [
        {
          "output_type": "stream",
          "name": "stdout",
          "text": [
            "Mounted at /content/drive\n"
          ]
        }
      ]
    },
    {
      "cell_type": "code",
      "source": [
        "from sklearn.model_selection import train_test_split\n",
        "\n",
        "def load_iris_data(train_file, test_file):\n",
        "    train_data = np.loadtxt(train_file)\n",
        "    test_data = np.loadtxt(test_file)\n",
        "    train_labels = train_data[:, 0].astype(int) -1\n",
        "    train_features = train_data[:, 1:]\n",
        "    test_labels = test_data[:, 0].astype(int) -1\n",
        "    test_features = test_data[:, 1:]\n",
        "\n",
        "    # Normalize the features to be between -1 and 1\n",
        "    mean_train = np.mean(train_features, axis=0)\n",
        "    std_train = np.std(train_features, axis=0)\n",
        "    train_features = (train_features - mean_train) / std_train\n",
        "    test_features = (test_features - mean_train) / std_train\n",
        "    return train_features, train_labels, test_features, test_labels\n",
        "\n",
        "iris_train = '/content/drive/MyDrive/Deep Learning/HW2/iris-train.txt'\n",
        "iris_test = '/content/drive/MyDrive/Deep Learning/HW2/iris-test.txt'\n",
        "\n",
        "X_train, y_train, X_test, y_test = load_iris_data(iris_train, iris_test)\n",
        "\n",
        "print(X_train.shape)\n",
        "print(X_test.shape)\n",
        "print(y_train.shape)\n",
        "print(y_test.shape)"
      ],
      "metadata": {
        "colab": {
          "base_uri": "https://localhost:8080/"
        },
        "id": "XxrvhNu63P7s",
        "outputId": "b709242c-dd49-48be-c43d-f1a5c5f8bf98"
      },
      "execution_count": 63,
      "outputs": [
        {
          "output_type": "stream",
          "name": "stdout",
          "text": [
            "(90, 2)\n",
            "(51, 2)\n",
            "(90,)\n",
            "(51,)\n"
          ]
        }
      ]
    },
    {
      "cell_type": "markdown",
      "source": [
        "##1. Implementation & Evaluation\n",
        "\n",
        "* Use softmax loss with L2 weight decay regularization  \n",
        "*  Use stochastic gradient descent with mini batches and momentum to minimize softmax loss of single LNN (use environment's BLAS)\n",
        "* Loop over epochs and mini batches (not individual vector/ matrices)\n",
        "* 1000 epochs\n",
        "* Normalize feature between -1 and 1\n",
        "* Initial weight from Gaussian distribution\n",
        "\n",
        "*Cross entropy loss*\n",
        "\n",
        "$y_{i,j}$: true label for the $i$-th sample and $j$-th class\n",
        "\n",
        "$p_{i,j}$: predicted probability for the $i$-th sample and $j$-th class. \n",
        "$$ L = - \\frac{1}{N} \\sum_{i=1}^N \\sum_{j=1}^C y_{i,j} \\log(p_{i,j}) $$\n",
        "\n",
        "\n",
        "What is the best test accuracy your model achieved? What hyperparameters did you use?\n",
        "Would early stopping have helped improve accuracy on the test data?\n",
        "\n"
      ],
      "metadata": {
        "id": "TG4ZLs-d3nDz"
      }
    },
    {
      "cell_type": "code",
      "source": [
        "train_loss_list = []\n",
        "test_loss_list = []\n",
        "train_accuracy_list = []\n",
        "test_accuracy_list = []\n",
        "\n",
        "# Define softmax function\n",
        "def softmax(z):\n",
        "    e_z = np.exp(z - np.max(z, axis=1, keepdims=True))\n",
        "    return e_z / np.sum(e_z, axis=1, keepdims=True)\n",
        "\n",
        "# Define L2 regularization\n",
        "def L2_regularization(W, lambd):\n",
        "    return 0.5 * lambd * np.sum(W**2)\n",
        "\n",
        "# Define cross-entropy loss\n",
        "def cross_entropy_loss(y_pred, y_true):\n",
        "    num_samples = y_pred.shape[0]\n",
        "    y_pred = np.clip(y_pred, 1e-8, 1 - 1e-8)\n",
        "    correct_logprobs = -np.log(y_pred[range(num_samples), y_true])\n",
        "    data_loss = np.sum(correct_logprobs) / num_samples\n",
        "    return data_loss\n",
        "\n",
        "# Define gradient function\n",
        "def gradient(X, y, y_pred, W, b, lambd):\n",
        "    num_samples = X.shape[0]\n",
        "    dL_dy = y_pred\n",
        "    dL_dy[range(num_samples), y] -= 1\n",
        "    dL_dy /= num_samples\n",
        "    dW = X.T.dot(dL_dy) + lambd * W\n",
        "    db = np.sum(dL_dy, axis=0, keepdims=True)\n",
        "    return dW, db\n",
        "\n",
        "def softmax_classifier(X_train, y_train, X_test, y_test, learning_rate = 0.01, num_epochs= 10, batch_size = 32, momentum = 0.9, weight_decay = 0.001):\n",
        "  \n",
        "  # Initialize weights\n",
        "  num_features = X_train.shape[1]\n",
        "  num_classes = len(np.unique(y_train))\n",
        "  W = np.random.normal(loc=0.0, scale=0.1, size=(num_features, num_classes))\n",
        "  b = np.zeros(num_classes)\n",
        "\n",
        "  # Initialize momentum\n",
        "  V_dW = np.zeros_like(W)\n",
        "  V_db = np.zeros_like(b)\n",
        "\n",
        "  # Train the model\n",
        "  for epoch in range(num_epochs):\n",
        "      # Shuffle training data\n",
        "      indices = np.random.permutation(X_train.shape[0])\n",
        "      X_train = X_train[indices]\n",
        "      y_train = y_train[indices]\n",
        "\n",
        "      # Mini-batch training\n",
        "      for i in range(0, X_train.shape[0], batch_size):\n",
        "          X_batch = X_train[i:i+batch_size]\n",
        "          y_batch = y_train[i:i+batch_size]\n",
        "\n",
        "          # Forward pass\n",
        "          z = X_batch.dot(W) + b\n",
        "          y_pred = softmax(z)\n",
        "\n",
        "          # Compute loss and regularization\n",
        "          loss = cross_entropy_loss(y_pred, y_batch)\n",
        "          reg_loss = loss + L2_regularization(W, weight_decay)\n",
        "\n",
        "          # Compute gradients\n",
        "          dW, db = gradient(X_batch, y_batch, y_pred, W, b, weight_decay)\n",
        "\n",
        "          # Update weights and bias using momentum\n",
        "          V_dW = momentum * V_dW - learning_rate * dW\n",
        "          V_db = momentum * V_db - learning_rate * db\n",
        "          W += V_dW\n",
        "          b = b.reshape(-1, 1) + V_db.reshape(-1, 1)\n",
        "          b = b.reshape(1, -1)\n",
        "\n",
        "      # Compute and store training loss\n",
        "      z_train = X_train.dot(W) + b\n",
        "      y_pred_train = softmax(z_train)\n",
        "      train_loss = cross_entropy_loss(y_pred_train, y_train)\n",
        "      train_loss_list.append(train_loss)\n",
        "\n",
        "      # Compute and store testing loss\n",
        "      z_test = X_test.dot(W) + b\n",
        "      y_pred_test = softmax(z_test)\n",
        "      test_loss = cross_entropy_loss(y_pred_test, y_test)\n",
        "      test_loss_list.append(test_loss)\n",
        "\n",
        "      # Compute and store training accuracy\n",
        "      y_pred_train_class = np.argmax(y_pred_train, axis=1)\n",
        "      train_accuracy = np.mean(y_pred_train_class == y_train)\n",
        "      train_accuracy_list.append(train_accuracy)\n",
        "\n",
        "      # Compute and store testing accuracy\n",
        "      y_pred_test_class = np.argmax(y_pred_test, axis=1)\n",
        "      test_accuracy = np.mean(y_pred_test_class == y_test)\n",
        "      test_accuracy_list.append(test_accuracy)\n",
        "    \n",
        "  y_pred_test = np.argmax(y_pred_test, axis=1)\n",
        "\n",
        "  return train_loss_list, test_loss_list, train_accuracy_list, test_accuracy_list, y_pred_test, W, b"
      ],
      "metadata": {
        "id": "yfI5SFw0_cEV"
      },
      "execution_count": 86,
      "outputs": []
    },
    {
      "cell_type": "code",
      "source": [
        "train_loss_list, test_loss_list, train_accuracy_list, test_accuracy_list, y_pred_test, W, b= softmax_classifier(X_train, y_train, X_test, y_test, learning_rate = 0.01, num_epochs = 1000, batch_size = 32, momentum = 0.9, weight_decay = 0.001)"
      ],
      "metadata": {
        "id": "9BKAmRRRcLNq"
      },
      "execution_count": 87,
      "outputs": []
    },
    {
      "cell_type": "markdown",
      "source": [
        "Generate plot:\n",
        "1. Cross-entropy loss during training as a function of number of epochs\n",
        "2. Mean per class accuracy as a function of training epoch"
      ],
      "metadata": {
        "id": "PG_iftItvTK5"
      }
    },
    {
      "cell_type": "code",
      "source": [
        "# Plot training and testing loss\n",
        "plt.figure(figsize=(12, 5))\n",
        "plt.subplot(1, 2, 1)\n",
        "plt.plot(train_loss_list, label=\"Training Loss\")\n",
        "plt.plot(test_loss_list, label=\"Testing Loss\")\n",
        "plt.xlabel(\"Number of Training Epochs\")\n",
        "plt.ylabel(\"Cross-Entropy Loss\")\n",
        "plt.title(\"Training and Testing Loss\")\n",
        "plt.legend()\n",
        "\n",
        "# Plot training and testing accuracy\n",
        "plt.subplot(1, 2, 2)\n",
        "plt.plot(train_accuracy_list, label=\"Training Accuracy\")\n",
        "plt.plot(test_accuracy_list, label=\"Testing Accuracy\")\n",
        "plt.xlabel(\"Number of Training Epochs\")\n",
        "plt.ylabel(\"Mean Per-Class Accuracy\")\n",
        "plt.title(\"Training and Testing Accuracy\")\n",
        "plt.legend()\n",
        "\n",
        "plt.show()"
      ],
      "metadata": {
        "colab": {
          "base_uri": "https://localhost:8080/",
          "height": 350
        },
        "id": "upmwOn0TunMm",
        "outputId": "7fe6da6c-3566-4fe6-f7a6-57ccc5d32a38"
      },
      "execution_count": 75,
      "outputs": [
        {
          "output_type": "display_data",
          "data": {
            "text/plain": [
              "<Figure size 864x360 with 2 Axes>"
            ],
            "image/png": "[encoded data removed]"
          },
          "metadata": {
            "needs_background": "light"
          }
        }
      ]
    },
    {
      "cell_type": "code",
      "source": [
        "print('Best test accuracy', np.max(test_accuracy_list))\n",
        "print('Best train accuracy', np.max(train_accuracy_list))\n",
        "print('Final test accuracy', test_accuracy_list[-1])\n",
        "print('Final train accuracy', train_accuracy_list[-1])"
      ],
      "metadata": {
        "colab": {
          "base_uri": "https://localhost:8080/"
        },
        "id": "rr3xg0SYurn9",
        "outputId": "18eba376-f6ca-4222-a360-2b74c090a6ac"
      },
      "execution_count": 67,
      "outputs": [
        {
          "output_type": "stream",
          "name": "stdout",
          "text": [
            "Best test accuracy 0.9019607843137255\n",
            "Best train accuracy 0.9\n",
            "Final test accuracy 0.8431372549019608\n",
            "Final train accuracy 0.9\n"
          ]
        }
      ]
    },
    {
      "cell_type": "markdown",
      "source": [
        "**What is the best test accuracy your model achieved?**\n",
        "Best test accuracy that the model has achieved is 90%\n",
        "\n",
        "**What hyperparameters did you use?**\n",
        "* learning_rate = 0.01\n",
        "* num_epochs = 1000\n",
        "* batch_size = 32\n",
        "* momentum = 0.9\n",
        "* weight_decay = 0.001\n",
        "\n",
        "**Would early stopping have helped improve accuracy on the test data?** Early stopping could potentially help if the model is overfitting the training data and early stopping will allow the model to stop trainining once performance on test data stops improving. However, from the plot we can see that the model is not overfit the training data, therefore early stopping will not improve accuracy.\n"
      ],
      "metadata": {
        "id": "ScQO9mf1v2c8"
      }
    },
    {
      "cell_type": "markdown",
      "source": [
        "##2. Displaying Decision Boundaries\n",
        "* Decision boundaries\n",
        "* Scatter plot of training data"
      ],
      "metadata": {
        "id": "wn8FdaKBF1ns"
      }
    },
    {
      "cell_type": "code",
      "source": [
        "import matplotlib.pyplot as plt\n",
        "# Display decision boundaries\n",
        "x_min, x_max = X_train[:, 0].min() - 0.5, X_train[:, 0].max() + 0.5\n",
        "y_min, y_max = X_train[:, 1].min() - 0.5, X_train[:, 1].max() + 0.5\n",
        "xx, yy = np.meshgrid(np.arange(x_min, x_max, 0.1), np.arange(y_min, y_max, 0.1))\n",
        "Z = np.argmax(softmax(np.dot(np.c_[xx.ravel(), yy.ravel()], W) + b), axis=1)\n",
        "Z = Z.reshape(xx.shape)\n",
        "plt.figure(figsize=(10, 5))\n",
        "plt.subplot(1, 2, 1)\n",
        "plt.contourf(xx, yy, Z, alpha=0.4)\n",
        "plt.scatter(X_train[:, 0], X_train[:, 1], c=y_train, s=20, edgecolor='k')\n",
        "plt.title(\"Decision Boundaries\")\n",
        "plt.xlabel(\"Sepal length\")\n",
        "plt.ylabel(\"Sepal width\")\n",
        "plt.colorbar()\n",
        "\n",
        "# Generate scatter plot of the training data with labels\n",
        "plt.subplot(1, 2, 2)\n",
        "plt.scatter(X_train[:, 0], X_train[:, 1], c=y_train, s=20, edgecolor='k')\n",
        "plt.title(\"Training Data\")\n",
        "plt.xlabel(\"Sepal length\")\n",
        "plt.ylabel(\"Sepal width\")\n",
        "plt.show()"
      ],
      "metadata": {
        "id": "Omaj8tVJvIHb",
        "outputId": "f5163ac0-1ecf-4ec9-a071-4bbbf79cfb4e",
        "colab": {
          "base_uri": "https://localhost:8080/",
          "height": 350
        }
      },
      "execution_count": 88,
      "outputs": [
        {
          "output_type": "display_data",
          "data": {
            "text/plain": [
              "<Figure size 720x360 with 3 Axes>"
            ],
            "image/png": "[encoded data removed]"
          },
          "metadata": {
            "needs_background": "light"
          }
        }
      ]
    },
    {
      "cell_type": "markdown",
      "source": [
        "##Problem 7- Classifying Images"
      ],
      "metadata": {
        "id": "crWd_lPPajom"
      }
    },
    {
      "cell_type": "code",
      "source": [
        "from keras.datasets import cifar10\n",
        "from matplotlib import pyplot as plt\n",
        "\n",
        "%matplotlib inline\n",
        "\n",
        "(X_train, y_train), (X_test, y_test)= cifar10.load_data()\n",
        "X_train = X_train.reshape(X_train.shape[0], -1) / 255.0\n",
        "X_test = X_test.reshape(X_test.shape[0], -1) / 255.0\n",
        "y_train = y_train.flatten()\n",
        "y_test = y_test.flatten()"
      ],
      "metadata": {
        "id": "-12OMnQpGpCP"
      },
      "execution_count": 89,
      "outputs": []
    },
    {
      "cell_type": "code",
      "source": [
        "import numpy as np\n",
        "import pandas as pd"
      ],
      "metadata": {
        "id": "qynHcd9WgzHw"
      },
      "execution_count": 41,
      "outputs": []
    },
    {
      "cell_type": "code",
      "source": [
        "train_loss_list_cifar, test_loss_list_cifar, train_accuracy_list_cifar, test_accuracy_list_cifar, confusion_matrix,W,b= softmax_classifier(X_train, y_train, X_test, y_test, learning_rate = 0.001,\n",
        "                       num_epochs = 50, batch_size = 16, momentum = 0.9,\n",
        "                       weight_decay = 0.01)"
      ],
      "metadata": {
        "id": "kRH0ofMIo6dv"
      },
      "execution_count": null,
      "outputs": []
    },
    {
      "cell_type": "markdown",
      "source": [
        "a. Plot the training loss as a function of training epochs"
      ],
      "metadata": {
        "id": "ZNfz-BUct2Gy"
      }
    },
    {
      "cell_type": "code",
      "source": [
        "# Plot training loss\n",
        "plt.figure(figsize=(12, 5))\n",
        "plt.subplot(1, 2, 1)\n",
        "plt.plot(train_loss_list_cifar, label=\"Training Loss\")\n",
        "plt.xlabel(\"Number of Training Epochs\")\n",
        "plt.ylabel(\"Cross-Entropy Loss\")\n",
        "plt.title(\"Training Loss\")\n",
        "plt.legend()\n",
        "\n",
        "# Plot training and testing accuracy\n",
        "plt.subplot(1, 2, 2)\n",
        "plt.plot(train_accuracy_list_cifar, label=\"Training Accuracy\")\n",
        "plt.plot(test_accuracy_list_cifar, label=\"Testing Accuracy\")\n",
        "plt.xlabel(\"Number of Training Epochs\")\n",
        "plt.ylabel(\"Mean Per-Class Accuracy\")\n",
        "plt.title(\"Training and Testing Accuracy\")\n",
        "plt.legend()\n",
        "\n",
        "plt.show()"
      ],
      "metadata": {
        "colab": {
          "base_uri": "https://localhost:8080/",
          "height": 350
        },
        "id": "o6p-TQK7pVDw",
        "outputId": "44dfc440-514f-465e-978c-de3dda48353c"
      },
      "execution_count": 54,
      "outputs": [
        {
          "output_type": "display_data",
          "data": {
            "text/plain": [
              "<Figure size 864x360 with 2 Axes>"
            ],
            "image/png": "[encoded data removed]"
          },
          "metadata": {
            "needs_background": "light"
          }
        }
      ]
    },
    {
      "cell_type": "markdown",
      "source": [
        "b. Output the final test accuracy and a\n",
        "normalized 10 ×10 confusion matrix computed on the test partition. Make sure to label\n",
        "the columns and rows of the confusion matrix."
      ],
      "metadata": {
        "id": "wvY-bWh_tycQ"
      }
    },
    {
      "cell_type": "code",
      "source": [
        "print('Best test accuracy', np.max(test_accuracy_list_cifar))\n",
        "print('Best train accuracy', np.max(train_accuracy_list_cifar))\n",
        "print('Final test accuracy', test_accuracy_list_cifar[-1])\n",
        "print('Final train accuracy', train_accuracy_list_cifar[-1])"
      ],
      "metadata": {
        "colab": {
          "base_uri": "https://localhost:8080/"
        },
        "id": "gvgOauqzpVmM",
        "outputId": "8d5ade3f-ae66-4f7a-9fd2-c6d13d551112"
      },
      "execution_count": 55,
      "outputs": [
        {
          "output_type": "stream",
          "name": "stdout",
          "text": [
            "Best test accuracy 0.4001\n",
            "Best train accuracy 0.41266\n",
            "Final test accuracy 0.3982\n",
            "Final train accuracy 0.41266\n"
          ]
        }
      ]
    },
    {
      "cell_type": "code",
      "source": [],
      "metadata": {
        "id": "BM1t3rPc4B4W"
      },
      "execution_count": null,
      "outputs": []
    }
  ],
  "metadata": {
    "accelerator": "GPU",
    "colab": {
      "provenance": [],
      "machine_shape": "hm",
      "include_colab_link": true
    },
    "gpuClass": "standard",
    "kernelspec": {
      "display_name": "Python 3",
      "name": "python3"
    },
    "language_info": {
      "name": "python"
    }
  },
  "nbformat": 4,
  "nbformat_minor": 0
}