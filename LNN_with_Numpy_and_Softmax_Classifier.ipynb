{
  "cells": [
    {
      "cell_type": "markdown",
      "metadata": {
        "id": "view-in-github",
        "colab_type": "text"
      },
      "source": [
        "<a href=\"https://colab.research.google.com/github/anastasiarenata1/deeplearning/blob/main/LNN_with_Numpy_and_Softmax_Classifier.ipynb\" target=\"_parent\"><img src=\"https://colab.research.google.com/assets/colab-badge.svg\" alt=\"Open In Colab\"/></a>"
      ]
    },
    {
      "cell_type": "markdown",
      "metadata": {
        "id": "PRQriJO6Rw4D"
      },
      "source": [
        "# Problem 4 - Regression\n",
        "\n",
        "Classification data from 2011 Million Song Challenge dataset to predict music year\n",
        "\n",
        "* Explore three shallow (linear) neural network models with different activation functions for this task.\n",
        "* Evaluate the model by rounding the output of your linear neural network and compute the mean squared error\n",
        "\n",
        "\n",
        "###1. Load and explore the data"
      ]
    },
    {
      "cell_type": "code",
      "execution_count": 36,
      "metadata": {
        "colab": {
          "base_uri": "https://localhost:8080/"
        },
        "id": "BEErmxZU2EDU",
        "outputId": "fdc247a9-b02b-494a-d7d6-980743c57036"
      },
      "outputs": [
        {
          "output_type": "stream",
          "name": "stdout",
          "text": [
            "--2023-03-02 19:54:54--  https://archive.ics.uci.edu/ml/machine-learning-databases/00203/YearPredictionMSD.txt.zip\n",
            "Resolving archive.ics.uci.edu (archive.ics.uci.edu)... 128.195.10.252\n",
            "Connecting to archive.ics.uci.edu (archive.ics.uci.edu)|128.195.10.252|:443... connected.\n",
            "HTTP request sent, awaiting response... 200 OK\n",
            "Length: 211011981 (201M) [application/x-httpd-php]\n",
            "Saving to: ‘YearPredictionMSD.txt.zip.1’\n",
            "\n",
            "YearPredictionMSD.t 100%[===================>] 201.24M  44.0MB/s    in 5.2s    \n",
            "\n",
            "2023-03-02 19:54:59 (38.7 MB/s) - ‘YearPredictionMSD.txt.zip.1’ saved [211011981/211011981]\n",
            "\n",
            "Archive:  YearPredictionMSD.txt.zip\n",
            "replace YearPredictionMSD.txt? [y]es, [n]o, [A]ll, [N]one, [r]ename: y\n",
            "  inflating: YearPredictionMSD.txt   \n"
          ]
        }
      ],
      "source": [
        "!wget https://archive.ics.uci.edu/ml/machine-learning-databases/00203/YearPredictionMSD.txt.zip\n",
        "!unzip YearPredictionMSD.txt.zip"
      ]
    },
    {
      "cell_type": "code",
      "execution_count": null,
      "metadata": {
        "id": "jYGlyolcU0ai"
      },
      "outputs": [],
      "source": [
        "import numpy as np\n",
        "import pandas as pd\n",
        "import torch\n",
        "import torch.nn as nn\n",
        "import torch.optim as optim\n",
        "from torch.utils.data import DataLoader, TensorDataset"
      ]
    },
    {
      "cell_type": "code",
      "execution_count": null,
      "metadata": {
        "colab": {
          "base_uri": "https://localhost:8080/",
          "height": 299
        },
        "id": "BbPalayaR_Kz",
        "outputId": "b55e9215-73ea-4024-811c-ac99aa8976f1"
      },
      "outputs": [
        {
          "output_type": "execute_result",
          "data": {
            "text/plain": [
              "   target  timbre_avg_1  timbre_avg_2  timbre_avg_3  timbre_avg_4  \\\n",
              "0    2001      49.94357      21.47114      73.07750       8.74861   \n",
              "1    2001      48.73215      18.42930      70.32679      12.94636   \n",
              "2    2001      50.95714      31.85602      55.81851      13.41693   \n",
              "3    2001      48.24750      -1.89837      36.29772       2.58776   \n",
              "4    2001      50.97020      42.20998      67.09964       8.46791   \n",
              "\n",
              "   timbre_avg_5  timbre_avg_6  timbre_avg_7  timbre_avg_8  timbre_avg_9  ...  \\\n",
              "0     -17.40628     -13.09905     -25.01202     -12.23257       7.83089  ...   \n",
              "1     -10.32437     -24.83777       8.76630      -0.92019      18.76548  ...   \n",
              "2      -6.57898     -18.54940      -3.27872      -2.35035      16.07017  ...   \n",
              "3       0.97170     -26.21683       5.05097     -10.34124       3.55005  ...   \n",
              "4     -15.85279     -16.81409     -12.48207      -9.37636      12.63699  ...   \n",
              "\n",
              "   timbre_covar_69  timbre_covar_70  timbre_covar_71  timbre_covar_72  \\\n",
              "0         13.01620        -54.40548         58.99367         15.37344   \n",
              "1          5.66812        -19.68073         33.04964         42.87836   \n",
              "2          3.03800         26.05866        -50.92779         10.93792   \n",
              "3         34.57337       -171.70734        -16.96705        -46.67617   \n",
              "4          9.92661        -55.95724         64.92712        -17.72522   \n",
              "\n",
              "   timbre_covar_73  timbre_covar_74  timbre_covar_75  timbre_covar_76  \\\n",
              "0          1.11144        -23.08793         68.40795         -1.82223   \n",
              "1         -9.90378        -32.22788         70.49388         12.04941   \n",
              "2         -0.07568         43.20130       -115.00698         -0.05859   \n",
              "3        -12.51516         82.58061        -72.08993          9.90558   \n",
              "4         -1.49237         -7.50035         51.76631          7.88713   \n",
              "\n",
              "   timbre_covar_77  timbre_covar_78  \n",
              "0        -27.46348          2.26327  \n",
              "1         58.43453         26.92061  \n",
              "2         39.67068         -0.66345  \n",
              "3        199.62971         18.85382  \n",
              "4         55.66926         28.74903  \n",
              "\n",
              "[5 rows x 91 columns]"
            ],
            "text/html": [
              "\n",
              "  <div id=\"df-4275d364-aace-4267-9856-21f37b522bd8\">\n",
              "    <div class=\"colab-df-container\">\n",
              "      <div>\n",
              "<style scoped>\n",
              "    .dataframe tbody tr th:only-of-type {\n",
              "        vertical-align: middle;\n",
              "    }\n",
              "\n",
              "    .dataframe tbody tr th {\n",
              "        vertical-align: top;\n",
              "    }\n",
              "\n",
              "    .dataframe thead th {\n",
              "        text-align: right;\n",
              "    }\n",
              "</style>\n",
              "<table border=\"1\" class=\"dataframe\">\n",
              "  <thead>\n",
              "    <tr style=\"text-align: right;\">\n",
              "      <th></th>\n",
              "      <th>target</th>\n",
              "      <th>timbre_avg_1</th>\n",
              "      <th>timbre_avg_2</th>\n",
              "      <th>timbre_avg_3</th>\n",
              "      <th>timbre_avg_4</th>\n",
              "      <th>timbre_avg_5</th>\n",
              "      <th>timbre_avg_6</th>\n",
              "      <th>timbre_avg_7</th>\n",
              "      <th>timbre_avg_8</th>\n",
              "      <th>timbre_avg_9</th>\n",
              "      <th>...</th>\n",
              "      <th>timbre_covar_69</th>\n",
              "      <th>timbre_covar_70</th>\n",
              "      <th>timbre_covar_71</th>\n",
              "      <th>timbre_covar_72</th>\n",
              "      <th>timbre_covar_73</th>\n",
              "      <th>timbre_covar_74</th>\n",
              "      <th>timbre_covar_75</th>\n",
              "      <th>timbre_covar_76</th>\n",
              "      <th>timbre_covar_77</th>\n",
              "      <th>timbre_covar_78</th>\n",
              "    </tr>\n",
              "  </thead>\n",
              "  <tbody>\n",
              "    <tr>\n",
              "      <th>0</th>\n",
              "      <td>2001</td>\n",
              "      <td>49.94357</td>\n",
              "      <td>21.47114</td>\n",
              "      <td>73.07750</td>\n",
              "      <td>8.74861</td>\n",
              "      <td>-17.40628</td>\n",
              "      <td>-13.09905</td>\n",
              "      <td>-25.01202</td>\n",
              "      <td>-12.23257</td>\n",
              "      <td>7.83089</td>\n",
              "      <td>...</td>\n",
              "      <td>13.01620</td>\n",
              "      <td>-54.40548</td>\n",
              "      <td>58.99367</td>\n",
              "      <td>15.37344</td>\n",
              "      <td>1.11144</td>\n",
              "      <td>-23.08793</td>\n",
              "      <td>68.40795</td>\n",
              "      <td>-1.82223</td>\n",
              "      <td>-27.46348</td>\n",
              "      <td>2.26327</td>\n",
              "    </tr>\n",
              "    <tr>\n",
              "      <th>1</th>\n",
              "      <td>2001</td>\n",
              "      <td>48.73215</td>\n",
              "      <td>18.42930</td>\n",
              "      <td>70.32679</td>\n",
              "      <td>12.94636</td>\n",
              "      <td>-10.32437</td>\n",
              "      <td>-24.83777</td>\n",
              "      <td>8.76630</td>\n",
              "      <td>-0.92019</td>\n",
              "      <td>18.76548</td>\n",
              "      <td>...</td>\n",
              "      <td>5.66812</td>\n",
              "      <td>-19.68073</td>\n",
              "      <td>33.04964</td>\n",
              "      <td>42.87836</td>\n",
              "      <td>-9.90378</td>\n",
              "      <td>-32.22788</td>\n",
              "      <td>70.49388</td>\n",
              "      <td>12.04941</td>\n",
              "      <td>58.43453</td>\n",
              "      <td>26.92061</td>\n",
              "    </tr>\n",
              "    <tr>\n",
              "      <th>2</th>\n",
              "      <td>2001</td>\n",
              "      <td>50.95714</td>\n",
              "      <td>31.85602</td>\n",
              "      <td>55.81851</td>\n",
              "      <td>13.41693</td>\n",
              "      <td>-6.57898</td>\n",
              "      <td>-18.54940</td>\n",
              "      <td>-3.27872</td>\n",
              "      <td>-2.35035</td>\n",
              "      <td>16.07017</td>\n",
              "      <td>...</td>\n",
              "      <td>3.03800</td>\n",
              "      <td>26.05866</td>\n",
              "      <td>-50.92779</td>\n",
              "      <td>10.93792</td>\n",
              "      <td>-0.07568</td>\n",
              "      <td>43.20130</td>\n",
              "      <td>-115.00698</td>\n",
              "      <td>-0.05859</td>\n",
              "      <td>39.67068</td>\n",
              "      <td>-0.66345</td>\n",
              "    </tr>\n",
              "    <tr>\n",
              "      <th>3</th>\n",
              "      <td>2001</td>\n",
              "      <td>48.24750</td>\n",
              "      <td>-1.89837</td>\n",
              "      <td>36.29772</td>\n",
              "      <td>2.58776</td>\n",
              "      <td>0.97170</td>\n",
              "      <td>-26.21683</td>\n",
              "      <td>5.05097</td>\n",
              "      <td>-10.34124</td>\n",
              "      <td>3.55005</td>\n",
              "      <td>...</td>\n",
              "      <td>34.57337</td>\n",
              "      <td>-171.70734</td>\n",
              "      <td>-16.96705</td>\n",
              "      <td>-46.67617</td>\n",
              "      <td>-12.51516</td>\n",
              "      <td>82.58061</td>\n",
              "      <td>-72.08993</td>\n",
              "      <td>9.90558</td>\n",
              "      <td>199.62971</td>\n",
              "      <td>18.85382</td>\n",
              "    </tr>\n",
              "    <tr>\n",
              "      <th>4</th>\n",
              "      <td>2001</td>\n",
              "      <td>50.97020</td>\n",
              "      <td>42.20998</td>\n",
              "      <td>67.09964</td>\n",
              "      <td>8.46791</td>\n",
              "      <td>-15.85279</td>\n",
              "      <td>-16.81409</td>\n",
              "      <td>-12.48207</td>\n",
              "      <td>-9.37636</td>\n",
              "      <td>12.63699</td>\n",
              "      <td>...</td>\n",
              "      <td>9.92661</td>\n",
              "      <td>-55.95724</td>\n",
              "      <td>64.92712</td>\n",
              "      <td>-17.72522</td>\n",
              "      <td>-1.49237</td>\n",
              "      <td>-7.50035</td>\n",
              "      <td>51.76631</td>\n",
              "      <td>7.88713</td>\n",
              "      <td>55.66926</td>\n",
              "      <td>28.74903</td>\n",
              "    </tr>\n",
              "  </tbody>\n",
              "</table>\n",
              "<p>5 rows × 91 columns</p>\n",
              "</div>\n",
              "      <button class=\"colab-df-convert\" onclick=\"convertToInteractive('df-4275d364-aace-4267-9856-21f37b522bd8')\"\n",
              "              title=\"Convert this dataframe to an interactive table.\"\n",
              "              style=\"display:none;\">\n",
              "        \n",
              "  <svg xmlns=\"http://www.w3.org/2000/svg\" height=\"24px\"viewBox=\"0 0 24 24\"\n",
              "       width=\"24px\">\n",
              "    <path d=\"M0 0h24v24H0V0z\" fill=\"none\"/>\n",
              "    <path d=\"M18.56 5.44l.94 2.06.94-2.06 2.06-.94-2.06-.94-.94-2.06-.94 2.06-2.06.94zm-11 1L8.5 8.5l.94-2.06 2.06-.94-2.06-.94L8.5 2.5l-.94 2.06-2.06.94zm10 10l.94 2.06.94-2.06 2.06-.94-2.06-.94-.94-2.06-.94 2.06-2.06.94z\"/><path d=\"M17.41 7.96l-1.37-1.37c-.4-.4-.92-.59-1.43-.59-.52 0-1.04.2-1.43.59L10.3 9.45l-7.72 7.72c-.78.78-.78 2.05 0 2.83L4 21.41c.39.39.9.59 1.41.59.51 0 1.02-.2 1.41-.59l7.78-7.78 2.81-2.81c.8-.78.8-2.07 0-2.86zM5.41 20L4 18.59l7.72-7.72 1.47 1.35L5.41 20z\"/>\n",
              "  </svg>\n",
              "      </button>\n",
              "      \n",
              "  <style>\n",
              "    .colab-df-container {\n",
              "      display:flex;\n",
              "      flex-wrap:wrap;\n",
              "      gap: 12px;\n",
              "    }\n",
              "\n",
              "    .colab-df-convert {\n",
              "      background-color: #E8F0FE;\n",
              "      border: none;\n",
              "      border-radius: 50%;\n",
              "      cursor: pointer;\n",
              "      display: none;\n",
              "      fill: #1967D2;\n",
              "      height: 32px;\n",
              "      padding: 0 0 0 0;\n",
              "      width: 32px;\n",
              "    }\n",
              "\n",
              "    .colab-df-convert:hover {\n",
              "      background-color: #E2EBFA;\n",
              "      box-shadow: 0px 1px 2px rgba(60, 64, 67, 0.3), 0px 1px 3px 1px rgba(60, 64, 67, 0.15);\n",
              "      fill: #174EA6;\n",
              "    }\n",
              "\n",
              "    [theme=dark] .colab-df-convert {\n",
              "      background-color: #3B4455;\n",
              "      fill: #D2E3FC;\n",
              "    }\n",
              "\n",
              "    [theme=dark] .colab-df-convert:hover {\n",
              "      background-color: #434B5C;\n",
              "      box-shadow: 0px 1px 3px 1px rgba(0, 0, 0, 0.15);\n",
              "      filter: drop-shadow(0px 1px 2px rgba(0, 0, 0, 0.3));\n",
              "      fill: #FFFFFF;\n",
              "    }\n",
              "  </style>\n",
              "\n",
              "      <script>\n",
              "        const buttonEl =\n",
              "          document.querySelector('#df-4275d364-aace-4267-9856-21f37b522bd8 button.colab-df-convert');\n",
              "        buttonEl.style.display =\n",
              "          google.colab.kernel.accessAllowed ? 'block' : 'none';\n",
              "\n",
              "        async function convertToInteractive(key) {\n",
              "          const element = document.querySelector('#df-4275d364-aace-4267-9856-21f37b522bd8');\n",
              "          const dataTable =\n",
              "            await google.colab.kernel.invokeFunction('convertToInteractive',\n",
              "                                                     [key], {});\n",
              "          if (!dataTable) return;\n",
              "\n",
              "          const docLinkHtml = 'Like what you see? Visit the ' +\n",
              "            '<a target=\"_blank\" href=https://colab.research.google.com/notebooks/data_table.ipynb>data table notebook</a>'\n",
              "            + ' to learn more about interactive tables.';\n",
              "          element.innerHTML = '';\n",
              "          dataTable['output_type'] = 'display_data';\n",
              "          await google.colab.output.renderOutput(dataTable, element);\n",
              "          const docLink = document.createElement('div');\n",
              "          docLink.innerHTML = docLinkHtml;\n",
              "          element.appendChild(docLink);\n",
              "        }\n",
              "      </script>\n",
              "    </div>\n",
              "  </div>\n",
              "  "
            ]
          },
          "metadata": {},
          "execution_count": 4
        }
      ],
      "source": [
        "colnames = ['target'] + ['timbre_avg_' + str(i) for i in range(1, 13)] + ['timbre_covar_' + str(i) for i in range(1, 79)]\n",
        "df = pd.read_csv('YearPredictionMSD.txt', header=None, names=colnames)\n",
        "df.head(5)"
      ]
    },
    {
      "cell_type": "markdown",
      "metadata": {
        "id": "gqj7q70Ql5lb"
      },
      "source": [
        "Write a function to load the dataset, e.g.,\n",
        "`trainYears, trainFeat, testYears, testFeat = loadMusicData(fname, addBias)`"
      ]
    },
    {
      "cell_type": "code",
      "execution_count": null,
      "metadata": {
        "id": "HO0rnbz9STFd"
      },
      "outputs": [],
      "source": [
        "def loadMusicData(data, addBias=True):\n",
        "  train_df = data[:463714]\n",
        "  test_df = data[463714:]\n",
        "  train_y = train_df['target'].values\n",
        "  train_x = train_df.iloc[:,1:].values\n",
        "  test_y = test_df['target'].values\n",
        "  test_x = test_df.iloc[:,1:].values\n",
        "  if addBias:\n",
        "    train_x = np.hstack((train_x, np.ones((train_x.shape[0],1))))\n",
        "    test_x = np.hstack((test_x, np.ones((test_x.shape[0],1))))\n",
        "  return train_y, train_x, test_y, test_x"
      ]
    },
    {
      "cell_type": "markdown",
      "metadata": {
        "id": "iz0sr2dbmDpu"
      },
      "source": [
        "Write a function `mse = musicMSE(pred, gt)` where the inputs are the predicted year and the “ground truth” year from the dataset. The function computes the mean squared error(MSE) by rounding pred before computing the MSE."
      ]
    },
    {
      "cell_type": "code",
      "execution_count": null,
      "metadata": {
        "id": "eBi_cfQ4nGmY"
      },
      "outputs": [],
      "source": [
        "from sklearn.metrics import mean_squared_error\n",
        "def musicMSE(pred, gt):\n",
        "  pred = np.round(pred)\n",
        "  mse= mean_squared_error(pred, gt)\n",
        "  return mse"
      ]
    },
    {
      "cell_type": "markdown",
      "metadata": {
        "id": "VNpBvB08ojLl"
      },
      "source": [
        "Load the dataset and discuss its properties. \n",
        "1. What is the range of the variables? From 90 attributes, range of variables for timbre average is tighter than range of variables for timbre covariance. However, within each category itself, some attributes have wider range compared to others, in which we don't have further documentation to explain this event.\n",
        "2. How might you normalize them? Normalization can help to ensure that each variables contribute equally to the model. Since range of variables varies significantly accross 90 attributes, I will normalize the data using standardization technique (0 mean and unit std deviation for each attribute) where we can help to preserve importance of variables.\n",
        "3. What years are represented in the dataset? The dataset covers song released from 1922 to 2011 (90 years) with most common year of 2007.\n",
        "4. What will the test mean squared error (MSE) be if your classifier always outputs the most common year in the dataset? 190.08"
      ]
    },
    {
      "cell_type": "code",
      "execution_count": null,
      "metadata": {
        "colab": {
          "base_uri": "https://localhost:8080/"
        },
        "id": "mwHVPkNVoTmn",
        "outputId": "b4cbd585-1c94-4463-e76d-eeed27388731"
      },
      "outputs": [
        {
          "output_type": "stream",
          "name": "stdout",
          "text": [
            "Variable 1: range = 60\n",
            "Variable 2: range = 721\n",
            "Variable 3: range = 624\n",
            "Variable 4: range = 490\n",
            "Variable 5: range = 444\n",
            "Variable 6: range = 248\n",
            "Variable 7: range = 361\n",
            "Variable 8: range = 199\n",
            "Variable 9: range = 273\n",
            "Variable 10: range = 102\n",
            "Variable 11: range = 158\n",
            "Variable 12: range = 182\n",
            "Variable 13: range = 550\n",
            "Variable 14: range = 65727\n",
            "Variable 15: range = 36796\n",
            "Variable 16: range = 31832\n",
            "Variable 17: range = 19854\n",
            "Variable 18: range = 16826\n",
            "Variable 19: range = 11882\n",
            "Variable 20: range = 9564\n",
            "Variable 21: range = 9610\n",
            "Variable 22: range = 3707\n",
            "Variable 23: range = 6731\n",
            "Variable 24: range = 9808\n",
            "Variable 25: range = 4871\n",
            "Variable 26: range = 37870\n",
            "Variable 27: range = 26522\n",
            "Variable 28: range = 7735\n",
            "Variable 29: range = 6635\n",
            "Variable 30: range = 6669\n",
            "Variable 31: range = 6153\n",
            "Variable 32: range = 3471\n",
            "Variable 33: range = 4567\n",
            "Variable 34: range = 3921\n",
            "Variable 35: range = 2803\n",
            "Variable 36: range = 4208\n",
            "Variable 37: range = 22597\n",
            "Variable 38: range = 18155\n",
            "Variable 39: range = 15869\n",
            "Variable 40: range = 16243\n",
            "Variable 41: range = 8211\n",
            "Variable 42: range = 8068\n",
            "Variable 43: range = 6178\n",
            "Variable 44: range = 2904\n",
            "Variable 45: range = 1768\n",
            "Variable 46: range = 2529\n",
            "Variable 47: range = 23921\n",
            "Variable 48: range = 10960\n",
            "Variable 49: range = 12815\n",
            "Variable 50: range = 4412\n",
            "Variable 51: range = 3698\n",
            "Variable 52: range = 4207\n",
            "Variable 53: range = 5583\n",
            "Variable 54: range = 5100\n",
            "Variable 55: range = 2263\n",
            "Variable 56: range = 12109\n",
            "Variable 57: range = 17812\n",
            "Variable 58: range = 17732\n",
            "Variable 59: range = 9176\n",
            "Variable 60: range = 8190\n",
            "Variable 61: range = 3711\n",
            "Variable 62: range = 2370\n",
            "Variable 63: range = 1413\n",
            "Variable 64: range = 21394\n",
            "Variable 65: range = 10254\n",
            "Variable 66: range = 7344\n",
            "Variable 67: range = 3254\n",
            "Variable 68: range = 7345\n",
            "Variable 69: range = 7192\n",
            "Variable 70: range = 1720\n",
            "Variable 71: range = 11016\n",
            "Variable 72: range = 11695\n",
            "Variable 73: range = 10525\n",
            "Variable 74: range = 3453\n",
            "Variable 75: range = 2666\n",
            "Variable 76: range = 1459\n",
            "Variable 77: range = 19852\n",
            "Variable 78: range = 5449\n",
            "Variable 79: range = 13578\n",
            "Variable 80: range = 8490\n",
            "Variable 81: range = 1279\n",
            "Variable 82: range = 8872\n",
            "Variable 83: range = 5021\n",
            "Variable 84: range = 4832\n",
            "Variable 85: range = 602\n",
            "Variable 86: range = 6831\n",
            "Variable 87: range = 7154\n",
            "Variable 88: range = 699\n",
            "Variable 89: range = 14852\n",
            "Variable 90: range = 1059\n"
          ]
        }
      ],
      "source": [
        "# Range of variables\n",
        "var_ranges = np.ptp(df.iloc[:, 1:].values, axis=0)\n",
        "for i, var_range in enumerate(var_ranges):\n",
        "    print(\"Variable {}: range = {:.0f}\".format(i+1, var_range))"
      ]
    },
    {
      "cell_type": "code",
      "execution_count": null,
      "metadata": {
        "id": "6xcZrqpiyO0F"
      },
      "outputs": [],
      "source": [
        "#Normalize data using standardization\n",
        "from sklearn.preprocessing import StandardScaler\n",
        "scaler = StandardScaler()\n",
        "\n",
        "def loadMusicData2(data, addBias=True):\n",
        "  train_df = data[:463714]\n",
        "  test_df = data[463714:]\n",
        "  train_y = train_df['target'].values\n",
        "  train_x = train_df.iloc[:,1:].values\n",
        "  test_y = test_df['target'].values\n",
        "  test_x = test_df.iloc[:,1:].values\n",
        "  train_x= scaler.fit_transform(train_x)\n",
        "  test_x= scaler.fit_transform(test_x)\n",
        "\n",
        "  if addBias:\n",
        "    train_x = np.hstack((train_x, np.ones((train_x.shape[0],1))))\n",
        "    test_x = np.hstack((test_x, np.ones((test_x.shape[0],1))))\n",
        "  \n",
        "\n",
        "  return train_y, train_x, test_y, test_x"
      ]
    },
    {
      "cell_type": "code",
      "execution_count": null,
      "metadata": {
        "colab": {
          "base_uri": "https://localhost:8080/"
        },
        "id": "J88tbEW8y56c",
        "outputId": "1308fe50-6bb1-4b4d-c762-2003c848ce62"
      },
      "outputs": [
        {
          "output_type": "stream",
          "name": "stdout",
          "text": [
            "Min years presented:  1922\n",
            "Max years presented:  2011\n",
            "Median years presented:  2002.0\n",
            "Most common year: 2007\n"
          ]
        }
      ],
      "source": [
        "#Years represented\n",
        "print('Min years presented: ', np.min(df['target']))\n",
        "print('Max years presented: ', np.max(df['target']))\n",
        "print('Median years presented: ', np.median(df['target']))\n",
        "\n",
        "from statistics import mode\n",
        "print('Most common year:', mode(df['target']))"
      ]
    },
    {
      "cell_type": "code",
      "execution_count": null,
      "metadata": {
        "id": "XsuMY-B-6Rq8"
      },
      "outputs": [],
      "source": [
        "train_y, train_x, test_y, test_x = loadMusicData2(df, addBias=True)"
      ]
    },
    {
      "cell_type": "code",
      "execution_count": null,
      "metadata": {
        "colab": {
          "base_uri": "https://localhost:8080/"
        },
        "id": "QgxWh8BG6E15",
        "outputId": "f8c0d5fa-e00a-46b7-caa6-883fd75e719d"
      },
      "outputs": [
        {
          "output_type": "execute_result",
          "data": {
            "text/plain": [
              "190.08239236117836"
            ]
          },
          "metadata": {},
          "execution_count": 11
        }
      ],
      "source": [
        "#test MSE\n",
        "musicMSE(torch.full((test_y.shape[0],), 2007), test_y)"
      ]
    },
    {
      "cell_type": "markdown",
      "metadata": {
        "id": "yzi847OP89JV"
      },
      "source": [
        "##2. Classification\n",
        "This problem could have been posed as a classification problem by treating each year as a category. What would be the problems with this approach? Support your argument by analyzing a bar chart with the year as the x-axis and the number of examples for that year as the y-axis.\n",
        "\n",
        "As we can see from the chart, the distribution of train dataset is skewed to the left where majority of the data coming from the later years. If we treat this problem as a classification problem, the model will be biased and will be more likely to predict later years. Furthermore, classification means that the predicted data will be categorical values instead of continuous which can result in loss of information as repercussion. "
      ]
    },
    {
      "cell_type": "code",
      "execution_count": null,
      "metadata": {
        "colab": {
          "base_uri": "https://localhost:8080/",
          "height": 279
        },
        "id": "QByIY0eo3_uO",
        "outputId": "24d83955-fbe8-4d6e-e29c-7d13984e4f8d"
      },
      "outputs": [
        {
          "output_type": "display_data",
          "data": {
            "text/plain": [
              "<Figure size 432x288 with 1 Axes>"
            ],
            "image/png": "[encoded data removed]"
          },
          "metadata": {
            "needs_background": "light"
          }
        }
      ],
      "source": [
        "#plot year frequency from train dataset\n",
        "import matplotlib.pyplot as plt\n",
        "train_df = df[:463714]\n",
        "year_counts = train_df.iloc[:, 0].value_counts()\n",
        "plt.bar(year_counts.index, year_counts.values)\n",
        "plt.xlabel(\"Year\")\n",
        "plt.ylabel(\"Frequency\")\n",
        "plt.show()"
      ]
    },
    {
      "cell_type": "markdown",
      "metadata": {
        "id": "wiR5yP7wBxka"
      },
      "source": [
        "##3. Ridge regression\n",
        "\n",
        "* Implement stochastic gradient descent with mini-batches to minimize the loss and evaluate the train and test MSE.\n",
        "* Tune the learning rate and weight decay factor. \n",
        "* Show the train and test loss as a function of epochs, where the number of epochs should be chosen to ensure the train loss is minimized."
      ]
    },
    {
      "cell_type": "code",
      "source": [
        "def mini_batch_gradient_descent(X_train, y_train, X_test, y_test, batch_size=32, num_epochs=100, learning_rate=0.01, weight_decay_factor=0, loss_type='L2', weight_decay_form='none', momentum=False, momentum_factor=0.9):\n",
        "    num_features = X_train.shape[1]\n",
        "    num_batches = int(np.ceil(len(X_train) / batch_size))\n",
        "    weight = np.random.normal(size=num_features)\n",
        "    m = np.zeros_like(weight)\n",
        "    train_losses = []\n",
        "    test_losses = []\n",
        "\n",
        "    def forward(X, w):\n",
        "        return np.dot(X, w)\n",
        "\n",
        "    def backward(X, error):\n",
        "        return np.dot(X.T, error)\n",
        "\n",
        "    def compute_gradient(X, y, y_pred, loss_type, w):\n",
        "      error = None\n",
        "      if loss_type == \"L2\":\n",
        "          error = 2*(y_pred - y)\n",
        "      elif loss_type == \"count\":\n",
        "          error = np.round(y_pred) - np.round(y)\n",
        "      elif loss_type == \"cross-entropy\":\n",
        "          error = y_pred - y\n",
        "      elif loss_type == 'L1':\n",
        "          error = np.sign(y_pred - y)\n",
        "      gradient = backward(X, error)\n",
        "      if weight_decay_form == 'L2':\n",
        "          gradient += weight_decay_factor * w\n",
        "      elif weight_decay_form == 'L1':\n",
        "          gradient += weight_decay_factor * np.sign(w)\n",
        "      return gradient, error\n",
        "\n",
        "    def compute_loss(y, y_pred, loss_type):\n",
        "        if loss_type == \"L2\":\n",
        "            return np.mean(np.square(y - y_pred))\n",
        "        elif loss_type == \"count\":\n",
        "            return np.mean(np.abs(np.round(y) - np.round(y_pred)))\n",
        "        elif loss_type == \"cross-entropy\":\n",
        "            y_pred = np.clip(y_pred, 1e-15, 1 - 1e-15)  # clip predictions\n",
        "            return -np.mean(y * np.log(y_pred) + (1 - y) * np.log(1 - y_pred))\n",
        "        elif loss_type == 'L1':\n",
        "            return np.mean(np.abs(y - y_pred))\n",
        "\n",
        "    for epoch in range(num_epochs):\n",
        "        # Shuffle the data\n",
        "        perm = np.random.permutation(len(X_train))\n",
        "        X_train = X_train[perm]\n",
        "        y_train = y_train[perm]\n",
        "\n",
        "        # Mini-batch gradient descent\n",
        "        for i in range(num_batches):\n",
        "            start_idx = i * batch_size\n",
        "            end_idx = (i + 1) * batch_size\n",
        "            X_batch = X_train[start_idx:end_idx]\n",
        "            y_batch = y_train[start_idx:end_idx]\n",
        "\n",
        "            y_pred = forward(X_batch, weight)\n",
        "            gradient, error = compute_gradient(X_batch, y_batch, y_pred, loss_type, weight)\n",
        "\n",
        "            if momentum:\n",
        "              m = momentum_factor * m + (1 - momentum_factor) * gradient\n",
        "              weight -= learning_rate * m\n",
        "            else:\n",
        "                weight -= learning_rate * gradient.reshape(weight.shape)\n",
        "\n",
        "        # Compute train and test losses\n",
        "        y_train_pred = forward(X_train, weight)\n",
        "        train_loss = compute_loss(y_train, y_train_pred, loss_type)\n",
        "        train_losses.append(train_loss)\n",
        "\n",
        "        y_test_pred = forward(X_test, weight)\n",
        "        test_loss = compute_loss(y_test, y_test_pred, loss_type)\n",
        "        test_losses.append(test_loss)\n",
        "\n",
        "        print(\"Epoch:\", epoch+1, \"/100, Train loss:\", train_loss, \"Test loss:\", test_loss)\n",
        "\n",
        "    return weight, train_losses, test_losses\n"
      ],
      "metadata": {
        "id": "f7u12GIuw_jz"
      },
      "execution_count": null,
      "outputs": []
    },
    {
      "cell_type": "markdown",
      "source": [
        "Hyperparameter tuning\n",
        "* Learning rate= 0.0001\n",
        "* Weight decay factor= 0.000001\n",
        "* Batch size=16\n",
        "* Number epochs=100\n",
        "* Loss type= L2\n",
        "* Weight decay form= None\n",
        "* No momentum\n",
        "\n"
      ],
      "metadata": {
        "id": "r27YeMIDlVMX"
      }
    },
    {
      "cell_type": "code",
      "execution_count": null,
      "metadata": {
        "id": "lHLX_tNcbLWr",
        "colab": {
          "base_uri": "https://localhost:8080/"
        },
        "outputId": "a06af480-dc33-4d58-9107-cfc92e6d03dc"
      },
      "outputs": [
        {
          "output_type": "stream",
          "name": "stdout",
          "text": [
            "Epoch: 1 /100, Train loss: 624963.180713875 Test loss: 625138.0103473006\n",
            "Epoch: 2 /100, Train loss: 97857.66303318129 Test loss: 97925.81077829158\n",
            "Epoch: 3 /100, Train loss: 15390.188771946448 Test loss: 15416.780255306494\n",
            "Epoch: 4 /100, Train loss: 2486.8592757104498 Test loss: 2496.911677788535\n",
            "Epoch: 5 /100, Train loss: 467.4612113147282 Test loss: 470.9598922685001\n",
            "Epoch: 6 /100, Train loss: 151.0942623581308 Test loss: 152.03108912762673\n",
            "Epoch: 7 /100, Train loss: 101.31728777739498 Test loss: 101.23873147484156\n",
            "Epoch: 8 /100, Train loss: 93.33338186243482 Test loss: 92.84897543534197\n",
            "Epoch: 9 /100, Train loss: 91.95288261521671 Test loss: 91.32435201466163\n",
            "Epoch: 10 /100, Train loss: 91.65240989342182 Test loss: 90.94364134070695\n",
            "Epoch: 11 /100, Train loss: 91.54546371715202 Test loss: 90.85178220653874\n",
            "Epoch: 12 /100, Train loss: 91.48660972435415 Test loss: 90.77269246155232\n",
            "Epoch: 13 /100, Train loss: 91.44185101300204 Test loss: 90.72315442537892\n",
            "Epoch: 14 /100, Train loss: 91.41146388173937 Test loss: 90.66273871301958\n",
            "Epoch: 15 /100, Train loss: 91.38407296727802 Test loss: 90.63468540335694\n",
            "Epoch: 16 /100, Train loss: 91.36351162707209 Test loss: 90.60386823859122\n",
            "Epoch: 17 /100, Train loss: 91.35088333298089 Test loss: 90.57178057055417\n",
            "Epoch: 18 /100, Train loss: 91.33610202779309 Test loss: 90.57385108850356\n",
            "Epoch: 19 /100, Train loss: 91.331685855484 Test loss: 90.51321590868942\n",
            "Epoch: 20 /100, Train loss: 91.31555835647853 Test loss: 90.57038175246883\n",
            "Epoch: 21 /100, Train loss: 91.30982356055364 Test loss: 90.57068303368594\n",
            "Epoch: 22 /100, Train loss: 91.30154763456397 Test loss: 90.52394642697077\n",
            "Epoch: 23 /100, Train loss: 91.29611999008142 Test loss: 90.54056231218554\n",
            "Epoch: 24 /100, Train loss: 91.29022161045707 Test loss: 90.5244842473938\n",
            "Epoch: 25 /100, Train loss: 91.2891767824722 Test loss: 90.54458094815195\n",
            "Epoch: 26 /100, Train loss: 91.28343764025442 Test loss: 90.51501563595373\n",
            "Epoch: 27 /100, Train loss: 91.28494585625707 Test loss: 90.495080573029\n",
            "Epoch: 28 /100, Train loss: 91.27769840837209 Test loss: 90.51750466118808\n",
            "Epoch: 29 /100, Train loss: 91.27576279390406 Test loss: 90.52074928289157\n",
            "Epoch: 30 /100, Train loss: 91.27483267101825 Test loss: 90.50689041821076\n",
            "Epoch: 31 /100, Train loss: 91.27169372969833 Test loss: 90.52552743338437\n",
            "Epoch: 32 /100, Train loss: 91.26970715995623 Test loss: 90.50023702290947\n",
            "Epoch: 33 /100, Train loss: 91.26965923409753 Test loss: 90.5039098597812\n",
            "Epoch: 34 /100, Train loss: 91.27006642944019 Test loss: 90.52351036918378\n",
            "Epoch: 35 /100, Train loss: 91.26623035334275 Test loss: 90.50997964955339\n",
            "Epoch: 36 /100, Train loss: 91.26469100179287 Test loss: 90.51143683211838\n",
            "Epoch: 37 /100, Train loss: 91.26506071654497 Test loss: 90.49472393305031\n",
            "Epoch: 38 /100, Train loss: 91.26507020718113 Test loss: 90.50934144657083\n",
            "Epoch: 39 /100, Train loss: 91.26985985600986 Test loss: 90.45922015050112\n",
            "Epoch: 40 /100, Train loss: 91.26365670629113 Test loss: 90.53531614828248\n",
            "Epoch: 41 /100, Train loss: 91.26155473089494 Test loss: 90.50269094919547\n",
            "Epoch: 42 /100, Train loss: 91.26121140828111 Test loss: 90.49399268595394\n",
            "Epoch: 43 /100, Train loss: 91.26201408485612 Test loss: 90.48095606629363\n",
            "Epoch: 44 /100, Train loss: 91.26774155214683 Test loss: 90.47309769991053\n",
            "Epoch: 45 /100, Train loss: 91.26132636196647 Test loss: 90.51008780416748\n",
            "Epoch: 46 /100, Train loss: 91.26181270042242 Test loss: 90.47394216586954\n",
            "Epoch: 47 /100, Train loss: 91.26050769608403 Test loss: 90.48562292776145\n",
            "Epoch: 48 /100, Train loss: 91.26184484489373 Test loss: 90.48863596412724\n",
            "Epoch: 49 /100, Train loss: 91.26295669309646 Test loss: 90.48605013747826\n",
            "Epoch: 50 /100, Train loss: 91.26051602847326 Test loss: 90.4790257109906\n",
            "Epoch: 51 /100, Train loss: 91.2597176259929 Test loss: 90.47528678808327\n",
            "Epoch: 52 /100, Train loss: 91.26041530037668 Test loss: 90.49822182342825\n",
            "Epoch: 53 /100, Train loss: 91.25897643886603 Test loss: 90.47685171426535\n",
            "Epoch: 54 /100, Train loss: 91.2593999889878 Test loss: 90.47221242277824\n",
            "Epoch: 55 /100, Train loss: 91.26157006704229 Test loss: 90.5219178492889\n",
            "Epoch: 56 /100, Train loss: 91.26915633203156 Test loss: 90.55339606028271\n",
            "Epoch: 57 /100, Train loss: 91.26388682341569 Test loss: 90.54205427543124\n",
            "Epoch: 58 /100, Train loss: 91.26146069405684 Test loss: 90.47806482305126\n",
            "Epoch: 59 /100, Train loss: 91.25993795396164 Test loss: 90.49611262472838\n",
            "Epoch: 60 /100, Train loss: 91.25912434466716 Test loss: 90.48939402953454\n",
            "Epoch: 61 /100, Train loss: 91.26211129896811 Test loss: 90.46921446720704\n",
            "Epoch: 62 /100, Train loss: 91.25990913934268 Test loss: 90.48794356139783\n",
            "Epoch: 63 /100, Train loss: 91.26032804982988 Test loss: 90.47585429139363\n",
            "Epoch: 64 /100, Train loss: 91.26014240305587 Test loss: 90.51474308078812\n",
            "Epoch: 65 /100, Train loss: 91.26098354131955 Test loss: 90.49862444336675\n",
            "Epoch: 66 /100, Train loss: 91.25804080605218 Test loss: 90.47507935137845\n",
            "Epoch: 67 /100, Train loss: 91.25970456799072 Test loss: 90.46103891746765\n",
            "Epoch: 68 /100, Train loss: 91.2590847505886 Test loss: 90.46456449707726\n",
            "Epoch: 69 /100, Train loss: 91.25793844583538 Test loss: 90.47901016478131\n",
            "Epoch: 70 /100, Train loss: 91.25907288416047 Test loss: 90.48153158953626\n",
            "Epoch: 71 /100, Train loss: 91.26741157075477 Test loss: 90.45631117186755\n",
            "Epoch: 72 /100, Train loss: 91.25822256476235 Test loss: 90.4740497632002\n",
            "Epoch: 73 /100, Train loss: 91.26065326467655 Test loss: 90.50058326696274\n",
            "Epoch: 74 /100, Train loss: 91.25738703236598 Test loss: 90.49239350853664\n",
            "Epoch: 75 /100, Train loss: 91.25796875588597 Test loss: 90.46794282063154\n",
            "Epoch: 76 /100, Train loss: 91.2588528490315 Test loss: 90.49060094342752\n",
            "Epoch: 77 /100, Train loss: 91.25940727962261 Test loss: 90.46112752164225\n",
            "Epoch: 78 /100, Train loss: 91.25783535578861 Test loss: 90.47162298747423\n",
            "Epoch: 79 /100, Train loss: 91.25935960141595 Test loss: 90.47210797007419\n",
            "Epoch: 80 /100, Train loss: 91.25783701071401 Test loss: 90.50797791230187\n",
            "Epoch: 81 /100, Train loss: 91.25862744759353 Test loss: 90.49581906698664\n",
            "Epoch: 82 /100, Train loss: 91.25942534642901 Test loss: 90.4960788803784\n",
            "Epoch: 83 /100, Train loss: 91.25754680866156 Test loss: 90.49571836401476\n",
            "Epoch: 84 /100, Train loss: 91.25898014578262 Test loss: 90.49205394044445\n",
            "Epoch: 85 /100, Train loss: 91.2591343619762 Test loss: 90.48517936811443\n",
            "Epoch: 86 /100, Train loss: 91.2585000417588 Test loss: 90.4983623152949\n",
            "Epoch: 87 /100, Train loss: 91.25769414765934 Test loss: 90.50239549455024\n",
            "Epoch: 88 /100, Train loss: 91.25901917496755 Test loss: 90.51232811322456\n",
            "Epoch: 89 /100, Train loss: 91.25917455914701 Test loss: 90.47946658121924\n",
            "Epoch: 90 /100, Train loss: 91.25989509793912 Test loss: 90.49180673849696\n",
            "Epoch: 91 /100, Train loss: 91.25707633229602 Test loss: 90.48957272066194\n",
            "Epoch: 92 /100, Train loss: 91.25784216534468 Test loss: 90.5008589963063\n",
            "Epoch: 93 /100, Train loss: 91.25778528979298 Test loss: 90.480831205761\n",
            "Epoch: 94 /100, Train loss: 91.25917244505365 Test loss: 90.49644720423825\n",
            "Epoch: 95 /100, Train loss: 91.25823764271534 Test loss: 90.4689723553126\n",
            "Epoch: 96 /100, Train loss: 91.25830598853327 Test loss: 90.48412936846277\n",
            "Epoch: 97 /100, Train loss: 91.26153805747664 Test loss: 90.52546896144155\n",
            "Epoch: 98 /100, Train loss: 91.26036635363548 Test loss: 90.48037120649612\n",
            "Epoch: 99 /100, Train loss: 91.25936610899693 Test loss: 90.51703228334115\n",
            "Epoch: 100 /100, Train loss: 91.25937077189994 Test loss: 90.52083183035846\n"
          ]
        }
      ],
      "source": [
        "w_ridge, train_loss_ridge, test_loss_ridge = mini_batch_gradient_descent(train_x, train_y, test_x, test_y, batch_size=16, num_epochs=100, learning_rate=0.000001, weight_decay_factor=0.000001, loss_type='L2', weight_decay_form=None, momentum=False, momentum_factor=None)"
      ]
    },
    {
      "cell_type": "code",
      "execution_count": null,
      "metadata": {
        "id": "a7olCs7GbNW5",
        "colab": {
          "base_uri": "https://localhost:8080/",
          "height": 279
        },
        "outputId": "867d9c54-7634-4bfc-dab0-df26ae3bc506"
      },
      "outputs": [
        {
          "output_type": "display_data",
          "data": {
            "text/plain": [
              "<Figure size 432x288 with 1 Axes>"
            ],
            "image/png": "[encoded data removed]"
          },
          "metadata": {
            "needs_background": "light"
          }
        }
      ],
      "source": [
        "num_epochs=100\n",
        "plt.plot(range(num_epochs), train_loss_ridge,'r', label=\"Train loss\")\n",
        "plt.plot(range(num_epochs), test_loss_ridge, 'bo',label=\"Test loss\")\n",
        "plt.xlabel(\"Epochs\")\n",
        "plt.ylabel(\"Loss\")\n",
        "plt.legend()\n",
        "plt.show()"
      ]
    },
    {
      "cell_type": "markdown",
      "metadata": {
        "id": "l9ap9a_o1OGE"
      },
      "source": [
        "Pseudoinverse"
      ]
    },
    {
      "cell_type": "code",
      "source": [
        "def compute_loss(X, y, weight, loss_type):\n",
        "    if loss_type == 'L2':\n",
        "        loss = np.mean((np.dot(X, weight) - y) ** 2)\n",
        "    elif loss_type == 'count':\n",
        "        loss = np.mean(np.abs(np.dot(X, weight) - y))\n",
        "    elif loss_type == 'cross-entropy':\n",
        "        exp_term = np.exp(np.dot(X, weight))\n",
        "        loss = np.mean(np.log(1 + exp_term) - y * np.dot(X, weight))\n",
        "    return loss\n",
        "\n",
        "def pseudoinverse(train_x, train_y, test_x, test_y, alpha=0, loss_type='L2'):\n",
        "    pseudoinv= np.dot(np.linalg.inv(train_x.T.dot(train_x) + alpha*np.eye(train_x.shape[1])), train_x.T)\n",
        "    weight= np.dot(pseudoinv, train_y)\n",
        "    train_y_predict= np.dot(train_x, weight)\n",
        "    test_y_predict= np.dot(test_x, weight)\n",
        "\n",
        "    train_loss= compute_loss(train_x, train_y, weight, loss_type=loss_type)\n",
        "    test_loss= compute_loss(test_x, test_y,weight, loss_type=loss_type)\n",
        "  \n",
        "    print(f'Train loss: {train_loss:.4f}, Test loss: {test_loss:.4f}')\n",
        "    \n",
        "    return weight, train_loss, test_loss"
      ],
      "metadata": {
        "id": "ohY45Ph3pYrd"
      },
      "execution_count": null,
      "outputs": []
    },
    {
      "cell_type": "code",
      "source": [
        "weight_inverse, train_loss_inverse, test_loss_inverse = pseudoinverse(train_x, train_y, test_x, test_y, alpha=0, loss_type='L2')"
      ],
      "metadata": {
        "colab": {
          "base_uri": "https://localhost:8080/"
        },
        "id": "XUVECvJdDX7I",
        "outputId": "9e8a337c-3aa9-4df9-8e4a-df3cf64e28a4"
      },
      "execution_count": null,
      "outputs": [
        {
          "output_type": "stream",
          "name": "stdout",
          "text": [
            "Train loss: 91.2564, Test loss: 90.4911\n"
          ]
        }
      ]
    },
    {
      "cell_type": "markdown",
      "source": [
        "##4. Implement L1 weight decay"
      ],
      "metadata": {
        "id": "jL8oRaDeDY-b"
      }
    },
    {
      "cell_type": "code",
      "source": [
        "w_lasso, train_loss_lasso, test_loss_lasso = mini_batch_gradient_descent(train_x, train_y, test_x, test_y, batch_size=32, num_epochs=100, learning_rate=0.001, weight_decay_factor=0.01, loss_type='L1', weight_decay_form='L1', momentum=False, momentum_factor=None)\n",
        "num_epochs=100\n",
        "plt.plot(range(num_epochs), train_loss_lasso,'r', label=\"Train loss\")\n",
        "plt.plot(range(num_epochs), test_loss_lasso, 'bo',label=\"Test loss\")\n",
        "plt.xlabel(\"Epochs\")\n",
        "plt.ylabel(\"Loss\")\n",
        "plt.legend()\n",
        "plt.show()"
      ],
      "metadata": {
        "colab": {
          "base_uri": "https://localhost:8080/",
          "height": 1000
        },
        "id": "erfbyKAdDhYL",
        "outputId": "cae54c28-5b9a-4084-8f51-03c64b47dce9"
      },
      "execution_count": null,
      "outputs": [
        {
          "output_type": "stream",
          "name": "stdout",
          "text": [
            "Epoch: 1 /100, Train loss: 1536.306553485377 Test loss: 1536.416400145846\n",
            "Epoch: 2 /100, Train loss: 1072.737473486003 Test loss: 1072.8473201464722\n",
            "Epoch: 3 /100, Train loss: 609.1683934867181 Test loss: 609.278240147187\n",
            "Epoch: 4 /100, Train loss: 145.599313487433 Test loss: 145.7091601479019\n",
            "Epoch: 5 /100, Train loss: 6.521264511110533 Test loss: 6.531578838668304\n",
            "Epoch: 6 /100, Train loss: 6.527169428180771 Test loss: 6.53946709458782\n",
            "Epoch: 7 /100, Train loss: 6.523201857795742 Test loss: 6.538156065381862\n",
            "Epoch: 8 /100, Train loss: 6.529671262837253 Test loss: 6.549263502659853\n",
            "Epoch: 9 /100, Train loss: 6.531985370713384 Test loss: 6.54867165631753\n",
            "Epoch: 10 /100, Train loss: 6.532673044507494 Test loss: 6.540063269732217\n",
            "Epoch: 11 /100, Train loss: 6.52544955877054 Test loss: 6.547993547539347\n",
            "Epoch: 12 /100, Train loss: 6.524474138095963 Test loss: 6.531082363969998\n",
            "Epoch: 13 /100, Train loss: 6.523947435301993 Test loss: 6.535353409973815\n",
            "Epoch: 14 /100, Train loss: 6.534821036173326 Test loss: 6.547343612376445\n",
            "Epoch: 15 /100, Train loss: 6.5278723062866755 Test loss: 6.547001969483031\n",
            "Epoch: 16 /100, Train loss: 6.527654530030879 Test loss: 6.532025467176001\n",
            "Epoch: 17 /100, Train loss: 6.522671036248993 Test loss: 6.53617272853955\n",
            "Epoch: 18 /100, Train loss: 6.529510762201744 Test loss: 6.546419920424143\n",
            "Epoch: 19 /100, Train loss: 6.532312562935993 Test loss: 6.536005391433456\n",
            "Epoch: 20 /100, Train loss: 6.524624342365408 Test loss: 6.544070032944289\n",
            "Epoch: 21 /100, Train loss: 6.5298044764148315 Test loss: 6.534805039956663\n",
            "Epoch: 22 /100, Train loss: 6.53054773871653 Test loss: 6.552633794575227\n",
            "Epoch: 23 /100, Train loss: 6.54093681901643 Test loss: 6.556742978797632\n",
            "Epoch: 24 /100, Train loss: 6.532225707317792 Test loss: 6.546230823918224\n",
            "Epoch: 25 /100, Train loss: 6.523766436852328 Test loss: 6.542743651796658\n",
            "Epoch: 26 /100, Train loss: 6.526144748307243 Test loss: 6.535392589966958\n",
            "Epoch: 27 /100, Train loss: 6.5461276812411855 Test loss: 6.559239720602299\n",
            "Epoch: 28 /100, Train loss: 6.529829176126143 Test loss: 6.5544639463218894\n",
            "Epoch: 29 /100, Train loss: 6.528165225007889 Test loss: 6.54373555433218\n",
            "Epoch: 30 /100, Train loss: 6.53821472674421 Test loss: 6.548791321550305\n",
            "Epoch: 31 /100, Train loss: 6.52667990478574 Test loss: 6.543330640295879\n",
            "Epoch: 32 /100, Train loss: 6.528280103260865 Test loss: 6.544668147667727\n",
            "Epoch: 33 /100, Train loss: 6.530322152940453 Test loss: 6.53668696837022\n",
            "Epoch: 34 /100, Train loss: 6.524609180954439 Test loss: 6.542479050564343\n",
            "Epoch: 35 /100, Train loss: 6.5237914617152875 Test loss: 6.542111906577619\n",
            "Epoch: 36 /100, Train loss: 6.524248245783094 Test loss: 6.5447306079841345\n",
            "Epoch: 37 /100, Train loss: 6.524431650025453 Test loss: 6.531924943442748\n",
            "Epoch: 38 /100, Train loss: 6.54664805185549 Test loss: 6.566902983020231\n",
            "Epoch: 39 /100, Train loss: 6.529578109754065 Test loss: 6.5409521620619415\n",
            "Epoch: 40 /100, Train loss: 6.521355628745204 Test loss: 6.536480329239464\n",
            "Epoch: 41 /100, Train loss: 6.53036257342369 Test loss: 6.538326045005218\n",
            "Epoch: 42 /100, Train loss: 6.52722194931139 Test loss: 6.536077141015121\n",
            "Epoch: 43 /100, Train loss: 6.536823901509804 Test loss: 6.563201778860179\n",
            "Epoch: 44 /100, Train loss: 6.526941874999427 Test loss: 6.537749947335043\n",
            "Epoch: 45 /100, Train loss: 6.534206296331355 Test loss: 6.555909504170688\n",
            "Epoch: 46 /100, Train loss: 6.5298288761600665 Test loss: 6.5346880724036875\n",
            "Epoch: 47 /100, Train loss: 6.532470315798083 Test loss: 6.542435651079706\n",
            "Epoch: 48 /100, Train loss: 6.524587451339612 Test loss: 6.538802015229706\n",
            "Epoch: 49 /100, Train loss: 6.525738004560291 Test loss: 6.534960380512355\n",
            "Epoch: 50 /100, Train loss: 6.534309335611487 Test loss: 6.548712705043546\n",
            "Epoch: 51 /100, Train loss: 6.531276280921462 Test loss: 6.551691377283715\n",
            "Epoch: 52 /100, Train loss: 6.530212889918179 Test loss: 6.551292051838046\n",
            "Epoch: 53 /100, Train loss: 6.532656837859968 Test loss: 6.563321254828545\n",
            "Epoch: 54 /100, Train loss: 6.523952114847891 Test loss: 6.535392862108786\n",
            "Epoch: 55 /100, Train loss: 6.5255058627339775 Test loss: 6.547694340032199\n",
            "Epoch: 56 /100, Train loss: 6.530621835043945 Test loss: 6.547604522256289\n",
            "Epoch: 57 /100, Train loss: 6.527441041140531 Test loss: 6.54900116637921\n",
            "Epoch: 58 /100, Train loss: 6.528406841500781 Test loss: 6.551510080895147\n",
            "Epoch: 59 /100, Train loss: 6.549941823004871 Test loss: 6.576120411556123\n",
            "Epoch: 60 /100, Train loss: 6.526410379329039 Test loss: 6.547014057409693\n",
            "Epoch: 61 /100, Train loss: 6.52997788514445 Test loss: 6.55150527917345\n",
            "Epoch: 62 /100, Train loss: 6.524944669557199 Test loss: 6.539971159650241\n",
            "Epoch: 63 /100, Train loss: 6.524959141769278 Test loss: 6.548305229368472\n",
            "Epoch: 64 /100, Train loss: 6.53104150425512 Test loss: 6.543645319199324\n",
            "Epoch: 65 /100, Train loss: 6.527044207377514 Test loss: 6.54628214584056\n",
            "Epoch: 66 /100, Train loss: 6.5292962328678374 Test loss: 6.5421201342622295\n",
            "Epoch: 67 /100, Train loss: 6.530708990980971 Test loss: 6.54396358415813\n",
            "Epoch: 68 /100, Train loss: 6.5300776856114675 Test loss: 6.534522048086823\n",
            "Epoch: 69 /100, Train loss: 6.525101817545083 Test loss: 6.535111253457399\n",
            "Epoch: 70 /100, Train loss: 6.526113579762445 Test loss: 6.546584893585223\n",
            "Epoch: 71 /100, Train loss: 6.525557856799621 Test loss: 6.538868363181211\n",
            "Epoch: 72 /100, Train loss: 6.528521273873636 Test loss: 6.547772089564052\n",
            "Epoch: 73 /100, Train loss: 6.5478118969622825 Test loss: 6.551187073808305\n",
            "Epoch: 74 /100, Train loss: 6.5349808323557035 Test loss: 6.541874448987732\n",
            "Epoch: 75 /100, Train loss: 6.532269189509336 Test loss: 6.542377275194593\n",
            "Epoch: 76 /100, Train loss: 6.527480961492616 Test loss: 6.550618384530165\n",
            "Epoch: 77 /100, Train loss: 6.527693190181369 Test loss: 6.540820855810666\n",
            "Epoch: 78 /100, Train loss: 6.53313866597189 Test loss: 6.549048638210233\n",
            "Epoch: 79 /100, Train loss: 6.53157200590977 Test loss: 6.541950986403215\n",
            "Epoch: 80 /100, Train loss: 6.529946442114676 Test loss: 6.545798588322274\n",
            "Epoch: 81 /100, Train loss: 6.533099668652584 Test loss: 6.5544697922957535\n",
            "Epoch: 82 /100, Train loss: 6.53409631334603 Test loss: 6.536391019012623\n",
            "Epoch: 83 /100, Train loss: 6.530068525263113 Test loss: 6.547618355543713\n",
            "Epoch: 84 /100, Train loss: 6.53747030212108 Test loss: 6.545396861462552\n",
            "Epoch: 85 /100, Train loss: 6.526120492230301 Test loss: 6.53691148824907\n",
            "Epoch: 86 /100, Train loss: 6.5296954845523345 Test loss: 6.547127250260578\n",
            "Epoch: 87 /100, Train loss: 6.524893360143135 Test loss: 6.53921111925321\n",
            "Epoch: 88 /100, Train loss: 6.532956673204772 Test loss: 6.549818261371803\n",
            "Epoch: 89 /100, Train loss: 6.527999621555 Test loss: 6.547130553303107\n",
            "Epoch: 90 /100, Train loss: 6.525796740071573 Test loss: 6.543109548528259\n",
            "Epoch: 91 /100, Train loss: 6.531296055263275 Test loss: 6.54012290435606\n",
            "Epoch: 92 /100, Train loss: 6.522054428011477 Test loss: 6.534691445208033\n",
            "Epoch: 93 /100, Train loss: 6.5310699144542 Test loss: 6.546898801331889\n",
            "Epoch: 94 /100, Train loss: 6.528045069427458 Test loss: 6.54993922308933\n",
            "Epoch: 95 /100, Train loss: 6.532185742646947 Test loss: 6.533676049898339\n",
            "Epoch: 96 /100, Train loss: 6.526151822395917 Test loss: 6.5493884393866875\n",
            "Epoch: 97 /100, Train loss: 6.536495402890803 Test loss: 6.54805617034063\n",
            "Epoch: 98 /100, Train loss: 6.5311084695985455 Test loss: 6.556448666310454\n",
            "Epoch: 99 /100, Train loss: 6.534068001297718 Test loss: 6.555476128672672\n",
            "Epoch: 100 /100, Train loss: 6.533778397498369 Test loss: 6.544759138814189\n"
          ]
        },
        {
          "output_type": "display_data",
          "data": {
            "text/plain": [
              "<Figure size 432x288 with 1 Axes>"
            ],
            "image/png": "[encoded data removed]"
          },
          "metadata": {
            "needs_background": "light"
          }
        }
      ]
    },
    {
      "cell_type": "markdown",
      "source": [
        "##5. Count Regression\n",
        "\\begin{align*}\n",
        "y_{pred} &= e^{w^T X}\\\\\n",
        "L(y, y_{pred}) &= e^{-y_{pred}} y_{pred}^y / y!\\\\\n",
        "&= -\\sum_{i=1}^{n}(y_i log(y_{pred,i}) - y_{pred,i})\\\\\n",
        "\\end{align*}"
      ],
      "metadata": {
        "id": "nCdeXttIDv23"
      }
    },
    {
      "cell_type": "code",
      "source": [
        "def count_regression(X_train, y_train, X_test, y_test, batch_size=16, num_epochs=100, learning_rate=0.01, weight_decay_factor=0, loss_type='count', weight_decay_form='none', momentum=False, momentum_factor=0.9):\n",
        "    num_features = X_train.shape[1]\n",
        "    num_batches = int(np.ceil(len(X_train) / batch_size))\n",
        "    weight = np.random.normal(size=num_features)\n",
        "    m = 0\n",
        "    train_losses = []\n",
        "    test_losses = []\n",
        "\n",
        "    def forward(X, w):\n",
        "      # Clip X * w to avoid overflow in the exponential function\n",
        "      Xw = np.clip(np.dot(X, w), -1000, 500)\n",
        "      # Apply the exponential function and replace any resulting inf or nan values\n",
        "      y_pred = np.where(np.isinf(np.exp(Xw)), 1e10, np.exp(np.clip(Xw, -500, 500)))\n",
        "      return y_pred\n",
        "\n",
        "    def backward(X, error):\n",
        "        return np.dot(X.T, error)\n",
        "\n",
        "    def compute_gradient(X, y, y_pred, loss_type, w):\n",
        "      error = None\n",
        "      if loss_type == \"L2\":\n",
        "          error = 2*(y_pred - y)\n",
        "      elif loss_type == \"count\":\n",
        "          # Clip y_pred to avoid overflow\n",
        "          y_pred_clipped = np.clip(y_pred, -100, None)\n",
        "          error = np.exp(-y_pred_clipped) * (y_pred - y)\n",
        "      elif loss_type == \"cross-entropy\":\n",
        "          error = y_pred - y\n",
        "\n",
        "      gradient = backward(X, error)\n",
        "      if weight_decay_form == 'L2':\n",
        "          gradient += weight_decay_factor * w\n",
        "      elif weight_decay_form == 'L1':\n",
        "          gradient += weight_decay_factor * np.sign(w)\n",
        "\n",
        "      return gradient, error\n",
        "\n",
        "\n",
        "    def compute_loss(y, y_pred, loss_type):\n",
        "      if loss_type == \"L2\":\n",
        "          return np.mean(np.square(y - y_pred))\n",
        "      elif loss_type == \"count\":\n",
        "          # Clip y_pred to avoid overflow\n",
        "          y_pred_clipped = np.clip(y_pred, -100, None)\n",
        "          return np.mean(np.exp(-y_pred_clipped) * np.square(y - y_pred))\n",
        "      elif loss_type == \"cross-entropy\":\n",
        "          y_pred = np.clip(y_pred, 1e-15, 1 - 1e-15)  # clip predictions\n",
        "          return -np.mean(y * np.log(y_pred) + (1 - y) * np.log(1 - y_pred))\n",
        "      elif loss_type == 'L1':\n",
        "          return np.mean(np.abs(y - y_pred))\n",
        "      else:\n",
        "          raise ValueError(\"Invalid loss type: {}\".format(loss_type))\n",
        "\n",
        "    for epoch in range(num_epochs):\n",
        "        # Shuffle the data\n",
        "        perm = np.random.permutation(len(X_train))\n",
        "        X_train = X_train[perm]\n",
        "        y_train = y_train[perm]\n",
        "\n",
        "        # Mini-batch gradient descent\n",
        "        for i in range(num_batches):\n",
        "            start_idx = i * batch_size\n",
        "            end_idx = (i + 1) * batch_size\n",
        "            X_batch = X_train[start_idx:end_idx]\n",
        "            y_batch = y_train[start_idx:end_idx]\n",
        "\n",
        "            y_pred = forward(X_batch, weight)\n",
        "            gradient, error = compute_gradient(X_batch, y_batch, y_pred, loss_type, weight)\n",
        "\n",
        "            if momentum:\n",
        "                m = momentum_factor * m + (1 - momentum_factor) * gradient\n",
        "                weight -= learning_rate * m\n",
        "            else:\n",
        "                weight -= learning_rate * gradient\n",
        "\n",
        "        # Compute train and test losses\n",
        "        y_train_pred = forward(X_train, weight)\n",
        "        train_loss = compute_loss(y_train, y_train_pred, loss_type)\n",
        "        train_losses.append(train_loss)\n",
        "\n",
        "        y_test_pred = forward(X_test, weight)\n",
        "        test_loss = compute_loss(y_test, y_test_pred, loss_type)\n",
        "        test_losses.append(test_loss)\n",
        "\n",
        "        print(\"Epoch:\", epoch+1, \"/100, Train loss:\", train_loss, \"Test loss:\", test_loss)\n",
        "\n",
        "        # Check if the test loss has stopped decreasing\n",
        "        # if len(test_losses) >= 2 and test_losses[-1] >= test_losses[-2]:\n",
        "        #     print(\"Test loss has stopped decreasing. Stopping training.\")\n",
        "        #     break\n",
        "\n",
        "    return weight, train_losses, test_losses"
      ],
      "metadata": {
        "id": "cNIIYX9ZDrWg"
      },
      "execution_count": 42,
      "outputs": []
    },
    {
      "cell_type": "code",
      "source": [
        "w, train_loss, test_loss= count_regression(train_x, train_y, test_x, test_y, batch_size=100, num_epochs=100, learning_rate=0.0000001, weight_decay_factor=0.001, loss_type='L2', weight_decay_form='L2', momentum=False, momentum_factor=0.9)"
      ],
      "metadata": {
        "colab": {
          "base_uri": "https://localhost:8080/",
          "height": 590
        },
        "id": "QxuLKLGkG1m3",
        "outputId": "1d56d8b6-9b51-46b2-fcd5-0b4d91f8b17e"
      },
      "execution_count": 44,
      "outputs": [
        {
          "output_type": "stream",
          "name": "stderr",
          "text": [
            "<ipython-input-42-7241cbdda681>:41: RuntimeWarning: overflow encountered in square\n",
            "  return np.mean(np.square(y - y_pred))\n"
          ]
        },
        {
          "output_type": "stream",
          "name": "stdout",
          "text": [
            "Epoch: 1 /100, Train loss: inf Test loss: inf\n",
            "Epoch: 2 /100, Train loss: inf Test loss: inf\n",
            "Epoch: 3 /100, Train loss: 3993666.588416567 Test loss: inf\n",
            "Epoch: 4 /100, Train loss: 3993666.588416567 Test loss: inf\n",
            "Epoch: 5 /100, Train loss: 3993666.588416567 Test loss: inf\n",
            "Epoch: 6 /100, Train loss: 3993666.588416567 Test loss: inf\n",
            "Epoch: 7 /100, Train loss: 3993666.588416567 Test loss: inf\n",
            "Epoch: 8 /100, Train loss: 3993666.588416567 Test loss: inf\n",
            "Epoch: 9 /100, Train loss: 3993666.588416567 Test loss: inf\n",
            "Epoch: 10 /100, Train loss: 3993666.588416567 Test loss: inf\n"
          ]
        },
        {
          "output_type": "error",
          "ename": "KeyboardInterrupt",
          "evalue": "ignored",
          "traceback": [
            "\u001b[0;31m---------------------------------------------------------------------------\u001b[0m",
            "\u001b[0;31mKeyboardInterrupt\u001b[0m                         Traceback (most recent call last)",
            "\u001b[0;32m<ipython-input-44-e3d1e1a35bc7>\u001b[0m in \u001b[0;36m<module>\u001b[0;34m\u001b[0m\n\u001b[0;32m----> 1\u001b[0;31m \u001b[0mw\u001b[0m\u001b[0;34m,\u001b[0m \u001b[0mtrain_loss\u001b[0m\u001b[0;34m,\u001b[0m \u001b[0mtest_loss\u001b[0m\u001b[0;34m=\u001b[0m \u001b[0mcount_regression\u001b[0m\u001b[0;34m(\u001b[0m\u001b[0mtrain_x\u001b[0m\u001b[0;34m,\u001b[0m \u001b[0mtrain_y\u001b[0m\u001b[0;34m,\u001b[0m \u001b[0mtest_x\u001b[0m\u001b[0;34m,\u001b[0m \u001b[0mtest_y\u001b[0m\u001b[0;34m,\u001b[0m \u001b[0mbatch_size\u001b[0m\u001b[0;34m=\u001b[0m\u001b[0;36m100\u001b[0m\u001b[0;34m,\u001b[0m \u001b[0mnum_epochs\u001b[0m\u001b[0;34m=\u001b[0m\u001b[0;36m100\u001b[0m\u001b[0;34m,\u001b[0m \u001b[0mlearning_rate\u001b[0m\u001b[0;34m=\u001b[0m\u001b[0;36m0.0000001\u001b[0m\u001b[0;34m,\u001b[0m \u001b[0mweight_decay_factor\u001b[0m\u001b[0;34m=\u001b[0m\u001b[0;36m0.001\u001b[0m\u001b[0;34m,\u001b[0m \u001b[0mloss_type\u001b[0m\u001b[0;34m=\u001b[0m\u001b[0;34m'L2'\u001b[0m\u001b[0;34m,\u001b[0m \u001b[0mweight_decay_form\u001b[0m\u001b[0;34m=\u001b[0m\u001b[0;34m'L2'\u001b[0m\u001b[0;34m,\u001b[0m \u001b[0mmomentum\u001b[0m\u001b[0;34m=\u001b[0m\u001b[0;32mFalse\u001b[0m\u001b[0;34m,\u001b[0m \u001b[0mmomentum_factor\u001b[0m\u001b[0;34m=\u001b[0m\u001b[0;36m0.9\u001b[0m\u001b[0;34m)\u001b[0m\u001b[0;34m\u001b[0m\u001b[0;34m\u001b[0m\u001b[0m\n\u001b[0m",
            "\u001b[0;32m<ipython-input-42-7241cbdda681>\u001b[0m in \u001b[0;36mcount_regression\u001b[0;34m(X_train, y_train, X_test, y_test, batch_size, num_epochs, learning_rate, weight_decay_factor, loss_type, weight_decay_form, momentum, momentum_factor)\u001b[0m\n\u001b[1;32m     55\u001b[0m         \u001b[0;31m# Shuffle the data\u001b[0m\u001b[0;34m\u001b[0m\u001b[0;34m\u001b[0m\u001b[0;34m\u001b[0m\u001b[0m\n\u001b[1;32m     56\u001b[0m         \u001b[0mperm\u001b[0m \u001b[0;34m=\u001b[0m \u001b[0mnp\u001b[0m\u001b[0;34m.\u001b[0m\u001b[0mrandom\u001b[0m\u001b[0;34m.\u001b[0m\u001b[0mpermutation\u001b[0m\u001b[0;34m(\u001b[0m\u001b[0mlen\u001b[0m\u001b[0;34m(\u001b[0m\u001b[0mX_train\u001b[0m\u001b[0;34m)\u001b[0m\u001b[0;34m)\u001b[0m\u001b[0;34m\u001b[0m\u001b[0;34m\u001b[0m\u001b[0m\n\u001b[0;32m---> 57\u001b[0;31m         \u001b[0mX_train\u001b[0m \u001b[0;34m=\u001b[0m \u001b[0mX_train\u001b[0m\u001b[0;34m[\u001b[0m\u001b[0mperm\u001b[0m\u001b[0;34m]\u001b[0m\u001b[0;34m\u001b[0m\u001b[0;34m\u001b[0m\u001b[0m\n\u001b[0m\u001b[1;32m     58\u001b[0m         \u001b[0my_train\u001b[0m \u001b[0;34m=\u001b[0m \u001b[0my_train\u001b[0m\u001b[0;34m[\u001b[0m\u001b[0mperm\u001b[0m\u001b[0;34m]\u001b[0m\u001b[0;34m\u001b[0m\u001b[0;34m\u001b[0m\u001b[0m\n\u001b[1;32m     59\u001b[0m \u001b[0;34m\u001b[0m\u001b[0m\n",
            "\u001b[0;31mKeyboardInterrupt\u001b[0m: "
          ]
        }
      ]
    },
    {
      "cell_type": "markdown",
      "source": [
        "##6. Model comparison\n"
      ],
      "metadata": {
        "id": "m0zHKAuX2wv8"
      }
    },
    {
      "cell_type": "code",
      "source": [
        "# fig, ax = plt.subplots(figsize=(8, 6))\n",
        "plt.hist(w_ridge, alpha=0.5, label='Ridge')\n",
        "plt.xlabel('Weight Value')\n",
        "plt.ylabel('Frequency')\n",
        "plt.title('Histogram of Weights - Ridge')\n",
        "plt.show()"
      ],
      "metadata": {
        "colab": {
          "base_uri": "https://localhost:8080/",
          "height": 295
        },
        "id": "iYbX4Db7jqkq",
        "outputId": "08e6653e-b37a-4194-8deb-390417fb2dd2"
      },
      "execution_count": null,
      "outputs": [
        {
          "output_type": "display_data",
          "data": {
            "text/plain": [
              "<Figure size 432x288 with 1 Axes>"
            ],
            "image/png": "[encoded data removed]"
          },
          "metadata": {
            "needs_background": "light"
          }
        }
      ]
    },
    {
      "cell_type": "code",
      "source": [
        "plt.hist(w_lasso, alpha=0.5, label='Lasso')\n",
        "plt.xlabel('Weight Value')\n",
        "plt.ylabel('Frequency')\n",
        "plt.title('Histogram of Weights - Lasso')\n",
        "plt.show()"
      ],
      "metadata": {
        "colab": {
          "base_uri": "https://localhost:8080/",
          "height": 295
        },
        "id": "kyqJJoVMEXKx",
        "outputId": "9970c72a-9a12-4080-9952-9b8bb4235d56"
      },
      "execution_count": null,
      "outputs": [
        {
          "output_type": "display_data",
          "data": {
            "text/plain": [
              "<Figure size 432x288 with 1 Axes>"
            ],
            "image/png": "[encoded data removed]"
          },
          "metadata": {
            "needs_background": "light"
          }
        }
      ]
    },
    {
      "cell_type": "markdown",
      "source": [
        "**Plot a histogram of the weights for the ridge, lasso, and count regression models. Discuss\n",
        "how the weights differ**\n",
        "\n",
        "For Ridge and Lasso regression, the weight is quite similar. It means that the penalty term applied is not really significant to the model.\n",
        "\n",
        "Lasso regression gives significantly lower loss. It's important to note that Lasso is better at handling multicollinearity by performing feature selection and shrinking the cofficient towards zero and more effective in handling outliers. This might indicates our data has high sparsity or multicollinearity which resulting in Lasso performs better than Ridge.  However, since the weights are similar, it means that both Ridge and Lasso are able to capture relationships between the attributes and target varible."
      ],
      "metadata": {
        "id": "h8iRKY2fo7gS"
      }
    },
    {
      "cell_type": "markdown",
      "source": [
        "**Discuss and compare the behaviors of the models. Are there certain periods (ranges of\n",
        "years) in which models perform better than others? Where are the largest errors across\n",
        "models. Did regularization help for some models but not others?**\n"
      ],
      "metadata": {
        "id": "AGiCpk5-u0Tx"
      }
    },
    {
      "cell_type": "code",
      "source": [
        "#Evaluate model L2\n",
        "periods = [(1920, 1940), (1940, 1960), (1960, 1980), (1980, 2000), (2000, 2020)]\n",
        "\n",
        "for period in periods:\n",
        "    train_mask = (train_y >= period[0]) & (train_y < period[1])\n",
        "    test_mask = (test_y >= period[1]) & (test_y < period[1]+20)\n",
        "    train_x_period, train_y_period = train_x[train_mask], train_y[train_mask]\n",
        "    test_x_period, test_y_period = test_x[test_mask], test_y[test_mask]\n",
        "\n",
        "    # Train the model using mini-batch gradient descent\n",
        "    weight, train_losses, test_losses = mini_batch_gradient_descent(train_x_period, train_y_period, test_x_period, test_y_period, num_epochs=100, learning_rate=0.01, weight_decay_factor=0.001, loss_type='L2', weight_decay_form='L2')\n",
        "    \n",
        "    # Evaluate the performance of the model on the test set for the period\n",
        "    y_pred = np.dot(test_x_period, weight)\n",
        "    mse = np.mean(np.square(test_y_period - y_pred))\n",
        "    print(\"Period:\", period, \"MSE:\", mse)"
      ],
      "metadata": {
        "colab": {
          "base_uri": "https://localhost:8080/",
          "height": 323
        },
        "id": "7qZdHQWqvktT",
        "outputId": "01122edf-f388-42b5-c56f-2b6b4fb6c611"
      },
      "execution_count": null,
      "outputs": [
        {
          "output_type": "error",
          "ename": "ValueError",
          "evalue": "ignored",
          "traceback": [
            "\u001b[0;31m---------------------------------------------------------------------------\u001b[0m",
            "\u001b[0;31mValueError\u001b[0m                                Traceback (most recent call last)",
            "\u001b[0;32m<ipython-input-34-4b56fadad6a6>\u001b[0m in \u001b[0;36m<module>\u001b[0;34m\u001b[0m\n\u001b[1;32m      9\u001b[0m \u001b[0;34m\u001b[0m\u001b[0m\n\u001b[1;32m     10\u001b[0m     \u001b[0;31m# Train the model using mini-batch gradient descent\u001b[0m\u001b[0;34m\u001b[0m\u001b[0;34m\u001b[0m\u001b[0;34m\u001b[0m\u001b[0m\n\u001b[0;32m---> 11\u001b[0;31m     \u001b[0mweight\u001b[0m\u001b[0;34m,\u001b[0m \u001b[0mtrain_losses\u001b[0m\u001b[0;34m,\u001b[0m \u001b[0mtest_losses\u001b[0m \u001b[0;34m=\u001b[0m \u001b[0mmini_batch_gradient_descent\u001b[0m\u001b[0;34m(\u001b[0m\u001b[0mtrain_x_period\u001b[0m\u001b[0;34m,\u001b[0m \u001b[0mtrain_y_period\u001b[0m\u001b[0;34m,\u001b[0m \u001b[0mtest_x_period\u001b[0m\u001b[0;34m,\u001b[0m \u001b[0mtest_y_period\u001b[0m\u001b[0;34m,\u001b[0m \u001b[0mnum_epochs\u001b[0m\u001b[0;34m=\u001b[0m\u001b[0;36m100\u001b[0m\u001b[0;34m,\u001b[0m \u001b[0mlearning_rate\u001b[0m\u001b[0;34m=\u001b[0m\u001b[0;36m0.01\u001b[0m\u001b[0;34m,\u001b[0m \u001b[0mweight_decay_factor\u001b[0m\u001b[0;34m=\u001b[0m\u001b[0;36m0.001\u001b[0m\u001b[0;34m,\u001b[0m \u001b[0mloss_type\u001b[0m\u001b[0;34m=\u001b[0m\u001b[0;34m'L2'\u001b[0m\u001b[0;34m,\u001b[0m \u001b[0mweight_decay_form\u001b[0m\u001b[0;34m=\u001b[0m\u001b[0;34m'L2'\u001b[0m\u001b[0;34m)\u001b[0m\u001b[0;34m\u001b[0m\u001b[0;34m\u001b[0m\u001b[0m\n\u001b[0m\u001b[1;32m     12\u001b[0m \u001b[0;34m\u001b[0m\u001b[0m\n\u001b[1;32m     13\u001b[0m     \u001b[0;31m# Evaluate the performance of the model on the test set for the period\u001b[0m\u001b[0;34m\u001b[0m\u001b[0;34m\u001b[0m\u001b[0;34m\u001b[0m\u001b[0m\n",
            "\u001b[0;32m<ipython-input-13-c850454e92f8>\u001b[0m in \u001b[0;36mmini_batch_gradient_descent\u001b[0;34m(X_train, y_train, X_test, y_test, batch_size, num_epochs, learning_rate, weight_decay_factor, loss_type, weight_decay_form, momentum, momentum_factor)\u001b[0m\n\u001b[1;32m     68\u001b[0m         \u001b[0mtrain_losses\u001b[0m\u001b[0;34m.\u001b[0m\u001b[0mappend\u001b[0m\u001b[0;34m(\u001b[0m\u001b[0mtrain_loss\u001b[0m\u001b[0;34m)\u001b[0m\u001b[0;34m\u001b[0m\u001b[0;34m\u001b[0m\u001b[0m\n\u001b[1;32m     69\u001b[0m \u001b[0;34m\u001b[0m\u001b[0m\n\u001b[0;32m---> 70\u001b[0;31m         \u001b[0my_test_pred\u001b[0m \u001b[0;34m=\u001b[0m \u001b[0mforward\u001b[0m\u001b[0;34m(\u001b[0m\u001b[0mX_test\u001b[0m\u001b[0;34m,\u001b[0m \u001b[0mweight\u001b[0m\u001b[0;34m)\u001b[0m\u001b[0;34m\u001b[0m\u001b[0;34m\u001b[0m\u001b[0m\n\u001b[0m\u001b[1;32m     71\u001b[0m         \u001b[0mtest_loss\u001b[0m \u001b[0;34m=\u001b[0m \u001b[0mcompute_loss\u001b[0m\u001b[0;34m(\u001b[0m\u001b[0my_test\u001b[0m\u001b[0;34m,\u001b[0m \u001b[0my_test_pred\u001b[0m\u001b[0;34m,\u001b[0m \u001b[0mloss_type\u001b[0m\u001b[0;34m)\u001b[0m\u001b[0;34m\u001b[0m\u001b[0;34m\u001b[0m\u001b[0m\n\u001b[1;32m     72\u001b[0m         \u001b[0mtest_losses\u001b[0m\u001b[0;34m.\u001b[0m\u001b[0mappend\u001b[0m\u001b[0;34m(\u001b[0m\u001b[0mtest_loss\u001b[0m\u001b[0;34m)\u001b[0m\u001b[0;34m\u001b[0m\u001b[0;34m\u001b[0m\u001b[0m\n",
            "\u001b[0;32m<ipython-input-13-c850454e92f8>\u001b[0m in \u001b[0;36mforward\u001b[0;34m(X, w)\u001b[0m\n\u001b[1;32m      8\u001b[0m \u001b[0;34m\u001b[0m\u001b[0m\n\u001b[1;32m      9\u001b[0m     \u001b[0;32mdef\u001b[0m \u001b[0mforward\u001b[0m\u001b[0;34m(\u001b[0m\u001b[0mX\u001b[0m\u001b[0;34m,\u001b[0m \u001b[0mw\u001b[0m\u001b[0;34m)\u001b[0m\u001b[0;34m:\u001b[0m\u001b[0;34m\u001b[0m\u001b[0;34m\u001b[0m\u001b[0m\n\u001b[0;32m---> 10\u001b[0;31m         \u001b[0;32mreturn\u001b[0m \u001b[0mnp\u001b[0m\u001b[0;34m.\u001b[0m\u001b[0mdot\u001b[0m\u001b[0;34m(\u001b[0m\u001b[0mX\u001b[0m\u001b[0;34m,\u001b[0m \u001b[0mw\u001b[0m\u001b[0;34m)\u001b[0m\u001b[0;34m\u001b[0m\u001b[0;34m\u001b[0m\u001b[0m\n\u001b[0m\u001b[1;32m     11\u001b[0m \u001b[0;34m\u001b[0m\u001b[0m\n\u001b[1;32m     12\u001b[0m     \u001b[0;32mdef\u001b[0m \u001b[0mbackward\u001b[0m\u001b[0;34m(\u001b[0m\u001b[0mX\u001b[0m\u001b[0;34m,\u001b[0m \u001b[0merror\u001b[0m\u001b[0;34m)\u001b[0m\u001b[0;34m:\u001b[0m\u001b[0;34m\u001b[0m\u001b[0;34m\u001b[0m\u001b[0m\n",
            "\u001b[0;32m/usr/local/lib/python3.8/dist-packages/numpy/core/overrides.py\u001b[0m in \u001b[0;36mdot\u001b[0;34m(*args, **kwargs)\u001b[0m\n",
            "\u001b[0;31mValueError\u001b[0m: shapes (336,91) and (90,) not aligned: 91 (dim 1) != 90 (dim 0)"
          ]
        }
      ]
    },
    {
      "cell_type": "code",
      "source": [
        "df.iloc[:, 0]"
      ],
      "metadata": {
        "colab": {
          "base_uri": "https://localhost:8080/"
        },
        "id": "zo5wVyN-zdBe",
        "outputId": "7cc79ab1-e4f8-4d84-c90e-cb059089afe2"
      },
      "execution_count": null,
      "outputs": [
        {
          "output_type": "execute_result",
          "data": {
            "text/plain": [
              "0         2001\n",
              "1         2001\n",
              "2         2001\n",
              "3         2001\n",
              "4         2001\n",
              "          ... \n",
              "515340    2006\n",
              "515341    2006\n",
              "515342    2006\n",
              "515343    2006\n",
              "515344    2005\n",
              "Name: target, Length: 515345, dtype: int64"
            ]
          },
          "metadata": {},
          "execution_count": 41
        }
      ]
    },
    {
      "cell_type": "code",
      "source": [
        "#Evaluate L2\n",
        "y_train_pred = np.dot(train_x, w_ridge)\n",
        "train_rmse = np.sqrt(np.mean(np.square(train_y - y_train_pred)))\n",
        "y_test_pred = np.dot(test_x, w_ridge)\n",
        "test_rmse = np.sqrt(np.mean(np.square(test_y - y_test_pred)))\n",
        "print(\"Train RMSE:\", train_rmse)\n",
        "print(\"Test RMSE:\", test_rmse)"
      ],
      "metadata": {
        "colab": {
          "base_uri": "https://localhost:8080/"
        },
        "id": "NSWXN3PMvFAP",
        "outputId": "54ef64ad-d978-40a4-a367-9d82d67dfe75"
      },
      "execution_count": null,
      "outputs": [
        {
          "output_type": "stream",
          "name": "stdout",
          "text": [
            "Train RMSE: 9.552927711558576\n",
            "Test RMSE: 9.512634607284436\n"
          ]
        }
      ]
    },
    {
      "cell_type": "code",
      "source": [
        "#Evaluate L1\n",
        "y_train_pred = np.dot(train_x, w_lasso)\n",
        "train_rmse = np.sqrt(np.mean(np.square(train_y - y_train_pred)))\n",
        "y_test_pred = np.dot(test_x, w_lasso)\n",
        "test_rmse = np.sqrt(np.mean(np.square(test_y - y_test_pred)))\n",
        "print(\"Train RMSE:\", train_rmse)\n",
        "print(\"Test RMSE:\", test_rmse)"
      ],
      "metadata": {
        "colab": {
          "base_uri": "https://localhost:8080/"
        },
        "id": "HUi6LwWvqyY5",
        "outputId": "1b8f3d19-7c49-45a7-c601-efc17fcbd075"
      },
      "execution_count": null,
      "outputs": [
        {
          "output_type": "stream",
          "name": "stdout",
          "text": [
            "Train RMSE: 9.870099705457289\n",
            "Test RMSE: 9.791397438648032\n"
          ]
        }
      ]
    },
    {
      "cell_type": "markdown",
      "source": [
        "From RMSE above, L1 Lasso Regression gives larger error compared to Ridge."
      ],
      "metadata": {
        "id": "lMsyKIIZwOXL"
      }
    },
    {
      "cell_type": "markdown",
      "source": [
        "# Problem 5 - Softmax Properties\n",
        "\n",
        "\n",
        "###1. Show that the softmax function is invariant to constant offsets to its input\n",
        "\n",
        "\\begin{align*}\n",
        "softmax(a+c1) &= \\frac{exp(a+c1)}{\\sum_{j=1}^{n}exp(a_j+c)} \\\\\n",
        "&= \\frac{exp(a)exp(c1)}{\\sum_{j=1}^{n}exp(a_j)exp(c)}\\\\\n",
        "&= \\frac{exp(a)}{\\sum_{j=1}^{n}exp(a_j)} \\times \\frac{exp(c1)}{\\sum_{j=1}^{n}exp(c)}{}\\\\\n",
        "&= softmax(a) \\times \\frac{exp(c1)}{n \\times exp(c)}{}\\\\\n",
        "&= softmax(a) \\times \\frac{exp(c1-c)}{n}\n",
        "\\end{align*}\n",
        "\n",
        "Since $\\frac{exp(c1-c)}{n}$ is a constant, it doesn't depend on $a$ and it's proven that softmax function is invariant to constant offset to its input.\n"
      ],
      "metadata": {
        "id": "Ri2DQfSOEA6H"
      }
    },
    {
      "cell_type": "markdown",
      "source": [
        "###2.  Why is the observation that the softmax function is invariant to constant offsets to its input important when implementing it in a neural network?\n",
        "\n",
        "It's important that softmax function is invariant to constant offset to its input because it allows the model to be more robust to changes in input data. Adding or substracting a constant value from input data doesn't change the output of sofmax function and making the network to generalize better to new data that can improve reliability and accuracy."
      ],
      "metadata": {
        "id": "Pl2YQkyDNU7m"
      }
    },
    {
      "cell_type": "markdown",
      "source": [
        "# Problem 6 - Implementing Softmax Classifier\n",
        "\n",
        "Write a function to load the data and the labels, which are returned as NumPy arrays."
      ],
      "metadata": {
        "id": "d7XFmHfPP_t3"
      }
    },
    {
      "cell_type": "code",
      "source": [
        "# Mount Google Drive\n",
        "from google.colab import drive\n",
        "drive.mount('/content/drive')"
      ],
      "metadata": {
        "colab": {
          "base_uri": "https://localhost:8080/"
        },
        "id": "pXxYofx33qwQ",
        "outputId": "43882828-1810-42b8-94e9-ac348542dbc7"
      },
      "execution_count": 46,
      "outputs": [
        {
          "output_type": "stream",
          "name": "stdout",
          "text": [
            "Mounted at /content/drive\n"
          ]
        }
      ]
    },
    {
      "cell_type": "code",
      "source": [
        "from sklearn.model_selection import train_test_split\n",
        "\n",
        "def load_iris_data(train_file, test_file):\n",
        "    train_data = np.loadtxt(train_file)\n",
        "    test_data = np.loadtxt(test_file)\n",
        "    train_labels = train_data[:, 0].astype(int) -1\n",
        "    train_features = train_data[:, 1:]\n",
        "    test_labels = test_data[:, 0].astype(int) -1\n",
        "    test_features = test_data[:, 1:]\n",
        "\n",
        "    # Normalize the features to be between -1 and 1\n",
        "    mean_train = np.mean(train_features, axis=0)\n",
        "    std_train = np.std(train_features, axis=0)\n",
        "    train_features = (train_features - mean_train) / std_train\n",
        "    test_features = (test_features - mean_train) / std_train\n",
        "    return train_features, train_labels, test_features, test_labels\n",
        "\n",
        "iris_train = '/content/drive/MyDrive/Deep Learning/HW2/iris-train.txt'\n",
        "iris_test = '/content/drive/MyDrive/Deep Learning/HW2/iris-test.txt'\n",
        "\n",
        "train_features, train_labels, test_features, test_labels = load_iris_data(iris_train, iris_test)\n",
        "X_train, X_test, y_train, y_test = train_test_split(train_features, train_labels, test_size=0.2, random_state=42)\n",
        "\n",
        "print(X_train.shape)\n",
        "print(X_test.shape)\n",
        "print(y_train.shape)\n",
        "print(y_test.shape)"
      ],
      "metadata": {
        "colab": {
          "base_uri": "https://localhost:8080/"
        },
        "id": "XxrvhNu63P7s",
        "outputId": "7f0ad016-b061-48f3-88ba-a61ca6bcc3da"
      },
      "execution_count": 71,
      "outputs": [
        {
          "output_type": "stream",
          "name": "stdout",
          "text": [
            "(72, 2)\n",
            "(18, 2)\n",
            "(72,)\n",
            "(18,)\n"
          ]
        }
      ]
    },
    {
      "cell_type": "markdown",
      "source": [
        "##1. Implementation & Evaluation\n",
        "\n",
        "* Use softmax loss with L2 weight decay regularization  \n",
        "*  Use stochastic gradient descent with mini batches and momentum to minimize softmax loss of single LNN (use environment's BLAS)\n",
        "* Loop over epochs and mini batches (not individual vector/ matrices)\n",
        "* 1000 epochs\n",
        "* Normalize feature between -1 and 1\n",
        "* Initial weight from Gaussian distribution\n",
        "\n",
        "*Cross entropy loss*\n",
        "\n",
        "$y_{i,j}$: true label for the $i$-th sample and $j$-th class\n",
        "\n",
        "$p_{i,j}$: predicted probability for the $i$-th sample and $j$-th class. \n",
        "$$ L = - \\frac{1}{N} \\sum_{i=1}^N \\sum_{j=1}^C y_{i,j} \\log(p_{i,j}) $$\n",
        "\n",
        "\n",
        "What is the best test accuracy your model achieved? What hyperparameters did you use?\n",
        "Would early stopping have helped improve accuracy on the test data?\n",
        "\n"
      ],
      "metadata": {
        "id": "TG4ZLs-d3nDz"
      }
    },
    {
      "cell_type": "code",
      "source": [
        "# Define hyperparameters\n",
        "learning_rate = 0.01\n",
        "num_epochs = 1000\n",
        "batch_size = 32\n",
        "momentum = 0.9\n",
        "weight_decay = 0.001\n",
        "\n",
        "# Initialize weights\n",
        "num_features = X_train.shape[1]\n",
        "num_classes = len(np.unique(y_train))\n",
        "W = np.random.randn(num_features, num_classes) / np.sqrt(num_features)\n",
        "b = np.zeros(num_classes)"
      ],
      "metadata": {
        "id": "szvY0hUOuxIk"
      },
      "execution_count": null,
      "outputs": []
    },
    {
      "cell_type": "code",
      "source": [
        "train_loss_list = []\n",
        "test_loss_list = []\n",
        "train_accuracy_list = []\n",
        "test_accuracy_list = []\n",
        "\n",
        "# Define softmax function\n",
        "def softmax(z):\n",
        "    e_z = np.exp(z - np.max(z, axis=1, keepdims=True))\n",
        "    return e_z / np.sum(e_z, axis=1, keepdims=True)\n",
        "\n",
        "# Define L2 regularization\n",
        "def L2_regularization(W, lambd):\n",
        "    return 0.5 * lambd * np.sum(W**2)\n",
        "\n",
        "# Define cross-entropy loss\n",
        "def cross_entropy_loss(y_pred, y_true):\n",
        "    num_samples = y_pred.shape[0]\n",
        "    correct_logprobs = -np.log(y_pred[range(num_samples), y_true])\n",
        "    data_loss = np.sum(correct_logprobs) / num_samples\n",
        "    return data_loss\n",
        "\n",
        "# Define gradient function\n",
        "def gradient(X, y, y_pred, W, b, lambd):\n",
        "    num_samples = X.shape[0]\n",
        "    dL_dy = y_pred\n",
        "    dL_dy[range(num_samples), y] -= 1\n",
        "    dL_dy /= num_samples\n",
        "    dW = X.T.dot(dL_dy) + lambd * W\n",
        "    db = np.sum(dL_dy, axis=0, keepdims=True)\n",
        "    return dW, db\n",
        "\n",
        "# Initialize momentum\n",
        "V_dW = np.zeros_like(W)\n",
        "V_db = np.zeros_like(b)\n",
        "\n",
        "# Train the model\n",
        "for epoch in range(num_epochs):\n",
        "    # Shuffle training data\n",
        "    indices = np.random.permutation(X_train.shape[0])\n",
        "    X_train = X_train[indices]\n",
        "    y_train = y_train[indices]\n",
        "\n",
        "    # Mini-batch training\n",
        "    for i in range(0, X_train.shape[0], batch_size):\n",
        "        X_batch = X_train[i:i+batch_size]\n",
        "        y_batch = y_train[i:i+batch_size]\n",
        "\n",
        "        # Forward pass\n",
        "        z = X_batch.dot(W) + b\n",
        "        y_pred = softmax(z)\n",
        "\n",
        "        # Compute loss and regularization\n",
        "        loss = cross_entropy_loss(y_pred, y_batch)\n",
        "        reg_loss = loss + L2_regularization(W, weight_decay)\n",
        "\n",
        "        # Compute gradients\n",
        "        dW, db = gradient(X_batch, y_batch, y_pred, W, b, weight_decay)\n",
        "\n",
        "        # Update weights and bias using momentum\n",
        "        V_dW = momentum * V_dW - learning_rate * dW\n",
        "        V_db = momentum * V_db - learning_rate * db\n",
        "        W += V_dW\n",
        "        b = b.reshape(-1, 1) + V_db.reshape(-1, 1)\n",
        "        b = b.reshape(1, -1)\n",
        "\n",
        "    # Compute and store training loss\n",
        "    z_train = X_train.dot(W) + b\n",
        "    y_pred_train = softmax(z_train)\n",
        "    train_loss = cross_entropy_loss(y_pred_train, y_train)\n",
        "    train_loss_list.append(train_loss)\n",
        "\n",
        "    # Compute and store testing loss\n",
        "    z_test = X_test.dot(W) + b\n",
        "    y_pred_test = softmax(z_test)\n",
        "    test_loss = cross_entropy_loss(y_pred_test, y_test)\n",
        "    test_loss_list.append(test_loss)\n",
        "\n",
        "    # Compute and store training accuracy\n",
        "    y_pred_train_class = np.argmax(y_pred_train, axis=1)\n",
        "    train_accuracy = np.mean(y_pred_train_class == y_train)\n",
        "    train_accuracy_list.append(train_accuracy)\n",
        "\n",
        "    # Compute and store testing accuracy\n",
        "    y_pred_test_class = np.argmax(y_pred_test, axis=1)\n",
        "    test_accuracy = np.mean(y_pred_test_class == y_test)\n",
        "    test_accuracy_list.append(test_accuracy)\n"
      ],
      "metadata": {
        "id": "yfI5SFw0_cEV"
      },
      "execution_count": 90,
      "outputs": []
    },
    {
      "cell_type": "markdown",
      "source": [
        "Generate plot:\n",
        "1. Cross-entropy loss during training as a function of number of epochs\n",
        "2. Mean per class accuracy as a function of training epoch"
      ],
      "metadata": {
        "id": "PG_iftItvTK5"
      }
    },
    {
      "cell_type": "code",
      "source": [
        "# Plot training and testing loss\n",
        "plt.figure(figsize=(12, 5))\n",
        "plt.subplot(1, 2, 1)\n",
        "plt.plot(train_loss_list, label=\"Training Loss\")\n",
        "plt.plot(test_loss_list, label=\"Testing Loss\")\n",
        "plt.xlabel(\"Number of Training Epochs\")\n",
        "plt.ylabel(\"Cross-Entropy Loss\")\n",
        "plt.title(\"Training and Testing Loss\")\n",
        "plt.legend()\n",
        "\n",
        "# Plot training and testing accuracy\n",
        "plt.subplot(1, 2, 2)\n",
        "plt.plot(train_accuracy_list, label=\"Training Accuracy\")\n",
        "plt.plot(test_accuracy_list, label=\"Testing Accuracy\")\n",
        "plt.xlabel(\"Number of Training Epochs\")\n",
        "plt.ylabel(\"Mean Per-Class Accuracy\")\n",
        "plt.title(\"Training and Testing Accuracy\")\n",
        "plt.legend()\n",
        "\n",
        "plt.show()"
      ],
      "metadata": {
        "id": "upmwOn0TunMm",
        "outputId": "95a889e6-8792-4a13-8017-e8d25773b63e",
        "colab": {
          "base_uri": "https://localhost:8080/",
          "height": 350
        }
      },
      "execution_count": 91,
      "outputs": [
        {
          "output_type": "display_data",
          "data": {
            "text/plain": [
              "<Figure size 864x360 with 2 Axes>"
            ],
            "image/png": "[encoded data removed]"
          },
          "metadata": {
            "needs_background": "light"
          }
        }
      ]
    },
    {
      "cell_type": "code",
      "source": [
        "print('Best test accuracy', np.max(test_accuracy_list))\n",
        "print('Best train accuracy', np.max(train_accuracy_list))"
      ],
      "metadata": {
        "id": "rr3xg0SYurn9",
        "outputId": "90a1bd49-3ace-4a3d-cba3-9fc295363dcd",
        "colab": {
          "base_uri": "https://localhost:8080/"
        }
      },
      "execution_count": 97,
      "outputs": [
        {
          "output_type": "stream",
          "name": "stdout",
          "text": [
            "Best test accuracy 1.0\n",
            "Best train accuracy 0.9027777777777778\n"
          ]
        }
      ]
    },
    {
      "cell_type": "markdown",
      "source": [
        "**What is the best test accuracy your model achieved?**\n",
        "Best test accuracy that the model has achieved is 100%. However, it is important to note that test data only consists of 18 data points which might result in this event. It is possible that the test set provided is easier to classify than the train set.\n",
        "\n",
        "**What hyperparameters did you use?**\n",
        "learning_rate = 0.01\n",
        "num_epochs = 1000\n",
        "batch_size = 32\n",
        "momentum = 0.9\n",
        "weight_decay = 0.001\n",
        "\n",
        "Would early stopping have helped improve accuracy on the test data?"
      ],
      "metadata": {
        "id": "ScQO9mf1v2c8"
      }
    },
    {
      "cell_type": "code",
      "source": [],
      "metadata": {
        "id": "Omaj8tVJvIHb"
      },
      "execution_count": null,
      "outputs": []
    }
  ],
  "metadata": {
    "accelerator": "GPU",
    "colab": {
      "provenance": [],
      "include_colab_link": true
    },
    "gpuClass": "standard",
    "kernelspec": {
      "display_name": "Python 3",
      "name": "python3"
    },
    "language_info": {
      "name": "python"
    }
  },
  "nbformat": 4,
  "nbformat_minor": 0
}