{
  "cells": [
    {
      "cell_type": "markdown",
      "metadata": {
        "id": "view-in-github",
        "colab_type": "text"
      },
      "source": [
        "<a href=\"https://colab.research.google.com/github/anastasiarenata1/deeplearning/blob/main/LNN_with_Numpy_and_Softmax_Classifier.ipynb\" target=\"_parent\"><img src=\"https://colab.research.google.com/assets/colab-badge.svg\" alt=\"Open In Colab\"/></a>"
      ]
    },
    {
      "cell_type": "markdown",
      "metadata": {
        "id": "PRQriJO6Rw4D"
      },
      "source": [
        "# Problem 4 - Regression\n",
        "\n",
        "Classification data from 2011 Million Song Challenge dataset to predict music year\n",
        "\n",
        "* Explore three shallow (linear) neural network models with different activation functions for this task.\n",
        "* Evaluate the model by rounding the output of your linear neural network and compute the mean squared error\n",
        "\n",
        "\n",
        "###1. Load and explore the data"
      ]
    },
    {
      "cell_type": "code",
      "execution_count": 2,
      "metadata": {
        "colab": {
          "base_uri": "https://localhost:8080/"
        },
        "id": "BEErmxZU2EDU",
        "outputId": "65239bce-ff72-4979-d16f-b45f12585459"
      },
      "outputs": [
        {
          "output_type": "stream",
          "name": "stdout",
          "text": [
            "--2023-03-01 23:46:42--  https://archive.ics.uci.edu/ml/machine-learning-databases/00203/YearPredictionMSD.txt.zip\n",
            "Resolving archive.ics.uci.edu (archive.ics.uci.edu)... 128.195.10.252\n",
            "Connecting to archive.ics.uci.edu (archive.ics.uci.edu)|128.195.10.252|:443... connected.\n",
            "HTTP request sent, awaiting response... 200 OK\n",
            "Length: 211011981 (201M) [application/x-httpd-php]\n",
            "Saving to: ‘YearPredictionMSD.txt.zip’\n",
            "\n",
            "YearPredictionMSD.t 100%[===================>] 201.24M  31.1MB/s    in 7.0s    \n",
            "\n",
            "2023-03-01 23:46:49 (28.8 MB/s) - ‘YearPredictionMSD.txt.zip’ saved [211011981/211011981]\n",
            "\n",
            "Archive:  YearPredictionMSD.txt.zip\n",
            "  inflating: YearPredictionMSD.txt   \n"
          ]
        }
      ],
      "source": [
        "!wget https://archive.ics.uci.edu/ml/machine-learning-databases/00203/YearPredictionMSD.txt.zip\n",
        "!unzip YearPredictionMSD.txt.zip"
      ]
    },
    {
      "cell_type": "code",
      "execution_count": 3,
      "metadata": {
        "id": "jYGlyolcU0ai"
      },
      "outputs": [],
      "source": [
        "import numpy as np\n",
        "import pandas as pd\n",
        "import torch\n",
        "import torch.nn as nn\n",
        "import torch.optim as optim\n",
        "from torch.utils.data import DataLoader, TensorDataset"
      ]
    },
    {
      "cell_type": "code",
      "execution_count": 4,
      "metadata": {
        "colab": {
          "base_uri": "https://localhost:8080/",
          "height": 299
        },
        "id": "BbPalayaR_Kz",
        "outputId": "7028cc01-4e00-4181-8f05-c800100b0544"
      },
      "outputs": [
        {
          "output_type": "execute_result",
          "data": {
            "text/plain": [
              "   target  timbre_avg_1  timbre_avg_2  timbre_avg_3  timbre_avg_4  \\\n",
              "0    2001      49.94357      21.47114      73.07750       8.74861   \n",
              "1    2001      48.73215      18.42930      70.32679      12.94636   \n",
              "2    2001      50.95714      31.85602      55.81851      13.41693   \n",
              "3    2001      48.24750      -1.89837      36.29772       2.58776   \n",
              "4    2001      50.97020      42.20998      67.09964       8.46791   \n",
              "\n",
              "   timbre_avg_5  timbre_avg_6  timbre_avg_7  timbre_avg_8  timbre_avg_9  ...  \\\n",
              "0     -17.40628     -13.09905     -25.01202     -12.23257       7.83089  ...   \n",
              "1     -10.32437     -24.83777       8.76630      -0.92019      18.76548  ...   \n",
              "2      -6.57898     -18.54940      -3.27872      -2.35035      16.07017  ...   \n",
              "3       0.97170     -26.21683       5.05097     -10.34124       3.55005  ...   \n",
              "4     -15.85279     -16.81409     -12.48207      -9.37636      12.63699  ...   \n",
              "\n",
              "   timbre_covar_69  timbre_covar_70  timbre_covar_71  timbre_covar_72  \\\n",
              "0         13.01620        -54.40548         58.99367         15.37344   \n",
              "1          5.66812        -19.68073         33.04964         42.87836   \n",
              "2          3.03800         26.05866        -50.92779         10.93792   \n",
              "3         34.57337       -171.70734        -16.96705        -46.67617   \n",
              "4          9.92661        -55.95724         64.92712        -17.72522   \n",
              "\n",
              "   timbre_covar_73  timbre_covar_74  timbre_covar_75  timbre_covar_76  \\\n",
              "0          1.11144        -23.08793         68.40795         -1.82223   \n",
              "1         -9.90378        -32.22788         70.49388         12.04941   \n",
              "2         -0.07568         43.20130       -115.00698         -0.05859   \n",
              "3        -12.51516         82.58061        -72.08993          9.90558   \n",
              "4         -1.49237         -7.50035         51.76631          7.88713   \n",
              "\n",
              "   timbre_covar_77  timbre_covar_78  \n",
              "0        -27.46348          2.26327  \n",
              "1         58.43453         26.92061  \n",
              "2         39.67068         -0.66345  \n",
              "3        199.62971         18.85382  \n",
              "4         55.66926         28.74903  \n",
              "\n",
              "[5 rows x 91 columns]"
            ],
            "text/html": [
              "\n",
              "  <div id=\"df-5402f411-7e5e-4b50-bb46-1486cf4ba3ef\">\n",
              "    <div class=\"colab-df-container\">\n",
              "      <div>\n",
              "<style scoped>\n",
              "    .dataframe tbody tr th:only-of-type {\n",
              "        vertical-align: middle;\n",
              "    }\n",
              "\n",
              "    .dataframe tbody tr th {\n",
              "        vertical-align: top;\n",
              "    }\n",
              "\n",
              "    .dataframe thead th {\n",
              "        text-align: right;\n",
              "    }\n",
              "</style>\n",
              "<table border=\"1\" class=\"dataframe\">\n",
              "  <thead>\n",
              "    <tr style=\"text-align: right;\">\n",
              "      <th></th>\n",
              "      <th>target</th>\n",
              "      <th>timbre_avg_1</th>\n",
              "      <th>timbre_avg_2</th>\n",
              "      <th>timbre_avg_3</th>\n",
              "      <th>timbre_avg_4</th>\n",
              "      <th>timbre_avg_5</th>\n",
              "      <th>timbre_avg_6</th>\n",
              "      <th>timbre_avg_7</th>\n",
              "      <th>timbre_avg_8</th>\n",
              "      <th>timbre_avg_9</th>\n",
              "      <th>...</th>\n",
              "      <th>timbre_covar_69</th>\n",
              "      <th>timbre_covar_70</th>\n",
              "      <th>timbre_covar_71</th>\n",
              "      <th>timbre_covar_72</th>\n",
              "      <th>timbre_covar_73</th>\n",
              "      <th>timbre_covar_74</th>\n",
              "      <th>timbre_covar_75</th>\n",
              "      <th>timbre_covar_76</th>\n",
              "      <th>timbre_covar_77</th>\n",
              "      <th>timbre_covar_78</th>\n",
              "    </tr>\n",
              "  </thead>\n",
              "  <tbody>\n",
              "    <tr>\n",
              "      <th>0</th>\n",
              "      <td>2001</td>\n",
              "      <td>49.94357</td>\n",
              "      <td>21.47114</td>\n",
              "      <td>73.07750</td>\n",
              "      <td>8.74861</td>\n",
              "      <td>-17.40628</td>\n",
              "      <td>-13.09905</td>\n",
              "      <td>-25.01202</td>\n",
              "      <td>-12.23257</td>\n",
              "      <td>7.83089</td>\n",
              "      <td>...</td>\n",
              "      <td>13.01620</td>\n",
              "      <td>-54.40548</td>\n",
              "      <td>58.99367</td>\n",
              "      <td>15.37344</td>\n",
              "      <td>1.11144</td>\n",
              "      <td>-23.08793</td>\n",
              "      <td>68.40795</td>\n",
              "      <td>-1.82223</td>\n",
              "      <td>-27.46348</td>\n",
              "      <td>2.26327</td>\n",
              "    </tr>\n",
              "    <tr>\n",
              "      <th>1</th>\n",
              "      <td>2001</td>\n",
              "      <td>48.73215</td>\n",
              "      <td>18.42930</td>\n",
              "      <td>70.32679</td>\n",
              "      <td>12.94636</td>\n",
              "      <td>-10.32437</td>\n",
              "      <td>-24.83777</td>\n",
              "      <td>8.76630</td>\n",
              "      <td>-0.92019</td>\n",
              "      <td>18.76548</td>\n",
              "      <td>...</td>\n",
              "      <td>5.66812</td>\n",
              "      <td>-19.68073</td>\n",
              "      <td>33.04964</td>\n",
              "      <td>42.87836</td>\n",
              "      <td>-9.90378</td>\n",
              "      <td>-32.22788</td>\n",
              "      <td>70.49388</td>\n",
              "      <td>12.04941</td>\n",
              "      <td>58.43453</td>\n",
              "      <td>26.92061</td>\n",
              "    </tr>\n",
              "    <tr>\n",
              "      <th>2</th>\n",
              "      <td>2001</td>\n",
              "      <td>50.95714</td>\n",
              "      <td>31.85602</td>\n",
              "      <td>55.81851</td>\n",
              "      <td>13.41693</td>\n",
              "      <td>-6.57898</td>\n",
              "      <td>-18.54940</td>\n",
              "      <td>-3.27872</td>\n",
              "      <td>-2.35035</td>\n",
              "      <td>16.07017</td>\n",
              "      <td>...</td>\n",
              "      <td>3.03800</td>\n",
              "      <td>26.05866</td>\n",
              "      <td>-50.92779</td>\n",
              "      <td>10.93792</td>\n",
              "      <td>-0.07568</td>\n",
              "      <td>43.20130</td>\n",
              "      <td>-115.00698</td>\n",
              "      <td>-0.05859</td>\n",
              "      <td>39.67068</td>\n",
              "      <td>-0.66345</td>\n",
              "    </tr>\n",
              "    <tr>\n",
              "      <th>3</th>\n",
              "      <td>2001</td>\n",
              "      <td>48.24750</td>\n",
              "      <td>-1.89837</td>\n",
              "      <td>36.29772</td>\n",
              "      <td>2.58776</td>\n",
              "      <td>0.97170</td>\n",
              "      <td>-26.21683</td>\n",
              "      <td>5.05097</td>\n",
              "      <td>-10.34124</td>\n",
              "      <td>3.55005</td>\n",
              "      <td>...</td>\n",
              "      <td>34.57337</td>\n",
              "      <td>-171.70734</td>\n",
              "      <td>-16.96705</td>\n",
              "      <td>-46.67617</td>\n",
              "      <td>-12.51516</td>\n",
              "      <td>82.58061</td>\n",
              "      <td>-72.08993</td>\n",
              "      <td>9.90558</td>\n",
              "      <td>199.62971</td>\n",
              "      <td>18.85382</td>\n",
              "    </tr>\n",
              "    <tr>\n",
              "      <th>4</th>\n",
              "      <td>2001</td>\n",
              "      <td>50.97020</td>\n",
              "      <td>42.20998</td>\n",
              "      <td>67.09964</td>\n",
              "      <td>8.46791</td>\n",
              "      <td>-15.85279</td>\n",
              "      <td>-16.81409</td>\n",
              "      <td>-12.48207</td>\n",
              "      <td>-9.37636</td>\n",
              "      <td>12.63699</td>\n",
              "      <td>...</td>\n",
              "      <td>9.92661</td>\n",
              "      <td>-55.95724</td>\n",
              "      <td>64.92712</td>\n",
              "      <td>-17.72522</td>\n",
              "      <td>-1.49237</td>\n",
              "      <td>-7.50035</td>\n",
              "      <td>51.76631</td>\n",
              "      <td>7.88713</td>\n",
              "      <td>55.66926</td>\n",
              "      <td>28.74903</td>\n",
              "    </tr>\n",
              "  </tbody>\n",
              "</table>\n",
              "<p>5 rows × 91 columns</p>\n",
              "</div>\n",
              "      <button class=\"colab-df-convert\" onclick=\"convertToInteractive('df-5402f411-7e5e-4b50-bb46-1486cf4ba3ef')\"\n",
              "              title=\"Convert this dataframe to an interactive table.\"\n",
              "              style=\"display:none;\">\n",
              "        \n",
              "  <svg xmlns=\"http://www.w3.org/2000/svg\" height=\"24px\"viewBox=\"0 0 24 24\"\n",
              "       width=\"24px\">\n",
              "    <path d=\"M0 0h24v24H0V0z\" fill=\"none\"/>\n",
              "    <path d=\"M18.56 5.44l.94 2.06.94-2.06 2.06-.94-2.06-.94-.94-2.06-.94 2.06-2.06.94zm-11 1L8.5 8.5l.94-2.06 2.06-.94-2.06-.94L8.5 2.5l-.94 2.06-2.06.94zm10 10l.94 2.06.94-2.06 2.06-.94-2.06-.94-.94-2.06-.94 2.06-2.06.94z\"/><path d=\"M17.41 7.96l-1.37-1.37c-.4-.4-.92-.59-1.43-.59-.52 0-1.04.2-1.43.59L10.3 9.45l-7.72 7.72c-.78.78-.78 2.05 0 2.83L4 21.41c.39.39.9.59 1.41.59.51 0 1.02-.2 1.41-.59l7.78-7.78 2.81-2.81c.8-.78.8-2.07 0-2.86zM5.41 20L4 18.59l7.72-7.72 1.47 1.35L5.41 20z\"/>\n",
              "  </svg>\n",
              "      </button>\n",
              "      \n",
              "  <style>\n",
              "    .colab-df-container {\n",
              "      display:flex;\n",
              "      flex-wrap:wrap;\n",
              "      gap: 12px;\n",
              "    }\n",
              "\n",
              "    .colab-df-convert {\n",
              "      background-color: #E8F0FE;\n",
              "      border: none;\n",
              "      border-radius: 50%;\n",
              "      cursor: pointer;\n",
              "      display: none;\n",
              "      fill: #1967D2;\n",
              "      height: 32px;\n",
              "      padding: 0 0 0 0;\n",
              "      width: 32px;\n",
              "    }\n",
              "\n",
              "    .colab-df-convert:hover {\n",
              "      background-color: #E2EBFA;\n",
              "      box-shadow: 0px 1px 2px rgba(60, 64, 67, 0.3), 0px 1px 3px 1px rgba(60, 64, 67, 0.15);\n",
              "      fill: #174EA6;\n",
              "    }\n",
              "\n",
              "    [theme=dark] .colab-df-convert {\n",
              "      background-color: #3B4455;\n",
              "      fill: #D2E3FC;\n",
              "    }\n",
              "\n",
              "    [theme=dark] .colab-df-convert:hover {\n",
              "      background-color: #434B5C;\n",
              "      box-shadow: 0px 1px 3px 1px rgba(0, 0, 0, 0.15);\n",
              "      filter: drop-shadow(0px 1px 2px rgba(0, 0, 0, 0.3));\n",
              "      fill: #FFFFFF;\n",
              "    }\n",
              "  </style>\n",
              "\n",
              "      <script>\n",
              "        const buttonEl =\n",
              "          document.querySelector('#df-5402f411-7e5e-4b50-bb46-1486cf4ba3ef button.colab-df-convert');\n",
              "        buttonEl.style.display =\n",
              "          google.colab.kernel.accessAllowed ? 'block' : 'none';\n",
              "\n",
              "        async function convertToInteractive(key) {\n",
              "          const element = document.querySelector('#df-5402f411-7e5e-4b50-bb46-1486cf4ba3ef');\n",
              "          const dataTable =\n",
              "            await google.colab.kernel.invokeFunction('convertToInteractive',\n",
              "                                                     [key], {});\n",
              "          if (!dataTable) return;\n",
              "\n",
              "          const docLinkHtml = 'Like what you see? Visit the ' +\n",
              "            '<a target=\"_blank\" href=https://colab.research.google.com/notebooks/data_table.ipynb>data table notebook</a>'\n",
              "            + ' to learn more about interactive tables.';\n",
              "          element.innerHTML = '';\n",
              "          dataTable['output_type'] = 'display_data';\n",
              "          await google.colab.output.renderOutput(dataTable, element);\n",
              "          const docLink = document.createElement('div');\n",
              "          docLink.innerHTML = docLinkHtml;\n",
              "          element.appendChild(docLink);\n",
              "        }\n",
              "      </script>\n",
              "    </div>\n",
              "  </div>\n",
              "  "
            ]
          },
          "metadata": {},
          "execution_count": 4
        }
      ],
      "source": [
        "colnames = ['target'] + ['timbre_avg_' + str(i) for i in range(1, 13)] + ['timbre_covar_' + str(i) for i in range(1, 79)]\n",
        "df = pd.read_csv('YearPredictionMSD.txt', header=None, names=colnames)\n",
        "df.head(5)"
      ]
    },
    {
      "cell_type": "markdown",
      "metadata": {
        "id": "gqj7q70Ql5lb"
      },
      "source": [
        "Write a function to load the dataset, e.g.,\n",
        "`trainYears, trainFeat, testYears, testFeat = loadMusicData(fname, addBias)`"
      ]
    },
    {
      "cell_type": "code",
      "execution_count": 5,
      "metadata": {
        "id": "HO0rnbz9STFd"
      },
      "outputs": [],
      "source": [
        "def loadMusicData(data, addBias=True):\n",
        "  train_df = data[:463714]\n",
        "  test_df = data[463714:]\n",
        "  train_y = train_df['target'].values\n",
        "  train_x = train_df.iloc[:,1:].values\n",
        "  test_y = test_df['target'].values\n",
        "  test_x = test_df.iloc[:,1:].values\n",
        "  if addBias:\n",
        "    train_x = np.hstack((train_x, np.ones((train_x.shape[0],1))))\n",
        "    test_x = np.hstack((test_x, np.ones((test_x.shape[0],1))))\n",
        "  return train_y, train_x, test_y, test_x"
      ]
    },
    {
      "cell_type": "markdown",
      "metadata": {
        "id": "iz0sr2dbmDpu"
      },
      "source": [
        "Write a function `mse = musicMSE(pred, gt)` where the inputs are the predicted year and the “ground truth” year from the dataset. The function computes the mean squared error(MSE) by rounding pred before computing the MSE."
      ]
    },
    {
      "cell_type": "code",
      "execution_count": 6,
      "metadata": {
        "id": "eBi_cfQ4nGmY"
      },
      "outputs": [],
      "source": [
        "from sklearn.metrics import mean_squared_error\n",
        "def musicMSE(pred, gt):\n",
        "  pred = np.round(pred)\n",
        "  mse= mean_squared_error(pred, gt)\n",
        "  return mse"
      ]
    },
    {
      "cell_type": "markdown",
      "metadata": {
        "id": "VNpBvB08ojLl"
      },
      "source": [
        "Load the dataset and discuss its properties. \n",
        "1. What is the range of the variables? From 90 attributes, range of variables for timbre average is tighter than range of variables for timbre covariance. However, within each category itself, some attributes have wider range compared to others, in which we don't have further documentation to explain this event.\n",
        "2. How might you normalize them? Normalization can help to ensure that each variables contribute equally to the model. Since range of variables varies significantly accross 90 attributes, I will normalize the data using standardization technique (0 mean and unit std deviation for each attribute) where we can help to preserve importance of variables.\n",
        "3. What years are represented in the dataset? The dataset covers song released from 1922 to 2011 (90 years) with most common year of 2007.\n",
        "4. What will the test mean squared error (MSE) be if your classifier always outputs the most common year in the dataset? 190.08"
      ]
    },
    {
      "cell_type": "code",
      "execution_count": 7,
      "metadata": {
        "colab": {
          "base_uri": "https://localhost:8080/"
        },
        "id": "mwHVPkNVoTmn",
        "outputId": "df3b1f88-37f1-4d5b-9476-6135fa71cc46"
      },
      "outputs": [
        {
          "output_type": "stream",
          "name": "stdout",
          "text": [
            "Variable 1: range = 60\n",
            "Variable 2: range = 721\n",
            "Variable 3: range = 624\n",
            "Variable 4: range = 490\n",
            "Variable 5: range = 444\n",
            "Variable 6: range = 248\n",
            "Variable 7: range = 361\n",
            "Variable 8: range = 199\n",
            "Variable 9: range = 273\n",
            "Variable 10: range = 102\n",
            "Variable 11: range = 158\n",
            "Variable 12: range = 182\n",
            "Variable 13: range = 550\n",
            "Variable 14: range = 65727\n",
            "Variable 15: range = 36796\n",
            "Variable 16: range = 31832\n",
            "Variable 17: range = 19854\n",
            "Variable 18: range = 16826\n",
            "Variable 19: range = 11882\n",
            "Variable 20: range = 9564\n",
            "Variable 21: range = 9610\n",
            "Variable 22: range = 3707\n",
            "Variable 23: range = 6731\n",
            "Variable 24: range = 9808\n",
            "Variable 25: range = 4871\n",
            "Variable 26: range = 37870\n",
            "Variable 27: range = 26522\n",
            "Variable 28: range = 7735\n",
            "Variable 29: range = 6635\n",
            "Variable 30: range = 6669\n",
            "Variable 31: range = 6153\n",
            "Variable 32: range = 3471\n",
            "Variable 33: range = 4567\n",
            "Variable 34: range = 3921\n",
            "Variable 35: range = 2803\n",
            "Variable 36: range = 4208\n",
            "Variable 37: range = 22597\n",
            "Variable 38: range = 18155\n",
            "Variable 39: range = 15869\n",
            "Variable 40: range = 16243\n",
            "Variable 41: range = 8211\n",
            "Variable 42: range = 8068\n",
            "Variable 43: range = 6178\n",
            "Variable 44: range = 2904\n",
            "Variable 45: range = 1768\n",
            "Variable 46: range = 2529\n",
            "Variable 47: range = 23921\n",
            "Variable 48: range = 10960\n",
            "Variable 49: range = 12815\n",
            "Variable 50: range = 4412\n",
            "Variable 51: range = 3698\n",
            "Variable 52: range = 4207\n",
            "Variable 53: range = 5583\n",
            "Variable 54: range = 5100\n",
            "Variable 55: range = 2263\n",
            "Variable 56: range = 12109\n",
            "Variable 57: range = 17812\n",
            "Variable 58: range = 17732\n",
            "Variable 59: range = 9176\n",
            "Variable 60: range = 8190\n",
            "Variable 61: range = 3711\n",
            "Variable 62: range = 2370\n",
            "Variable 63: range = 1413\n",
            "Variable 64: range = 21394\n",
            "Variable 65: range = 10254\n",
            "Variable 66: range = 7344\n",
            "Variable 67: range = 3254\n",
            "Variable 68: range = 7345\n",
            "Variable 69: range = 7192\n",
            "Variable 70: range = 1720\n",
            "Variable 71: range = 11016\n",
            "Variable 72: range = 11695\n",
            "Variable 73: range = 10525\n",
            "Variable 74: range = 3453\n",
            "Variable 75: range = 2666\n",
            "Variable 76: range = 1459\n",
            "Variable 77: range = 19852\n",
            "Variable 78: range = 5449\n",
            "Variable 79: range = 13578\n",
            "Variable 80: range = 8490\n",
            "Variable 81: range = 1279\n",
            "Variable 82: range = 8872\n",
            "Variable 83: range = 5021\n",
            "Variable 84: range = 4832\n",
            "Variable 85: range = 602\n",
            "Variable 86: range = 6831\n",
            "Variable 87: range = 7154\n",
            "Variable 88: range = 699\n",
            "Variable 89: range = 14852\n",
            "Variable 90: range = 1059\n"
          ]
        }
      ],
      "source": [
        "# Range of variables\n",
        "var_ranges = np.ptp(df.iloc[:, 1:].values, axis=0)\n",
        "for i, var_range in enumerate(var_ranges):\n",
        "    print(\"Variable {}: range = {:.0f}\".format(i+1, var_range))"
      ]
    },
    {
      "cell_type": "code",
      "execution_count": 8,
      "metadata": {
        "id": "6xcZrqpiyO0F"
      },
      "outputs": [],
      "source": [
        "#Normalize data using standardization\n",
        "from sklearn.preprocessing import StandardScaler\n",
        "scaler = StandardScaler()\n",
        "\n",
        "def loadMusicData2(data, addBias=True):\n",
        "  train_df = data[:463714]\n",
        "  test_df = data[463714:]\n",
        "  train_y = train_df['target'].values\n",
        "  train_x = train_df.iloc[:,1:].values\n",
        "  test_y = test_df['target'].values\n",
        "  test_x = test_df.iloc[:,1:].values\n",
        "  train_x= scaler.fit_transform(train_x)\n",
        "  test_x= scaler.fit_transform(test_x)\n",
        "\n",
        "  if addBias:\n",
        "    train_x = np.hstack((train_x, np.ones((train_x.shape[0],1))))\n",
        "    test_x = np.hstack((test_x, np.ones((test_x.shape[0],1))))\n",
        "  \n",
        "\n",
        "  return train_y, train_x, test_y, test_x"
      ]
    },
    {
      "cell_type": "code",
      "execution_count": 9,
      "metadata": {
        "colab": {
          "base_uri": "https://localhost:8080/"
        },
        "id": "J88tbEW8y56c",
        "outputId": "f678b92e-7503-4ba5-fabf-d71452cf7393"
      },
      "outputs": [
        {
          "output_type": "stream",
          "name": "stdout",
          "text": [
            "Min years presented:  1922\n",
            "Max years presented:  2011\n",
            "Median years presented:  2002.0\n",
            "Most common year: 2007\n"
          ]
        }
      ],
      "source": [
        "#Years represented\n",
        "print('Min years presented: ', np.min(df['target']))\n",
        "print('Max years presented: ', np.max(df['target']))\n",
        "print('Median years presented: ', np.median(df['target']))\n",
        "\n",
        "from statistics import mode\n",
        "print('Most common year:', mode(df['target']))"
      ]
    },
    {
      "cell_type": "code",
      "execution_count": 10,
      "metadata": {
        "id": "XsuMY-B-6Rq8"
      },
      "outputs": [],
      "source": [
        "train_y, train_x, test_y, test_x = loadMusicData2(df, addBias=True)"
      ]
    },
    {
      "cell_type": "code",
      "execution_count": 11,
      "metadata": {
        "colab": {
          "base_uri": "https://localhost:8080/"
        },
        "id": "QgxWh8BG6E15",
        "outputId": "b24548a9-c06e-4862-c666-d0934dd80924"
      },
      "outputs": [
        {
          "output_type": "execute_result",
          "data": {
            "text/plain": [
              "190.08239236117836"
            ]
          },
          "metadata": {},
          "execution_count": 11
        }
      ],
      "source": [
        "#test MSE\n",
        "musicMSE(torch.full((test_y.shape[0],), 2007), test_y)"
      ]
    },
    {
      "cell_type": "markdown",
      "metadata": {
        "id": "yzi847OP89JV"
      },
      "source": [
        "##2. Classification\n",
        "This problem could have been posed as a classification problem by treating each year as a category. What would be the problems with this approach? Support your argument by analyzing a bar chart with the year as the x-axis and the number of examples for that year as the y-axis.\n",
        "\n",
        "As we can see from the chart, the distribution of train dataset is skewed to the left where majority of the data coming from the later years. If we treat this problem as a classification problem, the model will be biased and will be more likely to predict later years. Furthermore, classification means that the predicted data will be categorical values instead of continuous which can result in loss of information as repercussion. "
      ]
    },
    {
      "cell_type": "code",
      "execution_count": 12,
      "metadata": {
        "colab": {
          "base_uri": "https://localhost:8080/",
          "height": 279
        },
        "id": "QByIY0eo3_uO",
        "outputId": "411c2e65-d3c6-4395-c7e3-a2a5bd48f8ca"
      },
      "outputs": [
        {
          "output_type": "display_data",
          "data": {
            "text/plain": [
              "<Figure size 432x288 with 1 Axes>"
            ],
            "image/png": "[encoded data removed]"
          },
          "metadata": {
            "needs_background": "light"
          }
        }
      ],
      "source": [
        "#plot year frequency from train dataset\n",
        "import matplotlib.pyplot as plt\n",
        "train_df = df[:463714]\n",
        "year_counts = train_df.iloc[:, 0].value_counts()\n",
        "plt.bar(year_counts.index, year_counts.values)\n",
        "plt.xlabel(\"Year\")\n",
        "plt.ylabel(\"Frequency\")\n",
        "plt.show()"
      ]
    },
    {
      "cell_type": "markdown",
      "metadata": {
        "id": "wiR5yP7wBxka"
      },
      "source": [
        "##3. Ridge regression\n",
        "\n",
        "* Implement stochastic gradient descent with mini-batches to minimize the loss and evaluate the train and test MSE.\n",
        "* Tune the learning rate and weight decay factor. \n",
        "* Show the train and test loss as a function of epochs, where the number of epochs should be chosen to ensure the train loss is minimized."
      ]
    },
    {
      "cell_type": "code",
      "source": [
        "def mini_batch_gradient_descent(X_train, y_train, X_test, y_test, batch_size=32, num_epochs=100, learning_rate=0.01, weight_decay_factor=0, loss_type='L2', weight_decay_form='none', momentum=False, momentum_factor=0.9):\n",
        "    num_features = X_train.shape[1]\n",
        "    num_batches = int(np.ceil(len(X_train) / batch_size))\n",
        "    weight = np.random.normal(size=num_features)\n",
        "    m = np.zeros_like(weight)\n",
        "    train_losses = []\n",
        "    test_losses = []\n",
        "\n",
        "    def forward(X, w):\n",
        "        return np.dot(X, w)\n",
        "\n",
        "    def backward(X, error):\n",
        "        return np.dot(X.T, error)\n",
        "\n",
        "    def compute_gradient(X, y, y_pred, loss_type, w):\n",
        "      error = None\n",
        "      if loss_type == \"L2\":\n",
        "          error = 2*(y_pred - y)\n",
        "      elif loss_type == \"count\":\n",
        "          error = np.round(y_pred) - np.round(y)\n",
        "      elif loss_type == \"cross-entropy\":\n",
        "          error = y_pred - y\n",
        "      elif loss_type == 'L1':\n",
        "          error = np.sign(y_pred - y)\n",
        "      gradient = backward(X, error)\n",
        "      if weight_decay_form == 'L2':\n",
        "          gradient += weight_decay_factor * w\n",
        "      elif weight_decay_form == 'L1':\n",
        "          gradient += weight_decay_factor * np.sign(w)\n",
        "      return gradient, error\n",
        "\n",
        "    def compute_loss(y, y_pred, loss_type):\n",
        "        if loss_type == \"L2\":\n",
        "            return np.mean(np.square(y - y_pred))\n",
        "        elif loss_type == \"count\":\n",
        "            return np.mean(np.abs(np.round(y) - np.round(y_pred)))\n",
        "        elif loss_type == \"cross-entropy\":\n",
        "            y_pred = np.clip(y_pred, 1e-15, 1 - 1e-15)  # clip predictions\n",
        "            return -np.mean(y * np.log(y_pred) + (1 - y) * np.log(1 - y_pred))\n",
        "        elif loss_type == 'L1':\n",
        "            return np.mean(np.abs(y - y_pred))\n",
        "\n",
        "    for epoch in range(num_epochs):\n",
        "        # Shuffle the data\n",
        "        perm = np.random.permutation(len(X_train))\n",
        "        X_train = X_train[perm]\n",
        "        y_train = y_train[perm]\n",
        "\n",
        "        # Mini-batch gradient descent\n",
        "        for i in range(num_batches):\n",
        "            start_idx = i * batch_size\n",
        "            end_idx = (i + 1) * batch_size\n",
        "            X_batch = X_train[start_idx:end_idx]\n",
        "            y_batch = y_train[start_idx:end_idx]\n",
        "\n",
        "            y_pred = forward(X_batch, weight)\n",
        "            gradient, error = compute_gradient(X_batch, y_batch, y_pred, loss_type, weight)\n",
        "\n",
        "            if momentum:\n",
        "              m = momentum_factor * m + (1 - momentum_factor) * gradient\n",
        "              weight -= learning_rate * m\n",
        "            else:\n",
        "                weight -= learning_rate * gradient.reshape(weight.shape)\n",
        "\n",
        "        # Compute train and test losses\n",
        "        y_train_pred = forward(X_train, weight)\n",
        "        train_loss = compute_loss(y_train, y_train_pred, loss_type)\n",
        "        train_losses.append(train_loss)\n",
        "\n",
        "        y_test_pred = forward(X_test, weight)\n",
        "        test_loss = compute_loss(y_test, y_test_pred, loss_type)\n",
        "        test_losses.append(test_loss)\n",
        "\n",
        "        print(\"Epoch:\", epoch+1, \"/100, Train loss:\", train_loss, \"Test loss:\", test_loss)\n",
        "\n",
        "    return weight, train_losses, test_losses\n"
      ],
      "metadata": {
        "id": "f7u12GIuw_jz"
      },
      "execution_count": 26,
      "outputs": []
    },
    {
      "cell_type": "markdown",
      "source": [
        "Hyperparameter tuning\n",
        "* Learning rate= 0.0001\n",
        "* Weight decay factor= 0.000001\n",
        "* Batch size=16\n",
        "* Number epochs=100\n",
        "* Loss type= L2\n",
        "* Weight decay form= None\n",
        "* No momentum\n",
        "\n"
      ],
      "metadata": {
        "id": "r27YeMIDlVMX"
      }
    },
    {
      "cell_type": "code",
      "execution_count": 51,
      "metadata": {
        "id": "lHLX_tNcbLWr",
        "colab": {
          "base_uri": "https://localhost:8080/"
        },
        "outputId": "aa8d463a-946c-4756-dbde-5e45f5d0ccee"
      },
      "outputs": [
        {
          "output_type": "stream",
          "name": "stdout",
          "text": [
            "Epoch: 1 /100, Train loss: 623993.0695500606 Test loss: 624164.5710245135\n",
            "Epoch: 2 /100, Train loss: 97708.08362873534 Test loss: 97775.06329043131\n",
            "Epoch: 3 /100, Train loss: 15365.406060394334 Test loss: 15391.306791625531\n",
            "Epoch: 4 /100, Train loss: 2482.5005082361145 Test loss: 2492.281408399886\n",
            "Epoch: 5 /100, Train loss: 466.351398897583 Test loss: 469.5150326235186\n",
            "Epoch: 6 /100, Train loss: 150.7162780758702 Test loss: 151.41107285919938\n",
            "Epoch: 7 /100, Train loss: 101.13699128225292 Test loss: 100.8017505141699\n",
            "Epoch: 8 /100, Train loss: 93.24964212825708 Test loss: 92.57233653737065\n",
            "Epoch: 9 /100, Train loss: 91.91672099772319 Test loss: 91.12752286507866\n",
            "Epoch: 10 /100, Train loss: 91.62505329544001 Test loss: 90.80538725664017\n",
            "Epoch: 11 /100, Train loss: 91.51752221914884 Test loss: 90.62941069466477\n",
            "Epoch: 12 /100, Train loss: 91.45547954563614 Test loss: 90.58494094731124\n",
            "Epoch: 13 /100, Train loss: 91.41180764413103 Test loss: 90.57193704832281\n",
            "Epoch: 14 /100, Train loss: 91.38010654236724 Test loss: 90.5222731311013\n",
            "Epoch: 15 /100, Train loss: 91.35697499437302 Test loss: 90.52360656972118\n",
            "Epoch: 16 /100, Train loss: 91.33649106762648 Test loss: 90.51133552348193\n",
            "Epoch: 17 /100, Train loss: 91.32116293512472 Test loss: 90.48454253941844\n",
            "Epoch: 18 /100, Train loss: 91.30996552595836 Test loss: 90.48935844121151\n",
            "Epoch: 19 /100, Train loss: 91.30001506064193 Test loss: 90.4874154062912\n",
            "Epoch: 20 /100, Train loss: 91.29300932420779 Test loss: 90.48506771830198\n",
            "Epoch: 21 /100, Train loss: 91.28800158843819 Test loss: 90.48876996599147\n",
            "Epoch: 22 /100, Train loss: 91.28033357611687 Test loss: 90.48015191507804\n",
            "Epoch: 23 /100, Train loss: 91.27589698446221 Test loss: 90.48473585364587\n",
            "Epoch: 24 /100, Train loss: 91.27677192623227 Test loss: 90.45788594026389\n",
            "Epoch: 25 /100, Train loss: 91.27105593159091 Test loss: 90.48817047774635\n",
            "Epoch: 26 /100, Train loss: 91.26861623608376 Test loss: 90.49168804977346\n",
            "Epoch: 27 /100, Train loss: 91.27189718233012 Test loss: 90.52514841090131\n",
            "Epoch: 28 /100, Train loss: 91.26624031026114 Test loss: 90.46914849959505\n",
            "Epoch: 29 /100, Train loss: 91.26407859900894 Test loss: 90.47356962839281\n",
            "Epoch: 30 /100, Train loss: 91.26550300005749 Test loss: 90.51069688378121\n",
            "Epoch: 31 /100, Train loss: 91.26297688092035 Test loss: 90.46404159228197\n",
            "Epoch: 32 /100, Train loss: 91.2623724337224 Test loss: 90.49083289465096\n",
            "Epoch: 33 /100, Train loss: 91.26312393711447 Test loss: 90.45475405263738\n",
            "Epoch: 34 /100, Train loss: 91.25984728112441 Test loss: 90.50145650794916\n",
            "Epoch: 35 /100, Train loss: 91.26657718884786 Test loss: 90.44263652905485\n",
            "Epoch: 36 /100, Train loss: 91.26067310609989 Test loss: 90.4698285272137\n",
            "Epoch: 37 /100, Train loss: 91.26370158145383 Test loss: 90.5072096404695\n",
            "Epoch: 38 /100, Train loss: 91.25889343063528 Test loss: 90.48103743866952\n",
            "Epoch: 39 /100, Train loss: 91.25892239302588 Test loss: 90.48083408773522\n",
            "Epoch: 40 /100, Train loss: 91.26549700969207 Test loss: 90.55998866801092\n",
            "Epoch: 41 /100, Train loss: 91.2587683119527 Test loss: 90.47914874223261\n",
            "Epoch: 42 /100, Train loss: 91.26158500548202 Test loss: 90.50207388407848\n",
            "Epoch: 43 /100, Train loss: 91.25871963674845 Test loss: 90.50203095222071\n",
            "Epoch: 44 /100, Train loss: 91.25864093074301 Test loss: 90.50333315058042\n",
            "Epoch: 45 /100, Train loss: 91.25786231284597 Test loss: 90.49275941549107\n",
            "Epoch: 46 /100, Train loss: 91.25843704468834 Test loss: 90.49457218400892\n",
            "Epoch: 47 /100, Train loss: 91.2586135322484 Test loss: 90.47749841986233\n",
            "Epoch: 48 /100, Train loss: 91.25897634640975 Test loss: 90.48496370739747\n",
            "Epoch: 49 /100, Train loss: 91.25855777279236 Test loss: 90.48975204500796\n",
            "Epoch: 50 /100, Train loss: 91.25931652427798 Test loss: 90.50145455691778\n",
            "Epoch: 51 /100, Train loss: 91.25954846734398 Test loss: 90.49118254965572\n",
            "Epoch: 52 /100, Train loss: 91.26065935344143 Test loss: 90.47479953401603\n",
            "Epoch: 53 /100, Train loss: 91.25816658278048 Test loss: 90.48284239726797\n",
            "Epoch: 54 /100, Train loss: 91.25788375966127 Test loss: 90.51113305281667\n",
            "Epoch: 55 /100, Train loss: 91.2582347585306 Test loss: 90.47489737766581\n",
            "Epoch: 56 /100, Train loss: 91.26026222700222 Test loss: 90.48679976131083\n",
            "Epoch: 57 /100, Train loss: 91.2587643679772 Test loss: 90.49447683494195\n",
            "Epoch: 58 /100, Train loss: 91.25936918007775 Test loss: 90.47631039271178\n",
            "Epoch: 59 /100, Train loss: 91.25804873835307 Test loss: 90.51306118318014\n",
            "Epoch: 60 /100, Train loss: 91.2594545060345 Test loss: 90.45959801637372\n",
            "Epoch: 61 /100, Train loss: 91.2584159808608 Test loss: 90.49565863942532\n",
            "Epoch: 62 /100, Train loss: 91.26267510996914 Test loss: 90.47357107281574\n",
            "Epoch: 63 /100, Train loss: 91.25826526347421 Test loss: 90.47242835693017\n",
            "Epoch: 64 /100, Train loss: 91.25891235360916 Test loss: 90.4990261423209\n",
            "Epoch: 65 /100, Train loss: 91.25773014529128 Test loss: 90.49929715853119\n",
            "Epoch: 66 /100, Train loss: 91.25830163783138 Test loss: 90.50616527388925\n",
            "Epoch: 67 /100, Train loss: 91.25912633759204 Test loss: 90.49555323481714\n",
            "Epoch: 68 /100, Train loss: 91.26134861485866 Test loss: 90.52126444423854\n",
            "Epoch: 69 /100, Train loss: 91.25841476982937 Test loss: 90.5027102271548\n",
            "Epoch: 70 /100, Train loss: 91.25844905219283 Test loss: 90.49013447856997\n",
            "Epoch: 71 /100, Train loss: 91.25791184066064 Test loss: 90.48932391228256\n",
            "Epoch: 72 /100, Train loss: 91.26027000790766 Test loss: 90.4636047847537\n",
            "Epoch: 73 /100, Train loss: 91.25954657812845 Test loss: 90.48725456402016\n",
            "Epoch: 74 /100, Train loss: 91.25810337416961 Test loss: 90.47701442154707\n",
            "Epoch: 75 /100, Train loss: 91.25915511088346 Test loss: 90.50618362716979\n",
            "Epoch: 76 /100, Train loss: 91.26051603302449 Test loss: 90.52540973105799\n",
            "Epoch: 77 /100, Train loss: 91.26124122080272 Test loss: 90.4734538166575\n",
            "Epoch: 78 /100, Train loss: 91.25886208723952 Test loss: 90.51901893165969\n",
            "Epoch: 79 /100, Train loss: 91.26001469917806 Test loss: 90.46533292407489\n",
            "Epoch: 80 /100, Train loss: 91.2585289897044 Test loss: 90.4998000275836\n",
            "Epoch: 81 /100, Train loss: 91.2630596709094 Test loss: 90.4560724547599\n",
            "Epoch: 82 /100, Train loss: 91.25775496398944 Test loss: 90.49291630957173\n",
            "Epoch: 83 /100, Train loss: 91.25937539602418 Test loss: 90.49282280807441\n",
            "Epoch: 84 /100, Train loss: 91.25823576115245 Test loss: 90.51415250603598\n",
            "Epoch: 85 /100, Train loss: 91.25922699828186 Test loss: 90.49949355002931\n",
            "Epoch: 86 /100, Train loss: 91.25922036879811 Test loss: 90.5097576580547\n",
            "Epoch: 87 /100, Train loss: 91.25880613358225 Test loss: 90.50955388299562\n",
            "Epoch: 88 /100, Train loss: 91.25808885281998 Test loss: 90.49148021912653\n",
            "Epoch: 89 /100, Train loss: 91.25822647783036 Test loss: 90.48476811970997\n",
            "Epoch: 90 /100, Train loss: 91.26103377710469 Test loss: 90.5114393264792\n",
            "Epoch: 91 /100, Train loss: 91.2591755301005 Test loss: 90.47917644784467\n",
            "Epoch: 92 /100, Train loss: 91.25988096956269 Test loss: 90.5033179333578\n",
            "Epoch: 93 /100, Train loss: 91.25923783019194 Test loss: 90.47262156589095\n",
            "Epoch: 94 /100, Train loss: 91.25943228109502 Test loss: 90.48393960022287\n",
            "Epoch: 95 /100, Train loss: 91.25793651542827 Test loss: 90.47323424319377\n",
            "Epoch: 96 /100, Train loss: 91.26095233162435 Test loss: 90.4654413007741\n",
            "Epoch: 97 /100, Train loss: 91.26182965470002 Test loss: 90.51474515367961\n",
            "Epoch: 98 /100, Train loss: 91.2602688659543 Test loss: 90.46537469811757\n",
            "Epoch: 99 /100, Train loss: 91.2601976624902 Test loss: 90.49269049118051\n",
            "Epoch: 100 /100, Train loss: 91.2605350284773 Test loss: 90.51601873576014\n"
          ]
        }
      ],
      "source": [
        "w_ridge, train_loss_ridge, test_loss_ridge = mini_batch_gradient_descent(train_x, train_y, test_x, test_y, batch_size=16, num_epochs=100, learning_rate=0.000001, weight_decay_factor=0.000001, loss_type='L2', weight_decay_form=None, momentum=False, momentum_factor=None)"
      ]
    },
    {
      "cell_type": "code",
      "execution_count": null,
      "metadata": {
        "id": "a7olCs7GbNW5",
        "colab": {
          "base_uri": "https://localhost:8080/",
          "height": 279
        },
        "outputId": "26c821ec-eec4-4edb-8ff6-cd1287de5875"
      },
      "outputs": [
        {
          "output_type": "display_data",
          "data": {
            "text/plain": [
              "<Figure size 432x288 with 1 Axes>"
            ],
            "image/png": "[encoded data removed]"
          },
          "metadata": {
            "needs_background": "light"
          }
        }
      ],
      "source": [
        "num_epochs=100\n",
        "plt.plot(range(num_epochs), train_loss_ridge,'r', label=\"Train loss\")\n",
        "plt.plot(range(num_epochs), test_loss_ridge, 'bo',label=\"Test loss\")\n",
        "plt.xlabel(\"Epochs\")\n",
        "plt.ylabel(\"Loss\")\n",
        "plt.legend()\n",
        "plt.show()"
      ]
    },
    {
      "cell_type": "markdown",
      "metadata": {
        "id": "l9ap9a_o1OGE"
      },
      "source": [
        "Pseudoinverse"
      ]
    },
    {
      "cell_type": "code",
      "source": [
        "def compute_loss(X, y, weight, loss_type):\n",
        "    if loss_type == 'L2':\n",
        "        loss = np.mean((np.dot(X, weight) - y) ** 2)\n",
        "    elif loss_type == 'count':\n",
        "        loss = np.mean(np.abs(np.dot(X, weight) - y))\n",
        "    elif loss_type == 'cross-entropy':\n",
        "        exp_term = np.exp(np.dot(X, weight))\n",
        "        loss = np.mean(np.log(1 + exp_term) - y * np.dot(X, weight))\n",
        "    return loss\n",
        "\n",
        "def pseudoinverse(train_x, train_y, test_x, test_y, alpha=0, loss_type='L2'):\n",
        "    pseudoinv= np.dot(np.linalg.inv(train_x.T.dot(train_x) + alpha*np.eye(train_x.shape[1])), train_x.T)\n",
        "    weight= np.dot(pseudoinv, train_y)\n",
        "    train_y_predict= np.dot(train_x, weight)\n",
        "    test_y_predict= np.dot(test_x, weight)\n",
        "\n",
        "    train_loss= compute_loss(train_x, train_y, weight, loss_type=loss_type)\n",
        "    test_loss= compute_loss(test_x, test_y,weight, loss_type=loss_type)\n",
        "  \n",
        "    print(f'Train loss: {train_loss:.4f}, Test loss: {test_loss:.4f}')\n",
        "    \n",
        "    return weight, train_loss, test_loss"
      ],
      "metadata": {
        "id": "ohY45Ph3pYrd"
      },
      "execution_count": null,
      "outputs": []
    },
    {
      "cell_type": "code",
      "source": [
        "weight_inverse, train_loss_inverse, test_loss_inverse = pseudoinverse(train_x, train_y, test_x, test_y, alpha=0, loss_type='L2')"
      ],
      "metadata": {
        "colab": {
          "base_uri": "https://localhost:8080/"
        },
        "id": "XUVECvJdDX7I",
        "outputId": "3e9ebb86-0f4f-4ef7-fcc7-08e797bc09ec"
      },
      "execution_count": null,
      "outputs": [
        {
          "output_type": "stream",
          "name": "stdout",
          "text": [
            "Train loss: 91.2564, Test loss: 90.4911\n"
          ]
        }
      ]
    },
    {
      "cell_type": "markdown",
      "source": [
        "##4. Implement L1 weight decay"
      ],
      "metadata": {
        "id": "jL8oRaDeDY-b"
      }
    },
    {
      "cell_type": "code",
      "source": [
        "w_lasso, train_loss_lasso, test_loss_lasso = mini_batch_gradient_descent(train_x, train_y, test_x, test_y, batch_size=32, num_epochs=100, learning_rate=0.0001, weight_decay_factor=0.1, loss_type='L1', weight_decay_form='L1', momentum=False, momentum_factor=None)\n",
        "num_epochs=100\n",
        "plt.plot(range(num_epochs), train_loss_lasso,'r', label=\"Train loss\")\n",
        "plt.plot(range(num_epochs), test_loss_lasso, 'bo',label=\"Test loss\")\n",
        "plt.xlabel(\"Epochs\")\n",
        "plt.ylabel(\"Loss\")\n",
        "plt.legend()\n",
        "plt.show()"
      ],
      "metadata": {
        "colab": {
          "base_uri": "https://localhost:8080/",
          "height": 1000
        },
        "id": "erfbyKAdDhYL",
        "outputId": "149f9e06-396f-4b9f-a83d-ed2551f466bf"
      },
      "execution_count": 28,
      "outputs": [
        {
          "output_type": "stream",
          "name": "stdout",
          "text": [
            "Epoch: 1 /100, Train loss: 1950.9301810614334 Test loss: 1951.0400277219026\n",
            "Epoch: 2 /100, Train loss: 1904.703701061418 Test loss: 1904.813547721887\n",
            "Epoch: 3 /100, Train loss: 1858.4772210614192 Test loss: 1858.5870677218886\n",
            "Epoch: 4 /100, Train loss: 1812.2507410615742 Test loss: 1812.3605877220427\n",
            "Epoch: 5 /100, Train loss: 1766.0242610617274 Test loss: 1766.1341077221969\n",
            "Epoch: 6 /100, Train loss: 1719.79778106168 Test loss: 1719.9076277221498\n",
            "Epoch: 7 /100, Train loss: 1673.571301061423 Test loss: 1673.6811477218919\n",
            "Epoch: 8 /100, Train loss: 1627.344821061165 Test loss: 1627.4546677216342\n",
            "Epoch: 9 /100, Train loss: 1581.1183410609078 Test loss: 1581.2281877213763\n",
            "Epoch: 10 /100, Train loss: 1534.8918610606495 Test loss: 1535.0017077211187\n",
            "Epoch: 11 /100, Train loss: 1488.6653810603925 Test loss: 1488.775227720861\n",
            "Epoch: 12 /100, Train loss: 1442.438901060134 Test loss: 1442.548747720603\n",
            "Epoch: 13 /100, Train loss: 1396.2124210598763 Test loss: 1396.3222677203455\n",
            "Epoch: 14 /100, Train loss: 1349.9859410596187 Test loss: 1350.0957877200876\n",
            "Epoch: 15 /100, Train loss: 1303.7594610593605 Test loss: 1303.86930771983\n",
            "Epoch: 16 /100, Train loss: 1257.5329810591031 Test loss: 1257.6428277195719\n",
            "Epoch: 17 /100, Train loss: 1211.3065010588452 Test loss: 1211.4163477193142\n",
            "Epoch: 18 /100, Train loss: 1165.0800210585874 Test loss: 1165.1898677190566\n",
            "Epoch: 19 /100, Train loss: 1118.8535410583295 Test loss: 1118.9633877187987\n",
            "Epoch: 20 /100, Train loss: 1072.6270610580718 Test loss: 1072.7369077185408\n",
            "Epoch: 21 /100, Train loss: 1026.4005810578142 Test loss: 1026.5104277182832\n",
            "Epoch: 22 /100, Train loss: 980.1741010575564 Test loss: 980.2839477180255\n",
            "Epoch: 23 /100, Train loss: 933.9476210587399 Test loss: 934.0574677192088\n",
            "Epoch: 24 /100, Train loss: 887.7211410601294 Test loss: 887.8309877205985\n",
            "Epoch: 25 /100, Train loss: 841.4946610615192 Test loss: 841.604507721988\n",
            "Epoch: 26 /100, Train loss: 795.2681810629088 Test loss: 795.3780277233777\n",
            "Epoch: 27 /100, Train loss: 749.0417010642984 Test loss: 749.1515477247674\n",
            "Epoch: 28 /100, Train loss: 702.8152210656883 Test loss: 702.9250677261571\n",
            "Epoch: 29 /100, Train loss: 656.5887410670776 Test loss: 656.6985877275467\n",
            "Epoch: 30 /100, Train loss: 610.3622610684673 Test loss: 610.4721077289363\n",
            "Epoch: 31 /100, Train loss: 564.1357810698572 Test loss: 564.245627730326\n",
            "Epoch: 32 /100, Train loss: 517.9093010712469 Test loss: 518.0191477317156\n",
            "Epoch: 33 /100, Train loss: 471.68282107263644 Test loss: 471.7926677331053\n",
            "Epoch: 34 /100, Train loss: 425.45634107402606 Test loss: 425.56618773449503\n",
            "Epoch: 35 /100, Train loss: 379.22986107541567 Test loss: 379.33970773588476\n",
            "Epoch: 36 /100, Train loss: 333.00338107680534 Test loss: 333.11322773727437\n",
            "Epoch: 37 /100, Train loss: 286.77690107819507 Test loss: 286.8867477386641\n",
            "Epoch: 38 /100, Train loss: 240.5504210795848 Test loss: 240.66026774005377\n",
            "Epoch: 39 /100, Train loss: 194.32394108097446 Test loss: 194.43378774144344\n",
            "Epoch: 40 /100, Train loss: 148.0974610823641 Test loss: 148.20730774283308\n",
            "Epoch: 41 /100, Train loss: 101.87098108375379 Test loss: 101.98082774422275\n",
            "Epoch: 42 /100, Train loss: 55.689568831860626 Test loss: 55.79665463855028\n",
            "Epoch: 43 /100, Train loss: 14.625894222278342 Test loss: 14.664893120685463\n",
            "Epoch: 44 /100, Train loss: 6.585255904971756 Test loss: 6.593643633173447\n",
            "Epoch: 45 /100, Train loss: 6.53019469741385 Test loss: 6.541547468822418\n",
            "Epoch: 46 /100, Train loss: 6.51998880314693 Test loss: 6.533773745164131\n",
            "Epoch: 47 /100, Train loss: 6.5179766348302275 Test loss: 6.531660995207973\n",
            "Epoch: 48 /100, Train loss: 6.516289398550285 Test loss: 6.529627698193138\n",
            "Epoch: 49 /100, Train loss: 6.516034112312831 Test loss: 6.528229654915963\n",
            "Epoch: 50 /100, Train loss: 6.5169222878549595 Test loss: 6.530179371959833\n",
            "Epoch: 51 /100, Train loss: 6.5167397754086664 Test loss: 6.532360149341302\n",
            "Epoch: 52 /100, Train loss: 6.515583217833238 Test loss: 6.52824009033953\n",
            "Epoch: 53 /100, Train loss: 6.516737289020132 Test loss: 6.529083546468343\n",
            "Epoch: 54 /100, Train loss: 6.51557782861233 Test loss: 6.530821123467077\n",
            "Epoch: 55 /100, Train loss: 6.51558365868928 Test loss: 6.528507188299907\n",
            "Epoch: 56 /100, Train loss: 6.516186583787125 Test loss: 6.5303021729209245\n",
            "Epoch: 57 /100, Train loss: 6.5161288827144865 Test loss: 6.5316825572242285\n",
            "Epoch: 58 /100, Train loss: 6.517127980367098 Test loss: 6.530026554482017\n",
            "Epoch: 59 /100, Train loss: 6.515313602749752 Test loss: 6.529911685860553\n",
            "Epoch: 60 /100, Train loss: 6.516837294070451 Test loss: 6.533446064083174\n",
            "Epoch: 61 /100, Train loss: 6.516215905329635 Test loss: 6.530066959998989\n",
            "Epoch: 62 /100, Train loss: 6.516208067275089 Test loss: 6.5276071938000895\n",
            "Epoch: 63 /100, Train loss: 6.517126356709529 Test loss: 6.530336374882742\n",
            "Epoch: 64 /100, Train loss: 6.5158866044125565 Test loss: 6.530149772038286\n",
            "Epoch: 65 /100, Train loss: 6.516349630288369 Test loss: 6.525553866140266\n",
            "Epoch: 66 /100, Train loss: 6.515199412474455 Test loss: 6.528297132480572\n",
            "Epoch: 67 /100, Train loss: 6.516175294049129 Test loss: 6.527646547568924\n",
            "Epoch: 68 /100, Train loss: 6.515572933255709 Test loss: 6.529951316087097\n",
            "Epoch: 69 /100, Train loss: 6.515358867468304 Test loss: 6.530340023380803\n",
            "Epoch: 70 /100, Train loss: 6.515868631722628 Test loss: 6.5286095198702\n",
            "Epoch: 71 /100, Train loss: 6.515450697137879 Test loss: 6.528393097690255\n",
            "Epoch: 72 /100, Train loss: 6.515131789577384 Test loss: 6.530822886648729\n",
            "Epoch: 73 /100, Train loss: 6.51649227781784 Test loss: 6.531335460930988\n",
            "Epoch: 74 /100, Train loss: 6.516836845928441 Test loss: 6.528447147647712\n",
            "Epoch: 75 /100, Train loss: 6.516536885238397 Test loss: 6.528872912602708\n",
            "Epoch: 76 /100, Train loss: 6.515864996222254 Test loss: 6.527718042259983\n",
            "Epoch: 77 /100, Train loss: 6.516096636750008 Test loss: 6.529182484655822\n",
            "Epoch: 78 /100, Train loss: 6.515984065186161 Test loss: 6.530898841625088\n",
            "Epoch: 79 /100, Train loss: 6.516040255247726 Test loss: 6.531970925372026\n",
            "Epoch: 80 /100, Train loss: 6.516363740175475 Test loss: 6.5268566612798455\n",
            "Epoch: 81 /100, Train loss: 6.516121941351959 Test loss: 6.532996852320499\n",
            "Epoch: 82 /100, Train loss: 6.515295233477765 Test loss: 6.5288823389133475\n",
            "Epoch: 83 /100, Train loss: 6.51602285359191 Test loss: 6.529995479308426\n",
            "Epoch: 84 /100, Train loss: 6.515386015892401 Test loss: 6.527022723891145\n",
            "Epoch: 85 /100, Train loss: 6.514691504482082 Test loss: 6.529307762747398\n",
            "Epoch: 86 /100, Train loss: 6.517270851971052 Test loss: 6.533525064863008\n",
            "Epoch: 87 /100, Train loss: 6.515481517071464 Test loss: 6.5286247545365965\n",
            "Epoch: 88 /100, Train loss: 6.5153798598397605 Test loss: 6.528731395545174\n",
            "Epoch: 89 /100, Train loss: 6.517310686960089 Test loss: 6.529898014197973\n",
            "Epoch: 90 /100, Train loss: 6.515323283531018 Test loss: 6.52736317113097\n",
            "Epoch: 91 /100, Train loss: 6.515177343160028 Test loss: 6.52729943180442\n",
            "Epoch: 92 /100, Train loss: 6.515508493387368 Test loss: 6.526898834266126\n",
            "Epoch: 93 /100, Train loss: 6.5160789574650035 Test loss: 6.527319824891978\n",
            "Epoch: 94 /100, Train loss: 6.515202222768233 Test loss: 6.530334135593712\n",
            "Epoch: 95 /100, Train loss: 6.515245541690386 Test loss: 6.530768321052215\n",
            "Epoch: 96 /100, Train loss: 6.517258901319921 Test loss: 6.5327983702855486\n",
            "Epoch: 97 /100, Train loss: 6.516942488064987 Test loss: 6.53196632338511\n",
            "Epoch: 98 /100, Train loss: 6.516447314245719 Test loss: 6.526203936983125\n",
            "Epoch: 99 /100, Train loss: 6.515890205610809 Test loss: 6.527740448462714\n",
            "Epoch: 100 /100, Train loss: 6.515958870755062 Test loss: 6.532470440615759\n"
          ]
        },
        {
          "output_type": "display_data",
          "data": {
            "text/plain": [
              "<Figure size 432x288 with 1 Axes>"
            ],
            "image/png": "[encoded data removed]"
          },
          "metadata": {
            "needs_background": "light"
          }
        }
      ]
    },
    {
      "cell_type": "markdown",
      "source": [
        "##5. Count Regression\n",
        "\n",
        "$$y_{pred} = e^{w^T X}$$\n",
        "$$L(y, y_{pred}) = e^{-y_{pred}} y_{pred}^y / y!$$\n",
        "$$L(w) = -\\sum_{i=1}^{n}(y_i log(y_{pred,i}) - y_{pred,i})$$\n",
        "$$ w_{t+1} = w_t - \\eta \\nabla J(w_t) $$"
      ],
      "metadata": {
        "id": "nCdeXttIDv23"
      }
    },
    {
      "cell_type": "code",
      "source": [
        "def count_regression(X_train, y_train, X_test, y_test, batch_size=16, num_epochs=100, learning_rate=0.01, weight_decay_factor=0, loss_type='count', weight_decay_form='none', momentum=False, momentum_factor=0.9):\n",
        "    num_features = X_train.shape[1]\n",
        "    num_batches = int(np.ceil(len(X_train) / batch_size))\n",
        "    weight = np.random.normal(size=num_features)\n",
        "    m = 0\n",
        "    train_losses = []\n",
        "    test_losses = []\n",
        "\n",
        "    def forward(X, w):\n",
        "      # Clip X * w to avoid overflow in the exponential function\n",
        "      Xw = np.clip(np.dot(X, w), -100, None)\n",
        "      # Apply the exponential function and replace any resulting inf or nan values\n",
        "      y_pred = np.where(np.isinf(np.exp(Xw)), 1e10, np.exp(np.clip(Xw, -500, 500)))\n",
        "      return y_pred\n",
        "\n",
        "    def backward(X, error):\n",
        "        return np.dot(X.T, error)\n",
        "\n",
        "    def compute_gradient(X, y, y_pred, loss_type, w):\n",
        "      error = None\n",
        "      if loss_type == \"L2\":\n",
        "          error = 2*(y_pred - y)\n",
        "      elif loss_type == \"count\":\n",
        "          # Clip y_pred to avoid overflow\n",
        "          y_pred_clipped = np.clip(y_pred, -100, None)\n",
        "          error = np.exp(-y_pred_clipped) * (y_pred - y)\n",
        "      elif loss_type == \"cross-entropy\":\n",
        "          error = y_pred - y\n",
        "\n",
        "      gradient = backward(X, error)\n",
        "      if weight_decay_form == 'L2':\n",
        "          gradient += weight_decay_factor * w\n",
        "      elif weight_decay_form == 'L1':\n",
        "          gradient += weight_decay_factor * np.sign(w)\n",
        "\n",
        "      return gradient, error\n",
        "\n",
        "\n",
        "    def compute_loss(y, y_pred, loss_type):\n",
        "      if loss_type == \"L2\":\n",
        "          return np.mean(np.square(y - y_pred))\n",
        "      elif loss_type == \"count\":\n",
        "          # Clip y_pred to avoid overflow\n",
        "          y_pred_clipped = np.clip(y_pred, -100, None)\n",
        "          return np.mean(np.exp(-y_pred_clipped) * np.square(y - y_pred))\n",
        "      elif loss_type == \"cross-entropy\":\n",
        "          y_pred = np.clip(y_pred, 1e-15, 1 - 1e-15)  # clip predictions\n",
        "          return -np.mean(y * np.log(y_pred) + (1 - y) * np.log(1 - y_pred))\n",
        "      elif loss_type == 'L1':\n",
        "          return np.mean(np.abs(y - y_pred))\n",
        "      else:\n",
        "          raise ValueError(\"Invalid loss type: {}\".format(loss_type))\n",
        "\n",
        "    for epoch in range(num_epochs):\n",
        "        # Shuffle the data\n",
        "        perm = np.random.permutation(len(X_train))\n",
        "        X_train = X_train[perm]\n",
        "        y_train = y_train[perm]\n",
        "\n",
        "        # Mini-batch gradient descent\n",
        "        for i in range(num_batches):\n",
        "            start_idx = i * batch_size\n",
        "            end_idx = (i + 1) * batch_size\n",
        "            X_batch = X_train[start_idx:end_idx]\n",
        "            y_batch = y_train[start_idx:end_idx]\n",
        "\n",
        "            y_pred = forward(X_batch, weight)\n",
        "            gradient, error = compute_gradient(X_batch, y_batch, y_pred, loss_type, weight)\n",
        "\n",
        "            if momentum:\n",
        "                m = momentum_factor * m + (1 - momentum_factor) * gradient\n",
        "                weight -= learning_rate * m\n",
        "            else:\n",
        "                weight -= learning_rate * gradient\n",
        "\n",
        "        # Compute train and test losses\n",
        "        y_train_pred = forward(X_train, weight)\n",
        "        train_loss = compute_loss(y_train, y_train_pred, loss_type)\n",
        "        train_losses.append(train_loss)\n",
        "\n",
        "        y_test_pred = forward(X_test, weight)\n",
        "        test_loss = compute_loss(y_test, y_test_pred, loss_type)\n",
        "        test_losses.append(test_loss)\n",
        "\n",
        "        print(\"Epoch:\", epoch+1, \"/100, Train loss:\", train_loss, \"Test loss:\", test_loss)\n",
        "\n",
        "        # Check if the test loss has stopped decreasing\n",
        "        if len(test_losses) >= 2 and test_losses[-1] >= test_losses[-2]:\n",
        "            print(\"Test loss has stopped decreasing. Stopping training.\")\n",
        "            break\n",
        "\n",
        "    return weight, train_losses, test_losses"
      ],
      "metadata": {
        "id": "cNIIYX9ZDrWg"
      },
      "execution_count": null,
      "outputs": []
    },
    {
      "cell_type": "code",
      "source": [
        "w, train_loss, test_loss= count_regression(train_x, train_y, test_x, test_y, batch_size=16, num_epochs=100, learning_rate=0.0001, weight_decay_factor=0.0001, loss_type='L2', weight_decay_form='L1', momentum=False, momentum_factor=0.9)"
      ],
      "metadata": {
        "colab": {
          "base_uri": "https://localhost:8080/"
        },
        "id": "QxuLKLGkG1m3",
        "outputId": "950f2c77-a04a-4207-edb6-30cbe638054c"
      },
      "execution_count": null,
      "outputs": [
        {
          "output_type": "stream",
          "name": "stderr",
          "text": [
            "<ipython-input-83-4fd2562a219d>:13: RuntimeWarning: overflow encountered in exp\n",
            "  y_pred = np.where(np.isinf(np.exp(Xw)), 1e10, np.exp(np.clip(Xw, -500, 500)))\n"
          ]
        },
        {
          "output_type": "stream",
          "name": "stdout",
          "text": [
            "Epoch: 1 /100, Train loss: 1.380160495777983e+16 Test loss: 1.5494561018500892e+16\n",
            "Epoch: 2 /100, Train loss: 3993666.588416567 Test loss: 1936820130274826.5\n",
            "Epoch: 3 /100, Train loss: 3993666.588416567 Test loss: 1936820130274826.5\n",
            "Test loss has stopped decreasing. Stopping training.\n"
          ]
        }
      ]
    },
    {
      "cell_type": "code",
      "source": [
        "num_epochs=100\n",
        "plt.plot(range(num_epochs), train_loss,'r', label=\"Train loss\")\n",
        "plt.plot(range(num_epochs), test_loss, 'bo',label=\"Test loss\")\n",
        "plt.xlabel(\"Epochs\")\n",
        "plt.ylabel(\"Loss\")\n",
        "plt.legend()\n",
        "plt.show()"
      ],
      "metadata": {
        "colab": {
          "base_uri": "https://localhost:8080/",
          "height": 279
        },
        "id": "zs36ofwaG9q_",
        "outputId": "609e484b-40f7-43ca-aa88-48eddac43a3b"
      },
      "execution_count": null,
      "outputs": [
        {
          "output_type": "display_data",
          "data": {
            "text/plain": [
              "<Figure size 432x288 with 1 Axes>"
            ],
            "image/png": "[encoded data removed]"
          },
          "metadata": {
            "needs_background": "light"
          }
        }
      ]
    },
    {
      "cell_type": "markdown",
      "source": [
        "##6. Model comparison\n"
      ],
      "metadata": {
        "id": "m0zHKAuX2wv8"
      }
    },
    {
      "cell_type": "code",
      "source": [
        "# fig, ax = plt.subplots(figsize=(8, 6))\n",
        "plt.hist(w_ridge, alpha=0.5, label='Ridge')\n",
        "plt.xlabel('Weight Value')\n",
        "plt.ylabel('Frequency')\n",
        "plt.title('Histogram of Weights - Ridge')\n",
        "plt.show()"
      ],
      "metadata": {
        "colab": {
          "base_uri": "https://localhost:8080/",
          "height": 295
        },
        "id": "iYbX4Db7jqkq",
        "outputId": "08e6653e-b37a-4194-8deb-390417fb2dd2"
      },
      "execution_count": null,
      "outputs": [
        {
          "output_type": "display_data",
          "data": {
            "text/plain": [
              "<Figure size 432x288 with 1 Axes>"
            ],
            "image/png": "[encoded data removed]"
          },
          "metadata": {
            "needs_background": "light"
          }
        }
      ]
    },
    {
      "cell_type": "code",
      "source": [
        "plt.hist(w_lasso, alpha=0.5, label='Lasso')\n",
        "plt.xlabel('Weight Value')\n",
        "plt.ylabel('Frequency')\n",
        "plt.title('Histogram of Weights - Lasso')\n",
        "plt.show()"
      ],
      "metadata": {
        "colab": {
          "base_uri": "https://localhost:8080/",
          "height": 295
        },
        "id": "kyqJJoVMEXKx",
        "outputId": "9970c72a-9a12-4080-9952-9b8bb4235d56"
      },
      "execution_count": null,
      "outputs": [
        {
          "output_type": "display_data",
          "data": {
            "text/plain": [
              "<Figure size 432x288 with 1 Axes>"
            ],
            "image/png": "[encoded data removed]"
          },
          "metadata": {
            "needs_background": "light"
          }
        }
      ]
    },
    {
      "cell_type": "markdown",
      "source": [
        "For Ridge and Lasso regression, the weight is quite similar. It means that the penalty term applied is not really significant to the model.\n",
        "\n",
        "Lasso regression gives significantly lower loss. It's important to note that Lasso is better at handling multicollinearity by performing feature selection and shrinking the cofficient towards zero. This might indicates our data has high multicollinearity which resulting in Lasso performs better than Ridge.  However, since the weights are similar, it means that both Ridge and Lasso are able to capture relationships between the attributes and target varible."
      ],
      "metadata": {
        "id": "h8iRKY2fo7gS"
      }
    },
    {
      "cell_type": "code",
      "source": [],
      "metadata": {
        "id": "HUi6LwWvqyY5"
      },
      "execution_count": null,
      "outputs": []
    },
    {
      "cell_type": "markdown",
      "source": [
        "# Problem 5 - Softmax Properties\n",
        "\n",
        "\n",
        "###1. Show that the softmax function is invariant to constant offsets to its input\n",
        "\n",
        "\\begin{align*}\n",
        "softmax(a+c1) &= \\frac{exp(a+c1)}{\\sum_{j=1}^{n}exp(a_j+c)} \\\\\n",
        "&= \\frac{exp(a)exp(c1)}{\\sum_{j=1}^{n}exp(a_j)exp(c)}\\\\\n",
        "&= \\frac{exp(a)}{\\sum_{j=1}^{n}exp(a_j)} \\times \\frac{exp(c1)}{\\sum_{j=1}^{n}exp(c)}{}\\\\\n",
        "&= softmax(a) \\times \\frac{exp(c1)}{n \\times exp(c)}{}\\\\\n",
        "&= softmax(a) \\times \\frac{exp(c1-c)}{n}\n",
        "\\end{align*}\n",
        "\n",
        "Since $\\frac{exp(c1-c)}{n}$ is a constant, it doesn't depend on $a$ and it's proven that softmax function is invariant to constant offset to its input.\n"
      ],
      "metadata": {
        "id": "Ri2DQfSOEA6H"
      }
    },
    {
      "cell_type": "markdown",
      "source": [
        "###2.  Why is the observation that the softmax function is invariant to constant offsets to its input important when implementing it in a neural network?\n",
        "\n",
        "It's important that softmax function is invariant to constant offset to its input because it allows the model to be more robust to changes in input data. Adding or substracting a constant value from input data doesn't change the output of sofmax function and making the network to generalize better to new data that can improve reliability and accuracy."
      ],
      "metadata": {
        "id": "Pl2YQkyDNU7m"
      }
    },
    {
      "cell_type": "markdown",
      "source": [],
      "metadata": {
        "id": "d7XFmHfPP_t3"
      }
    },
    {
      "cell_type": "code",
      "source": [],
      "metadata": {
        "id": "OOZDHd3f5jKC"
      },
      "execution_count": null,
      "outputs": []
    }
  ],
  "metadata": {
    "accelerator": "GPU",
    "colab": {
      "provenance": [],
      "include_colab_link": true
    },
    "gpuClass": "standard",
    "kernelspec": {
      "display_name": "Python 3",
      "name": "python3"
    },
    "language_info": {
      "name": "python"
    }
  },
  "nbformat": 4,
  "nbformat_minor": 0
}