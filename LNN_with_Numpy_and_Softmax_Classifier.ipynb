{
  "cells": [
    {
      "cell_type": "markdown",
      "metadata": {
        "id": "view-in-github",
        "colab_type": "text"
      },
      "source": [
        "<a href=\"https://colab.research.google.com/github/anastasiarenata1/deeplearning/blob/main/LNN_with_Numpy_and_Softmax_Classifier.ipynb\" target=\"_parent\"><img src=\"https://colab.research.google.com/assets/colab-badge.svg\" alt=\"Open In Colab\"/></a>"
      ]
    },
    {
      "cell_type": "markdown",
      "metadata": {
        "id": "PRQriJO6Rw4D"
      },
      "source": [
        "# Problem 4 - Regression\n",
        "\n",
        " \n",
        "\n",
        "* Explore three shallow (linear) neural network models with different activation functions for this task.\n",
        "* Evaluate the model by rounding the output of your linear neural network and compute the mean squared error\n",
        "\n",
        "\n",
        "###1. Load and explore the data"
      ]
    },
    {
      "cell_type": "code",
      "execution_count": 8,
      "metadata": {
        "colab": {
          "base_uri": "https://localhost:8080/"
        },
        "id": "BEErmxZU2EDU",
        "outputId": "9d881cd0-beb4-47d0-e670-fbd2a4281b28"
      },
      "outputs": [
        {
          "output_type": "stream",
          "name": "stdout",
          "text": [
            "--2023-03-01 18:38:16--  https://archive.ics.uci.edu/ml/machine-learning-databases/00203/YearPredictionMSD.txt.zip\n",
            "Resolving archive.ics.uci.edu (archive.ics.uci.edu)... 128.195.10.252\n",
            "Connecting to archive.ics.uci.edu (archive.ics.uci.edu)|128.195.10.252|:443... connected.\n",
            "HTTP request sent, awaiting response... 200 OK\n",
            "Length: 211011981 (201M) [application/x-httpd-php]\n",
            "Saving to: ‘YearPredictionMSD.txt.zip’\n",
            "\n",
            "YearPredictionMSD.t 100%[===================>] 201.24M  17.1MB/s    in 14s     \n",
            "\n",
            "2023-03-01 18:38:31 (14.9 MB/s) - ‘YearPredictionMSD.txt.zip’ saved [211011981/211011981]\n",
            "\n",
            "Archive:  YearPredictionMSD.txt.zip\n",
            "  inflating: YearPredictionMSD.txt   \n"
          ]
        }
      ],
      "source": [
        "!wget https://archive.ics.uci.edu/ml/machine-learning-databases/00203/YearPredictionMSD.txt.zip\n",
        "!unzip YearPredictionMSD.txt.zip"
      ]
    },
    {
      "cell_type": "code",
      "execution_count": 9,
      "metadata": {
        "id": "jYGlyolcU0ai"
      },
      "outputs": [],
      "source": [
        "import numpy as np\n",
        "import pandas as pd\n",
        "import torch\n",
        "import torch.nn as nn\n",
        "import torch.optim as optim\n",
        "from torch.utils.data import DataLoader, TensorDataset"
      ]
    },
    {
      "cell_type": "code",
      "execution_count": 10,
      "metadata": {
        "colab": {
          "base_uri": "https://localhost:8080/",
          "height": 299
        },
        "id": "BbPalayaR_Kz",
        "outputId": "46859018-5479-4282-87df-7deaf8adf540"
      },
      "outputs": [
        {
          "output_type": "execute_result",
          "data": {
            "text/plain": [
              "   target  timbre_avg_1  timbre_avg_2  timbre_avg_3  timbre_avg_4  \\\n",
              "0    2001      49.94357      21.47114      73.07750       8.74861   \n",
              "1    2001      48.73215      18.42930      70.32679      12.94636   \n",
              "2    2001      50.95714      31.85602      55.81851      13.41693   \n",
              "3    2001      48.24750      -1.89837      36.29772       2.58776   \n",
              "4    2001      50.97020      42.20998      67.09964       8.46791   \n",
              "\n",
              "   timbre_avg_5  timbre_avg_6  timbre_avg_7  timbre_avg_8  timbre_avg_9  ...  \\\n",
              "0     -17.40628     -13.09905     -25.01202     -12.23257       7.83089  ...   \n",
              "1     -10.32437     -24.83777       8.76630      -0.92019      18.76548  ...   \n",
              "2      -6.57898     -18.54940      -3.27872      -2.35035      16.07017  ...   \n",
              "3       0.97170     -26.21683       5.05097     -10.34124       3.55005  ...   \n",
              "4     -15.85279     -16.81409     -12.48207      -9.37636      12.63699  ...   \n",
              "\n",
              "   timbre_covar_69  timbre_covar_70  timbre_covar_71  timbre_covar_72  \\\n",
              "0         13.01620        -54.40548         58.99367         15.37344   \n",
              "1          5.66812        -19.68073         33.04964         42.87836   \n",
              "2          3.03800         26.05866        -50.92779         10.93792   \n",
              "3         34.57337       -171.70734        -16.96705        -46.67617   \n",
              "4          9.92661        -55.95724         64.92712        -17.72522   \n",
              "\n",
              "   timbre_covar_73  timbre_covar_74  timbre_covar_75  timbre_covar_76  \\\n",
              "0          1.11144        -23.08793         68.40795         -1.82223   \n",
              "1         -9.90378        -32.22788         70.49388         12.04941   \n",
              "2         -0.07568         43.20130       -115.00698         -0.05859   \n",
              "3        -12.51516         82.58061        -72.08993          9.90558   \n",
              "4         -1.49237         -7.50035         51.76631          7.88713   \n",
              "\n",
              "   timbre_covar_77  timbre_covar_78  \n",
              "0        -27.46348          2.26327  \n",
              "1         58.43453         26.92061  \n",
              "2         39.67068         -0.66345  \n",
              "3        199.62971         18.85382  \n",
              "4         55.66926         28.74903  \n",
              "\n",
              "[5 rows x 91 columns]"
            ],
            "text/html": [
              "\n",
              "  <div id=\"df-35311853-a34f-4c19-8362-3203622b31e8\">\n",
              "    <div class=\"colab-df-container\">\n",
              "      <div>\n",
              "<style scoped>\n",
              "    .dataframe tbody tr th:only-of-type {\n",
              "        vertical-align: middle;\n",
              "    }\n",
              "\n",
              "    .dataframe tbody tr th {\n",
              "        vertical-align: top;\n",
              "    }\n",
              "\n",
              "    .dataframe thead th {\n",
              "        text-align: right;\n",
              "    }\n",
              "</style>\n",
              "<table border=\"1\" class=\"dataframe\">\n",
              "  <thead>\n",
              "    <tr style=\"text-align: right;\">\n",
              "      <th></th>\n",
              "      <th>target</th>\n",
              "      <th>timbre_avg_1</th>\n",
              "      <th>timbre_avg_2</th>\n",
              "      <th>timbre_avg_3</th>\n",
              "      <th>timbre_avg_4</th>\n",
              "      <th>timbre_avg_5</th>\n",
              "      <th>timbre_avg_6</th>\n",
              "      <th>timbre_avg_7</th>\n",
              "      <th>timbre_avg_8</th>\n",
              "      <th>timbre_avg_9</th>\n",
              "      <th>...</th>\n",
              "      <th>timbre_covar_69</th>\n",
              "      <th>timbre_covar_70</th>\n",
              "      <th>timbre_covar_71</th>\n",
              "      <th>timbre_covar_72</th>\n",
              "      <th>timbre_covar_73</th>\n",
              "      <th>timbre_covar_74</th>\n",
              "      <th>timbre_covar_75</th>\n",
              "      <th>timbre_covar_76</th>\n",
              "      <th>timbre_covar_77</th>\n",
              "      <th>timbre_covar_78</th>\n",
              "    </tr>\n",
              "  </thead>\n",
              "  <tbody>\n",
              "    <tr>\n",
              "      <th>0</th>\n",
              "      <td>2001</td>\n",
              "      <td>49.94357</td>\n",
              "      <td>21.47114</td>\n",
              "      <td>73.07750</td>\n",
              "      <td>8.74861</td>\n",
              "      <td>-17.40628</td>\n",
              "      <td>-13.09905</td>\n",
              "      <td>-25.01202</td>\n",
              "      <td>-12.23257</td>\n",
              "      <td>7.83089</td>\n",
              "      <td>...</td>\n",
              "      <td>13.01620</td>\n",
              "      <td>-54.40548</td>\n",
              "      <td>58.99367</td>\n",
              "      <td>15.37344</td>\n",
              "      <td>1.11144</td>\n",
              "      <td>-23.08793</td>\n",
              "      <td>68.40795</td>\n",
              "      <td>-1.82223</td>\n",
              "      <td>-27.46348</td>\n",
              "      <td>2.26327</td>\n",
              "    </tr>\n",
              "    <tr>\n",
              "      <th>1</th>\n",
              "      <td>2001</td>\n",
              "      <td>48.73215</td>\n",
              "      <td>18.42930</td>\n",
              "      <td>70.32679</td>\n",
              "      <td>12.94636</td>\n",
              "      <td>-10.32437</td>\n",
              "      <td>-24.83777</td>\n",
              "      <td>8.76630</td>\n",
              "      <td>-0.92019</td>\n",
              "      <td>18.76548</td>\n",
              "      <td>...</td>\n",
              "      <td>5.66812</td>\n",
              "      <td>-19.68073</td>\n",
              "      <td>33.04964</td>\n",
              "      <td>42.87836</td>\n",
              "      <td>-9.90378</td>\n",
              "      <td>-32.22788</td>\n",
              "      <td>70.49388</td>\n",
              "      <td>12.04941</td>\n",
              "      <td>58.43453</td>\n",
              "      <td>26.92061</td>\n",
              "    </tr>\n",
              "    <tr>\n",
              "      <th>2</th>\n",
              "      <td>2001</td>\n",
              "      <td>50.95714</td>\n",
              "      <td>31.85602</td>\n",
              "      <td>55.81851</td>\n",
              "      <td>13.41693</td>\n",
              "      <td>-6.57898</td>\n",
              "      <td>-18.54940</td>\n",
              "      <td>-3.27872</td>\n",
              "      <td>-2.35035</td>\n",
              "      <td>16.07017</td>\n",
              "      <td>...</td>\n",
              "      <td>3.03800</td>\n",
              "      <td>26.05866</td>\n",
              "      <td>-50.92779</td>\n",
              "      <td>10.93792</td>\n",
              "      <td>-0.07568</td>\n",
              "      <td>43.20130</td>\n",
              "      <td>-115.00698</td>\n",
              "      <td>-0.05859</td>\n",
              "      <td>39.67068</td>\n",
              "      <td>-0.66345</td>\n",
              "    </tr>\n",
              "    <tr>\n",
              "      <th>3</th>\n",
              "      <td>2001</td>\n",
              "      <td>48.24750</td>\n",
              "      <td>-1.89837</td>\n",
              "      <td>36.29772</td>\n",
              "      <td>2.58776</td>\n",
              "      <td>0.97170</td>\n",
              "      <td>-26.21683</td>\n",
              "      <td>5.05097</td>\n",
              "      <td>-10.34124</td>\n",
              "      <td>3.55005</td>\n",
              "      <td>...</td>\n",
              "      <td>34.57337</td>\n",
              "      <td>-171.70734</td>\n",
              "      <td>-16.96705</td>\n",
              "      <td>-46.67617</td>\n",
              "      <td>-12.51516</td>\n",
              "      <td>82.58061</td>\n",
              "      <td>-72.08993</td>\n",
              "      <td>9.90558</td>\n",
              "      <td>199.62971</td>\n",
              "      <td>18.85382</td>\n",
              "    </tr>\n",
              "    <tr>\n",
              "      <th>4</th>\n",
              "      <td>2001</td>\n",
              "      <td>50.97020</td>\n",
              "      <td>42.20998</td>\n",
              "      <td>67.09964</td>\n",
              "      <td>8.46791</td>\n",
              "      <td>-15.85279</td>\n",
              "      <td>-16.81409</td>\n",
              "      <td>-12.48207</td>\n",
              "      <td>-9.37636</td>\n",
              "      <td>12.63699</td>\n",
              "      <td>...</td>\n",
              "      <td>9.92661</td>\n",
              "      <td>-55.95724</td>\n",
              "      <td>64.92712</td>\n",
              "      <td>-17.72522</td>\n",
              "      <td>-1.49237</td>\n",
              "      <td>-7.50035</td>\n",
              "      <td>51.76631</td>\n",
              "      <td>7.88713</td>\n",
              "      <td>55.66926</td>\n",
              "      <td>28.74903</td>\n",
              "    </tr>\n",
              "  </tbody>\n",
              "</table>\n",
              "<p>5 rows × 91 columns</p>\n",
              "</div>\n",
              "      <button class=\"colab-df-convert\" onclick=\"convertToInteractive('df-35311853-a34f-4c19-8362-3203622b31e8')\"\n",
              "              title=\"Convert this dataframe to an interactive table.\"\n",
              "              style=\"display:none;\">\n",
              "        \n",
              "  <svg xmlns=\"http://www.w3.org/2000/svg\" height=\"24px\"viewBox=\"0 0 24 24\"\n",
              "       width=\"24px\">\n",
              "    <path d=\"M0 0h24v24H0V0z\" fill=\"none\"/>\n",
              "    <path d=\"M18.56 5.44l.94 2.06.94-2.06 2.06-.94-2.06-.94-.94-2.06-.94 2.06-2.06.94zm-11 1L8.5 8.5l.94-2.06 2.06-.94-2.06-.94L8.5 2.5l-.94 2.06-2.06.94zm10 10l.94 2.06.94-2.06 2.06-.94-2.06-.94-.94-2.06-.94 2.06-2.06.94z\"/><path d=\"M17.41 7.96l-1.37-1.37c-.4-.4-.92-.59-1.43-.59-.52 0-1.04.2-1.43.59L10.3 9.45l-7.72 7.72c-.78.78-.78 2.05 0 2.83L4 21.41c.39.39.9.59 1.41.59.51 0 1.02-.2 1.41-.59l7.78-7.78 2.81-2.81c.8-.78.8-2.07 0-2.86zM5.41 20L4 18.59l7.72-7.72 1.47 1.35L5.41 20z\"/>\n",
              "  </svg>\n",
              "      </button>\n",
              "      \n",
              "  <style>\n",
              "    .colab-df-container {\n",
              "      display:flex;\n",
              "      flex-wrap:wrap;\n",
              "      gap: 12px;\n",
              "    }\n",
              "\n",
              "    .colab-df-convert {\n",
              "      background-color: #E8F0FE;\n",
              "      border: none;\n",
              "      border-radius: 50%;\n",
              "      cursor: pointer;\n",
              "      display: none;\n",
              "      fill: #1967D2;\n",
              "      height: 32px;\n",
              "      padding: 0 0 0 0;\n",
              "      width: 32px;\n",
              "    }\n",
              "\n",
              "    .colab-df-convert:hover {\n",
              "      background-color: #E2EBFA;\n",
              "      box-shadow: 0px 1px 2px rgba(60, 64, 67, 0.3), 0px 1px 3px 1px rgba(60, 64, 67, 0.15);\n",
              "      fill: #174EA6;\n",
              "    }\n",
              "\n",
              "    [theme=dark] .colab-df-convert {\n",
              "      background-color: #3B4455;\n",
              "      fill: #D2E3FC;\n",
              "    }\n",
              "\n",
              "    [theme=dark] .colab-df-convert:hover {\n",
              "      background-color: #434B5C;\n",
              "      box-shadow: 0px 1px 3px 1px rgba(0, 0, 0, 0.15);\n",
              "      filter: drop-shadow(0px 1px 2px rgba(0, 0, 0, 0.3));\n",
              "      fill: #FFFFFF;\n",
              "    }\n",
              "  </style>\n",
              "\n",
              "      <script>\n",
              "        const buttonEl =\n",
              "          document.querySelector('#df-35311853-a34f-4c19-8362-3203622b31e8 button.colab-df-convert');\n",
              "        buttonEl.style.display =\n",
              "          google.colab.kernel.accessAllowed ? 'block' : 'none';\n",
              "\n",
              "        async function convertToInteractive(key) {\n",
              "          const element = document.querySelector('#df-35311853-a34f-4c19-8362-3203622b31e8');\n",
              "          const dataTable =\n",
              "            await google.colab.kernel.invokeFunction('convertToInteractive',\n",
              "                                                     [key], {});\n",
              "          if (!dataTable) return;\n",
              "\n",
              "          const docLinkHtml = 'Like what you see? Visit the ' +\n",
              "            '<a target=\"_blank\" href=https://colab.research.google.com/notebooks/data_table.ipynb>data table notebook</a>'\n",
              "            + ' to learn more about interactive tables.';\n",
              "          element.innerHTML = '';\n",
              "          dataTable['output_type'] = 'display_data';\n",
              "          await google.colab.output.renderOutput(dataTable, element);\n",
              "          const docLink = document.createElement('div');\n",
              "          docLink.innerHTML = docLinkHtml;\n",
              "          element.appendChild(docLink);\n",
              "        }\n",
              "      </script>\n",
              "    </div>\n",
              "  </div>\n",
              "  "
            ]
          },
          "metadata": {},
          "execution_count": 10
        }
      ],
      "source": [
        "colnames = ['target'] + ['timbre_avg_' + str(i) for i in range(1, 13)] + ['timbre_covar_' + str(i) for i in range(1, 79)]\n",
        "df = pd.read_csv('YearPredictionMSD.txt', header=None, names=colnames)\n",
        "df.head(5)"
      ]
    },
    {
      "cell_type": "markdown",
      "metadata": {
        "id": "gqj7q70Ql5lb"
      },
      "source": [
        "Write a function to load the dataset, e.g.,\n",
        "`trainYears, trainFeat, testYears, testFeat = loadMusicData(fname, addBias)`"
      ]
    },
    {
      "cell_type": "code",
      "execution_count": 3,
      "metadata": {
        "id": "HO0rnbz9STFd"
      },
      "outputs": [],
      "source": [
        "def loadMusicData(data, addBias=True):\n",
        "  train_df = data[:463714]\n",
        "  test_df = data[463714:]\n",
        "  train_y = train_df['target'].values\n",
        "  train_x = train_df.iloc[:,1:].values\n",
        "  test_y = test_df['target'].values\n",
        "  test_x = test_df.iloc[:,1:].values\n",
        "  if addBias:\n",
        "    train_x = np.hstack((train_x, np.ones((train_x.shape[0],1))))\n",
        "    test_x = np.hstack((test_x, np.ones((test_x.shape[0],1))))\n",
        "  return train_y, train_x, test_y, test_x"
      ]
    },
    {
      "cell_type": "markdown",
      "metadata": {
        "id": "iz0sr2dbmDpu"
      },
      "source": [
        "Write a function `mse = musicMSE(pred, gt)` where the inputs are the predicted year and the “ground truth” year from the dataset. The function computes the mean squared error(MSE) by rounding pred before computing the MSE."
      ]
    },
    {
      "cell_type": "code",
      "execution_count": 4,
      "metadata": {
        "id": "eBi_cfQ4nGmY"
      },
      "outputs": [],
      "source": [
        "from sklearn.metrics import mean_squared_error\n",
        "def musicMSE(pred, gt):\n",
        "  pred = np.round(pred)\n",
        "  mse= mean_squared_error(pred, gt)\n",
        "  return mse"
      ]
    },
    {
      "cell_type": "markdown",
      "metadata": {
        "id": "VNpBvB08ojLl"
      },
      "source": [
        "Load the dataset and discuss its properties. \n",
        "1. What is the range of the variables? From 90 attributes, range of variables for timbre average is tighter than range of variables for timbre covariance. However, within each category itself, some attributes have wider range compared to others, in which we don't have further documentation to explain this event.\n",
        "2. How might you normalize them? Normalization can help to ensure that each variables contribute equally to the model. Since range of variables varies significantly accross 90 attributes, I will normalize the data using standardization technique (0 mean and unit std deviation for each attribute) where we can help to preserve importance of variables.\n",
        "3. What years are represented in the dataset? The dataset covers song released from 1922 to 2011 (90 years) with most common year of 2007.\n",
        "4. What will the test mean squared error (MSE) be if your classifier always outputs the most common year in the dataset? 190.08"
      ]
    },
    {
      "cell_type": "code",
      "execution_count": 6,
      "metadata": {
        "colab": {
          "base_uri": "https://localhost:8080/"
        },
        "id": "mwHVPkNVoTmn",
        "outputId": "9f6bfe83-bfe7-41a3-aa2b-4fa568966728"
      },
      "outputs": [
        {
          "output_type": "stream",
          "name": "stdout",
          "text": [
            "Variable 1: range = 60\n",
            "Variable 2: range = 721\n",
            "Variable 3: range = 624\n",
            "Variable 4: range = 490\n",
            "Variable 5: range = 444\n",
            "Variable 6: range = 248\n",
            "Variable 7: range = 361\n",
            "Variable 8: range = 199\n",
            "Variable 9: range = 273\n",
            "Variable 10: range = 102\n",
            "Variable 11: range = 158\n",
            "Variable 12: range = 182\n",
            "Variable 13: range = 550\n",
            "Variable 14: range = 65727\n",
            "Variable 15: range = 36796\n",
            "Variable 16: range = 31832\n",
            "Variable 17: range = 19854\n",
            "Variable 18: range = 16826\n",
            "Variable 19: range = 11882\n",
            "Variable 20: range = 9564\n",
            "Variable 21: range = 9610\n",
            "Variable 22: range = 3707\n",
            "Variable 23: range = 6731\n",
            "Variable 24: range = 9808\n",
            "Variable 25: range = 4871\n",
            "Variable 26: range = 37870\n",
            "Variable 27: range = 26522\n",
            "Variable 28: range = 7735\n",
            "Variable 29: range = 6635\n",
            "Variable 30: range = 6669\n",
            "Variable 31: range = 6153\n",
            "Variable 32: range = 3471\n",
            "Variable 33: range = 4567\n",
            "Variable 34: range = 3921\n",
            "Variable 35: range = 2803\n",
            "Variable 36: range = 4208\n",
            "Variable 37: range = 22597\n",
            "Variable 38: range = 18155\n",
            "Variable 39: range = 15869\n",
            "Variable 40: range = 16243\n",
            "Variable 41: range = 8211\n",
            "Variable 42: range = 8068\n",
            "Variable 43: range = 6178\n",
            "Variable 44: range = 2904\n",
            "Variable 45: range = 1768\n",
            "Variable 46: range = 2529\n",
            "Variable 47: range = 23921\n",
            "Variable 48: range = 10960\n",
            "Variable 49: range = 12815\n",
            "Variable 50: range = 4412\n",
            "Variable 51: range = 3698\n",
            "Variable 52: range = 4207\n",
            "Variable 53: range = 5583\n",
            "Variable 54: range = 5100\n",
            "Variable 55: range = 2263\n",
            "Variable 56: range = 12109\n",
            "Variable 57: range = 17812\n",
            "Variable 58: range = 17732\n",
            "Variable 59: range = 9176\n",
            "Variable 60: range = 8190\n",
            "Variable 61: range = 3711\n",
            "Variable 62: range = 2370\n",
            "Variable 63: range = 1413\n",
            "Variable 64: range = 21394\n",
            "Variable 65: range = 10254\n",
            "Variable 66: range = 7344\n",
            "Variable 67: range = 3254\n",
            "Variable 68: range = 7345\n",
            "Variable 69: range = 7192\n",
            "Variable 70: range = 1720\n",
            "Variable 71: range = 11016\n",
            "Variable 72: range = 11695\n",
            "Variable 73: range = 10525\n",
            "Variable 74: range = 3453\n",
            "Variable 75: range = 2666\n",
            "Variable 76: range = 1459\n",
            "Variable 77: range = 19852\n",
            "Variable 78: range = 5449\n",
            "Variable 79: range = 13578\n",
            "Variable 80: range = 8490\n",
            "Variable 81: range = 1279\n",
            "Variable 82: range = 8872\n",
            "Variable 83: range = 5021\n",
            "Variable 84: range = 4832\n",
            "Variable 85: range = 602\n",
            "Variable 86: range = 6831\n",
            "Variable 87: range = 7154\n",
            "Variable 88: range = 699\n",
            "Variable 89: range = 14852\n",
            "Variable 90: range = 1059\n"
          ]
        }
      ],
      "source": [
        "# Range of variables\n",
        "var_ranges = np.ptp(df.iloc[:, 1:].values, axis=0)\n",
        "for i, var_range in enumerate(var_ranges):\n",
        "    print(\"Variable {}: range = {:.0f}\".format(i+1, var_range))"
      ]
    },
    {
      "cell_type": "code",
      "execution_count": 14,
      "metadata": {
        "id": "6xcZrqpiyO0F"
      },
      "outputs": [],
      "source": [
        "#Normalize data using standardization\n",
        "from sklearn.preprocessing import StandardScaler\n",
        "scaler = StandardScaler()\n",
        "\n",
        "def loadMusicData2(data, addBias=True):\n",
        "  train_df = data[:463714]\n",
        "  test_df = data[463714:]\n",
        "  train_y = train_df['target'].values\n",
        "  train_x = train_df.iloc[:,1:].values\n",
        "  test_y = test_df['target'].values\n",
        "  test_x = test_df.iloc[:,1:].values\n",
        "  train_x= scaler.fit_transform(train_x)\n",
        "  test_x= scaler.fit_transform(test_x)\n",
        "\n",
        "  if addBias:\n",
        "    train_x = np.hstack((train_x, np.ones((train_x.shape[0],1))))\n",
        "    test_x = np.hstack((test_x, np.ones((test_x.shape[0],1))))\n",
        "  \n",
        "\n",
        "  return train_y, train_x, test_y, test_x"
      ]
    },
    {
      "cell_type": "code",
      "execution_count": 8,
      "metadata": {
        "colab": {
          "base_uri": "https://localhost:8080/"
        },
        "id": "J88tbEW8y56c",
        "outputId": "3183056e-8cff-4389-9c46-096488ba0b9f"
      },
      "outputs": [
        {
          "output_type": "stream",
          "name": "stdout",
          "text": [
            "Min years presented:  1922\n",
            "Max years presented:  2011\n",
            "Median years presented:  2002.0\n",
            "Most common year: 2007\n"
          ]
        }
      ],
      "source": [
        "#Years represented\n",
        "print('Min years presented: ', np.min(df['target']))\n",
        "print('Max years presented: ', np.max(df['target']))\n",
        "print('Median years presented: ', np.median(df['target']))\n",
        "\n",
        "from statistics import mode\n",
        "print('Most common year:', mode(df['target']))"
      ]
    },
    {
      "cell_type": "code",
      "execution_count": 15,
      "metadata": {
        "id": "XsuMY-B-6Rq8"
      },
      "outputs": [],
      "source": [
        "train_y, train_x, test_y, test_x = loadMusicData2(df, addBias=True)"
      ]
    },
    {
      "cell_type": "code",
      "execution_count": 10,
      "metadata": {
        "colab": {
          "base_uri": "https://localhost:8080/"
        },
        "id": "QgxWh8BG6E15",
        "outputId": "1439eca5-9be3-42c3-ee22-9d8923188103"
      },
      "outputs": [
        {
          "output_type": "execute_result",
          "data": {
            "text/plain": [
              "190.08239236117836"
            ]
          },
          "metadata": {},
          "execution_count": 10
        }
      ],
      "source": [
        "#test MSE\n",
        "musicMSE(torch.full((test_y.shape[0],), 2007), test_y)"
      ]
    },
    {
      "cell_type": "markdown",
      "metadata": {
        "id": "yzi847OP89JV"
      },
      "source": [
        "##2. Classification\n",
        "This problem could have been posed as a classification problem by treating each year as a category. What would be the problems with this approach? Support your argument by analyzing a bar chart with the year as the x-axis and the number of examples for that year as the y-axis.\n",
        "\n",
        "As we can see from the chart, the distribution of train dataset is skewed to the left where majority of the data coming from the later years. If we treat this problem as a classification problem, the model will be biased and will be more likely to predict later years. Furthermore, classification means that the predicted data will be categorical values instead of continuous which can result in loss of information as repercussion. "
      ]
    },
    {
      "cell_type": "code",
      "execution_count": 18,
      "metadata": {
        "colab": {
          "base_uri": "https://localhost:8080/",
          "height": 279
        },
        "id": "QByIY0eo3_uO",
        "outputId": "9d5b4611-a734-4f5b-afb3-411e86fa5344"
      },
      "outputs": [
        {
          "output_type": "display_data",
          "data": {
            "text/plain": [
              "<Figure size 432x288 with 1 Axes>"
            ],
            "image/png": "[encoded data removed]"
          },
          "metadata": {
            "needs_background": "light"
          }
        }
      ],
      "source": [
        "#plot year frequency from train dataset\n",
        "import matplotlib.pyplot as plt\n",
        "train_df = df[:463714]\n",
        "year_counts = train_df.iloc[:, 0].value_counts()\n",
        "plt.bar(year_counts.index, year_counts.values)\n",
        "plt.xlabel(\"Year\")\n",
        "plt.ylabel(\"Frequency\")\n",
        "plt.show()"
      ]
    },
    {
      "cell_type": "markdown",
      "metadata": {
        "id": "wiR5yP7wBxka"
      },
      "source": [
        "##3. Ridge regression\n",
        "\n",
        "* Implement stochastic gradient descent with mini-batches to minimize the loss and evaluate the train and test MSE.\n",
        "* Tune the learning rate and weight decay factor. \n",
        "* Show the train and test loss as a function of epochs, where the number of epochs should be chosen to ensure the train loss is minimized."
      ]
    },
    {
      "cell_type": "code",
      "source": [
        "def mini_batch_gradient_descent(X_train, y_train, X_test, y_test, batch_size=32, num_epochs=100, learning_rate=0.01, weight_decay_factor=0, loss_type='L2', weight_decay_form='none', momentum=False, momentum_factor=0.9):\n",
        "    num_features = X_train.shape[1]\n",
        "    num_batches = int(np.ceil(len(X_train) / batch_size))\n",
        "    weight = np.random.normal(size=num_features)\n",
        "    m = 0\n",
        "    train_losses = []\n",
        "    test_losses = []\n",
        "\n",
        "    def forward(X, w):\n",
        "        return np.dot(X, w)\n",
        "\n",
        "    def backward(X, error):\n",
        "        return np.dot(X.T, error)\n",
        "\n",
        "    def compute_gradient(X, y, y_pred, loss_type, w):\n",
        "        error = None\n",
        "        if loss_type == \"L2\":\n",
        "            error = 2*(y_pred - y)\n",
        "        elif loss_type == \"count\":\n",
        "            error = np.round(y_pred) - np.round(y)\n",
        "        elif loss_type == \"cross-entropy\":\n",
        "            error = y_pred - y\n",
        "        elif loss_type == 'L1':\n",
        "            error = np.sign(y_pred - y)\n",
        "\n",
        "        gradient = backward(X, error)\n",
        "        if weight_decay_form == 'L2':\n",
        "            gradient += weight_decay_factor * w\n",
        "        elif weight_decay_form == 'L1':\n",
        "            gradient += weight_decay_factor * np.sign(w)\n",
        "\n",
        "        return gradient, error\n",
        "\n",
        "    def compute_loss(y, y_pred, loss_type):\n",
        "        if loss_type == \"L2\":\n",
        "            return np.mean(np.square(y - y_pred))\n",
        "        elif loss_type == \"count\":\n",
        "            return np.mean(np.abs(np.round(y) - np.round(y_pred)))\n",
        "        elif loss_type == \"cross-entropy\":\n",
        "            y_pred = np.clip(y_pred, 1e-15, 1 - 1e-15)  # clip predictions\n",
        "            return -np.mean(y * np.log(y_pred) + (1 - y) * np.log(1 - y_pred))\n",
        "        elif loss_type == 'L1':\n",
        "            return np.mean(np.abs(y - y_pred))\n",
        "\n",
        "    for epoch in range(num_epochs):\n",
        "        # Shuffle the data\n",
        "        perm = np.random.permutation(len(X_train))\n",
        "        X_train = X_train[perm]\n",
        "        y_train = y_train[perm]\n",
        "\n",
        "        # Mini-batch gradient descent\n",
        "        for i in range(num_batches):\n",
        "            start_idx = i * batch_size\n",
        "            end_idx = (i + 1) * batch_size\n",
        "            X_batch = X_train[start_idx:end_idx]\n",
        "            y_batch = y_train[start_idx:end_idx]\n",
        "\n",
        "            y_pred = forward(X_batch, weight)\n",
        "            gradient, error = compute_gradient(X_batch, y_batch, y_pred, loss_type, weight)\n",
        "\n",
        "            if momentum:\n",
        "                m = momentum_factor * m + (1 - momentum_factor) * gradient\n",
        "                weight -= learning_rate * m\n",
        "            else:\n",
        "                weight -= learning_rate * gradient\n",
        "\n",
        "        # Compute train and test losses\n",
        "        y_train_pred = forward(X_train, weight)\n",
        "        train_loss = compute_loss(y_train, y_train_pred, loss_type)\n",
        "        train_losses.append(train_loss)\n",
        "\n",
        "        y_test_pred = forward(X_test, weight)\n",
        "        test_loss = compute_loss(y_test, y_test_pred, loss_type)\n",
        "        test_losses.append(test_loss)\n",
        "\n",
        "        print(\"Epoch:\", epoch+1, \"/100, Train loss:\", train_loss, \"Test loss:\", test_loss)\n",
        "\n",
        "    return weight, train_losses, test_losses\n"
      ],
      "metadata": {
        "id": "f7u12GIuw_jz"
      },
      "execution_count": 60,
      "outputs": []
    },
    {
      "cell_type": "markdown",
      "source": [
        "Hyperparameter tuning\n",
        "* Learning rate= 0.0001\n",
        "* Weight decay factor= 0.000001\n",
        "* Batch size=16\n",
        "* Number epochs=100\n",
        "* Loss type= L2\n",
        "* Weight decay form= None\n",
        "* No momentum\n",
        "\n"
      ],
      "metadata": {
        "id": "r27YeMIDlVMX"
      }
    },
    {
      "cell_type": "code",
      "execution_count": 85,
      "metadata": {
        "id": "lHLX_tNcbLWr",
        "colab": {
          "base_uri": "https://localhost:8080/"
        },
        "outputId": "ca5a706f-aad1-4e66-c9ca-54941b1c9472"
      },
      "outputs": [
        {
          "output_type": "stream",
          "name": "stdout",
          "text": [
            "Epoch: 1 /100, Train loss: 624334.7172057558 Test loss: 624506.8071163731\n",
            "Epoch: 2 /100, Train loss: 97764.00715553298 Test loss: 97831.08836870485\n",
            "Epoch: 3 /100, Train loss: 15376.876114026396 Test loss: 15402.916746028322\n",
            "Epoch: 4 /100, Train loss: 2485.894287512868 Test loss: 2495.7350251214193\n",
            "Epoch: 5 /100, Train loss: 467.6722684729137 Test loss: 471.04395884129235\n",
            "Epoch: 6 /100, Train loss: 151.5215729836239 Test loss: 152.34805384817923\n",
            "Epoch: 7 /100, Train loss: 101.6189731477869 Test loss: 101.4208206769924\n",
            "Epoch: 8 /100, Train loss: 93.57678692793895 Test loss: 93.03487542910948\n",
            "Epoch: 9 /100, Train loss: 92.12989423286825 Test loss: 91.39301950954511\n",
            "Epoch: 10 /100, Train loss: 91.77957550908967 Test loss: 91.03746336867296\n",
            "Epoch: 11 /100, Train loss: 91.64154519544923 Test loss: 90.81349278108068\n",
            "Epoch: 12 /100, Train loss: 91.5470153948017 Test loss: 90.73043691194243\n",
            "Epoch: 13 /100, Train loss: 91.48415453139468 Test loss: 90.69478139700956\n",
            "Epoch: 14 /100, Train loss: 91.43773144100417 Test loss: 90.63359072167745\n",
            "Epoch: 15 /100, Train loss: 91.40431897367951 Test loss: 90.57451647472786\n",
            "Epoch: 16 /100, Train loss: 91.3756541618249 Test loss: 90.5955447573166\n",
            "Epoch: 17 /100, Train loss: 91.35336202498898 Test loss: 90.55635925519333\n",
            "Epoch: 18 /100, Train loss: 91.33578180209278 Test loss: 90.53752809537839\n",
            "Epoch: 19 /100, Train loss: 91.32232010898528 Test loss: 90.51587871846111\n",
            "Epoch: 20 /100, Train loss: 91.3198224506697 Test loss: 90.47609125300494\n",
            "Epoch: 21 /100, Train loss: 91.30392192841249 Test loss: 90.50661191809247\n",
            "Epoch: 22 /100, Train loss: 91.29490923013178 Test loss: 90.5058764627757\n",
            "Epoch: 23 /100, Train loss: 91.28919551761396 Test loss: 90.48653047643032\n",
            "Epoch: 24 /100, Train loss: 91.28480749694758 Test loss: 90.49643667443135\n",
            "Epoch: 25 /100, Train loss: 91.2817757464951 Test loss: 90.4737031955233\n",
            "Epoch: 26 /100, Train loss: 91.27877535603922 Test loss: 90.47574062649184\n",
            "Epoch: 27 /100, Train loss: 91.27393726076949 Test loss: 90.4756377315799\n",
            "Epoch: 28 /100, Train loss: 91.2742067556054 Test loss: 90.46061133653521\n",
            "Epoch: 29 /100, Train loss: 91.26942232199102 Test loss: 90.47253849102182\n",
            "Epoch: 30 /100, Train loss: 91.27494306049397 Test loss: 90.44809845966351\n",
            "Epoch: 31 /100, Train loss: 91.26762018555861 Test loss: 90.47948203676343\n",
            "Epoch: 32 /100, Train loss: 91.26651496897273 Test loss: 90.45901258801374\n",
            "Epoch: 33 /100, Train loss: 91.26290061331798 Test loss: 90.46942250817995\n",
            "Epoch: 34 /100, Train loss: 91.2679418958083 Test loss: 90.46304073798156\n",
            "Epoch: 35 /100, Train loss: 91.26269556406271 Test loss: 90.48265284910438\n",
            "Epoch: 36 /100, Train loss: 91.26156697007995 Test loss: 90.47765047451193\n",
            "Epoch: 37 /100, Train loss: 91.26020076077224 Test loss: 90.47921567391995\n",
            "Epoch: 38 /100, Train loss: 91.26219769725904 Test loss: 90.50621238728566\n",
            "Epoch: 39 /100, Train loss: 91.26184749677928 Test loss: 90.51100489297399\n",
            "Epoch: 40 /100, Train loss: 91.26063997094252 Test loss: 90.49424174774059\n",
            "Epoch: 41 /100, Train loss: 91.26317038490677 Test loss: 90.52631029481189\n",
            "Epoch: 42 /100, Train loss: 91.26139329347171 Test loss: 90.49411683579763\n",
            "Epoch: 43 /100, Train loss: 91.25926793659993 Test loss: 90.4783712991019\n",
            "Epoch: 44 /100, Train loss: 91.26087515283749 Test loss: 90.45518228932313\n",
            "Epoch: 45 /100, Train loss: 91.2663977149855 Test loss: 90.44034781036433\n",
            "Epoch: 46 /100, Train loss: 91.25903339621321 Test loss: 90.46847332446659\n",
            "Epoch: 47 /100, Train loss: 91.26063190011861 Test loss: 90.48095074363994\n",
            "Epoch: 48 /100, Train loss: 91.2591302417945 Test loss: 90.50043165253264\n",
            "Epoch: 49 /100, Train loss: 91.26146655168984 Test loss: 90.45772730493614\n",
            "Epoch: 50 /100, Train loss: 91.25754544866517 Test loss: 90.48184285027325\n",
            "Epoch: 51 /100, Train loss: 91.25998662783414 Test loss: 90.48612064033368\n",
            "Epoch: 52 /100, Train loss: 91.25877661681463 Test loss: 90.46077709450378\n",
            "Epoch: 53 /100, Train loss: 91.2629924609487 Test loss: 90.46156919125387\n",
            "Epoch: 54 /100, Train loss: 91.25953402800948 Test loss: 90.47279714479095\n",
            "Epoch: 55 /100, Train loss: 91.25953330224054 Test loss: 90.48019706107975\n",
            "Epoch: 56 /100, Train loss: 91.25769720124941 Test loss: 90.48246996108487\n",
            "Epoch: 57 /100, Train loss: 91.2587054670738 Test loss: 90.47238179207383\n",
            "Epoch: 58 /100, Train loss: 91.25830011787563 Test loss: 90.48106839657763\n",
            "Epoch: 59 /100, Train loss: 91.25915683688648 Test loss: 90.47362166940157\n",
            "Epoch: 60 /100, Train loss: 91.25842470336791 Test loss: 90.51405922968561\n",
            "Epoch: 61 /100, Train loss: 91.25966068328432 Test loss: 90.48601439597036\n",
            "Epoch: 62 /100, Train loss: 91.25812451334207 Test loss: 90.49228458312201\n",
            "Epoch: 63 /100, Train loss: 91.2589128230828 Test loss: 90.46723454888307\n",
            "Epoch: 64 /100, Train loss: 91.25726795535007 Test loss: 90.4891753217931\n",
            "Epoch: 65 /100, Train loss: 91.2621366857472 Test loss: 90.4509657132334\n",
            "Epoch: 66 /100, Train loss: 91.25924046597272 Test loss: 90.49879082579591\n",
            "Epoch: 67 /100, Train loss: 91.25790550174008 Test loss: 90.4984139713197\n",
            "Epoch: 68 /100, Train loss: 91.267369220577 Test loss: 90.47448553261759\n",
            "Epoch: 69 /100, Train loss: 91.26030460152275 Test loss: 90.49938658392628\n",
            "Epoch: 70 /100, Train loss: 91.26046107726576 Test loss: 90.50345891210424\n",
            "Epoch: 71 /100, Train loss: 91.2578309030086 Test loss: 90.48370137410782\n",
            "Epoch: 72 /100, Train loss: 91.25777908453429 Test loss: 90.47634825175926\n",
            "Epoch: 73 /100, Train loss: 91.25806129770821 Test loss: 90.48603568187512\n",
            "Epoch: 74 /100, Train loss: 91.25784018224154 Test loss: 90.50035617581418\n",
            "Epoch: 75 /100, Train loss: 91.26111401395521 Test loss: 90.53111269231029\n",
            "Epoch: 76 /100, Train loss: 91.25773758247395 Test loss: 90.48185481260792\n",
            "Epoch: 77 /100, Train loss: 91.26826506170801 Test loss: 90.55227003883303\n",
            "Epoch: 78 /100, Train loss: 91.25883948890122 Test loss: 90.49620983234945\n",
            "Epoch: 79 /100, Train loss: 91.26053657526356 Test loss: 90.48008314725159\n",
            "Epoch: 80 /100, Train loss: 91.25955397695373 Test loss: 90.51914176311786\n",
            "Epoch: 81 /100, Train loss: 91.25893721187141 Test loss: 90.49505373771318\n",
            "Epoch: 82 /100, Train loss: 91.2602008204118 Test loss: 90.51374233468766\n",
            "Epoch: 83 /100, Train loss: 91.26077504207214 Test loss: 90.463989483738\n",
            "Epoch: 84 /100, Train loss: 91.26010621621721 Test loss: 90.45441147827356\n",
            "Epoch: 85 /100, Train loss: 91.26018799418456 Test loss: 90.52307186895167\n",
            "Epoch: 86 /100, Train loss: 91.26026878412416 Test loss: 90.4783063190611\n",
            "Epoch: 87 /100, Train loss: 91.26001278252089 Test loss: 90.50381564003467\n",
            "Epoch: 88 /100, Train loss: 91.26151312148268 Test loss: 90.47335629897242\n",
            "Epoch: 89 /100, Train loss: 91.25813667121359 Test loss: 90.49507460345951\n",
            "Epoch: 90 /100, Train loss: 91.259975472139 Test loss: 90.50510343143853\n",
            "Epoch: 91 /100, Train loss: 91.2637315482454 Test loss: 90.55303120629617\n",
            "Epoch: 92 /100, Train loss: 91.26090063153961 Test loss: 90.47459055694483\n",
            "Epoch: 93 /100, Train loss: 91.2594178671949 Test loss: 90.46680328514597\n",
            "Epoch: 94 /100, Train loss: 91.2584935733948 Test loss: 90.48448897861277\n",
            "Epoch: 95 /100, Train loss: 91.25828089566247 Test loss: 90.50161203171393\n",
            "Epoch: 96 /100, Train loss: 91.2586556961592 Test loss: 90.49697961295183\n",
            "Epoch: 97 /100, Train loss: 91.2571874565357 Test loss: 90.49589832552384\n",
            "Epoch: 98 /100, Train loss: 91.25819078248864 Test loss: 90.50861353730545\n",
            "Epoch: 99 /100, Train loss: 91.26034850744504 Test loss: 90.47482414852071\n",
            "Epoch: 100 /100, Train loss: 91.25745995557118 Test loss: 90.48851639422622\n"
          ]
        }
      ],
      "source": [
        "w_ridge, train_loss_ridge, test_loss_ridge = mini_batch_gradient_descent(train_x, train_y, test_x, test_y, batch_size=16, num_epochs=100, learning_rate=0.000001, weight_decay_factor=0.000001, loss_type='L2', weight_decay_form=None, momentum=False, momentum_factor=None)"
      ]
    },
    {
      "cell_type": "code",
      "execution_count": 86,
      "metadata": {
        "id": "a7olCs7GbNW5",
        "colab": {
          "base_uri": "https://localhost:8080/",
          "height": 279
        },
        "outputId": "26c821ec-eec4-4edb-8ff6-cd1287de5875"
      },
      "outputs": [
        {
          "output_type": "display_data",
          "data": {
            "text/plain": [
              "<Figure size 432x288 with 1 Axes>"
            ],
            "image/png": "[encoded data removed]"
          },
          "metadata": {
            "needs_background": "light"
          }
        }
      ],
      "source": [
        "num_epochs=100\n",
        "plt.plot(range(num_epochs), train_loss_ridge,'r', label=\"Train loss\")\n",
        "plt.plot(range(num_epochs), test_loss_ridge, 'bo',label=\"Test loss\")\n",
        "plt.xlabel(\"Epochs\")\n",
        "plt.ylabel(\"Loss\")\n",
        "plt.legend()\n",
        "plt.show()"
      ]
    },
    {
      "cell_type": "markdown",
      "metadata": {
        "id": "l9ap9a_o1OGE"
      },
      "source": [
        "Pseudoinverse"
      ]
    },
    {
      "cell_type": "code",
      "source": [
        "def compute_loss(X, y, weight, loss_type):\n",
        "    if loss_type == 'L2':\n",
        "        loss = np.mean((np.dot(X, weight) - y) ** 2)\n",
        "    elif loss_type == 'count':\n",
        "        loss = np.mean(np.abs(np.dot(X, weight) - y))\n",
        "    elif loss_type == 'cross-entropy':\n",
        "        exp_term = np.exp(np.dot(X, weight))\n",
        "        loss = np.mean(np.log(1 + exp_term) - y * np.dot(X, weight))\n",
        "    return loss\n",
        "\n",
        "def pseudoinverse(train_x, train_y, test_x, test_y, alpha=0, loss_type='L2'):\n",
        "    pseudoinv= np.dot(np.linalg.inv(train_x.T.dot(train_x) + alpha*np.eye(train_x.shape[1])), train_x.T)\n",
        "    weight= np.dot(pseudoinv, train_y)\n",
        "    train_y_predict= np.dot(train_x, weight)\n",
        "    test_y_predict= np.dot(test_x, weight)\n",
        "\n",
        "    train_loss= compute_loss(train_x, train_y, weight, loss_type=loss_type)\n",
        "    test_loss= compute_loss(test_x, test_y,weight, loss_type=loss_type)\n",
        "  \n",
        "    print(f'Train loss: {train_loss:.4f}, Test loss: {test_loss:.4f}')\n",
        "    \n",
        "    return weight, train_loss, test_loss"
      ],
      "metadata": {
        "id": "ohY45Ph3pYrd"
      },
      "execution_count": 81,
      "outputs": []
    },
    {
      "cell_type": "code",
      "source": [
        "weight_inverse, train_loss_inverse, test_loss_inverse = pseudoinverse(train_x, train_y, test_x, test_y, alpha=0, loss_type='L2')"
      ],
      "metadata": {
        "colab": {
          "base_uri": "https://localhost:8080/"
        },
        "id": "XUVECvJdDX7I",
        "outputId": "3e9ebb86-0f4f-4ef7-fcc7-08e797bc09ec"
      },
      "execution_count": 82,
      "outputs": [
        {
          "output_type": "stream",
          "name": "stdout",
          "text": [
            "Train loss: 91.2564, Test loss: 90.4911\n"
          ]
        }
      ]
    },
    {
      "cell_type": "markdown",
      "source": [
        "##4. Implement L1 weight decay"
      ],
      "metadata": {
        "id": "jL8oRaDeDY-b"
      }
    },
    {
      "cell_type": "code",
      "source": [
        "w_lasso, train_loss_lasso, test_loss_lasso = mini_batch_gradient_descent(train_x, train_y, test_x, test_y, batch_size=16, num_epochs=100, learning_rate=0.001, weight_decay_factor=0.00001, loss_type='L1', weight_decay_form='L1', momentum=False, momentum_factor=None)\n",
        "num_epochs=100\n",
        "plt.plot(range(num_epochs), train_loss_lasso,'r', label=\"Train loss\")\n",
        "plt.plot(range(num_epochs), test_loss_lasso, 'bo',label=\"Test loss\")\n",
        "plt.xlabel(\"Epochs\")\n",
        "plt.ylabel(\"Loss\")\n",
        "plt.legend()\n",
        "plt.show()"
      ],
      "metadata": {
        "colab": {
          "base_uri": "https://localhost:8080/",
          "height": 1000
        },
        "id": "erfbyKAdDhYL",
        "outputId": "1b706afb-a76c-4edf-bc67-0fa848bbf708"
      },
      "execution_count": 91,
      "outputs": [
        {
          "output_type": "stream",
          "name": "stdout",
          "text": [
            "Epoch: 1 /100, Train loss: 1533.9298342370594 Test loss: 1534.0396808975281\n",
            "Epoch: 2 /100, Train loss: 1070.2161240682008 Test loss: 1070.32597072867\n",
            "Epoch: 3 /100, Train loss: 606.5024138995116 Test loss: 606.6122605599807\n",
            "Epoch: 4 /100, Train loss: 142.7943934598891 Test loss: 142.90255039129102\n",
            "Epoch: 5 /100, Train loss: 6.525489093275993 Test loss: 6.547463616648306\n",
            "Epoch: 6 /100, Train loss: 6.526913370934475 Test loss: 6.539455055410475\n",
            "Epoch: 7 /100, Train loss: 6.527716644145912 Test loss: 6.544727467041571\n",
            "Epoch: 8 /100, Train loss: 6.5324472719842435 Test loss: 6.535645737222449\n",
            "Epoch: 9 /100, Train loss: 6.524034958067726 Test loss: 6.534396182127024\n",
            "Epoch: 10 /100, Train loss: 6.529765053160662 Test loss: 6.549688218464513\n",
            "Epoch: 11 /100, Train loss: 6.525060021006106 Test loss: 6.551036981024762\n",
            "Epoch: 12 /100, Train loss: 6.529173478380311 Test loss: 6.532904338219348\n",
            "Epoch: 13 /100, Train loss: 6.534003733999814 Test loss: 6.545883799220249\n",
            "Epoch: 14 /100, Train loss: 6.528630893694455 Test loss: 6.539404762542109\n",
            "Epoch: 15 /100, Train loss: 6.526227787155594 Test loss: 6.539152338617168\n",
            "Epoch: 16 /100, Train loss: 6.5369958215962685 Test loss: 6.570379078698767\n",
            "Epoch: 17 /100, Train loss: 6.537109581152164 Test loss: 6.544732209046013\n",
            "Epoch: 18 /100, Train loss: 6.528100291221366 Test loss: 6.536084293265336\n",
            "Epoch: 19 /100, Train loss: 6.535135888225373 Test loss: 6.548874401936841\n",
            "Epoch: 20 /100, Train loss: 6.5284447802443415 Test loss: 6.541618028130238\n",
            "Epoch: 21 /100, Train loss: 6.527614579068297 Test loss: 6.541719866687712\n",
            "Epoch: 22 /100, Train loss: 6.533396933368107 Test loss: 6.550823442433312\n",
            "Epoch: 23 /100, Train loss: 6.528094211195426 Test loss: 6.546256357643693\n",
            "Epoch: 24 /100, Train loss: 6.542406546068164 Test loss: 6.5523312141093415\n",
            "Epoch: 25 /100, Train loss: 6.535651954934644 Test loss: 6.54688763893594\n",
            "Epoch: 26 /100, Train loss: 6.563050190035545 Test loss: 6.587361426092106\n",
            "Epoch: 27 /100, Train loss: 6.528528609907742 Test loss: 6.556379198457394\n",
            "Epoch: 28 /100, Train loss: 6.5349530843859025 Test loss: 6.560392167628763\n",
            "Epoch: 29 /100, Train loss: 6.527472499927934 Test loss: 6.546622766101254\n",
            "Epoch: 30 /100, Train loss: 6.532464997307973 Test loss: 6.547687324351484\n",
            "Epoch: 31 /100, Train loss: 6.529973937364118 Test loss: 6.553094030758922\n",
            "Epoch: 32 /100, Train loss: 6.533799888400472 Test loss: 6.552482106127922\n",
            "Epoch: 33 /100, Train loss: 6.53970691927913 Test loss: 6.555096809844364\n",
            "Epoch: 34 /100, Train loss: 6.525061828297519 Test loss: 6.544581427855821\n",
            "Epoch: 35 /100, Train loss: 6.530933925414192 Test loss: 6.549801955537391\n",
            "Epoch: 36 /100, Train loss: 6.524278329118564 Test loss: 6.54040888325339\n",
            "Epoch: 37 /100, Train loss: 6.52750824419124 Test loss: 6.540594876808023\n",
            "Epoch: 38 /100, Train loss: 6.527509114625805 Test loss: 6.542191757505455\n",
            "Epoch: 39 /100, Train loss: 6.53122342026545 Test loss: 6.548476584939302\n",
            "Epoch: 40 /100, Train loss: 6.526701601428127 Test loss: 6.549691280930107\n",
            "Epoch: 41 /100, Train loss: 6.532258715929467 Test loss: 6.543284097044179\n",
            "Epoch: 42 /100, Train loss: 6.534897348722327 Test loss: 6.55464184301001\n",
            "Epoch: 43 /100, Train loss: 6.531750857905666 Test loss: 6.537192965192857\n",
            "Epoch: 44 /100, Train loss: 6.529321771575884 Test loss: 6.535995001082145\n",
            "Epoch: 45 /100, Train loss: 6.531456414462057 Test loss: 6.538466123170699\n",
            "Epoch: 46 /100, Train loss: 6.526887710122212 Test loss: 6.541043908347206\n",
            "Epoch: 47 /100, Train loss: 6.524531417993816 Test loss: 6.545520141338553\n",
            "Epoch: 48 /100, Train loss: 6.524016210406166 Test loss: 6.538360776558237\n",
            "Epoch: 49 /100, Train loss: 6.541107486403368 Test loss: 6.53851663518033\n",
            "Epoch: 50 /100, Train loss: 6.528431577586942 Test loss: 6.543558619522752\n",
            "Epoch: 51 /100, Train loss: 6.534945891614329 Test loss: 6.55290063976581\n",
            "Epoch: 52 /100, Train loss: 6.529403498777166 Test loss: 6.553121927078019\n",
            "Epoch: 53 /100, Train loss: 6.5333608410888715 Test loss: 6.5603968931561\n",
            "Epoch: 54 /100, Train loss: 6.5230545872499475 Test loss: 6.531201948721169\n",
            "Epoch: 55 /100, Train loss: 6.534092107109902 Test loss: 6.548115566086175\n",
            "Epoch: 56 /100, Train loss: 6.5371142866050365 Test loss: 6.563801315619649\n",
            "Epoch: 57 /100, Train loss: 6.5360619451993 Test loss: 6.537582485042224\n",
            "Epoch: 58 /100, Train loss: 6.524007492258838 Test loss: 6.542802598549503\n",
            "Epoch: 59 /100, Train loss: 6.525100696008802 Test loss: 6.541297945843655\n",
            "Epoch: 60 /100, Train loss: 6.524352149410616 Test loss: 6.536889294303626\n",
            "Epoch: 61 /100, Train loss: 6.537244128669284 Test loss: 6.543487542373768\n",
            "Epoch: 62 /100, Train loss: 6.528195613060283 Test loss: 6.539027987107691\n",
            "Epoch: 63 /100, Train loss: 6.537267872486598 Test loss: 6.5584365076270075\n",
            "Epoch: 64 /100, Train loss: 6.5294688815864745 Test loss: 6.541668863211097\n",
            "Epoch: 65 /100, Train loss: 6.530285640189264 Test loss: 6.54487195669196\n",
            "Epoch: 66 /100, Train loss: 6.52335747585486 Test loss: 6.540473506125245\n",
            "Epoch: 67 /100, Train loss: 6.520433889279379 Test loss: 6.532316607282811\n",
            "Epoch: 68 /100, Train loss: 6.529384961126701 Test loss: 6.5455396820602365\n",
            "Epoch: 69 /100, Train loss: 6.523795194234362 Test loss: 6.541720829242417\n",
            "Epoch: 70 /100, Train loss: 6.527012545541536 Test loss: 6.549450500513341\n",
            "Epoch: 71 /100, Train loss: 6.524822580076869 Test loss: 6.540745858429333\n",
            "Epoch: 72 /100, Train loss: 6.538407017262098 Test loss: 6.55809482127149\n",
            "Epoch: 73 /100, Train loss: 6.53169998665598 Test loss: 6.558522223241484\n",
            "Epoch: 74 /100, Train loss: 6.530206374989516 Test loss: 6.5446867050180035\n",
            "Epoch: 75 /100, Train loss: 6.534011708505352 Test loss: 6.548035967204614\n",
            "Epoch: 76 /100, Train loss: 6.529015979986686 Test loss: 6.535938120311859\n",
            "Epoch: 77 /100, Train loss: 6.53508615241809 Test loss: 6.550069424353851\n",
            "Epoch: 78 /100, Train loss: 6.523848621916781 Test loss: 6.536697806076591\n",
            "Epoch: 79 /100, Train loss: 6.532707701274304 Test loss: 6.537025037882912\n",
            "Epoch: 80 /100, Train loss: 6.53033795892437 Test loss: 6.550624999125989\n",
            "Epoch: 81 /100, Train loss: 6.5420904274356815 Test loss: 6.547595838056147\n",
            "Epoch: 82 /100, Train loss: 6.519585782162042 Test loss: 6.530671184083303\n",
            "Epoch: 83 /100, Train loss: 6.5299424673232975 Test loss: 6.531200135660838\n",
            "Epoch: 84 /100, Train loss: 6.524825936312372 Test loss: 6.5345675949117785\n",
            "Epoch: 85 /100, Train loss: 6.527734408547615 Test loss: 6.550415526144025\n",
            "Epoch: 86 /100, Train loss: 6.5345014694326435 Test loss: 6.542982396727018\n",
            "Epoch: 87 /100, Train loss: 6.520457132854628 Test loss: 6.53485299812087\n",
            "Epoch: 88 /100, Train loss: 6.52202381598546 Test loss: 6.545274291553658\n",
            "Epoch: 89 /100, Train loss: 6.52897944170918 Test loss: 6.5429007783916555\n",
            "Epoch: 90 /100, Train loss: 6.53125992981803 Test loss: 6.550831153547109\n",
            "Epoch: 91 /100, Train loss: 6.536601129593595 Test loss: 6.541636993287764\n",
            "Epoch: 92 /100, Train loss: 6.536875378577798 Test loss: 6.551136393974368\n",
            "Epoch: 93 /100, Train loss: 6.52745250655096 Test loss: 6.5408846919870625\n",
            "Epoch: 94 /100, Train loss: 6.52675820511488 Test loss: 6.543587860815716\n",
            "Epoch: 95 /100, Train loss: 6.540656990669788 Test loss: 6.544627537034784\n",
            "Epoch: 96 /100, Train loss: 6.5296855565901115 Test loss: 6.544431729208693\n",
            "Epoch: 97 /100, Train loss: 6.527116331655593 Test loss: 6.5518632484134285\n",
            "Epoch: 98 /100, Train loss: 6.531515486928657 Test loss: 6.543259226762563\n",
            "Epoch: 99 /100, Train loss: 6.54859710024643 Test loss: 6.571908140019957\n",
            "Epoch: 100 /100, Train loss: 6.53006393849905 Test loss: 6.543771208257033\n"
          ]
        },
        {
          "output_type": "display_data",
          "data": {
            "text/plain": [
              "<Figure size 432x288 with 1 Axes>"
            ],
            "image/png": "[encoded data removed]"
          },
          "metadata": {
            "needs_background": "light"
          }
        }
      ]
    },
    {
      "cell_type": "markdown",
      "source": [
        "##5. Count Regression\n",
        "\n",
        "$$y_{pred} = e^{w^T X}$$\n",
        "$$L(y, y_{pred}) = e^{-y_{pred}} y_{pred}^y / y!$$\n",
        "$$L(w) = -\\sum_{i=1}^{n}(y_i log(y_{pred,i}) - y_{pred,i})$$\n",
        "$$ w_{t+1} = w_t - \\eta \\nabla J(w_t) $$"
      ],
      "metadata": {
        "id": "nCdeXttIDv23"
      }
    },
    {
      "cell_type": "code",
      "source": [
        "def count_regression(X_train, y_train, X_test, y_test, batch_size=16, num_epochs=100, learning_rate=0.01, weight_decay_factor=0, loss_type='count', weight_decay_form='none', momentum=False, momentum_factor=0.9):\n",
        "    num_features = X_train.shape[1]\n",
        "    num_batches = int(np.ceil(len(X_train) / batch_size))\n",
        "    weight = np.random.normal(size=num_features)\n",
        "    m = 0\n",
        "    train_losses = []\n",
        "    test_losses = []\n",
        "\n",
        "    def forward(X, w):\n",
        "      # Clip X * w to avoid overflow in the exponential function\n",
        "      Xw = np.clip(np.dot(X, w), -100, None)\n",
        "      # Apply the exponential function and replace any resulting inf or nan values\n",
        "      y_pred = np.where(np.isinf(np.exp(Xw)), 1e10, np.exp(np.clip(Xw, -500, 500)))\n",
        "      return y_pred\n",
        "\n",
        "    def backward(X, error):\n",
        "        return np.dot(X.T, error)\n",
        "\n",
        "    def compute_gradient(X, y, y_pred, loss_type, w):\n",
        "      error = None\n",
        "      if loss_type == \"L2\":\n",
        "          error = 2*(y_pred - y)\n",
        "      elif loss_type == \"count\":\n",
        "          # Clip y_pred to avoid overflow\n",
        "          y_pred_clipped = np.clip(y_pred, -100, None)\n",
        "          error = np.exp(-y_pred_clipped) * (y_pred - y)\n",
        "      elif loss_type == \"cross-entropy\":\n",
        "          error = y_pred - y\n",
        "\n",
        "      gradient = backward(X, error)\n",
        "      if weight_decay_form == 'L2':\n",
        "          gradient += weight_decay_factor * w\n",
        "      elif weight_decay_form == 'L1':\n",
        "          gradient += weight_decay_factor * np.sign(w)\n",
        "\n",
        "      return gradient, error\n",
        "\n",
        "\n",
        "    def compute_loss(y, y_pred, loss_type):\n",
        "      if loss_type == \"L2\":\n",
        "          return np.mean(np.square(y - y_pred))\n",
        "      elif loss_type == \"count\":\n",
        "          # Clip y_pred to avoid overflow\n",
        "          y_pred_clipped = np.clip(y_pred, -100, None)\n",
        "          return np.mean(np.exp(-y_pred_clipped) * np.square(y - y_pred))\n",
        "      elif loss_type == \"cross-entropy\":\n",
        "          y_pred = np.clip(y_pred, 1e-15, 1 - 1e-15)  # clip predictions\n",
        "          return -np.mean(y * np.log(y_pred) + (1 - y) * np.log(1 - y_pred))\n",
        "      elif loss_type == 'L1':\n",
        "          return np.mean(np.abs(y - y_pred))\n",
        "      else:\n",
        "          raise ValueError(\"Invalid loss type: {}\".format(loss_type))\n",
        "\n",
        "    for epoch in range(num_epochs):\n",
        "        # Shuffle the data\n",
        "        perm = np.random.permutation(len(X_train))\n",
        "        X_train = X_train[perm]\n",
        "        y_train = y_train[perm]\n",
        "\n",
        "        # Mini-batch gradient descent\n",
        "        for i in range(num_batches):\n",
        "            start_idx = i * batch_size\n",
        "            end_idx = (i + 1) * batch_size\n",
        "            X_batch = X_train[start_idx:end_idx]\n",
        "            y_batch = y_train[start_idx:end_idx]\n",
        "\n",
        "            y_pred = forward(X_batch, weight)\n",
        "            gradient, error = compute_gradient(X_batch, y_batch, y_pred, loss_type, weight)\n",
        "\n",
        "            if momentum:\n",
        "                m = momentum_factor * m + (1 - momentum_factor) * gradient\n",
        "                weight -= learning_rate * m\n",
        "            else:\n",
        "                weight -= learning_rate * gradient\n",
        "\n",
        "        # Compute train and test losses\n",
        "        y_train_pred = forward(X_train, weight)\n",
        "        train_loss = compute_loss(y_train, y_train_pred, loss_type)\n",
        "        train_losses.append(train_loss)\n",
        "\n",
        "        y_test_pred = forward(X_test, weight)\n",
        "        test_loss = compute_loss(y_test, y_test_pred, loss_type)\n",
        "        test_losses.append(test_loss)\n",
        "\n",
        "        print(\"Epoch:\", epoch+1, \"/100, Train loss:\", train_loss, \"Test loss:\", test_loss)\n",
        "\n",
        "        # Check if the test loss has stopped decreasing\n",
        "        if len(test_losses) >= 2 and test_losses[-1] >= test_losses[-2]:\n",
        "            print(\"Test loss has stopped decreasing. Stopping training.\")\n",
        "            break\n",
        "\n",
        "    return weight, train_losses, test_losses"
      ],
      "metadata": {
        "id": "cNIIYX9ZDrWg"
      },
      "execution_count": 83,
      "outputs": []
    },
    {
      "cell_type": "code",
      "source": [
        "w, train_loss, test_loss= count_regression(train_x, train_y, test_x, test_y, batch_size=16, num_epochs=100, learning_rate=0.0001, weight_decay_factor=0.0001, loss_type='L2', weight_decay_form='L1', momentum=False, momentum_factor=0.9)"
      ],
      "metadata": {
        "colab": {
          "base_uri": "https://localhost:8080/"
        },
        "id": "QxuLKLGkG1m3",
        "outputId": "950f2c77-a04a-4207-edb6-30cbe638054c"
      },
      "execution_count": 84,
      "outputs": [
        {
          "output_type": "stream",
          "name": "stderr",
          "text": [
            "<ipython-input-83-4fd2562a219d>:13: RuntimeWarning: overflow encountered in exp\n",
            "  y_pred = np.where(np.isinf(np.exp(Xw)), 1e10, np.exp(np.clip(Xw, -500, 500)))\n"
          ]
        },
        {
          "output_type": "stream",
          "name": "stdout",
          "text": [
            "Epoch: 1 /100, Train loss: 1.380160495777983e+16 Test loss: 1.5494561018500892e+16\n",
            "Epoch: 2 /100, Train loss: 3993666.588416567 Test loss: 1936820130274826.5\n",
            "Epoch: 3 /100, Train loss: 3993666.588416567 Test loss: 1936820130274826.5\n",
            "Test loss has stopped decreasing. Stopping training.\n"
          ]
        }
      ]
    },
    {
      "cell_type": "code",
      "source": [
        "num_epochs=100\n",
        "plt.plot(range(num_epochs), train_loss,'r', label=\"Train loss\")\n",
        "plt.plot(range(num_epochs), test_loss, 'bo',label=\"Test loss\")\n",
        "plt.xlabel(\"Epochs\")\n",
        "plt.ylabel(\"Loss\")\n",
        "plt.legend()\n",
        "plt.show()"
      ],
      "metadata": {
        "colab": {
          "base_uri": "https://localhost:8080/",
          "height": 279
        },
        "id": "zs36ofwaG9q_",
        "outputId": "609e484b-40f7-43ca-aa88-48eddac43a3b"
      },
      "execution_count": 41,
      "outputs": [
        {
          "output_type": "display_data",
          "data": {
            "text/plain": [
              "<Figure size 432x288 with 1 Axes>"
            ],
            "image/png": "[encoded data removed]"
          },
          "metadata": {
            "needs_background": "light"
          }
        }
      ]
    },
    {
      "cell_type": "markdown",
      "source": [
        "##6. Model comparison\n"
      ],
      "metadata": {
        "id": "m0zHKAuX2wv8"
      }
    },
    {
      "cell_type": "code",
      "source": [
        "# fig, ax = plt.subplots(figsize=(8, 6))\n",
        "plt.hist(w_ridge, alpha=0.5, label='Ridge')\n",
        "plt.xlabel('Weight Value')\n",
        "plt.ylabel('Frequency')\n",
        "plt.title('Histogram of Weights - Ridge')\n",
        "plt.show()"
      ],
      "metadata": {
        "colab": {
          "base_uri": "https://localhost:8080/",
          "height": 295
        },
        "id": "iYbX4Db7jqkq",
        "outputId": "08e6653e-b37a-4194-8deb-390417fb2dd2"
      },
      "execution_count": 101,
      "outputs": [
        {
          "output_type": "display_data",
          "data": {
            "text/plain": [
              "<Figure size 432x288 with 1 Axes>"
            ],
            "image/png": "[encoded data removed]"
          },
          "metadata": {
            "needs_background": "light"
          }
        }
      ]
    },
    {
      "cell_type": "code",
      "source": [
        "plt.hist(w_lasso, alpha=0.5, label='Lasso')\n",
        "plt.xlabel('Weight Value')\n",
        "plt.ylabel('Frequency')\n",
        "plt.title('Histogram of Weights - Lasso')\n",
        "plt.show()"
      ],
      "metadata": {
        "colab": {
          "base_uri": "https://localhost:8080/",
          "height": 295
        },
        "id": "kyqJJoVMEXKx",
        "outputId": "9970c72a-9a12-4080-9952-9b8bb4235d56"
      },
      "execution_count": 102,
      "outputs": [
        {
          "output_type": "display_data",
          "data": {
            "text/plain": [
              "<Figure size 432x288 with 1 Axes>"
            ],
            "image/png": "[encoded data removed]"
          },
          "metadata": {
            "needs_background": "light"
          }
        }
      ]
    },
    {
      "cell_type": "markdown",
      "source": [
        "# Problem 5 - Softmax Properties\n",
        "\n",
        "\n",
        "###1. Show that the softmax function is invariant to constant offsets to its input\n",
        "\n",
        "\\begin{align*}\n",
        "softmax(a+c1) &= \\frac{exp(a+c1)}{\\sum_{j=1}^{n}exp(a_j+c)} \\\\\n",
        "&= \\frac{exp(a)exp(c1)}{\\sum_{j=1}^{n}exp(a_j)exp(c)}\\\\\n",
        "&= \\frac{exp(a)}{\\sum_{j=1}^{n}exp(a_j)} \\times \\frac{exp(c1)}{\\sum_{j=1}^{n}exp(c)}{}\\\\\n",
        "&= softmax(a) \\times \\frac{exp(c1)}{n \\times exp(c)}{}\\\\\n",
        "&= softmax(a) \\times \\frac{exp(c1-c)}{n}\n",
        "\\end{align*}\n",
        "\n",
        "Since $\\frac{exp(c1-c)}{n}$ is a constant, it doesn't depend on $a$ and it's proven that softmax function is invariant to constant offset to its input.\n"
      ],
      "metadata": {
        "id": "Ri2DQfSOEA6H"
      }
    },
    {
      "cell_type": "markdown",
      "source": [
        "###2.  "
      ],
      "metadata": {
        "id": "Pl2YQkyDNU7m"
      }
    },
    {
      "cell_type": "code",
      "source": [],
      "metadata": {
        "id": "OOZDHd3f5jKC"
      },
      "execution_count": null,
      "outputs": []
    }
  ],
  "metadata": {
    "accelerator": "GPU",
    "colab": {
      "provenance": [],
      "include_colab_link": true
    },
    "gpuClass": "standard",
    "kernelspec": {
      "display_name": "Python 3",
      "name": "python3"
    },
    "language_info": {
      "name": "python"
    }
  },
  "nbformat": 4,
  "nbformat_minor": 0
}